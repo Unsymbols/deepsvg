{
 "cells": [
  {
   "cell_type": "code",
   "execution_count": 55,
   "metadata": {},
   "outputs": [],
   "source": [
    "import os\n",
    "os.chdir(\"..\")"
   ]
  },
  {
   "cell_type": "code",
   "execution_count": 56,
   "metadata": {},
   "outputs": [],
   "source": [
    "from deepsvg.svglib.svg import SVG\n",
    "\n",
    "from deepsvg import utils\n",
    "from deepsvg.difflib.tensor import SVGTensor\n",
    "from deepsvg.svglib.utils import to_gif, make_grid, make_grid_lines, make_grid_grid\n",
    "from deepsvg.svglib.geom import Bbox\n",
    "#from deepsvg.svgtensor_dataset import SVGTensorDataset, load_dataset\n",
    "from deepsvg.svg_dataset import SVGDataset, load_dataset\n",
    "\n",
    "\n",
    "from deepsvg.utils.utils import batchify, linear\n",
    "\n",
    "import torch"
   ]
  },
  {
   "cell_type": "markdown",
   "metadata": {},
   "source": [
    "# Font generation and interpolation"
   ]
  },
  {
   "cell_type": "code",
   "execution_count": 57,
   "metadata": {},
   "outputs": [],
   "source": [
    "device = torch.device(\"cuda:0\" if torch.cuda.is_available() else \"cpu\") "
   ]
  },
  {
   "cell_type": "code",
   "execution_count": 58,
   "metadata": {},
   "outputs": [],
   "source": [
    "MODEL_PATH = \"/tmp/uns-logdir/models/unsymbols/ours_hier_ord/best.pth.tar\""
   ]
  },
  {
   "cell_type": "markdown",
   "metadata": {},
   "source": [
    "Load the pretrained model "
   ]
  },
  {
   "cell_type": "code",
   "execution_count": 59,
   "metadata": {},
   "outputs": [],
   "source": [
    "pretrained_path = MODEL_PATH\n",
    "from configs.unsymbols.ours_hier_ord import Config\n",
    "\n",
    "cfg = Config()\n",
    "model = cfg.make_model().to(device)\n",
    "utils.load_model(pretrained_path, model)\n",
    "model.eval();"
   ]
  },
  {
   "cell_type": "code",
   "execution_count": 60,
   "metadata": {},
   "outputs": [
    {
     "data": {
      "text/plain": [
       "'one_shot'"
      ]
     },
     "execution_count": 60,
     "metadata": {},
     "output_type": "execute_result"
    }
   ],
   "source": [
    "model.cfg.pred_mode"
   ]
  },
  {
   "cell_type": "code",
   "execution_count": 61,
   "metadata": {},
   "outputs": [],
   "source": [
    "dataset = load_dataset(cfg)"
   ]
  },
  {
   "cell_type": "code",
   "execution_count": 62,
   "metadata": {},
   "outputs": [],
   "source": [
    "#glyph2label = \"0123456789ABCDEFGHIJKLMNOPQRSTUVWXYZabcdefghijklmnopqrstuvwxyz\""
   ]
  },
  {
   "cell_type": "code",
   "execution_count": 63,
   "metadata": {},
   "outputs": [],
   "source": [
    "def sample_class(label, z=None, temperature=.3, filename=None, do_display=True, return_svg=False, return_png=False, *args, **kwargs):\n",
    "    label_id = glyph2label.index(label)\n",
    "    \n",
    "    if z is None:\n",
    "        z = torch.randn(1, 1, 1, cfg.model_cfg.dim_z).to(device) * temperature\n",
    "    \n",
    "    label, = batchify((torch.tensor(label_id),), device=device)\n",
    "    commands_y, args_y = model.greedy_sample(None, None, None, None, label=label, z=z)\n",
    "    tensor_pred = SVGTensor.from_cmd_args(commands_y[0].cpu(), args_y[0].cpu())\n",
    "\n",
    "    svg_path_sample = SVG.from_tensor(tensor_pred.data, viewbox=Bbox(256), allow_empty=True).normalize().split_paths()\n",
    "    \n",
    "    if return_svg:\n",
    "        return svg_path_sample\n",
    "    \n",
    "    return svg_path_sample.draw(file_path=filename, do_display=do_display, return_png=return_png, *args, **kwargs)"
   ]
  },
  {
   "cell_type": "code",
   "execution_count": 64,
   "metadata": {},
   "outputs": [],
   "source": [
    "def easein_easeout(t):\n",
    "    return t*t / (2. * (t*t - t) + 1.);\n",
    "\n",
    "def interpolate(z1, z2, label, n=25, filename=None, ease=True, do_display=True):\n",
    "    alphas = torch.linspace(0., 1., n)\n",
    "    if ease:\n",
    "        alphas = easein_easeout(alphas)\n",
    "    z_list = [(1-a) * z1 + a * z2 for a in alphas]\n",
    "    \n",
    "    img_list = [sample_unsymbol(z=z, do_display=False, return_png=True) for z in z_list]\n",
    "    to_gif(img_list + img_list[::-1], file_path=filename, frame_duration=1/12)"
   ]
  },
  {
   "cell_type": "code",
   "execution_count": 65,
   "metadata": {},
   "outputs": [],
   "source": [
    "def encode_icon(idx):\n",
    "    data = dataset.get(id=idx, random_aug=False)\n",
    "    model_args = batchify((data[key] for key in cfg.model_args), device)\n",
    "    with torch.no_grad():\n",
    "        z = model(*model_args, encode_mode=True)\n",
    "    return z"
   ]
  },
  {
   "cell_type": "code",
   "execution_count": 66,
   "metadata": {},
   "outputs": [],
   "source": [
    "def interpolate_icons(idx1, idx2, label, n=25, *args, **kwargs):\n",
    "    z1, z2 = encode_icon(idx1), encode_icon(idx2)\n",
    "    interpolate(z1, z2, label, n=n, *args, **kwargs)"
   ]
  },
  {
   "cell_type": "code",
   "execution_count": 67,
   "metadata": {},
   "outputs": [],
   "source": [
    "def get_z(temperature=.3):\n",
    "    z = torch.randn(1, 1, 1, cfg.model_cfg.dim_z).to(device) * temperature\n",
    "    #z = torch.randn(1, 1, 1, cfg.model_cfg.dim_z) * temperature\n",
    "    \n",
    "    return z"
   ]
  },
  {
   "cell_type": "code",
   "execution_count": null,
   "metadata": {},
   "outputs": [],
   "source": []
  },
  {
   "cell_type": "code",
   "execution_count": 68,
   "metadata": {},
   "outputs": [],
   "source": [
    "def sample_unsymbol(z=None, temperature=.3, filename=None, do_display=True, return_svg=False, return_png=False, *args, **kwargs):\n",
    "    label_id = 4 #ignored anyway\n",
    "    \n",
    "    if z is None:\n",
    "        z = torch.randn(1, 1, 1, cfg.model_cfg.dim_z).to(device) * temperature\n",
    "    \n",
    "    label, = batchify((torch.tensor(label_id),), device=device)\n",
    "    commands_y, args_y = model.greedy_sample(None, None, None, None, label=label, z=z)\n",
    "    tensor_pred = SVGTensor.from_cmd_args(commands_y[0].cpu(), args_y[0].cpu())\n",
    "\n",
    "    svg_path_sample = SVG.from_tensor(tensor_pred.data, viewbox=Bbox(256), allow_empty=True).normalize().split_paths()\n",
    "    \n",
    "    if return_svg:\n",
    "        return svg_path_sample\n",
    "    \n",
    "    return svg_path_sample.draw(file_path=filename, do_display=do_display, return_png=return_png, *args, **kwargs)"
   ]
  },
  {
   "cell_type": "code",
   "execution_count": 89,
   "metadata": {},
   "outputs": [],
   "source": [
    "\n",
    "def sample_all_unsymbols(filename=None, num_symbols = 10, temperatures=[0.0, 20], digits_in_row=10):\n",
    "\n",
    "    rows = []\n",
    "    cur_row = []\n",
    "    for i in range(num_symbols):\n",
    "        temp = temperatures[0]+((temperatures[1]-temperatures[0])/num_symbols)*i\n",
    "        print(temp)\n",
    "        svg_digits = sample_unsymbol(return_svg=True, temperature=temp)\n",
    "        cur_row.append(svg_digits)\n",
    "        if len(cur_row)>digits_in_row:\n",
    "            rows.append(cur_row.copy())\n",
    "            cur_row=[]\n",
    "   \n",
    "    grid = make_grid_lines(rows)\n",
    "    grid.draw(file_path=filename)"
   ]
  },
  {
   "cell_type": "markdown",
   "metadata": {},
   "source": [
    "## Random font generation"
   ]
  },
  {
   "cell_type": "code",
   "execution_count": 70,
   "metadata": {},
   "outputs": [
    {
     "data": {
      "text/html": [
       "<style>.container { width:100% !important; }</style>"
      ],
      "text/plain": [
       "<IPython.core.display.HTML object>"
      ]
     },
     "metadata": {},
     "output_type": "display_data"
    }
   ],
   "source": [
    "import matplotlib.pyplot as plt\n",
    "from IPython.core.display import display, HTML\n",
    "display(HTML(\"<style>.container { width:100% !important; }</style>\"))\n",
    "# figsize is figsize\n",
    "plt.rcParams[\"figure.figsize\"] = (6, 8)\n",
    "plt.rcParams[\"figure.dpi\"] = 100\n",
    "\n",
    "from IPython.core.pylabtools import figsize\n",
    "figsize(14, 7)"
   ]
  },
  {
   "cell_type": "markdown",
   "metadata": {},
   "source": [
    "Sample a random latent vector and decode it conditionally on all glyph labels:"
   ]
  },
  {
   "cell_type": "code",
   "execution_count": 75,
   "metadata": {
    "scrolled": true
   },
   "outputs": [
    {
     "name": "stdout",
     "output_type": "stream",
     "text": [
      "temperature=0.0\n"
     ]
    },
    {
     "data": {
      "image/svg+xml": [
       "<svg xmlns=\"http://www.w3.org/2000/svg\" viewBox=\"0.0 0.0 24.0 24.0\" height=\"200px\" width=\"200px\"><path fill=\"none\" stroke=\"black\" stroke-width=\".3\" stroke-opacity=\"1.0\" filling=\"0\" d=\"M12.5625 8.34375 L11.8125 8.34375 L11.15625 8.53125 L10.59375 8.90625\"/>\n",
       "<path fill=\"none\" stroke=\"black\" stroke-width=\".3\" stroke-opacity=\"1.0\" filling=\"0\" d=\"M12.1875 10.21875 L11.34375 11.53125\"/>\n",
       "<path fill=\"none\" stroke=\"black\" stroke-width=\".3\" stroke-opacity=\"1.0\" filling=\"0\" d=\"M16.40625 8.15625 L16.3125 8.34375 L15.84375 8.34375 L14.90625 8.90625 L13.6875 10.3125 L12.75 11.8125 L11.90625 13.03125 L11.34375 13.5\"/>\n",
       "<path fill=\"none\" stroke=\"black\" stroke-width=\".3\" stroke-opacity=\"1.0\" filling=\"0\" d=\"M9.75 16.5 L9.28125 16.78125 L8.71875 16.78125 L8.25 16.5\"/>\n",
       "<path fill=\"none\" stroke=\"black\" stroke-width=\".3\" stroke-opacity=\"1.0\" filling=\"0\" d=\"M47.96601104736328 47.96601104736328 M47.96601104736328 47.96601104736328\"/>\n",
       "<path fill=\"none\" stroke=\"black\" stroke-width=\".3\" stroke-opacity=\"1.0\" filling=\"0\" d=\"M47.96601104736328 47.96601104736328 M47.96601104736328 47.96601104736328\"/>\n",
       "<path fill=\"none\" stroke=\"black\" stroke-width=\".3\" stroke-opacity=\"1.0\" filling=\"0\" d=\"M47.96601104736328 47.96601104736328 M47.96601104736328 47.96601104736328\"/>\n",
       "<path fill=\"none\" stroke=\"black\" stroke-width=\".3\" stroke-opacity=\"1.0\" filling=\"0\" d=\"M47.96601104736328 47.96601104736328 M47.96601104736328 47.96601104736328\"/></svg>"
      ],
      "text/plain": [
       "<IPython.core.display.SVG object>"
      ]
     },
     "metadata": {},
     "output_type": "display_data"
    },
    {
     "name": "stdout",
     "output_type": "stream",
     "text": [
      "temperature=1.0\n"
     ]
    },
    {
     "data": {
      "image/svg+xml": [
       "<svg xmlns=\"http://www.w3.org/2000/svg\" viewBox=\"0.0 0.0 24.0 24.0\" height=\"200px\" width=\"200px\"><path fill=\"none\" stroke=\"black\" stroke-width=\".3\" stroke-opacity=\"1.0\" filling=\"0\" d=\"M12.28125 6.9375 L12.1875 7.125 L11.8125 7.78125 L11.625 8.53125\"/>\n",
       "<path fill=\"none\" stroke=\"black\" stroke-width=\".3\" stroke-opacity=\"1.0\" filling=\"0\" d=\"M12.65625 7.59375 L10.875 10.125\"/>\n",
       "<path fill=\"none\" stroke=\"black\" stroke-width=\".3\" stroke-opacity=\"1.0\" filling=\"0\" d=\"M15.5625 7.03125 L15.46875 7.03125 L15.1875 7.875 L14.8125 9.9375 L13.6875 11.25 L12.75 12.09375 L11.34375 12.75\"/>\n",
       "<path fill=\"none\" stroke=\"black\" stroke-width=\".3\" stroke-opacity=\"1.0\" filling=\"0\" d=\"M9.46875 15.1875 L8.71875 15.28125 L8.0625 15.28125 L7.5 11.90625 L7.5 10.96875\"/>\n",
       "<path fill=\"none\" stroke=\"black\" stroke-width=\".3\" stroke-opacity=\"1.0\" filling=\"0\" d=\"M47.96415328979492 47.96415328979492 M47.96415328979492 47.96415328979492\"/>\n",
       "<path fill=\"none\" stroke=\"black\" stroke-width=\".3\" stroke-opacity=\"1.0\" filling=\"0\" d=\"M47.96415328979492 47.96415328979492 M47.96415328979492 47.96415328979492\"/>\n",
       "<path fill=\"none\" stroke=\"black\" stroke-width=\".3\" stroke-opacity=\"1.0\" filling=\"0\" d=\"M47.96415328979492 47.96415328979492 M47.96415328979492 47.96415328979492\"/>\n",
       "<path fill=\"none\" stroke=\"black\" stroke-width=\".3\" stroke-opacity=\"1.0\" filling=\"0\" d=\"M47.96415328979492 47.96415328979492 M47.96415328979492 47.96415328979492\"/></svg>"
      ],
      "text/plain": [
       "<IPython.core.display.SVG object>"
      ]
     },
     "metadata": {},
     "output_type": "display_data"
    },
    {
     "name": "stdout",
     "output_type": "stream",
     "text": [
      "temperature=2.0\n"
     ]
    },
    {
     "data": {
      "image/svg+xml": [
       "<svg xmlns=\"http://www.w3.org/2000/svg\" viewBox=\"0.0 0.0 24.0 24.0\" height=\"200px\" width=\"200px\"><path fill=\"none\" stroke=\"black\" stroke-width=\".3\" stroke-opacity=\"1.0\" filling=\"0\" d=\"M13.125 9.46875 L12.5625 10.03125 L11.8125 9.65625 L11.25 9.75 L10.78125 9.9375 L10.5 9.9375\"/>\n",
       "<path fill=\"none\" stroke=\"black\" stroke-width=\".3\" stroke-opacity=\"1.0\" filling=\"0\" d=\"M8.71875 9.375 L7.875 9.65625\"/>\n",
       "<path fill=\"none\" stroke=\"black\" stroke-width=\".3\" stroke-opacity=\"1.0\" filling=\"0\" d=\"M11.625 8.4375 L11.34375 9.65625\"/>\n",
       "<path fill=\"none\" stroke=\"black\" stroke-width=\".3\" stroke-opacity=\"1.0\" filling=\"0\" d=\"M14.0625 9.375 L12.28125 11.0625 L11.25 12.46875 L10.78125 12.46875 L10.59375 11.8125 L10.59375 11.4375 L11.34375 11.34375 L12.5625 11.34375 L14.0625 11.71875 L14.71875 12.09375 L15.1875 13.21875 L15.375 14.90625 L15.09375 16.3125 L14.34375 17.15625\"/>\n",
       "<path fill=\"none\" stroke=\"black\" stroke-width=\".3\" stroke-opacity=\"1.0\" filling=\"0\" d=\"M47.96415328979492 47.96415328979492 M47.96415328979492 47.96415328979492\"/>\n",
       "<path fill=\"none\" stroke=\"black\" stroke-width=\".3\" stroke-opacity=\"1.0\" filling=\"0\" d=\"M47.96415328979492 47.96415328979492 M47.96415328979492 47.96415328979492\"/>\n",
       "<path fill=\"none\" stroke=\"black\" stroke-width=\".3\" stroke-opacity=\"1.0\" filling=\"0\" d=\"M47.96415328979492 47.96415328979492 M47.96415328979492 47.96415328979492\"/>\n",
       "<path fill=\"none\" stroke=\"black\" stroke-width=\".3\" stroke-opacity=\"1.0\" filling=\"0\" d=\"M47.96415328979492 47.96415328979492 M47.96415328979492 47.96415328979492\"/></svg>"
      ],
      "text/plain": [
       "<IPython.core.display.SVG object>"
      ]
     },
     "metadata": {},
     "output_type": "display_data"
    },
    {
     "name": "stdout",
     "output_type": "stream",
     "text": [
      "temperature=3.0\n"
     ]
    },
    {
     "data": {
      "image/svg+xml": [
       "<svg xmlns=\"http://www.w3.org/2000/svg\" viewBox=\"0.0 0.0 24.0 24.0\" height=\"200px\" width=\"200px\"><path fill=\"none\" stroke=\"black\" stroke-width=\".3\" stroke-opacity=\"1.0\" filling=\"0\" d=\"M18.0 7.59375 L17.8125 7.125 L17.15625 7.40625 L15.75 7.125 L14.34375 6.84375 L13.125 7.125 L12.1875 7.59375 L11.71875 8.34375 L11.8125 8.625 L12.5625 9.5625\"/>\n",
       "<path fill=\"none\" stroke=\"black\" stroke-width=\".3\" stroke-opacity=\"1.0\" filling=\"0\" d=\"M11.71875 8.0625 L10.5 7.875 L10.5 8.4375\"/>\n",
       "<path fill=\"none\" stroke=\"black\" stroke-width=\".3\" stroke-opacity=\"1.0\" filling=\"0\" d=\"M16.21875 9.9375 L16.03125 10.96875\"/>\n",
       "<path fill=\"none\" stroke=\"black\" stroke-width=\".3\" stroke-opacity=\"1.0\" filling=\"0\" d=\"M15.46875 10.96875 L14.8125 15.09375\"/>\n",
       "<path fill=\"none\" stroke=\"black\" stroke-width=\".3\" stroke-opacity=\"1.0\" filling=\"0\" d=\"M15.46875 10.6875 L14.25 11.53125\"/>\n",
       "<path fill=\"none\" stroke=\"black\" stroke-width=\".3\" stroke-opacity=\"1.0\" filling=\"0\" d=\"M35.723114013671875 35.723114013671875 M35.723114013671875 35.723114013671875\"/>\n",
       "<path fill=\"none\" stroke=\"black\" stroke-width=\".3\" stroke-opacity=\"1.0\" filling=\"0\" d=\"M35.723114013671875 35.723114013671875 M35.723114013671875 35.723114013671875\"/>\n",
       "<path fill=\"none\" stroke=\"black\" stroke-width=\".3\" stroke-opacity=\"1.0\" filling=\"0\" d=\"M35.723114013671875 35.723114013671875 M35.723114013671875 35.723114013671875\"/></svg>"
      ],
      "text/plain": [
       "<IPython.core.display.SVG object>"
      ]
     },
     "metadata": {},
     "output_type": "display_data"
    },
    {
     "name": "stdout",
     "output_type": "stream",
     "text": [
      "temperature=4.0\n"
     ]
    },
    {
     "data": {
      "image/svg+xml": [
       "<svg xmlns=\"http://www.w3.org/2000/svg\" viewBox=\"0.0 0.0 24.0 24.0\" height=\"200px\" width=\"200px\"><path fill=\"none\" stroke=\"black\" stroke-width=\".3\" stroke-opacity=\"1.0\" filling=\"0\" d=\"M15.84375 9.65625 L16.6875 9.1875 L17.8125 8.8125 L18.5625 8.71875 L18.9375 9.09375 L19.125 9.375 L19.125 9.84375 L18.5625 10.3125 L18.09375 10.6875 L17.34375 10.6875 L16.21875 11.0625\"/>\n",
       "<path fill=\"none\" stroke=\"black\" stroke-width=\".3\" stroke-opacity=\"1.0\" filling=\"0\" d=\"M15.09375 9.9375 L15.1875 11.15625 L15.09375 11.8125\"/>\n",
       "<path fill=\"none\" stroke=\"black\" stroke-width=\".3\" stroke-opacity=\"1.0\" filling=\"0\" d=\"M14.25 11.25 L14.25 12.5625\"/>\n",
       "<path fill=\"none\" stroke=\"black\" stroke-width=\".3\" stroke-opacity=\"1.0\" filling=\"0\" d=\"M13.40625 11.8125 L13.21875 12.75\"/>\n",
       "<path fill=\"none\" stroke=\"black\" stroke-width=\".3\" stroke-opacity=\"1.0\" filling=\"0\" d=\"M12.9375 11.8125 L12.65625 12.9375\"/>\n",
       "<path fill=\"none\" stroke=\"black\" stroke-width=\".3\" stroke-opacity=\"1.0\" filling=\"0\" d=\"M11.71875 12.75 L11.71875 12.9375 L11.53125 13.40625 L11.0625 13.40625 L10.21875 13.40625 L9.375 13.40625 L8.625 12.75 L8.34375 12.375 L8.8125 12.0 L9.28125 11.625 L10.40625 11.625 L10.875 11.8125 L11.4375 12.0\"/>\n",
       "<path fill=\"none\" stroke=\"black\" stroke-width=\".3\" stroke-opacity=\"1.0\" filling=\"0\" d=\"M22.06397247314453 22.06397247314453 M22.06397247314453 22.06397247314453\"/>\n",
       "<path fill=\"none\" stroke=\"black\" stroke-width=\".3\" stroke-opacity=\"1.0\" filling=\"0\" d=\"M22.06397247314453 22.06397247314453 M22.06397247314453 22.06397247314453\"/></svg>"
      ],
      "text/plain": [
       "<IPython.core.display.SVG object>"
      ]
     },
     "metadata": {},
     "output_type": "display_data"
    },
    {
     "name": "stdout",
     "output_type": "stream",
     "text": [
      "temperature=5.0\n"
     ]
    },
    {
     "data": {
      "image/svg+xml": [
       "<svg xmlns=\"http://www.w3.org/2000/svg\" viewBox=\"0.0 0.0 24.0 24.0\" height=\"200px\" width=\"200px\"><path fill=\"none\" stroke=\"black\" stroke-width=\".3\" stroke-opacity=\"1.0\" filling=\"0\" d=\"M16.6875 9.28125 L17.625 10.96875 L18.375 13.875 L18.09375 15.375 L18.09375 15.9375\"/>\n",
       "<path fill=\"none\" stroke=\"black\" stroke-width=\".3\" stroke-opacity=\"1.0\" filling=\"0\" d=\"M10.6875 12.75 L8.25 13.21875\"/>\n",
       "<path fill=\"none\" stroke=\"black\" stroke-width=\".3\" stroke-opacity=\"1.0\" filling=\"0\" d=\"M8.53125 12.375 L8.8125 12.375\"/>\n",
       "<path fill=\"none\" stroke=\"black\" stroke-width=\".3\" stroke-opacity=\"1.0\" filling=\"0\" d=\"M59.99552536010742 59.99552536010742 M59.99552536010742 59.99552536010742\"/>\n",
       "<path fill=\"none\" stroke=\"black\" stroke-width=\".3\" stroke-opacity=\"1.0\" filling=\"0\" d=\"M59.99552536010742 59.99552536010742 M59.99552536010742 59.99552536010742\"/>\n",
       "<path fill=\"none\" stroke=\"black\" stroke-width=\".3\" stroke-opacity=\"1.0\" filling=\"0\" d=\"M59.99552536010742 59.99552536010742 M59.99552536010742 59.99552536010742\"/>\n",
       "<path fill=\"none\" stroke=\"black\" stroke-width=\".3\" stroke-opacity=\"1.0\" filling=\"0\" d=\"M59.99552536010742 59.99552536010742 M59.99552536010742 59.99552536010742\"/>\n",
       "<path fill=\"none\" stroke=\"black\" stroke-width=\".3\" stroke-opacity=\"1.0\" filling=\"0\" d=\"M59.99552536010742 59.99552536010742 M59.99552536010742 59.99552536010742\"/></svg>"
      ],
      "text/plain": [
       "<IPython.core.display.SVG object>"
      ]
     },
     "metadata": {},
     "output_type": "display_data"
    },
    {
     "name": "stdout",
     "output_type": "stream",
     "text": [
      "temperature=6.0\n"
     ]
    },
    {
     "data": {
      "image/svg+xml": [
       "<svg xmlns=\"http://www.w3.org/2000/svg\" viewBox=\"0.0 0.0 24.0 24.0\" height=\"200px\" width=\"200px\"><path fill=\"none\" stroke=\"black\" stroke-width=\".3\" stroke-opacity=\"1.0\" filling=\"0\" d=\"M8.8125 7.125 L9.28125 8.0625\"/>\n",
       "<path fill=\"none\" stroke=\"black\" stroke-width=\".3\" stroke-opacity=\"1.0\" filling=\"0\" d=\"M10.21875 5.625 L10.03125 6.5625 L10.21875 6.84375\"/>\n",
       "<path fill=\"none\" stroke=\"black\" stroke-width=\".3\" stroke-opacity=\"1.0\" filling=\"0\" d=\"M11.71875 7.03125 L11.34375 7.59375\"/>\n",
       "<path fill=\"none\" stroke=\"black\" stroke-width=\".3\" stroke-opacity=\"1.0\" filling=\"0\" d=\"M12.65625 7.59375 L12.1875 8.25\"/>\n",
       "<path fill=\"none\" stroke=\"black\" stroke-width=\".3\" stroke-opacity=\"1.0\" filling=\"0\" d=\"M13.21875 8.0625 L13.125 9.0\"/>\n",
       "<path fill=\"none\" stroke=\"black\" stroke-width=\".3\" stroke-opacity=\"1.0\" filling=\"0\" d=\"M14.0625 8.53125 L14.25 9.75\"/>\n",
       "<path fill=\"none\" stroke=\"black\" stroke-width=\".3\" stroke-opacity=\"1.0\" filling=\"0\" d=\"M15.09375 9.75 L16.03125 11.34375 L16.5 13.3125 L16.6875 14.15625 L16.875 14.8125\"/>\n",
       "<path fill=\"none\" stroke=\"black\" stroke-width=\".3\" stroke-opacity=\"1.0\" filling=\"0\" d=\"M5.6245808601379395 5.6245808601379395 M5.6245808601379395 5.6245808601379395\"/></svg>"
      ],
      "text/plain": [
       "<IPython.core.display.SVG object>"
      ]
     },
     "metadata": {},
     "output_type": "display_data"
    },
    {
     "name": "stdout",
     "output_type": "stream",
     "text": [
      "temperature=7.0\n"
     ]
    },
    {
     "data": {
      "image/svg+xml": [
       "<svg xmlns=\"http://www.w3.org/2000/svg\" viewBox=\"0.0 0.0 24.0 24.0\" height=\"200px\" width=\"200px\"><path fill=\"none\" stroke=\"black\" stroke-width=\".3\" stroke-opacity=\"1.0\" filling=\"0\" d=\"M11.34375 15.9375 L11.90625 15.9375 L11.90625 16.6875 L12.09375 17.15625 L11.53125 17.4375 L11.25 17.25 L10.78125 16.78125 L10.40625 16.3125 L9.9375 15.9375 L9.5625 15.46875\"/>\n",
       "<path fill=\"none\" stroke=\"black\" stroke-width=\".3\" stroke-opacity=\"1.0\" filling=\"0\" d=\"M11.8125 8.8125 L12.09375 11.34375 L12.375 13.6875 L12.46875 15.9375\"/>\n",
       "<path fill=\"none\" stroke=\"black\" stroke-width=\".3\" stroke-opacity=\"1.0\" filling=\"0\" d=\"M10.78125 13.78125 L10.96875 15.65625 L11.71875 15.9375\"/>\n",
       "<path fill=\"none\" stroke=\"black\" stroke-width=\".3\" stroke-opacity=\"1.0\" filling=\"0\" d=\"M11.0625 13.78125 L11.53125 14.25 L12.1875 15.46875 L12.65625 15.9375 L12.84375 16.6875 L12.46875 17.25 L11.25 17.25 L10.3125 16.6875\"/>\n",
       "<path fill=\"none\" stroke=\"black\" stroke-width=\".3\" stroke-opacity=\"1.0\" filling=\"0\" d=\"M11.0625 11.0625 L11.34375 13.5 L12.1875 13.5 L13.125 14.15625 L13.78125 14.71875 L13.875 15.65625 L13.5 15.9375 L12.1875 16.40625 L11.15625 16.40625 L10.3125 15.9375\"/>\n",
       "<path fill=\"none\" stroke=\"black\" stroke-width=\".3\" stroke-opacity=\"1.0\" filling=\"0\" d=\"M10.125 15.9375 L11.25 14.625 L11.71875 14.0625 L12.46875 13.3125 L13.125 13.5 L13.875 14.0625 L13.875 14.71875 L13.5 15.375 L12.46875 15.9375 L11.4375 16.125 L10.5 16.21875\"/>\n",
       "<path fill=\"none\" stroke=\"black\" stroke-width=\".3\" stroke-opacity=\"1.0\" filling=\"0\" d=\"M21.799434661865234 21.799434661865234 M21.799434661865234 21.799434661865234\"/>\n",
       "<path fill=\"none\" stroke=\"black\" stroke-width=\".3\" stroke-opacity=\"1.0\" filling=\"0\" d=\"M21.799434661865234 21.799434661865234 M21.799434661865234 21.799434661865234\"/></svg>"
      ],
      "text/plain": [
       "<IPython.core.display.SVG object>"
      ]
     },
     "metadata": {},
     "output_type": "display_data"
    },
    {
     "name": "stdout",
     "output_type": "stream",
     "text": [
      "temperature=8.0\n"
     ]
    },
    {
     "data": {
      "image/svg+xml": [
       "<svg xmlns=\"http://www.w3.org/2000/svg\" viewBox=\"0.0 0.0 24.0 24.0\" height=\"200px\" width=\"200px\"><path fill=\"none\" stroke=\"black\" stroke-width=\".3\" stroke-opacity=\"1.0\" filling=\"0\" d=\"M10.3125 6.65625 L11.90625 6.46875 L13.875 6.84375 L15.0 8.34375 L15.375 10.40625 L15.09375 11.8125\"/>\n",
       "<path fill=\"none\" stroke=\"black\" stroke-width=\".3\" stroke-opacity=\"1.0\" filling=\"0\" d=\"M12.65625 8.53125 L13.40625 7.96875 L15.0 8.34375 L15.84375 10.21875 L16.40625 11.8125 L16.21875 13.875 L15.5625 15.65625 L14.25 16.875 L12.75 17.25 L11.15625 16.875\"/>\n",
       "<path fill=\"none\" stroke=\"black\" stroke-width=\".3\" stroke-opacity=\"1.0\" filling=\"0\" d=\"M13.21875 10.3125 L13.875 9.65625 L14.8125 9.9375 L15.84375 10.96875 L16.03125 12.46875 L16.03125 14.15625 L15.5625 15.65625 L14.25 16.40625 L13.21875 16.59375 L12.09375 16.40625 L10.5 16.03125 L9.75 15.65625 L8.15625 14.34375 L7.875 11.8125 L8.15625 9.65625 L9.0 8.90625 L8.625 8.53125 L8.625 8.15625\"/>\n",
       "<path fill=\"none\" stroke=\"black\" stroke-width=\".3\" stroke-opacity=\"1.0\" filling=\"0\" d=\"M13.6875 16.59375 L12.5625 16.6875 L12.1875 16.40625 L11.4375 15.65625 L10.96875 15.0 L10.6875 12.84375 L10.96875 10.21875 L11.625 9.1875 L12.84375 8.625 L13.3125 8.90625 L13.875 9.9375 L14.4375 11.25 L14.4375 13.96875\"/>\n",
       "<path fill=\"none\" stroke=\"black\" stroke-width=\".3\" stroke-opacity=\"1.0\" filling=\"0\" d=\"M47.962135314941406 47.962135314941406 M47.962135314941406 47.962135314941406\"/>\n",
       "<path fill=\"none\" stroke=\"black\" stroke-width=\".3\" stroke-opacity=\"1.0\" filling=\"0\" d=\"M47.962135314941406 47.962135314941406 M47.962135314941406 47.962135314941406\"/>\n",
       "<path fill=\"none\" stroke=\"black\" stroke-width=\".3\" stroke-opacity=\"1.0\" filling=\"0\" d=\"M47.962135314941406 47.962135314941406 M47.962135314941406 47.962135314941406\"/>\n",
       "<path fill=\"none\" stroke=\"black\" stroke-width=\".3\" stroke-opacity=\"1.0\" filling=\"0\" d=\"M47.962135314941406 47.962135314941406 M47.962135314941406 47.962135314941406\"/></svg>"
      ],
      "text/plain": [
       "<IPython.core.display.SVG object>"
      ]
     },
     "metadata": {},
     "output_type": "display_data"
    },
    {
     "name": "stdout",
     "output_type": "stream",
     "text": [
      "temperature=9.0\n"
     ]
    },
    {
     "data": {
      "image/svg+xml": [
       "<svg xmlns=\"http://www.w3.org/2000/svg\" viewBox=\"0.0 0.0 24.0 24.0\" height=\"200px\" width=\"200px\"><path fill=\"none\" stroke=\"black\" stroke-width=\".3\" stroke-opacity=\"1.0\" filling=\"0\" d=\"M19.59375 9.84375 L13.875 9.84375\"/>\n",
       "<path fill=\"none\" stroke=\"black\" stroke-width=\".3\" stroke-opacity=\"1.0\" filling=\"0\" d=\"M19.59375 9.09375 L19.125 9.0 L18.375 8.90625 L16.6875 8.4375\"/>\n",
       "<path fill=\"none\" stroke=\"black\" stroke-width=\".3\" stroke-opacity=\"1.0\" filling=\"0\" d=\"M19.59375 9.5625 L18.375 9.65625\"/>\n",
       "<path fill=\"none\" stroke=\"black\" stroke-width=\".3\" stroke-opacity=\"1.0\" filling=\"0\" d=\"M19.125 9.5625 L18.375 9.84375\"/>\n",
       "<path fill=\"none\" stroke=\"black\" stroke-width=\".3\" stroke-opacity=\"1.0\" filling=\"0\" d=\"M19.125 10.03125 L13.5 10.6875\"/>\n",
       "<path fill=\"none\" stroke=\"black\" stroke-width=\".3\" stroke-opacity=\"1.0\" filling=\"0\" d=\"M19.125 19.78125 L12.375 20.0625 L12.375 12.46875 L12.375 10.6875 L10.03125 10.03125 L9.84375 10.03125 L9.5625 10.875 L9.5625 11.625 L10.875 13.875 L12.1875 13.875\"/>\n",
       "<path fill=\"none\" stroke=\"black\" stroke-width=\".3\" stroke-opacity=\"1.0\" filling=\"0\" d=\"M13.125 19.78125 L11.71875 20.0625 L11.0625 20.0625 L11.0625 13.875 L10.40625 11.53125 L10.125 11.34375 L9.84375 12.46875 L10.40625 14.0625 L11.625 14.71875 L14.25 14.25 L16.5 14.0625 L16.875 19.78125 L17.34375 19.78125 L17.34375 19.78125 L17.34375 19.78125 L16.875 19.78125 L16.875 20.0625\"/>\n",
       "<path fill=\"none\" stroke=\"black\" stroke-width=\".3\" stroke-opacity=\"1.0\" filling=\"0\" d=\"M4.496450424194336 4.496450424194336 M4.496450424194336 4.496450424194336\"/></svg>"
      ],
      "text/plain": [
       "<IPython.core.display.SVG object>"
      ]
     },
     "metadata": {},
     "output_type": "display_data"
    },
    {
     "name": "stdout",
     "output_type": "stream",
     "text": [
      "temperature=10.0\n"
     ]
    },
    {
     "data": {
      "image/svg+xml": [
       "<svg xmlns=\"http://www.w3.org/2000/svg\" viewBox=\"0.0 0.0 24.0 24.0\" height=\"200px\" width=\"200px\"><path fill=\"none\" stroke=\"black\" stroke-width=\".3\" stroke-opacity=\"1.0\" filling=\"0\" d=\"M9.5625 10.875 L9.375 11.71875\"/>\n",
       "<path fill=\"none\" stroke=\"black\" stroke-width=\".3\" stroke-opacity=\"1.0\" filling=\"0\" d=\"M9.5625 12.28125 L8.625 13.3125 L8.625 13.78125\"/>\n",
       "<path fill=\"none\" stroke=\"black\" stroke-width=\".3\" stroke-opacity=\"1.0\" filling=\"0\" d=\"M9.9375 12.75 L9.0 13.96875 L8.625 14.4375 L8.625 13.3125 L8.71875 12.09375\"/>\n",
       "<path fill=\"none\" stroke=\"black\" stroke-width=\".3\" stroke-opacity=\"1.0\" filling=\"0\" d=\"M59.995399475097656 59.995399475097656 M59.995399475097656 59.995399475097656\"/>\n",
       "<path fill=\"none\" stroke=\"black\" stroke-width=\".3\" stroke-opacity=\"1.0\" filling=\"0\" d=\"M59.995399475097656 59.995399475097656 M59.995399475097656 59.995399475097656\"/>\n",
       "<path fill=\"none\" stroke=\"black\" stroke-width=\".3\" stroke-opacity=\"1.0\" filling=\"0\" d=\"M59.995399475097656 59.995399475097656 M59.995399475097656 59.995399475097656\"/>\n",
       "<path fill=\"none\" stroke=\"black\" stroke-width=\".3\" stroke-opacity=\"1.0\" filling=\"0\" d=\"M59.995399475097656 59.995399475097656 M59.995399475097656 59.995399475097656\"/>\n",
       "<path fill=\"none\" stroke=\"black\" stroke-width=\".3\" stroke-opacity=\"1.0\" filling=\"0\" d=\"M59.995399475097656 59.995399475097656 M59.995399475097656 59.995399475097656\"/></svg>"
      ],
      "text/plain": [
       "<IPython.core.display.SVG object>"
      ]
     },
     "metadata": {},
     "output_type": "display_data"
    },
    {
     "name": "stdout",
     "output_type": "stream",
     "text": [
      "temperature=11.0\n"
     ]
    },
    {
     "data": {
      "image/svg+xml": [
       "<svg xmlns=\"http://www.w3.org/2000/svg\" viewBox=\"0.0 0.0 24.0 24.0\" height=\"200px\" width=\"200px\"><path fill=\"none\" stroke=\"black\" stroke-width=\".3\" stroke-opacity=\"1.0\" filling=\"0\" d=\"M13.96875 9.09375 L12.9375 12.46875 L11.71875 12.0 L10.21875 11.8125 L9.375 11.53125 L8.90625 12.65625 L9.1875 15.5625\"/>\n",
       "<path fill=\"none\" stroke=\"black\" stroke-width=\".3\" stroke-opacity=\"1.0\" filling=\"0\" d=\"M13.59375 9.84375 L12.5625 12.46875 L11.0625 13.59375 L9.46875 13.5 L9.1875 13.96875\"/>\n",
       "<path fill=\"none\" stroke=\"black\" stroke-width=\".3\" stroke-opacity=\"1.0\" filling=\"0\" d=\"M13.40625 10.40625 L12.28125 12.9375 L10.78125 14.0625 L9.46875 14.71875 L9.375 15.28125\"/>\n",
       "<path fill=\"none\" stroke=\"black\" stroke-width=\".3\" stroke-opacity=\"1.0\" filling=\"0\" d=\"M13.125 10.40625 L12.1875 12.46875 L10.6875 14.0625 L9.65625 15.28125 L9.46875 17.4375\"/>\n",
       "<path fill=\"none\" stroke=\"black\" stroke-width=\".3\" stroke-opacity=\"1.0\" filling=\"0\" d=\"M47.965084075927734 47.965084075927734 M47.965084075927734 47.965084075927734\"/>\n",
       "<path fill=\"none\" stroke=\"black\" stroke-width=\".3\" stroke-opacity=\"1.0\" filling=\"0\" d=\"M47.965084075927734 47.965084075927734 M47.965084075927734 47.965084075927734\"/>\n",
       "<path fill=\"none\" stroke=\"black\" stroke-width=\".3\" stroke-opacity=\"1.0\" filling=\"0\" d=\"M47.965084075927734 47.965084075927734 M47.965084075927734 47.965084075927734\"/>\n",
       "<path fill=\"none\" stroke=\"black\" stroke-width=\".3\" stroke-opacity=\"1.0\" filling=\"0\" d=\"M47.965084075927734 47.965084075927734 M47.965084075927734 47.965084075927734\"/></svg>"
      ],
      "text/plain": [
       "<IPython.core.display.SVG object>"
      ]
     },
     "metadata": {},
     "output_type": "display_data"
    },
    {
     "name": "stdout",
     "output_type": "stream",
     "text": [
      "temperature=12.0\n"
     ]
    },
    {
     "data": {
      "image/svg+xml": [
       "<svg xmlns=\"http://www.w3.org/2000/svg\" viewBox=\"0.0 0.0 24.0 24.0\" height=\"200px\" width=\"200px\"><path fill=\"none\" stroke=\"black\" stroke-width=\".3\" stroke-opacity=\"1.0\" filling=\"0\" d=\"M6.0 10.3125 L9.5625 10.3125 L11.0625 10.6875 L12.65625 11.25 L13.125 12.46875 L12.46875 12.9375 L10.875 13.40625 L8.0625 13.78125\"/>\n",
       "<path fill=\"none\" stroke=\"black\" stroke-width=\".3\" stroke-opacity=\"1.0\" filling=\"0\" d=\"M4.96875 9.5625 L6.0 9.0 L10.6875 9.0 L12.75 9.5625 L13.78125 10.40625 L13.3125 11.8125 L11.90625 12.46875 L9.5625 13.40625 L8.34375 14.15625\"/>\n",
       "<path fill=\"none\" stroke=\"black\" stroke-width=\".3\" stroke-opacity=\"1.0\" filling=\"0\" d=\"M4.96875 10.21875 L6.0 9.75 L10.5 9.5625 L12.1875 9.9375 L13.5 10.6875 L13.3125 11.8125 L12.1875 12.46875 L10.875 13.21875 L8.34375 14.15625\"/>\n",
       "<path fill=\"none\" stroke=\"black\" stroke-width=\".3\" stroke-opacity=\"1.0\" filling=\"0\" d=\"M6.0 10.3125 L5.25 9.75 L10.21875 9.5625 L11.90625 9.9375 L12.75 10.40625 L12.46875 11.25 L11.90625 12.09375 L10.875 12.9375 L8.34375 13.78125 L7.96875 14.15625\"/>\n",
       "<path fill=\"none\" stroke=\"black\" stroke-width=\".3\" stroke-opacity=\"1.0\" filling=\"0\" d=\"M6.0 10.6875 L6.0 10.125 L10.21875 9.5625 L11.25 9.9375 L11.90625 10.3125 L12.1875 11.0625 L11.90625 12.09375 L10.875 12.75 L8.53125 13.6875 L8.34375 14.15625\"/>\n",
       "<path fill=\"none\" stroke=\"black\" stroke-width=\".3\" stroke-opacity=\"1.0\" filling=\"0\" d=\"M6.375 12.46875 L6.0 10.6875 L10.125 9.5625 L10.5 9.9375 L10.875 10.03125 L11.25 10.6875 L10.875 11.625 L10.40625 12.46875 L8.34375 13.3125 L8.34375 13.875\"/>\n",
       "<path fill=\"none\" stroke=\"black\" stroke-width=\".3\" stroke-opacity=\"1.0\" filling=\"0\" d=\"M22.171567916870117 22.171567916870117 M22.171567916870117 22.171567916870117\"/>\n",
       "<path fill=\"none\" stroke=\"black\" stroke-width=\".3\" stroke-opacity=\"1.0\" filling=\"0\" d=\"M22.171567916870117 22.171567916870117 M22.171567916870117 22.171567916870117\"/></svg>"
      ],
      "text/plain": [
       "<IPython.core.display.SVG object>"
      ]
     },
     "metadata": {},
     "output_type": "display_data"
    },
    {
     "name": "stdout",
     "output_type": "stream",
     "text": [
      "temperature=13.0\n"
     ]
    },
    {
     "data": {
      "image/svg+xml": [
       "<svg xmlns=\"http://www.w3.org/2000/svg\" viewBox=\"0.0 0.0 24.0 24.0\" height=\"200px\" width=\"200px\"><path fill=\"none\" stroke=\"black\" stroke-width=\".3\" stroke-opacity=\"1.0\" filling=\"0\" d=\"M14.0625 8.0625 L14.25 7.96875 L15.09375 8.0625 L15.09375 9.0\"/>\n",
       "<path fill=\"none\" stroke=\"black\" stroke-width=\".3\" stroke-opacity=\"1.0\" filling=\"0\" d=\"M13.125 9.0 L12.65625 8.34375 L13.5 8.0625 L14.34375 8.0625\"/>\n",
       "<path fill=\"none\" stroke=\"black\" stroke-width=\".3\" stroke-opacity=\"1.0\" filling=\"0\" d=\"M14.0625 9.0 L13.125 8.34375 L14.34375 7.59375 L15.09375 7.96875\"/>\n",
       "<path fill=\"none\" stroke=\"black\" stroke-width=\".3\" stroke-opacity=\"1.0\" filling=\"0\" d=\"M14.0625 9.1875 L13.125 8.34375 L14.15625 7.59375 L15.09375 7.78125\"/>\n",
       "<path fill=\"none\" stroke=\"black\" stroke-width=\".3\" stroke-opacity=\"1.0\" filling=\"0\" d=\"M14.0625 9.1875 L13.125 8.34375 L13.875 7.59375 L15.09375 7.59375\"/>\n",
       "<path fill=\"none\" stroke=\"black\" stroke-width=\".3\" stroke-opacity=\"1.0\" filling=\"0\" d=\"M14.0625 9.28125 L13.125 8.53125 L13.5 7.78125 L14.25 7.40625\"/>\n",
       "<path fill=\"none\" stroke=\"black\" stroke-width=\".3\" stroke-opacity=\"1.0\" filling=\"0\" d=\"M14.0625 9.28125 L13.125 8.53125 L13.5 7.96875 L14.25 7.78125\"/>\n",
       "<path fill=\"none\" stroke=\"black\" stroke-width=\".3\" stroke-opacity=\"1.0\" filling=\"0\" d=\"M14.0625 9.46875 L13.5 8.34375 L13.5 7.96875 L13.59375 7.59375 L12.9375 7.96875\"/></svg>"
      ],
      "text/plain": [
       "<IPython.core.display.SVG object>"
      ]
     },
     "metadata": {},
     "output_type": "display_data"
    },
    {
     "name": "stdout",
     "output_type": "stream",
     "text": [
      "temperature=14.0\n"
     ]
    },
    {
     "data": {
      "image/svg+xml": [
       "<svg xmlns=\"http://www.w3.org/2000/svg\" viewBox=\"0.0 0.0 24.0 24.0\" height=\"200px\" width=\"200px\"><path fill=\"none\" stroke=\"black\" stroke-width=\".3\" stroke-opacity=\"1.0\" filling=\"0\" d=\"M7.03125 7.875 L7.59375 9.1875\"/>\n",
       "<path fill=\"none\" stroke=\"black\" stroke-width=\".3\" stroke-opacity=\"1.0\" filling=\"0\" d=\"M7.03125 9.5625 L7.59375 10.125\"/>\n",
       "<path fill=\"none\" stroke=\"black\" stroke-width=\".3\" stroke-opacity=\"1.0\" filling=\"0\" d=\"M7.03125 9.5625 L7.59375 9.84375\"/>\n",
       "<path fill=\"none\" stroke=\"black\" stroke-width=\".3\" stroke-opacity=\"1.0\" filling=\"0\" d=\"M6.75 9.5625 L7.59375 9.65625\"/>\n",
       "<path fill=\"none\" stroke=\"black\" stroke-width=\".3\" stroke-opacity=\"1.0\" filling=\"0\" d=\"M6.75 9.5625 L7.40625 9.46875\"/>\n",
       "<path fill=\"none\" stroke=\"black\" stroke-width=\".3\" stroke-opacity=\"1.0\" filling=\"0\" d=\"M6.46875 9.5625 L7.40625 9.46875\"/>\n",
       "<path fill=\"none\" stroke=\"black\" stroke-width=\".3\" stroke-opacity=\"1.0\" filling=\"0\" d=\"M21.944866180419922 21.944866180419922 M21.944866180419922 21.944866180419922\"/>\n",
       "<path fill=\"none\" stroke=\"black\" stroke-width=\".3\" stroke-opacity=\"1.0\" filling=\"0\" d=\"M21.944866180419922 21.944866180419922 M21.944866180419922 21.944866180419922\"/></svg>"
      ],
      "text/plain": [
       "<IPython.core.display.SVG object>"
      ]
     },
     "metadata": {},
     "output_type": "display_data"
    },
    {
     "name": "stdout",
     "output_type": "stream",
     "text": [
      "temperature=15.0\n"
     ]
    },
    {
     "data": {
      "image/svg+xml": [
       "<svg xmlns=\"http://www.w3.org/2000/svg\" viewBox=\"0.0 0.0 24.0 24.0\" height=\"200px\" width=\"200px\"><path fill=\"none\" stroke=\"black\" stroke-width=\".3\" stroke-opacity=\"1.0\" filling=\"0\" d=\"M19.59375 9.09375 L16.21875 9.84375 L15.84375 9.09375 L15.375 9.0 L14.25 8.34375 L14.25 7.96875 L15.09375 7.96875 L16.59375 7.96875 L17.625 8.34375 L18.1875 9.28125 L18.5625 10.59375 L19.125 12.09375 L19.125 14.0625 L19.125 15.375 L19.125 16.5\"/>\n",
       "<path fill=\"none\" stroke=\"black\" stroke-width=\".3\" stroke-opacity=\"1.0\" filling=\"0\" d=\"M83.99994659423828 83.99994659423828 M83.99994659423828 83.99994659423828\"/>\n",
       "<path fill=\"none\" stroke=\"black\" stroke-width=\".3\" stroke-opacity=\"1.0\" filling=\"0\" d=\"M83.99994659423828 83.99994659423828 M83.99994659423828 83.99994659423828\"/>\n",
       "<path fill=\"none\" stroke=\"black\" stroke-width=\".3\" stroke-opacity=\"1.0\" filling=\"0\" d=\"M83.99994659423828 83.99994659423828 M83.99994659423828 83.99994659423828\"/>\n",
       "<path fill=\"none\" stroke=\"black\" stroke-width=\".3\" stroke-opacity=\"1.0\" filling=\"0\" d=\"M83.99994659423828 83.99994659423828 M83.99994659423828 83.99994659423828\"/>\n",
       "<path fill=\"none\" stroke=\"black\" stroke-width=\".3\" stroke-opacity=\"1.0\" filling=\"0\" d=\"M83.99994659423828 83.99994659423828 M83.99994659423828 83.99994659423828\"/>\n",
       "<path fill=\"none\" stroke=\"black\" stroke-width=\".3\" stroke-opacity=\"1.0\" filling=\"0\" d=\"M83.99994659423828 83.99994659423828 M83.99994659423828 83.99994659423828\"/>\n",
       "<path fill=\"none\" stroke=\"black\" stroke-width=\".3\" stroke-opacity=\"1.0\" filling=\"0\" d=\"M83.99994659423828 83.99994659423828 M83.99994659423828 83.99994659423828\"/></svg>"
      ],
      "text/plain": [
       "<IPython.core.display.SVG object>"
      ]
     },
     "metadata": {},
     "output_type": "display_data"
    },
    {
     "name": "stdout",
     "output_type": "stream",
     "text": [
      "temperature=16.0\n"
     ]
    },
    {
     "data": {
      "image/svg+xml": [
       "<svg xmlns=\"http://www.w3.org/2000/svg\" viewBox=\"0.0 0.0 24.0 24.0\" height=\"200px\" width=\"200px\"><path fill=\"none\" stroke=\"black\" stroke-width=\".3\" stroke-opacity=\"1.0\" filling=\"0\" d=\"M10.96875 13.78125 L9.46875 13.5 L9.1875 12.09375 L9.1875 8.8125 L9.46875 6.84375 L10.6875 5.8125 L12.1875 5.8125 L13.40625 6.0 L14.25 6.9375 L14.71875 7.96875 L14.8125 9.375 L14.71875 11.8125 L14.0625 13.5 L13.125 14.34375 L12.0 15.09375\"/>\n",
       "<path fill=\"none\" stroke=\"black\" stroke-width=\".3\" stroke-opacity=\"1.0\" filling=\"0\" d=\"M83.99994659423828 83.99994659423828 M83.99994659423828 83.99994659423828\"/>\n",
       "<path fill=\"none\" stroke=\"black\" stroke-width=\".3\" stroke-opacity=\"1.0\" filling=\"0\" d=\"M83.99994659423828 83.99994659423828 M83.99994659423828 83.99994659423828\"/>\n",
       "<path fill=\"none\" stroke=\"black\" stroke-width=\".3\" stroke-opacity=\"1.0\" filling=\"0\" d=\"M83.99994659423828 83.99994659423828 M83.99994659423828 83.99994659423828\"/>\n",
       "<path fill=\"none\" stroke=\"black\" stroke-width=\".3\" stroke-opacity=\"1.0\" filling=\"0\" d=\"M83.99994659423828 83.99994659423828 M83.99994659423828 83.99994659423828\"/>\n",
       "<path fill=\"none\" stroke=\"black\" stroke-width=\".3\" stroke-opacity=\"1.0\" filling=\"0\" d=\"M83.99994659423828 83.99994659423828 M83.99994659423828 83.99994659423828\"/>\n",
       "<path fill=\"none\" stroke=\"black\" stroke-width=\".3\" stroke-opacity=\"1.0\" filling=\"0\" d=\"M83.99994659423828 83.99994659423828 M83.99994659423828 83.99994659423828\"/>\n",
       "<path fill=\"none\" stroke=\"black\" stroke-width=\".3\" stroke-opacity=\"1.0\" filling=\"0\" d=\"M83.99994659423828 83.99994659423828 M83.99994659423828 83.99994659423828\"/></svg>"
      ],
      "text/plain": [
       "<IPython.core.display.SVG object>"
      ]
     },
     "metadata": {},
     "output_type": "display_data"
    },
    {
     "name": "stdout",
     "output_type": "stream",
     "text": [
      "temperature=17.0\n"
     ]
    },
    {
     "data": {
      "image/svg+xml": [
       "<svg xmlns=\"http://www.w3.org/2000/svg\" viewBox=\"0.0 0.0 24.0 24.0\" height=\"200px\" width=\"200px\"><path fill=\"none\" stroke=\"black\" stroke-width=\".3\" stroke-opacity=\"1.0\" filling=\"0\" d=\"M95.99999237060547 95.99999237060547 M95.99999237060547 95.99999237060547\"/>\n",
       "<path fill=\"none\" stroke=\"black\" stroke-width=\".3\" stroke-opacity=\"1.0\" filling=\"0\" d=\"M95.99999237060547 95.99999237060547 M95.99999237060547 95.99999237060547\"/>\n",
       "<path fill=\"none\" stroke=\"black\" stroke-width=\".3\" stroke-opacity=\"1.0\" filling=\"0\" d=\"M95.99999237060547 95.99999237060547 M95.99999237060547 95.99999237060547\"/>\n",
       "<path fill=\"none\" stroke=\"black\" stroke-width=\".3\" stroke-opacity=\"1.0\" filling=\"0\" d=\"M95.99999237060547 95.99999237060547 M95.99999237060547 95.99999237060547\"/>\n",
       "<path fill=\"none\" stroke=\"black\" stroke-width=\".3\" stroke-opacity=\"1.0\" filling=\"0\" d=\"M95.99999237060547 95.99999237060547 M95.99999237060547 95.99999237060547\"/>\n",
       "<path fill=\"none\" stroke=\"black\" stroke-width=\".3\" stroke-opacity=\"1.0\" filling=\"0\" d=\"M95.99999237060547 95.99999237060547 M95.99999237060547 95.99999237060547\"/>\n",
       "<path fill=\"none\" stroke=\"black\" stroke-width=\".3\" stroke-opacity=\"1.0\" filling=\"0\" d=\"M95.99999237060547 95.99999237060547 M95.99999237060547 95.99999237060547\"/>\n",
       "<path fill=\"none\" stroke=\"black\" stroke-width=\".3\" stroke-opacity=\"1.0\" filling=\"0\" d=\"M95.99999237060547 95.99999237060547 M95.99999237060547 95.99999237060547\"/></svg>"
      ],
      "text/plain": [
       "<IPython.core.display.SVG object>"
      ]
     },
     "metadata": {},
     "output_type": "display_data"
    },
    {
     "name": "stdout",
     "output_type": "stream",
     "text": [
      "temperature=18.0\n"
     ]
    },
    {
     "data": {
      "image/svg+xml": [
       "<svg xmlns=\"http://www.w3.org/2000/svg\" viewBox=\"0.0 0.0 24.0 24.0\" height=\"200px\" width=\"200px\"><path fill=\"none\" stroke=\"black\" stroke-width=\".3\" stroke-opacity=\"1.0\" filling=\"0\" d=\"M18.0 13.125 L17.53125 12.375 L15.9375 13.59375 L13.59375 15.46875 L11.4375 17.53125 L10.875 18.46875\"/>\n",
       "<path fill=\"none\" stroke=\"black\" stroke-width=\".3\" stroke-opacity=\"1.0\" filling=\"0\" d=\"M18.28125 12.46875 L17.8125 12.1875 L16.125 13.21875 L13.78125 15.28125 L11.4375 17.53125 L10.875 18.46875\"/>\n",
       "<path fill=\"none\" stroke=\"black\" stroke-width=\".3\" stroke-opacity=\"1.0\" filling=\"0\" d=\"M18.0 13.03125 L17.53125 12.375 L16.125 13.59375 L13.78125 15.75 L11.4375 17.90625 L10.875 18.46875\"/>\n",
       "<path fill=\"none\" stroke=\"black\" stroke-width=\".3\" stroke-opacity=\"1.0\" filling=\"0\" d=\"M18.0 13.125 L17.8125 12.46875 L16.125 13.59375 L13.59375 15.75 L11.4375 17.90625 L10.875 18.5625\"/>\n",
       "<path fill=\"none\" stroke=\"black\" stroke-width=\".3\" stroke-opacity=\"1.0\" filling=\"0\" d=\"M18.28125 13.125 L17.8125 12.46875 L16.21875 13.875 L13.59375 15.75 L11.4375 18.09375 L10.875 18.5625\"/>\n",
       "<path fill=\"none\" stroke=\"black\" stroke-width=\".3\" stroke-opacity=\"1.0\" filling=\"0\" d=\"M18.28125 13.125 L17.90625 12.46875 L16.21875 13.875 L13.59375 16.125 L11.4375 18.09375 L10.875 18.5625\"/>\n",
       "<path fill=\"none\" stroke=\"black\" stroke-width=\".3\" stroke-opacity=\"1.0\" filling=\"0\" d=\"M18.0 13.125 L17.8125 12.75 L16.21875 14.0625 L13.59375 16.125 L11.4375 18.09375 L10.875 18.5625\"/>\n",
       "<path fill=\"none\" stroke=\"black\" stroke-width=\".3\" stroke-opacity=\"1.0\" filling=\"0\" d=\"M18.0 13.59375 L17.8125 13.03125 L16.21875 14.25 L13.59375 16.40625 L11.4375 18.28125 L10.875 18.9375\"/></svg>"
      ],
      "text/plain": [
       "<IPython.core.display.SVG object>"
      ]
     },
     "metadata": {},
     "output_type": "display_data"
    },
    {
     "name": "stdout",
     "output_type": "stream",
     "text": [
      "temperature=19.0\n"
     ]
    },
    {
     "data": {
      "image/svg+xml": [
       "<svg xmlns=\"http://www.w3.org/2000/svg\" viewBox=\"0.0 0.0 24.0 24.0\" height=\"200px\" width=\"200px\"><path fill=\"none\" stroke=\"black\" stroke-width=\".3\" stroke-opacity=\"1.0\" filling=\"0\" d=\"M6.46875 5.25 L8.15625 5.34375 L9.9375 8.71875 L11.0625 10.125 L11.625 14.8125 L12.0 15.375\"/>\n",
       "<path fill=\"none\" stroke=\"black\" stroke-width=\".3\" stroke-opacity=\"1.0\" filling=\"0\" d=\"M83.99995422363281 83.99995422363281 M83.99995422363281 83.99995422363281\"/>\n",
       "<path fill=\"none\" stroke=\"black\" stroke-width=\".3\" stroke-opacity=\"1.0\" filling=\"0\" d=\"M83.99995422363281 83.99995422363281 M83.99995422363281 83.99995422363281\"/>\n",
       "<path fill=\"none\" stroke=\"black\" stroke-width=\".3\" stroke-opacity=\"1.0\" filling=\"0\" d=\"M83.99995422363281 83.99995422363281 M83.99995422363281 83.99995422363281\"/>\n",
       "<path fill=\"none\" stroke=\"black\" stroke-width=\".3\" stroke-opacity=\"1.0\" filling=\"0\" d=\"M83.99995422363281 83.99995422363281 M83.99995422363281 83.99995422363281\"/>\n",
       "<path fill=\"none\" stroke=\"black\" stroke-width=\".3\" stroke-opacity=\"1.0\" filling=\"0\" d=\"M83.99995422363281 83.99995422363281 M83.99995422363281 83.99995422363281\"/>\n",
       "<path fill=\"none\" stroke=\"black\" stroke-width=\".3\" stroke-opacity=\"1.0\" filling=\"0\" d=\"M83.99995422363281 83.99995422363281 M83.99995422363281 83.99995422363281\"/>\n",
       "<path fill=\"none\" stroke=\"black\" stroke-width=\".3\" stroke-opacity=\"1.0\" filling=\"0\" d=\"M83.99995422363281 83.99995422363281 M83.99995422363281 83.99995422363281\"/></svg>"
      ],
      "text/plain": [
       "<IPython.core.display.SVG object>"
      ]
     },
     "metadata": {},
     "output_type": "display_data"
    },
    {
     "name": "stdout",
     "output_type": "stream",
     "text": [
      "temperature=20.0\n"
     ]
    },
    {
     "data": {
      "image/svg+xml": [
       "<svg xmlns=\"http://www.w3.org/2000/svg\" viewBox=\"0.0 0.0 24.0 24.0\" height=\"200px\" width=\"200px\"><path fill=\"none\" stroke=\"black\" stroke-width=\".3\" stroke-opacity=\"1.0\" filling=\"0\" d=\"M95.99999237060547 95.99999237060547 M95.99999237060547 95.99999237060547\"/>\n",
       "<path fill=\"none\" stroke=\"black\" stroke-width=\".3\" stroke-opacity=\"1.0\" filling=\"0\" d=\"M95.99999237060547 95.99999237060547 M95.99999237060547 95.99999237060547\"/>\n",
       "<path fill=\"none\" stroke=\"black\" stroke-width=\".3\" stroke-opacity=\"1.0\" filling=\"0\" d=\"M95.99999237060547 95.99999237060547 M95.99999237060547 95.99999237060547\"/>\n",
       "<path fill=\"none\" stroke=\"black\" stroke-width=\".3\" stroke-opacity=\"1.0\" filling=\"0\" d=\"M95.99999237060547 95.99999237060547 M95.99999237060547 95.99999237060547\"/>\n",
       "<path fill=\"none\" stroke=\"black\" stroke-width=\".3\" stroke-opacity=\"1.0\" filling=\"0\" d=\"M95.99999237060547 95.99999237060547 M95.99999237060547 95.99999237060547\"/>\n",
       "<path fill=\"none\" stroke=\"black\" stroke-width=\".3\" stroke-opacity=\"1.0\" filling=\"0\" d=\"M95.99999237060547 95.99999237060547 M95.99999237060547 95.99999237060547\"/>\n",
       "<path fill=\"none\" stroke=\"black\" stroke-width=\".3\" stroke-opacity=\"1.0\" filling=\"0\" d=\"M95.99999237060547 95.99999237060547 M95.99999237060547 95.99999237060547\"/>\n",
       "<path fill=\"none\" stroke=\"black\" stroke-width=\".3\" stroke-opacity=\"1.0\" filling=\"0\" d=\"M95.99999237060547 95.99999237060547 M95.99999237060547 95.99999237060547\"/></svg>"
      ],
      "text/plain": [
       "<IPython.core.display.SVG object>"
      ]
     },
     "metadata": {},
     "output_type": "display_data"
    },
    {
     "name": "stdout",
     "output_type": "stream",
     "text": [
      "temperature=21.0\n"
     ]
    },
    {
     "data": {
      "image/svg+xml": [
       "<svg xmlns=\"http://www.w3.org/2000/svg\" viewBox=\"0.0 0.0 24.0 24.0\" height=\"200px\" width=\"200px\"><path fill=\"none\" stroke=\"black\" stroke-width=\".3\" stroke-opacity=\"1.0\" filling=\"0\" d=\"M15.84375 12.09375 L14.90625 11.90625\"/>\n",
       "<path fill=\"none\" stroke=\"black\" stroke-width=\".3\" stroke-opacity=\"1.0\" filling=\"0\" d=\"M15.84375 12.09375 L14.71875 11.90625\"/>\n",
       "<path fill=\"none\" stroke=\"black\" stroke-width=\".3\" stroke-opacity=\"1.0\" filling=\"0\" d=\"M15.65625 12.09375 L14.71875 11.90625\"/>\n",
       "<path fill=\"none\" stroke=\"black\" stroke-width=\".3\" stroke-opacity=\"1.0\" filling=\"0\" d=\"M15.84375 12.09375 L14.71875 11.90625\"/>\n",
       "<path fill=\"none\" stroke=\"black\" stroke-width=\".3\" stroke-opacity=\"1.0\" filling=\"0\" d=\"M15.84375 12.09375 L14.71875 11.90625\"/>\n",
       "<path fill=\"none\" stroke=\"black\" stroke-width=\".3\" stroke-opacity=\"1.0\" filling=\"0\" d=\"M15.84375 12.09375 L14.71875 12.09375\"/>\n",
       "<path fill=\"none\" stroke=\"black\" stroke-width=\".3\" stroke-opacity=\"1.0\" filling=\"0\" d=\"M15.65625 12.28125 L14.71875 12.1875\"/>\n",
       "<path fill=\"none\" stroke=\"black\" stroke-width=\".3\" stroke-opacity=\"1.0\" filling=\"0\" d=\"M15.65625 12.28125 L14.71875 12.1875\"/></svg>"
      ],
      "text/plain": [
       "<IPython.core.display.SVG object>"
      ]
     },
     "metadata": {},
     "output_type": "display_data"
    },
    {
     "name": "stdout",
     "output_type": "stream",
     "text": [
      "temperature=22.0\n"
     ]
    },
    {
     "data": {
      "image/svg+xml": [
       "<svg xmlns=\"http://www.w3.org/2000/svg\" viewBox=\"0.0 0.0 24.0 24.0\" height=\"200px\" width=\"200px\"><path fill=\"none\" stroke=\"black\" stroke-width=\".3\" stroke-opacity=\"1.0\" filling=\"0\" d=\"M12.09375 9.09375 L11.53125 18.09375 L10.96875 18.09375 L10.21875 16.5 L9.1875 15.0 L8.90625 13.3125 L8.90625 10.78125 L9.65625 9.09375 L10.40625 7.96875 L11.25 7.21875 L12.28125 7.21875 L13.40625 7.6875 L14.0625 8.34375 L14.71875 9.9375 L14.71875 11.25 L14.34375 12.46875 L14.25 13.78125 L13.5 15.46875\"/>\n",
       "<path fill=\"none\" stroke=\"black\" stroke-width=\".3\" stroke-opacity=\"1.0\" filling=\"0\" d=\"M83.99995422363281 83.99995422363281 M83.99995422363281 83.99995422363281\"/>\n",
       "<path fill=\"none\" stroke=\"black\" stroke-width=\".3\" stroke-opacity=\"1.0\" filling=\"0\" d=\"M83.99995422363281 83.99995422363281 M83.99995422363281 83.99995422363281\"/>\n",
       "<path fill=\"none\" stroke=\"black\" stroke-width=\".3\" stroke-opacity=\"1.0\" filling=\"0\" d=\"M83.99995422363281 83.99995422363281 M83.99995422363281 83.99995422363281\"/>\n",
       "<path fill=\"none\" stroke=\"black\" stroke-width=\".3\" stroke-opacity=\"1.0\" filling=\"0\" d=\"M83.99995422363281 83.99995422363281 M83.99995422363281 83.99995422363281\"/>\n",
       "<path fill=\"none\" stroke=\"black\" stroke-width=\".3\" stroke-opacity=\"1.0\" filling=\"0\" d=\"M83.99995422363281 83.99995422363281 M83.99995422363281 83.99995422363281\"/>\n",
       "<path fill=\"none\" stroke=\"black\" stroke-width=\".3\" stroke-opacity=\"1.0\" filling=\"0\" d=\"M83.99995422363281 83.99995422363281 M83.99995422363281 83.99995422363281\"/>\n",
       "<path fill=\"none\" stroke=\"black\" stroke-width=\".3\" stroke-opacity=\"1.0\" filling=\"0\" d=\"M83.99995422363281 83.99995422363281 M83.99995422363281 83.99995422363281\"/></svg>"
      ],
      "text/plain": [
       "<IPython.core.display.SVG object>"
      ]
     },
     "metadata": {},
     "output_type": "display_data"
    },
    {
     "name": "stdout",
     "output_type": "stream",
     "text": [
      "temperature=23.0\n"
     ]
    },
    {
     "data": {
      "image/svg+xml": [
       "<svg xmlns=\"http://www.w3.org/2000/svg\" viewBox=\"0.0 0.0 24.0 24.0\" height=\"200px\" width=\"200px\"><path fill=\"none\" stroke=\"black\" stroke-width=\".3\" stroke-opacity=\"1.0\" filling=\"0\" d=\"M12.9375 4.40625 L13.21875 6.84375 L13.5 9.09375\"/>\n",
       "<path fill=\"none\" stroke=\"black\" stroke-width=\".3\" stroke-opacity=\"1.0\" filling=\"0\" d=\"M13.40625 4.40625 L13.59375 6.84375 L13.875 9.09375\"/>\n",
       "<path fill=\"none\" stroke=\"black\" stroke-width=\".3\" stroke-opacity=\"1.0\" filling=\"0\" d=\"M13.3125 4.40625 L13.40625 6.84375 L13.59375 9.09375\"/>\n",
       "<path fill=\"none\" stroke=\"black\" stroke-width=\".3\" stroke-opacity=\"1.0\" filling=\"0\" d=\"M13.3125 4.40625 L13.40625 6.84375 L13.59375 9.09375\"/>\n",
       "<path fill=\"none\" stroke=\"black\" stroke-width=\".3\" stroke-opacity=\"1.0\" filling=\"0\" d=\"M13.3125 4.40625 L13.40625 6.84375 L13.59375 9.09375\"/>\n",
       "<path fill=\"none\" stroke=\"black\" stroke-width=\".3\" stroke-opacity=\"1.0\" filling=\"0\" d=\"M13.3125 4.40625 L13.40625 6.9375 L13.6875 9.09375\"/>\n",
       "<path fill=\"none\" stroke=\"black\" stroke-width=\".3\" stroke-opacity=\"1.0\" filling=\"0\" d=\"M13.3125 4.59375 L13.40625 6.84375 L13.6875 9.09375\"/>\n",
       "<path fill=\"none\" stroke=\"black\" stroke-width=\".3\" stroke-opacity=\"1.0\" filling=\"0\" d=\"M13.3125 4.40625 L13.40625 6.84375 L13.875 9.09375\"/></svg>"
      ],
      "text/plain": [
       "<IPython.core.display.SVG object>"
      ]
     },
     "metadata": {},
     "output_type": "display_data"
    },
    {
     "name": "stdout",
     "output_type": "stream",
     "text": [
      "temperature=24.0\n"
     ]
    },
    {
     "data": {
      "image/svg+xml": [
       "<svg xmlns=\"http://www.w3.org/2000/svg\" viewBox=\"0.0 0.0 24.0 24.0\" height=\"200px\" width=\"200px\"><path fill=\"none\" stroke=\"black\" stroke-width=\".3\" stroke-opacity=\"1.0\" filling=\"0\" d=\"M12.9375 3.9375 L12.09375 8.53125 L11.0625 9.375\"/>\n",
       "<path fill=\"none\" stroke=\"black\" stroke-width=\".3\" stroke-opacity=\"1.0\" filling=\"0\" d=\"M12.75 3.9375 L11.8125 9.0 L11.0625 9.5625\"/>\n",
       "<path fill=\"none\" stroke=\"black\" stroke-width=\".3\" stroke-opacity=\"1.0\" filling=\"0\" d=\"M12.75 3.9375 L12.0 9.1875 L11.25 9.5625\"/>\n",
       "<path fill=\"none\" stroke=\"black\" stroke-width=\".3\" stroke-opacity=\"1.0\" filling=\"0\" d=\"M12.84375 3.9375 L12.0 9.5625 L11.25 9.65625\"/>\n",
       "<path fill=\"none\" stroke=\"black\" stroke-width=\".3\" stroke-opacity=\"1.0\" filling=\"0\" d=\"M12.75 3.9375 L12.0 9.5625 L11.25 9.75\"/>\n",
       "<path fill=\"none\" stroke=\"black\" stroke-width=\".3\" stroke-opacity=\"1.0\" filling=\"0\" d=\"M12.75 3.9375 L12.0 9.5625 L11.25 9.75\"/>\n",
       "<path fill=\"none\" stroke=\"black\" stroke-width=\".3\" stroke-opacity=\"1.0\" filling=\"0\" d=\"M22.48828125 22.48828125 M22.48828125 22.48828125\"/>\n",
       "<path fill=\"none\" stroke=\"black\" stroke-width=\".3\" stroke-opacity=\"1.0\" filling=\"0\" d=\"M22.48828125 22.48828125 M22.48828125 22.48828125\"/></svg>"
      ],
      "text/plain": [
       "<IPython.core.display.SVG object>"
      ]
     },
     "metadata": {},
     "output_type": "display_data"
    },
    {
     "name": "stdout",
     "output_type": "stream",
     "text": [
      "temperature=25.0\n"
     ]
    },
    {
     "data": {
      "image/svg+xml": [
       "<svg xmlns=\"http://www.w3.org/2000/svg\" viewBox=\"0.0 0.0 24.0 24.0\" height=\"200px\" width=\"200px\"><path fill=\"none\" stroke=\"black\" stroke-width=\".3\" stroke-opacity=\"1.0\" filling=\"0\" d=\"M95.99999237060547 95.99999237060547 M95.99999237060547 95.99999237060547\"/>\n",
       "<path fill=\"none\" stroke=\"black\" stroke-width=\".3\" stroke-opacity=\"1.0\" filling=\"0\" d=\"M95.99999237060547 95.99999237060547 M95.99999237060547 95.99999237060547\"/>\n",
       "<path fill=\"none\" stroke=\"black\" stroke-width=\".3\" stroke-opacity=\"1.0\" filling=\"0\" d=\"M95.99999237060547 95.99999237060547 M95.99999237060547 95.99999237060547\"/>\n",
       "<path fill=\"none\" stroke=\"black\" stroke-width=\".3\" stroke-opacity=\"1.0\" filling=\"0\" d=\"M95.99999237060547 95.99999237060547 M95.99999237060547 95.99999237060547\"/>\n",
       "<path fill=\"none\" stroke=\"black\" stroke-width=\".3\" stroke-opacity=\"1.0\" filling=\"0\" d=\"M95.99999237060547 95.99999237060547 M95.99999237060547 95.99999237060547\"/>\n",
       "<path fill=\"none\" stroke=\"black\" stroke-width=\".3\" stroke-opacity=\"1.0\" filling=\"0\" d=\"M95.99999237060547 95.99999237060547 M95.99999237060547 95.99999237060547\"/>\n",
       "<path fill=\"none\" stroke=\"black\" stroke-width=\".3\" stroke-opacity=\"1.0\" filling=\"0\" d=\"M95.99999237060547 95.99999237060547 M95.99999237060547 95.99999237060547\"/>\n",
       "<path fill=\"none\" stroke=\"black\" stroke-width=\".3\" stroke-opacity=\"1.0\" filling=\"0\" d=\"M95.99999237060547 95.99999237060547 M95.99999237060547 95.99999237060547\"/></svg>"
      ],
      "text/plain": [
       "<IPython.core.display.SVG object>"
      ]
     },
     "metadata": {},
     "output_type": "display_data"
    },
    {
     "name": "stdout",
     "output_type": "stream",
     "text": [
      "temperature=26.0\n"
     ]
    },
    {
     "data": {
      "image/svg+xml": [
       "<svg xmlns=\"http://www.w3.org/2000/svg\" viewBox=\"0.0 0.0 24.0 24.0\" height=\"200px\" width=\"200px\"><path fill=\"none\" stroke=\"black\" stroke-width=\".3\" stroke-opacity=\"1.0\" filling=\"0\" d=\"M10.21875 8.0625 L9.9375 9.0\"/>\n",
       "<path fill=\"none\" stroke=\"black\" stroke-width=\".3\" stroke-opacity=\"1.0\" filling=\"0\" d=\"M10.21875 8.0625 L9.75 9.0\"/>\n",
       "<path fill=\"none\" stroke=\"black\" stroke-width=\".3\" stroke-opacity=\"1.0\" filling=\"0\" d=\"M10.21875 8.0625 L9.9375 9.0\"/>\n",
       "<path fill=\"none\" stroke=\"black\" stroke-width=\".3\" stroke-opacity=\"1.0\" filling=\"0\" d=\"M10.21875 8.0625 L9.9375 9.1875\"/>\n",
       "<path fill=\"none\" stroke=\"black\" stroke-width=\".3\" stroke-opacity=\"1.0\" filling=\"0\" d=\"M10.40625 8.0625 L9.9375 9.1875\"/>\n",
       "<path fill=\"none\" stroke=\"black\" stroke-width=\".3\" stroke-opacity=\"1.0\" filling=\"0\" d=\"M10.40625 8.0625 L10.125 9.1875\"/>\n",
       "<path fill=\"none\" stroke=\"black\" stroke-width=\".3\" stroke-opacity=\"1.0\" filling=\"0\" d=\"M10.40625 8.0625 L10.125 9.1875\"/>\n",
       "<path fill=\"none\" stroke=\"black\" stroke-width=\".3\" stroke-opacity=\"1.0\" filling=\"0\" d=\"M10.6875 8.0625 L10.125 9.1875\"/></svg>"
      ],
      "text/plain": [
       "<IPython.core.display.SVG object>"
      ]
     },
     "metadata": {},
     "output_type": "display_data"
    },
    {
     "name": "stdout",
     "output_type": "stream",
     "text": [
      "temperature=27.0\n"
     ]
    },
    {
     "data": {
      "image/svg+xml": [
       "<svg xmlns=\"http://www.w3.org/2000/svg\" viewBox=\"0.0 0.0 24.0 24.0\" height=\"200px\" width=\"200px\"><path fill=\"none\" stroke=\"black\" stroke-width=\".3\" stroke-opacity=\"1.0\" filling=\"0\" d=\"M12.65625 16.125 L10.6875 16.5 L10.125 16.3125 L9.0 15.5625 L8.34375 13.96875 L8.34375 10.875 L8.71875 8.90625 L9.28125 8.15625 L10.125 7.96875\"/>\n",
       "<path fill=\"none\" stroke=\"black\" stroke-width=\".3\" stroke-opacity=\"1.0\" filling=\"0\" d=\"M12.75 16.125 L10.6875 16.6875 L10.125 16.40625 L9.0 15.5625 L8.34375 13.96875 L8.34375 11.15625 L8.71875 9.1875 L9.28125 8.25 L10.125 8.15625\"/>\n",
       "<path fill=\"none\" stroke=\"black\" stroke-width=\".3\" stroke-opacity=\"1.0\" filling=\"0\" d=\"M12.75 16.3125 L10.6875 16.6875 L10.125 16.40625 L9.0 15.5625 L8.34375 13.96875 L8.34375 11.25 L8.71875 9.1875 L9.28125 8.25 L10.40625 8.15625\"/>\n",
       "<path fill=\"none\" stroke=\"black\" stroke-width=\".3\" stroke-opacity=\"1.0\" filling=\"0\" d=\"M59.99605941772461 59.99605941772461 M59.99605941772461 59.99605941772461\"/>\n",
       "<path fill=\"none\" stroke=\"black\" stroke-width=\".3\" stroke-opacity=\"1.0\" filling=\"0\" d=\"M59.99605941772461 59.99605941772461 M59.99605941772461 59.99605941772461\"/>\n",
       "<path fill=\"none\" stroke=\"black\" stroke-width=\".3\" stroke-opacity=\"1.0\" filling=\"0\" d=\"M59.99605941772461 59.99605941772461 M59.99605941772461 59.99605941772461\"/>\n",
       "<path fill=\"none\" stroke=\"black\" stroke-width=\".3\" stroke-opacity=\"1.0\" filling=\"0\" d=\"M59.99605941772461 59.99605941772461 M59.99605941772461 59.99605941772461\"/>\n",
       "<path fill=\"none\" stroke=\"black\" stroke-width=\".3\" stroke-opacity=\"1.0\" filling=\"0\" d=\"M59.99605941772461 59.99605941772461 M59.99605941772461 59.99605941772461\"/></svg>"
      ],
      "text/plain": [
       "<IPython.core.display.SVG object>"
      ]
     },
     "metadata": {},
     "output_type": "display_data"
    },
    {
     "name": "stdout",
     "output_type": "stream",
     "text": [
      "temperature=28.0\n"
     ]
    },
    {
     "data": {
      "image/svg+xml": [
       "<svg xmlns=\"http://www.w3.org/2000/svg\" viewBox=\"0.0 0.0 24.0 24.0\" height=\"200px\" width=\"200px\"><path fill=\"none\" stroke=\"black\" stroke-width=\".3\" stroke-opacity=\"1.0\" filling=\"0\" d=\"M12.46875 4.21875 L12.46875 4.21875 L12.9375 9.28125 L13.40625 16.5 L12.9375 17.25\"/>\n",
       "<path fill=\"none\" stroke=\"black\" stroke-width=\".3\" stroke-opacity=\"1.0\" filling=\"0\" d=\"M12.09375 4.21875 L12.09375 4.3125 L12.46875 9.5625 L12.84375 16.78125 L12.84375 17.25\"/>\n",
       "<path fill=\"none\" stroke=\"black\" stroke-width=\".3\" stroke-opacity=\"1.0\" filling=\"0\" d=\"M12.09375 4.21875 L12.09375 4.59375 L12.46875 9.5625 L12.84375 16.78125 L12.84375 17.34375\"/>\n",
       "<path fill=\"none\" stroke=\"black\" stroke-width=\".3\" stroke-opacity=\"1.0\" filling=\"0\" d=\"M12.09375 4.21875 L12.09375 4.59375 L12.28125 9.5625 L12.65625 16.78125 L12.46875 17.34375\"/>\n",
       "<path fill=\"none\" stroke=\"black\" stroke-width=\".3\" stroke-opacity=\"1.0\" filling=\"0\" d=\"M11.625 4.21875 L12.0 4.59375 L12.09375 9.5625 L12.65625 16.78125 L12.46875 17.34375\"/>\n",
       "<path fill=\"none\" stroke=\"black\" stroke-width=\".3\" stroke-opacity=\"1.0\" filling=\"0\" d=\"M11.625 4.21875 L11.71875 4.59375 L12.09375 9.5625 L12.46875 16.78125 L12.46875 17.34375\"/>\n",
       "<path fill=\"none\" stroke=\"black\" stroke-width=\".3\" stroke-opacity=\"1.0\" filling=\"0\" d=\"M11.625 4.21875 L11.71875 4.59375 L12.09375 9.5625 L12.46875 16.78125 L12.46875 17.34375\"/>\n",
       "<path fill=\"none\" stroke=\"black\" stroke-width=\".3\" stroke-opacity=\"1.0\" filling=\"0\" d=\"M11.53125 4.21875 L11.53125 4.21875 L11.90625 9.5625 L12.46875 16.78125 L12.09375 17.34375\"/></svg>"
      ],
      "text/plain": [
       "<IPython.core.display.SVG object>"
      ]
     },
     "metadata": {},
     "output_type": "display_data"
    },
    {
     "name": "stdout",
     "output_type": "stream",
     "text": [
      "temperature=29.0\n"
     ]
    },
    {
     "data": {
      "image/svg+xml": [
       "<svg xmlns=\"http://www.w3.org/2000/svg\" viewBox=\"0.0 0.0 24.0 24.0\" height=\"200px\" width=\"200px\"><path fill=\"none\" stroke=\"black\" stroke-width=\".3\" stroke-opacity=\"1.0\" filling=\"0\" d=\"M95.99999237060547 95.99999237060547 M95.99999237060547 95.99999237060547\"/>\n",
       "<path fill=\"none\" stroke=\"black\" stroke-width=\".3\" stroke-opacity=\"1.0\" filling=\"0\" d=\"M95.99999237060547 95.99999237060547 M95.99999237060547 95.99999237060547\"/>\n",
       "<path fill=\"none\" stroke=\"black\" stroke-width=\".3\" stroke-opacity=\"1.0\" filling=\"0\" d=\"M95.99999237060547 95.99999237060547 M95.99999237060547 95.99999237060547\"/>\n",
       "<path fill=\"none\" stroke=\"black\" stroke-width=\".3\" stroke-opacity=\"1.0\" filling=\"0\" d=\"M95.99999237060547 95.99999237060547 M95.99999237060547 95.99999237060547\"/>\n",
       "<path fill=\"none\" stroke=\"black\" stroke-width=\".3\" stroke-opacity=\"1.0\" filling=\"0\" d=\"M95.99999237060547 95.99999237060547 M95.99999237060547 95.99999237060547\"/>\n",
       "<path fill=\"none\" stroke=\"black\" stroke-width=\".3\" stroke-opacity=\"1.0\" filling=\"0\" d=\"M95.99999237060547 95.99999237060547 M95.99999237060547 95.99999237060547\"/>\n",
       "<path fill=\"none\" stroke=\"black\" stroke-width=\".3\" stroke-opacity=\"1.0\" filling=\"0\" d=\"M95.99999237060547 95.99999237060547 M95.99999237060547 95.99999237060547\"/>\n",
       "<path fill=\"none\" stroke=\"black\" stroke-width=\".3\" stroke-opacity=\"1.0\" filling=\"0\" d=\"M95.99999237060547 95.99999237060547 M95.99999237060547 95.99999237060547\"/></svg>"
      ],
      "text/plain": [
       "<IPython.core.display.SVG object>"
      ]
     },
     "metadata": {},
     "output_type": "display_data"
    },
    {
     "name": "stdout",
     "output_type": "stream",
     "text": [
      "temperature=30.0\n"
     ]
    },
    {
     "data": {
      "image/svg+xml": [
       "<svg xmlns=\"http://www.w3.org/2000/svg\" viewBox=\"0.0 0.0 24.0 24.0\" height=\"200px\" width=\"200px\"><path fill=\"none\" stroke=\"black\" stroke-width=\".3\" stroke-opacity=\"1.0\" filling=\"0\" d=\"M95.99999237060547 95.99999237060547 M95.99999237060547 95.99999237060547\"/>\n",
       "<path fill=\"none\" stroke=\"black\" stroke-width=\".3\" stroke-opacity=\"1.0\" filling=\"0\" d=\"M95.99999237060547 95.99999237060547 M95.99999237060547 95.99999237060547\"/>\n",
       "<path fill=\"none\" stroke=\"black\" stroke-width=\".3\" stroke-opacity=\"1.0\" filling=\"0\" d=\"M95.99999237060547 95.99999237060547 M95.99999237060547 95.99999237060547\"/>\n",
       "<path fill=\"none\" stroke=\"black\" stroke-width=\".3\" stroke-opacity=\"1.0\" filling=\"0\" d=\"M95.99999237060547 95.99999237060547 M95.99999237060547 95.99999237060547\"/>\n",
       "<path fill=\"none\" stroke=\"black\" stroke-width=\".3\" stroke-opacity=\"1.0\" filling=\"0\" d=\"M95.99999237060547 95.99999237060547 M95.99999237060547 95.99999237060547\"/>\n",
       "<path fill=\"none\" stroke=\"black\" stroke-width=\".3\" stroke-opacity=\"1.0\" filling=\"0\" d=\"M95.99999237060547 95.99999237060547 M95.99999237060547 95.99999237060547\"/>\n",
       "<path fill=\"none\" stroke=\"black\" stroke-width=\".3\" stroke-opacity=\"1.0\" filling=\"0\" d=\"M95.99999237060547 95.99999237060547 M95.99999237060547 95.99999237060547\"/>\n",
       "<path fill=\"none\" stroke=\"black\" stroke-width=\".3\" stroke-opacity=\"1.0\" filling=\"0\" d=\"M95.99999237060547 95.99999237060547 M95.99999237060547 95.99999237060547\"/></svg>"
      ],
      "text/plain": [
       "<IPython.core.display.SVG object>"
      ]
     },
     "metadata": {},
     "output_type": "display_data"
    },
    {
     "name": "stdout",
     "output_type": "stream",
     "text": [
      "temperature=31.0\n"
     ]
    },
    {
     "data": {
      "image/svg+xml": [
       "<svg xmlns=\"http://www.w3.org/2000/svg\" viewBox=\"0.0 0.0 24.0 24.0\" height=\"200px\" width=\"200px\"><path fill=\"none\" stroke=\"black\" stroke-width=\".3\" stroke-opacity=\"1.0\" filling=\"0\" d=\"M17.34375 9.28125 L17.34375 10.96875 L17.625 14.25 L17.34375 19.40625 L16.875 20.0625 L15.0 20.0625 L13.59375 19.6875 L12.1875 19.3125\"/>\n",
       "<path fill=\"none\" stroke=\"black\" stroke-width=\".3\" stroke-opacity=\"1.0\" filling=\"0\" d=\"M17.34375 9.65625 L17.625 11.34375 L17.625 15.09375 L17.34375 19.40625 L16.875 20.0625 L15.0 20.0625 L13.59375 19.6875 L12.1875 19.3125\"/>\n",
       "<path fill=\"none\" stroke=\"black\" stroke-width=\".3\" stroke-opacity=\"1.0\" filling=\"0\" d=\"M17.34375 9.65625 L17.625 11.34375 L17.625 15.09375 L17.34375 19.40625 L16.875 20.0625 L15.0 20.0625 L13.59375 19.6875 L12.1875 19.40625\"/>\n",
       "<path fill=\"none\" stroke=\"black\" stroke-width=\".3\" stroke-opacity=\"1.0\" filling=\"0\" d=\"M17.34375 9.65625 L17.625 11.34375 L17.625 14.90625 L17.34375 19.40625 L16.875 20.0625 L15.0 20.0625 L13.59375 19.6875 L12.1875 19.40625\"/>\n",
       "<path fill=\"none\" stroke=\"black\" stroke-width=\".3\" stroke-opacity=\"1.0\" filling=\"0\" d=\"M17.34375 9.65625 L17.625 11.34375 L17.625 15.09375 L17.34375 19.40625 L16.875 20.0625 L15.0 20.0625 L13.59375 19.6875 L12.28125 19.40625\"/>\n",
       "<path fill=\"none\" stroke=\"black\" stroke-width=\".3\" stroke-opacity=\"1.0\" filling=\"0\" d=\"M17.34375 9.9375 L17.625 11.34375 L17.8125 15.09375 L17.53125 19.40625 L16.875 20.0625 L15.375 20.0625 L13.59375 19.6875 L12.46875 19.40625\"/>\n",
       "<path fill=\"none\" stroke=\"black\" stroke-width=\".3\" stroke-opacity=\"1.0\" filling=\"0\" d=\"M17.34375 9.9375 L17.625 11.34375 L17.625 14.90625 L17.34375 19.40625 L16.875 20.0625 L15.375 20.0625 L13.59375 19.6875 L12.1875 19.40625\"/>\n",
       "<path fill=\"none\" stroke=\"black\" stroke-width=\".3\" stroke-opacity=\"1.0\" filling=\"0\" d=\"M17.34375 9.9375 L17.625 11.34375 L17.625 14.90625 L17.53125 19.40625 L16.875 20.0625 L15.375 20.0625 L13.59375 19.6875 L12.28125 19.40625\"/></svg>"
      ],
      "text/plain": [
       "<IPython.core.display.SVG object>"
      ]
     },
     "metadata": {},
     "output_type": "display_data"
    },
    {
     "name": "stdout",
     "output_type": "stream",
     "text": [
      "temperature=32.0\n"
     ]
    },
    {
     "data": {
      "image/svg+xml": [
       "<svg xmlns=\"http://www.w3.org/2000/svg\" viewBox=\"0.0 0.0 24.0 24.0\" height=\"200px\" width=\"200px\"><path fill=\"none\" stroke=\"black\" stroke-width=\".3\" stroke-opacity=\"1.0\" filling=\"0\" d=\"M13.21875 12.75 L10.6875 13.40625\"/>\n",
       "<path fill=\"none\" stroke=\"black\" stroke-width=\".3\" stroke-opacity=\"1.0\" filling=\"0\" d=\"M13.21875 12.75 L10.5 13.03125\"/>\n",
       "<path fill=\"none\" stroke=\"black\" stroke-width=\".3\" stroke-opacity=\"1.0\" filling=\"0\" d=\"M13.21875 12.75 L10.5 13.03125\"/>\n",
       "<path fill=\"none\" stroke=\"black\" stroke-width=\".3\" stroke-opacity=\"1.0\" filling=\"0\" d=\"M13.21875 12.75 L10.5 13.03125\"/>\n",
       "<path fill=\"none\" stroke=\"black\" stroke-width=\".3\" stroke-opacity=\"1.0\" filling=\"0\" d=\"M13.21875 12.75 L10.5 13.03125\"/>\n",
       "<path fill=\"none\" stroke=\"black\" stroke-width=\".3\" stroke-opacity=\"1.0\" filling=\"0\" d=\"M13.21875 12.75 L10.5 13.03125\"/>\n",
       "<path fill=\"none\" stroke=\"black\" stroke-width=\".3\" stroke-opacity=\"1.0\" filling=\"0\" d=\"M13.21875 12.75 L10.5 13.21875\"/>\n",
       "<path fill=\"none\" stroke=\"black\" stroke-width=\".3\" stroke-opacity=\"1.0\" filling=\"0\" d=\"M13.21875 12.75 L10.5 13.03125\"/></svg>"
      ],
      "text/plain": [
       "<IPython.core.display.SVG object>"
      ]
     },
     "metadata": {},
     "output_type": "display_data"
    },
    {
     "name": "stdout",
     "output_type": "stream",
     "text": [
      "temperature=33.0\n"
     ]
    },
    {
     "data": {
      "image/svg+xml": [
       "<svg xmlns=\"http://www.w3.org/2000/svg\" viewBox=\"0.0 0.0 24.0 24.0\" height=\"200px\" width=\"200px\"><path fill=\"none\" stroke=\"black\" stroke-width=\".3\" stroke-opacity=\"1.0\" filling=\"0\" d=\"M95.99999237060547 95.99999237060547 M95.99999237060547 95.99999237060547\"/>\n",
       "<path fill=\"none\" stroke=\"black\" stroke-width=\".3\" stroke-opacity=\"1.0\" filling=\"0\" d=\"M95.99999237060547 95.99999237060547 M95.99999237060547 95.99999237060547\"/>\n",
       "<path fill=\"none\" stroke=\"black\" stroke-width=\".3\" stroke-opacity=\"1.0\" filling=\"0\" d=\"M95.99999237060547 95.99999237060547 M95.99999237060547 95.99999237060547\"/>\n",
       "<path fill=\"none\" stroke=\"black\" stroke-width=\".3\" stroke-opacity=\"1.0\" filling=\"0\" d=\"M95.99999237060547 95.99999237060547 M95.99999237060547 95.99999237060547\"/>\n",
       "<path fill=\"none\" stroke=\"black\" stroke-width=\".3\" stroke-opacity=\"1.0\" filling=\"0\" d=\"M95.99999237060547 95.99999237060547 M95.99999237060547 95.99999237060547\"/>\n",
       "<path fill=\"none\" stroke=\"black\" stroke-width=\".3\" stroke-opacity=\"1.0\" filling=\"0\" d=\"M95.99999237060547 95.99999237060547 M95.99999237060547 95.99999237060547\"/>\n",
       "<path fill=\"none\" stroke=\"black\" stroke-width=\".3\" stroke-opacity=\"1.0\" filling=\"0\" d=\"M95.99999237060547 95.99999237060547 M95.99999237060547 95.99999237060547\"/>\n",
       "<path fill=\"none\" stroke=\"black\" stroke-width=\".3\" stroke-opacity=\"1.0\" filling=\"0\" d=\"M95.99999237060547 95.99999237060547 M95.99999237060547 95.99999237060547\"/></svg>"
      ],
      "text/plain": [
       "<IPython.core.display.SVG object>"
      ]
     },
     "metadata": {},
     "output_type": "display_data"
    },
    {
     "name": "stdout",
     "output_type": "stream",
     "text": [
      "temperature=34.0\n"
     ]
    },
    {
     "data": {
      "image/svg+xml": [
       "<svg xmlns=\"http://www.w3.org/2000/svg\" viewBox=\"0.0 0.0 24.0 24.0\" height=\"200px\" width=\"200px\"><path fill=\"none\" stroke=\"black\" stroke-width=\".3\" stroke-opacity=\"1.0\" filling=\"0\" d=\"M12.75 18.1875 L11.53125 17.4375 L10.59375 13.125 L10.3125 10.96875 L10.3125 10.40625 L11.15625 11.34375 L12.46875 12.84375 L13.125 13.5 L13.78125 15.9375 L14.15625 16.875\"/>\n",
       "<path fill=\"none\" stroke=\"black\" stroke-width=\".3\" stroke-opacity=\"1.0\" filling=\"0\" d=\"M12.46875 18.0 L11.15625 17.4375 L10.3125 13.125 L10.21875 10.96875 L10.3125 9.9375 L11.15625 11.34375 L12.46875 12.1875 L13.125 13.5 L13.78125 15.375 L14.0625 16.6875\"/>\n",
       "<path fill=\"none\" stroke=\"black\" stroke-width=\".3\" stroke-opacity=\"1.0\" filling=\"0\" d=\"M12.46875 18.0 L11.15625 17.4375 L10.3125 13.59375 L10.21875 11.25 L10.3125 9.9375 L11.15625 11.34375 L12.46875 12.1875 L13.125 13.03125 L13.78125 15.375 L14.15625 16.6875\"/>\n",
       "<path fill=\"none\" stroke=\"black\" stroke-width=\".3\" stroke-opacity=\"1.0\" filling=\"0\" d=\"M12.46875 18.0 L11.15625 17.4375 L10.3125 13.59375 L10.21875 11.25 L10.3125 9.9375 L11.15625 11.34375 L12.46875 12.1875 L13.125 13.03125 L13.78125 15.375 L14.15625 16.6875\"/>\n",
       "<path fill=\"none\" stroke=\"black\" stroke-width=\".3\" stroke-opacity=\"1.0\" filling=\"0\" d=\"M12.46875 18.0 L10.96875 17.25 L10.21875 13.59375 L10.03125 11.25 L10.3125 9.9375 L11.15625 11.34375 L12.46875 12.1875 L13.125 13.03125 L13.78125 15.375 L14.15625 16.6875\"/>\n",
       "<path fill=\"none\" stroke=\"black\" stroke-width=\".3\" stroke-opacity=\"1.0\" filling=\"0\" d=\"M12.46875 18.0 L10.96875 17.25 L10.21875 14.4375 L10.03125 11.25 L10.3125 9.9375 L11.25 10.59375 L12.46875 11.71875 L13.125 13.03125 L13.78125 14.90625 L14.15625 16.6875\"/>\n",
       "<path fill=\"none\" stroke=\"black\" stroke-width=\".3\" stroke-opacity=\"1.0\" filling=\"0\" d=\"M12.46875 18.0 L10.96875 17.25 L10.21875 14.4375 L10.03125 11.25 L10.3125 9.9375 L11.25 10.59375 L12.46875 12.1875 L13.125 13.03125 L13.78125 15.375 L14.15625 16.6875\"/>\n",
       "<path fill=\"none\" stroke=\"black\" stroke-width=\".3\" stroke-opacity=\"1.0\" filling=\"0\" d=\"M12.09375 18.0 L10.96875 17.25 L10.21875 13.59375 L10.03125 11.25 L10.3125 9.9375 L11.15625 10.59375 L12.46875 11.71875 L13.125 13.03125 L13.78125 14.90625 L14.0625 16.6875\"/></svg>"
      ],
      "text/plain": [
       "<IPython.core.display.SVG object>"
      ]
     },
     "metadata": {},
     "output_type": "display_data"
    },
    {
     "name": "stdout",
     "output_type": "stream",
     "text": [
      "temperature=35.0\n"
     ]
    },
    {
     "data": {
      "image/svg+xml": [
       "<svg xmlns=\"http://www.w3.org/2000/svg\" viewBox=\"0.0 0.0 24.0 24.0\" height=\"200px\" width=\"200px\"><path fill=\"none\" stroke=\"black\" stroke-width=\".3\" stroke-opacity=\"1.0\" filling=\"0\" d=\"M16.6875 14.25 L14.0625 14.71875\"/>\n",
       "<path fill=\"none\" stroke=\"black\" stroke-width=\".3\" stroke-opacity=\"1.0\" filling=\"0\" d=\"M16.6875 14.25 L14.0625 14.71875\"/>\n",
       "<path fill=\"none\" stroke=\"black\" stroke-width=\".3\" stroke-opacity=\"1.0\" filling=\"0\" d=\"M16.6875 14.25 L14.0625 15.09375\"/>\n",
       "<path fill=\"none\" stroke=\"black\" stroke-width=\".3\" stroke-opacity=\"1.0\" filling=\"0\" d=\"M16.6875 14.53125 L14.0625 15.09375\"/>\n",
       "<path fill=\"none\" stroke=\"black\" stroke-width=\".3\" stroke-opacity=\"1.0\" filling=\"0\" d=\"M16.6875 14.53125 L14.0625 15.09375\"/>\n",
       "<path fill=\"none\" stroke=\"black\" stroke-width=\".3\" stroke-opacity=\"1.0\" filling=\"0\" d=\"M16.6875 14.625 L14.0625 15.09375\"/>\n",
       "<path fill=\"none\" stroke=\"black\" stroke-width=\".3\" stroke-opacity=\"1.0\" filling=\"0\" d=\"M16.6875 14.625 L14.0625 15.09375\"/>\n",
       "<path fill=\"none\" stroke=\"black\" stroke-width=\".3\" stroke-opacity=\"1.0\" filling=\"0\" d=\"M16.6875 14.625 L14.0625 15.09375\"/></svg>"
      ],
      "text/plain": [
       "<IPython.core.display.SVG object>"
      ]
     },
     "metadata": {},
     "output_type": "display_data"
    },
    {
     "name": "stdout",
     "output_type": "stream",
     "text": [
      "temperature=36.0\n"
     ]
    },
    {
     "data": {
      "image/svg+xml": [
       "<svg xmlns=\"http://www.w3.org/2000/svg\" viewBox=\"0.0 0.0 24.0 24.0\" height=\"200px\" width=\"200px\"><path fill=\"none\" stroke=\"black\" stroke-width=\".3\" stroke-opacity=\"1.0\" filling=\"0\" d=\"M95.99999237060547 95.99999237060547 M95.99999237060547 95.99999237060547\"/>\n",
       "<path fill=\"none\" stroke=\"black\" stroke-width=\".3\" stroke-opacity=\"1.0\" filling=\"0\" d=\"M95.99999237060547 95.99999237060547 M95.99999237060547 95.99999237060547\"/>\n",
       "<path fill=\"none\" stroke=\"black\" stroke-width=\".3\" stroke-opacity=\"1.0\" filling=\"0\" d=\"M95.99999237060547 95.99999237060547 M95.99999237060547 95.99999237060547\"/>\n",
       "<path fill=\"none\" stroke=\"black\" stroke-width=\".3\" stroke-opacity=\"1.0\" filling=\"0\" d=\"M95.99999237060547 95.99999237060547 M95.99999237060547 95.99999237060547\"/>\n",
       "<path fill=\"none\" stroke=\"black\" stroke-width=\".3\" stroke-opacity=\"1.0\" filling=\"0\" d=\"M95.99999237060547 95.99999237060547 M95.99999237060547 95.99999237060547\"/>\n",
       "<path fill=\"none\" stroke=\"black\" stroke-width=\".3\" stroke-opacity=\"1.0\" filling=\"0\" d=\"M95.99999237060547 95.99999237060547 M95.99999237060547 95.99999237060547\"/>\n",
       "<path fill=\"none\" stroke=\"black\" stroke-width=\".3\" stroke-opacity=\"1.0\" filling=\"0\" d=\"M95.99999237060547 95.99999237060547 M95.99999237060547 95.99999237060547\"/>\n",
       "<path fill=\"none\" stroke=\"black\" stroke-width=\".3\" stroke-opacity=\"1.0\" filling=\"0\" d=\"M95.99999237060547 95.99999237060547 M95.99999237060547 95.99999237060547\"/></svg>"
      ],
      "text/plain": [
       "<IPython.core.display.SVG object>"
      ]
     },
     "metadata": {},
     "output_type": "display_data"
    },
    {
     "name": "stdout",
     "output_type": "stream",
     "text": [
      "temperature=37.0\n"
     ]
    },
    {
     "data": {
      "image/svg+xml": [
       "<svg xmlns=\"http://www.w3.org/2000/svg\" viewBox=\"0.0 0.0 24.0 24.0\" height=\"200px\" width=\"200px\"><path fill=\"none\" stroke=\"black\" stroke-width=\".3\" stroke-opacity=\"1.0\" filling=\"0\" d=\"M95.99999237060547 95.99999237060547 M95.99999237060547 95.99999237060547\"/>\n",
       "<path fill=\"none\" stroke=\"black\" stroke-width=\".3\" stroke-opacity=\"1.0\" filling=\"0\" d=\"M95.99999237060547 95.99999237060547 M95.99999237060547 95.99999237060547\"/>\n",
       "<path fill=\"none\" stroke=\"black\" stroke-width=\".3\" stroke-opacity=\"1.0\" filling=\"0\" d=\"M95.99999237060547 95.99999237060547 M95.99999237060547 95.99999237060547\"/>\n",
       "<path fill=\"none\" stroke=\"black\" stroke-width=\".3\" stroke-opacity=\"1.0\" filling=\"0\" d=\"M95.99999237060547 95.99999237060547 M95.99999237060547 95.99999237060547\"/>\n",
       "<path fill=\"none\" stroke=\"black\" stroke-width=\".3\" stroke-opacity=\"1.0\" filling=\"0\" d=\"M95.99999237060547 95.99999237060547 M95.99999237060547 95.99999237060547\"/>\n",
       "<path fill=\"none\" stroke=\"black\" stroke-width=\".3\" stroke-opacity=\"1.0\" filling=\"0\" d=\"M95.99999237060547 95.99999237060547 M95.99999237060547 95.99999237060547\"/>\n",
       "<path fill=\"none\" stroke=\"black\" stroke-width=\".3\" stroke-opacity=\"1.0\" filling=\"0\" d=\"M95.99999237060547 95.99999237060547 M95.99999237060547 95.99999237060547\"/>\n",
       "<path fill=\"none\" stroke=\"black\" stroke-width=\".3\" stroke-opacity=\"1.0\" filling=\"0\" d=\"M95.99999237060547 95.99999237060547 M95.99999237060547 95.99999237060547\"/></svg>"
      ],
      "text/plain": [
       "<IPython.core.display.SVG object>"
      ]
     },
     "metadata": {},
     "output_type": "display_data"
    },
    {
     "name": "stdout",
     "output_type": "stream",
     "text": [
      "temperature=38.0\n"
     ]
    },
    {
     "data": {
      "image/svg+xml": [
       "<svg xmlns=\"http://www.w3.org/2000/svg\" viewBox=\"0.0 0.0 24.0 24.0\" height=\"200px\" width=\"200px\"><path fill=\"none\" stroke=\"black\" stroke-width=\".3\" stroke-opacity=\"1.0\" filling=\"0\" d=\"M95.99999237060547 95.99999237060547 M95.99999237060547 95.99999237060547\"/>\n",
       "<path fill=\"none\" stroke=\"black\" stroke-width=\".3\" stroke-opacity=\"1.0\" filling=\"0\" d=\"M95.99999237060547 95.99999237060547 M95.99999237060547 95.99999237060547\"/>\n",
       "<path fill=\"none\" stroke=\"black\" stroke-width=\".3\" stroke-opacity=\"1.0\" filling=\"0\" d=\"M95.99999237060547 95.99999237060547 M95.99999237060547 95.99999237060547\"/>\n",
       "<path fill=\"none\" stroke=\"black\" stroke-width=\".3\" stroke-opacity=\"1.0\" filling=\"0\" d=\"M95.99999237060547 95.99999237060547 M95.99999237060547 95.99999237060547\"/>\n",
       "<path fill=\"none\" stroke=\"black\" stroke-width=\".3\" stroke-opacity=\"1.0\" filling=\"0\" d=\"M95.99999237060547 95.99999237060547 M95.99999237060547 95.99999237060547\"/>\n",
       "<path fill=\"none\" stroke=\"black\" stroke-width=\".3\" stroke-opacity=\"1.0\" filling=\"0\" d=\"M95.99999237060547 95.99999237060547 M95.99999237060547 95.99999237060547\"/>\n",
       "<path fill=\"none\" stroke=\"black\" stroke-width=\".3\" stroke-opacity=\"1.0\" filling=\"0\" d=\"M95.99999237060547 95.99999237060547 M95.99999237060547 95.99999237060547\"/>\n",
       "<path fill=\"none\" stroke=\"black\" stroke-width=\".3\" stroke-opacity=\"1.0\" filling=\"0\" d=\"M95.99999237060547 95.99999237060547 M95.99999237060547 95.99999237060547\"/></svg>"
      ],
      "text/plain": [
       "<IPython.core.display.SVG object>"
      ]
     },
     "metadata": {},
     "output_type": "display_data"
    },
    {
     "name": "stdout",
     "output_type": "stream",
     "text": [
      "temperature=39.0\n"
     ]
    },
    {
     "data": {
      "image/svg+xml": [
       "<svg xmlns=\"http://www.w3.org/2000/svg\" viewBox=\"0.0 0.0 24.0 24.0\" height=\"200px\" width=\"200px\"><path fill=\"none\" stroke=\"black\" stroke-width=\".3\" stroke-opacity=\"1.0\" filling=\"0\" d=\"M12.1875 9.65625 L10.6875 10.03125 L9.0 10.5 L7.875 10.03125 L7.21875 7.96875 L7.21875 7.03125 L7.96875 6.375 L9.375 6.0 L10.6875 5.71875 L11.4375 6.09375\"/>\n",
       "<path fill=\"none\" stroke=\"black\" stroke-width=\".3\" stroke-opacity=\"1.0\" filling=\"0\" d=\"M12.1875 9.65625 L10.6875 10.03125 L8.8125 10.21875 L7.875 9.65625 L7.21875 7.96875 L7.21875 7.03125 L7.96875 6.375 L9.09375 6.0 L10.6875 5.71875 L11.4375 6.375\"/>\n",
       "<path fill=\"none\" stroke=\"black\" stroke-width=\".3\" stroke-opacity=\"1.0\" filling=\"0\" d=\"M12.1875 9.65625 L10.6875 10.03125 L9.0 10.5 L7.875 10.03125 L7.21875 7.96875 L7.21875 7.03125 L7.96875 6.5625 L9.09375 6.0 L10.6875 5.71875 L11.4375 6.09375\"/>\n",
       "<path fill=\"none\" stroke=\"black\" stroke-width=\".3\" stroke-opacity=\"1.0\" filling=\"0\" d=\"M12.1875 9.65625 L10.6875 10.03125 L9.0 10.6875 L7.875 10.03125 L7.21875 8.25 L7.21875 7.03125 L7.96875 6.5625 L8.8125 6.0 L10.6875 6.0 L11.4375 6.375\"/>\n",
       "<path fill=\"none\" stroke=\"black\" stroke-width=\".3\" stroke-opacity=\"1.0\" filling=\"0\" d=\"M12.1875 9.65625 L10.6875 10.125 L9.0 10.6875 L7.875 10.03125 L7.21875 8.25 L7.21875 7.3125 L7.96875 6.5625 L9.09375 6.0 L10.6875 6.0 L11.4375 6.375\"/>\n",
       "<path fill=\"none\" stroke=\"black\" stroke-width=\".3\" stroke-opacity=\"1.0\" filling=\"0\" d=\"M11.71875 9.65625 L10.6875 10.21875 L9.0 10.6875\"/>\n",
       "<path fill=\"none\" stroke=\"black\" stroke-width=\".3\" stroke-opacity=\"1.0\" filling=\"0\" d=\"M11.71875 9.65625 L10.6875 10.3125 L9.0 10.6875 L7.875 10.03125 L7.21875 8.53125 L7.21875 7.3125 L7.96875 6.5625 L8.8125 6.0 L10.5 6.0 L11.4375 6.375\"/>\n",
       "<path fill=\"none\" stroke=\"black\" stroke-width=\".3\" stroke-opacity=\"1.0\" filling=\"0\" d=\"M11.71875 9.65625 L10.6875 10.3125 L9.0 10.6875 L7.875 10.03125 L7.21875 8.53125 L7.21875 7.3125 L7.96875 6.5625 L8.8125 6.0 L10.5 5.71875 L11.4375 6.09375\"/></svg>"
      ],
      "text/plain": [
       "<IPython.core.display.SVG object>"
      ]
     },
     "metadata": {},
     "output_type": "display_data"
    },
    {
     "name": "stdout",
     "output_type": "stream",
     "text": [
      "temperature=40.0\n"
     ]
    },
    {
     "data": {
      "image/svg+xml": [
       "<svg xmlns=\"http://www.w3.org/2000/svg\" viewBox=\"0.0 0.0 24.0 24.0\" height=\"200px\" width=\"200px\"><path fill=\"none\" stroke=\"black\" stroke-width=\".3\" stroke-opacity=\"1.0\" filling=\"0\" d=\"M13.125 12.75 L11.15625 14.15625 L9.9375 13.96875 L18.375 12.84375 L18.9375 11.25 L19.3125 9.5625 L12.28125 8.34375 L12.84375 7.96875 L13.875 8.34375 L14.34375 9.1875 L14.34375 10.96875\"/>\n",
       "<path fill=\"none\" stroke=\"black\" stroke-width=\".3\" stroke-opacity=\"1.0\" filling=\"0\" d=\"M13.125 12.75 L10.875 14.25 L9.65625 13.96875 L18.09375 12.84375 L18.09375 11.25 L19.3125 9.5625 L12.1875 8.34375 L12.84375 7.96875 L13.78125 8.4375 L14.0625 9.1875 L14.34375 10.96875\"/>\n",
       "<path fill=\"none\" stroke=\"black\" stroke-width=\".3\" stroke-opacity=\"1.0\" filling=\"0\" d=\"M13.125 13.03125 L10.875 14.25 L9.65625 13.96875 L18.09375 12.84375 L18.09375 11.25 L19.3125 9.5625 L12.28125 8.34375 L12.84375 7.96875 L13.875 8.4375 L14.34375 9.5625 L14.34375 10.96875\"/>\n",
       "<path fill=\"none\" stroke=\"black\" stroke-width=\".3\" stroke-opacity=\"1.0\" filling=\"0\" d=\"M12.84375 13.03125 L10.875 14.25 L9.65625 13.96875 L18.09375 12.84375 L18.09375 11.25 L19.3125 9.5625 L12.28125 8.4375 L13.125 8.25 L13.875 8.625 L14.34375 9.5625 L14.34375 10.96875\"/>\n",
       "<path fill=\"none\" stroke=\"black\" stroke-width=\".3\" stroke-opacity=\"1.0\" filling=\"0\" d=\"M12.84375 13.03125 L10.875 14.25 L9.65625 13.96875 L18.09375 12.84375 L18.09375 11.25 L19.96875 9.5625 L12.28125 8.53125 L13.125 8.25 L13.875 8.625 L14.34375 9.5625 L14.34375 10.96875\"/>\n",
       "<path fill=\"none\" stroke=\"black\" stroke-width=\".3\" stroke-opacity=\"1.0\" filling=\"0\" d=\"M35.7626953125 35.7626953125 M35.7626953125 35.7626953125\"/>\n",
       "<path fill=\"none\" stroke=\"black\" stroke-width=\".3\" stroke-opacity=\"1.0\" filling=\"0\" d=\"M35.7626953125 35.7626953125 M35.7626953125 35.7626953125\"/>\n",
       "<path fill=\"none\" stroke=\"black\" stroke-width=\".3\" stroke-opacity=\"1.0\" filling=\"0\" d=\"M35.7626953125 35.7626953125 M35.7626953125 35.7626953125\"/></svg>"
      ],
      "text/plain": [
       "<IPython.core.display.SVG object>"
      ]
     },
     "metadata": {},
     "output_type": "display_data"
    },
    {
     "name": "stdout",
     "output_type": "stream",
     "text": [
      "temperature=41.0\n"
     ]
    },
    {
     "data": {
      "image/svg+xml": [
       "<svg xmlns=\"http://www.w3.org/2000/svg\" viewBox=\"0.0 0.0 24.0 24.0\" height=\"200px\" width=\"200px\"><path fill=\"none\" stroke=\"black\" stroke-width=\".3\" stroke-opacity=\"1.0\" filling=\"0\" d=\"M19.6875 10.59375 L19.6875 9.84375 L19.6875 8.90625 L18.1875 8.34375 L13.6875 8.53125 L11.71875 9.375 L10.3125 10.03125 L9.9375 11.25\"/>\n",
       "<path fill=\"none\" stroke=\"black\" stroke-width=\".3\" stroke-opacity=\"1.0\" filling=\"0\" d=\"M19.6875 10.59375 L19.6875 9.84375 L19.6875 9.0 L18.1875 8.53125 L13.3125 8.53125 L11.25 9.375 L10.3125 10.03125 L9.5625 11.25\"/>\n",
       "<path fill=\"none\" stroke=\"black\" stroke-width=\".3\" stroke-opacity=\"1.0\" filling=\"0\" d=\"M19.6875 10.59375 L19.6875 9.84375 L19.6875 9.0 L18.9375 8.53125 L13.40625 8.71875 L11.71875 9.375 L10.3125 10.03125 L9.9375 11.25\"/>\n",
       "<path fill=\"none\" stroke=\"black\" stroke-width=\".3\" stroke-opacity=\"1.0\" filling=\"0\" d=\"M19.6875 10.59375 L19.6875 9.84375 L19.6875 9.09375 L18.9375 8.53125 L13.6875 8.71875 L11.71875 9.375 L10.3125 10.03125 L9.9375 11.25\"/>\n",
       "<path fill=\"none\" stroke=\"black\" stroke-width=\".3\" stroke-opacity=\"1.0\" filling=\"0\" d=\"M19.6875 10.59375 L19.6875 9.84375 L19.6875 9.09375 L18.9375 8.53125 L13.6875 8.71875 L11.71875 9.375 L10.3125 10.03125 L9.9375 11.25\"/>\n",
       "<path fill=\"none\" stroke=\"black\" stroke-width=\".3\" stroke-opacity=\"1.0\" filling=\"0\" d=\"M19.6875 10.59375 L19.6875 9.84375 L19.6875 9.09375 L18.9375 8.53125 L13.6875 8.71875 L11.71875 9.375 L10.3125 10.03125 L9.9375 11.25\"/>\n",
       "<path fill=\"none\" stroke=\"black\" stroke-width=\".3\" stroke-opacity=\"1.0\" filling=\"0\" d=\"M19.6875 10.59375 L19.6875 9.84375 L19.6875 9.09375 L18.9375 8.53125 L13.6875 8.8125 L11.71875 9.375 L10.3125 10.03125 L9.9375 11.25\"/>\n",
       "<path fill=\"none\" stroke=\"black\" stroke-width=\".3\" stroke-opacity=\"1.0\" filling=\"0\" d=\"M19.6875 10.59375 L19.96875 9.84375 L19.6875 9.09375 L18.9375 8.53125 L13.875 8.8125 L11.90625 9.375 L10.3125 10.03125 L9.9375 11.25\"/></svg>"
      ],
      "text/plain": [
       "<IPython.core.display.SVG object>"
      ]
     },
     "metadata": {},
     "output_type": "display_data"
    },
    {
     "name": "stdout",
     "output_type": "stream",
     "text": [
      "temperature=42.0\n"
     ]
    },
    {
     "data": {
      "image/svg+xml": [
       "<svg xmlns=\"http://www.w3.org/2000/svg\" viewBox=\"0.0 0.0 24.0 24.0\" height=\"200px\" width=\"200px\"><path fill=\"none\" stroke=\"black\" stroke-width=\".3\" stroke-opacity=\"1.0\" filling=\"0\" d=\"M95.99999237060547 95.99999237060547 M95.99999237060547 95.99999237060547\"/>\n",
       "<path fill=\"none\" stroke=\"black\" stroke-width=\".3\" stroke-opacity=\"1.0\" filling=\"0\" d=\"M95.99999237060547 95.99999237060547 M95.99999237060547 95.99999237060547\"/>\n",
       "<path fill=\"none\" stroke=\"black\" stroke-width=\".3\" stroke-opacity=\"1.0\" filling=\"0\" d=\"M95.99999237060547 95.99999237060547 M95.99999237060547 95.99999237060547\"/>\n",
       "<path fill=\"none\" stroke=\"black\" stroke-width=\".3\" stroke-opacity=\"1.0\" filling=\"0\" d=\"M95.99999237060547 95.99999237060547 M95.99999237060547 95.99999237060547\"/>\n",
       "<path fill=\"none\" stroke=\"black\" stroke-width=\".3\" stroke-opacity=\"1.0\" filling=\"0\" d=\"M95.99999237060547 95.99999237060547 M95.99999237060547 95.99999237060547\"/>\n",
       "<path fill=\"none\" stroke=\"black\" stroke-width=\".3\" stroke-opacity=\"1.0\" filling=\"0\" d=\"M95.99999237060547 95.99999237060547 M95.99999237060547 95.99999237060547\"/>\n",
       "<path fill=\"none\" stroke=\"black\" stroke-width=\".3\" stroke-opacity=\"1.0\" filling=\"0\" d=\"M95.99999237060547 95.99999237060547 M95.99999237060547 95.99999237060547\"/>\n",
       "<path fill=\"none\" stroke=\"black\" stroke-width=\".3\" stroke-opacity=\"1.0\" filling=\"0\" d=\"M95.99999237060547 95.99999237060547 M95.99999237060547 95.99999237060547\"/></svg>"
      ],
      "text/plain": [
       "<IPython.core.display.SVG object>"
      ]
     },
     "metadata": {},
     "output_type": "display_data"
    },
    {
     "name": "stdout",
     "output_type": "stream",
     "text": [
      "temperature=43.0\n"
     ]
    },
    {
     "data": {
      "image/svg+xml": [
       "<svg xmlns=\"http://www.w3.org/2000/svg\" viewBox=\"0.0 0.0 24.0 24.0\" height=\"200px\" width=\"200px\"><path fill=\"none\" stroke=\"black\" stroke-width=\".3\" stroke-opacity=\"1.0\" filling=\"0\" d=\"M95.99999237060547 95.99999237060547 M95.99999237060547 95.99999237060547\"/>\n",
       "<path fill=\"none\" stroke=\"black\" stroke-width=\".3\" stroke-opacity=\"1.0\" filling=\"0\" d=\"M95.99999237060547 95.99999237060547 M95.99999237060547 95.99999237060547\"/>\n",
       "<path fill=\"none\" stroke=\"black\" stroke-width=\".3\" stroke-opacity=\"1.0\" filling=\"0\" d=\"M95.99999237060547 95.99999237060547 M95.99999237060547 95.99999237060547\"/>\n",
       "<path fill=\"none\" stroke=\"black\" stroke-width=\".3\" stroke-opacity=\"1.0\" filling=\"0\" d=\"M95.99999237060547 95.99999237060547 M95.99999237060547 95.99999237060547\"/>\n",
       "<path fill=\"none\" stroke=\"black\" stroke-width=\".3\" stroke-opacity=\"1.0\" filling=\"0\" d=\"M95.99999237060547 95.99999237060547 M95.99999237060547 95.99999237060547\"/>\n",
       "<path fill=\"none\" stroke=\"black\" stroke-width=\".3\" stroke-opacity=\"1.0\" filling=\"0\" d=\"M95.99999237060547 95.99999237060547 M95.99999237060547 95.99999237060547\"/>\n",
       "<path fill=\"none\" stroke=\"black\" stroke-width=\".3\" stroke-opacity=\"1.0\" filling=\"0\" d=\"M95.99999237060547 95.99999237060547 M95.99999237060547 95.99999237060547\"/>\n",
       "<path fill=\"none\" stroke=\"black\" stroke-width=\".3\" stroke-opacity=\"1.0\" filling=\"0\" d=\"M95.99999237060547 95.99999237060547 M95.99999237060547 95.99999237060547\"/></svg>"
      ],
      "text/plain": [
       "<IPython.core.display.SVG object>"
      ]
     },
     "metadata": {},
     "output_type": "display_data"
    },
    {
     "name": "stdout",
     "output_type": "stream",
     "text": [
      "temperature=44.0\n"
     ]
    },
    {
     "data": {
      "image/svg+xml": [
       "<svg xmlns=\"http://www.w3.org/2000/svg\" viewBox=\"0.0 0.0 24.0 24.0\" height=\"200px\" width=\"200px\"><path fill=\"none\" stroke=\"black\" stroke-width=\".3\" stroke-opacity=\"1.0\" filling=\"0\" d=\"M95.99999237060547 95.99999237060547 M95.99999237060547 95.99999237060547\"/>\n",
       "<path fill=\"none\" stroke=\"black\" stroke-width=\".3\" stroke-opacity=\"1.0\" filling=\"0\" d=\"M95.99999237060547 95.99999237060547 M95.99999237060547 95.99999237060547\"/>\n",
       "<path fill=\"none\" stroke=\"black\" stroke-width=\".3\" stroke-opacity=\"1.0\" filling=\"0\" d=\"M95.99999237060547 95.99999237060547 M95.99999237060547 95.99999237060547\"/>\n",
       "<path fill=\"none\" stroke=\"black\" stroke-width=\".3\" stroke-opacity=\"1.0\" filling=\"0\" d=\"M95.99999237060547 95.99999237060547 M95.99999237060547 95.99999237060547\"/>\n",
       "<path fill=\"none\" stroke=\"black\" stroke-width=\".3\" stroke-opacity=\"1.0\" filling=\"0\" d=\"M95.99999237060547 95.99999237060547 M95.99999237060547 95.99999237060547\"/>\n",
       "<path fill=\"none\" stroke=\"black\" stroke-width=\".3\" stroke-opacity=\"1.0\" filling=\"0\" d=\"M95.99999237060547 95.99999237060547 M95.99999237060547 95.99999237060547\"/>\n",
       "<path fill=\"none\" stroke=\"black\" stroke-width=\".3\" stroke-opacity=\"1.0\" filling=\"0\" d=\"M95.99999237060547 95.99999237060547 M95.99999237060547 95.99999237060547\"/>\n",
       "<path fill=\"none\" stroke=\"black\" stroke-width=\".3\" stroke-opacity=\"1.0\" filling=\"0\" d=\"M95.99999237060547 95.99999237060547 M95.99999237060547 95.99999237060547\"/></svg>"
      ],
      "text/plain": [
       "<IPython.core.display.SVG object>"
      ]
     },
     "metadata": {},
     "output_type": "display_data"
    },
    {
     "name": "stdout",
     "output_type": "stream",
     "text": [
      "temperature=45.0\n"
     ]
    },
    {
     "data": {
      "image/svg+xml": [
       "<svg xmlns=\"http://www.w3.org/2000/svg\" viewBox=\"0.0 0.0 24.0 24.0\" height=\"200px\" width=\"200px\"><path fill=\"none\" stroke=\"black\" stroke-width=\".3\" stroke-opacity=\"1.0\" filling=\"0\" d=\"M9.375 13.3125 L8.90625 12.09375 L18.09375 12.09375 L9.5625 12.09375 L10.6875 12.09375 L12.09375 12.5625 L12.75 12.9375 L13.03125 13.5 L12.75 13.96875 L12.46875 14.34375 L11.71875 14.71875 L11.15625 14.90625 L10.6875 15.375\"/>\n",
       "<path fill=\"none\" stroke=\"black\" stroke-width=\".3\" stroke-opacity=\"1.0\" filling=\"0\" d=\"M9.9375 13.78125 L8.8125 12.375 L18.09375 12.09375 L9.375 12.09375 L10.40625 12.09375 L11.90625 12.5625 L12.75 12.9375 L12.75 13.5 L12.75 13.96875 L12.46875 14.34375 L11.625 14.71875 L11.0625 14.90625 L10.6875 15.375\"/>\n",
       "<path fill=\"none\" stroke=\"black\" stroke-width=\".3\" stroke-opacity=\"1.0\" filling=\"0\" d=\"M9.9375 13.78125 L17.625 12.46875 L18.09375 12.09375 L18.09375 12.375 L10.40625 12.09375 L11.90625 12.5625 L12.75 13.21875 L12.84375 13.5 L12.75 13.96875 L12.28125 14.34375 L11.4375 14.71875 L11.0625 14.90625 L10.6875 15.375\"/>\n",
       "<path fill=\"none\" stroke=\"black\" stroke-width=\".3\" stroke-opacity=\"1.0\" filling=\"0\" d=\"M9.9375 13.78125 L17.625 12.5625 L18.09375 12.375 L18.09375 12.46875 L10.40625 12.09375 L11.90625 12.5625 L12.75 13.21875 L12.84375 13.5 L12.75 13.96875 L12.46875 14.34375 L11.625 14.71875 L11.0625 14.90625 L10.6875 15.375\"/>\n",
       "<path fill=\"none\" stroke=\"black\" stroke-width=\".3\" stroke-opacity=\"1.0\" filling=\"0\" d=\"M9.9375 13.96875 L17.625 12.5625 L18.09375 12.375 L18.09375 12.46875 L10.40625 12.09375 L11.90625 12.5625 L12.75 13.21875 L13.03125 13.5 L12.75 13.96875 L12.46875 14.625 L11.625 14.71875 L11.0625 15.09375 L10.6875 15.375\"/>\n",
       "<path fill=\"none\" stroke=\"black\" stroke-width=\".3\" stroke-opacity=\"1.0\" filling=\"0\" d=\"M9.9375 14.25 L17.625 12.75 Z\"/>\n",
       "<path fill=\"none\" stroke=\"black\" stroke-width=\".3\" stroke-opacity=\"1.0\" filling=\"0\" d=\"M9.9375 13.96875 L8.8125 12.75 L18.09375 12.5625 L18.09375 12.5625 L10.40625 12.09375 L11.90625 12.84375 L12.75 13.3125 L13.03125 13.5 L12.75 14.15625 L12.46875 14.71875 L11.625 14.90625 L11.15625 15.09375 L10.6875 15.375\"/>\n",
       "<path fill=\"none\" stroke=\"black\" stroke-width=\".3\" stroke-opacity=\"1.0\" filling=\"0\" d=\"M9.9375 13.78125 L17.625 12.75 Z\"/></svg>"
      ],
      "text/plain": [
       "<IPython.core.display.SVG object>"
      ]
     },
     "metadata": {},
     "output_type": "display_data"
    },
    {
     "name": "stdout",
     "output_type": "stream",
     "text": [
      "temperature=46.0\n"
     ]
    },
    {
     "data": {
      "image/svg+xml": [
       "<svg xmlns=\"http://www.w3.org/2000/svg\" viewBox=\"0.0 0.0 24.0 24.0\" height=\"200px\" width=\"200px\"><path fill=\"none\" stroke=\"black\" stroke-width=\".3\" stroke-opacity=\"1.0\" filling=\"0\" d=\"M17.90625 9.5625 L16.03125 9.65625 L10.6875 10.96875 L7.21875 11.53125 L4.96875 11.53125 L4.21875 10.78125 L4.3125 9.5625 L4.6875 8.25 L4.5 6.9375 L4.96875 4.875 L6.28125 4.125 L9.5625 4.125 L13.03125 4.125 L15.375 4.59375 L16.96875 4.59375\"/>\n",
       "<path fill=\"none\" stroke=\"black\" stroke-width=\".3\" stroke-opacity=\"1.0\" filling=\"0\" d=\"M17.90625 9.5625 L16.03125 9.65625 L10.6875 10.96875 L7.21875 11.53125 L4.96875 11.53125 L4.21875 10.78125 L4.3125 9.5625 L4.6875 8.25 L4.5 6.9375 L4.96875 4.875 L6.28125 4.125 L9.5625 4.125 L13.03125 4.125 L15.375 4.59375\"/>\n",
       "<path fill=\"none\" stroke=\"black\" stroke-width=\".3\" stroke-opacity=\"1.0\" filling=\"0\" d=\"M17.53125 9.5625 L16.03125 9.65625 L11.0625 11.53125 L7.21875 11.90625 L4.96875 11.90625 L4.21875 11.0625 L4.3125 9.5625 L4.6875 8.625 L4.5 6.9375 L5.0625 4.875 L6.28125 4.125 L9.5625 4.125 L13.03125 4.125 L15.375 4.59375\"/>\n",
       "<path fill=\"none\" stroke=\"black\" stroke-width=\".3\" stroke-opacity=\"1.0\" filling=\"0\" d=\"M17.53125 9.5625 L16.03125 9.65625 L11.0625 11.53125 L7.21875 11.90625 L4.96875 11.90625 L4.21875 11.0625 L4.3125 9.75 L4.6875 8.625 L4.5 6.9375 L5.0625 5.0625 L6.28125 4.125 L9.5625 4.125 L13.03125 4.125 L15.375 4.59375\"/>\n",
       "<path fill=\"none\" stroke=\"black\" stroke-width=\".3\" stroke-opacity=\"1.0\" filling=\"0\" d=\"M17.53125 9.5625 L16.3125 9.65625 L11.53125 11.53125 L7.5 11.90625 L4.96875 11.90625 L4.21875 11.0625 L4.3125 9.75 L4.6875 8.625 L4.5 6.9375 L5.0625 5.0625 L6.28125 4.125 L9.5625 4.125 L13.03125 4.125 L15.375 4.59375\"/>\n",
       "<path fill=\"none\" stroke=\"black\" stroke-width=\".3\" stroke-opacity=\"1.0\" filling=\"0\" d=\"M17.90625 9.5625 L16.3125 9.84375 L11.53125 11.53125 L7.5 12.0 L4.96875 11.90625 L4.21875 11.0625 L4.3125 10.03125 L4.6875 8.625 L4.5 6.9375 L5.0625 5.0625 L6.28125 4.125 L9.5625 4.125 L13.21875 4.125 L15.375 4.59375\"/>\n",
       "<path fill=\"none\" stroke=\"black\" stroke-width=\".3\" stroke-opacity=\"1.0\" filling=\"0\" d=\"M17.90625 9.5625 L16.3125 9.84375 L11.53125 11.53125 L8.34375 12.1875 L4.96875 12.1875 L4.21875 11.0625 L4.3125 10.03125 L4.6875 8.625 L4.5 6.9375 L5.0625 5.0625 L6.28125 4.125 L9.5625 4.125 L13.21875 4.125 L15.375 4.59375\"/>\n",
       "<path fill=\"none\" stroke=\"black\" stroke-width=\".3\" stroke-opacity=\"1.0\" filling=\"0\" d=\"M17.90625 9.5625 L16.3125 9.84375 L12.1875 11.53125 L8.34375 12.1875 L5.4375 12.1875 L4.21875 11.0625 L4.3125 10.03125 L4.6875 8.625 L4.5 6.9375 L5.0625 5.0625 L6.28125 4.125 L9.5625 4.125 L13.03125 4.125 L15.375 4.59375\"/></svg>"
      ],
      "text/plain": [
       "<IPython.core.display.SVG object>"
      ]
     },
     "metadata": {},
     "output_type": "display_data"
    },
    {
     "name": "stdout",
     "output_type": "stream",
     "text": [
      "temperature=47.0\n"
     ]
    },
    {
     "data": {
      "image/svg+xml": [
       "<svg xmlns=\"http://www.w3.org/2000/svg\" viewBox=\"0.0 0.0 24.0 24.0\" height=\"200px\" width=\"200px\"><path fill=\"none\" stroke=\"black\" stroke-width=\".3\" stroke-opacity=\"1.0\" filling=\"0\" d=\"M12.84375 13.125 L11.8125 13.3125 L11.0625 13.6875 L10.6875 13.6875 L10.78125 13.40625 L10.59375 13.125 L10.6875 9.28125 L10.5 9.28125 L4.59375 8.90625 L4.59375 8.25 L4.59375 8.90625 L4.59375 9.5625 L4.96875 9.5625 L4.96875 9.5625\"/>\n",
       "<path fill=\"none\" stroke=\"black\" stroke-width=\".3\" stroke-opacity=\"1.0\" filling=\"0\" d=\"M12.65625 12.75 L11.8125 13.3125 L11.0625 13.40625 L10.59375 13.40625 L10.59375 13.40625 L10.40625 12.84375 L10.78125 9.28125 L10.5 8.90625 L4.59375 8.90625 L4.59375 8.625 L4.59375 9.5625 L4.59375 9.5625 L4.96875 9.5625 L4.96875 9.5625\"/>\n",
       "<path fill=\"none\" stroke=\"black\" stroke-width=\".3\" stroke-opacity=\"1.0\" filling=\"0\" d=\"M12.65625 13.125 L11.8125 13.3125 L11.0625 13.40625 L10.6875 13.40625 L10.78125 13.40625 L10.40625 13.03125 L10.78125 9.28125 L10.5 8.90625 L4.59375 8.90625 L4.59375 8.625 L4.59375 9.5625 L4.59375 9.5625 L4.96875 9.5625 L4.96875 9.5625\"/>\n",
       "<path fill=\"none\" stroke=\"black\" stroke-width=\".3\" stroke-opacity=\"1.0\" filling=\"0\" d=\"M12.65625 13.125 L11.8125 13.40625 L11.0625 13.40625 L10.6875 13.40625 L10.78125 13.40625 L10.6875 13.03125 L10.78125 9.28125 L10.59375 9.28125 L4.59375 8.90625 L4.59375 8.8125 L4.59375 9.5625 L4.59375 9.5625 L4.96875 9.5625 L4.96875 9.5625\"/>\n",
       "<path fill=\"none\" stroke=\"black\" stroke-width=\".3\" stroke-opacity=\"1.0\" filling=\"0\" d=\"M12.65625 12.75 L11.8125 13.40625 L11.0625 13.40625 L10.6875 13.40625 L10.78125 13.40625 L10.6875 13.03125 L10.78125 9.28125 L10.59375 9.28125 L4.59375 8.90625 L4.59375 8.90625 L4.59375 9.5625 L4.59375 9.5625 L4.96875 9.5625\"/>\n",
       "<path fill=\"none\" stroke=\"black\" stroke-width=\".3\" stroke-opacity=\"1.0\" filling=\"0\" d=\"M12.65625 12.75 L11.8125 13.40625 L11.0625 13.40625 L10.6875 13.40625 L10.78125 13.40625 L10.6875 13.03125 L10.78125 9.28125 L10.59375 9.28125 L4.59375 8.90625 L4.59375 8.90625 L4.59375 9.5625 L4.59375 9.5625 L4.96875 9.5625\"/>\n",
       "<path fill=\"none\" stroke=\"black\" stroke-width=\".3\" stroke-opacity=\"1.0\" filling=\"0\" d=\"M12.65625 12.75 L11.8125 13.40625 L11.0625 13.40625 L10.6875 13.40625 L10.78125 13.40625 L10.6875 13.03125 L10.78125 9.28125 L10.59375 9.28125 L4.59375 8.90625 L4.59375 8.90625 L4.59375 9.5625 L4.59375 9.5625 L4.96875 9.5625\"/>\n",
       "<path fill=\"none\" stroke=\"black\" stroke-width=\".3\" stroke-opacity=\"1.0\" filling=\"0\" d=\"M12.65625 12.75 L11.8125 13.3125 L11.0625 13.40625 L10.6875 13.40625 L11.0625 13.40625 L10.6875 13.03125 L10.78125 9.28125 L10.59375 9.28125 L4.59375 8.90625 L4.59375 8.90625 L4.59375 9.5625 L4.59375 9.5625 L4.96875 9.5625\"/></svg>"
      ],
      "text/plain": [
       "<IPython.core.display.SVG object>"
      ]
     },
     "metadata": {},
     "output_type": "display_data"
    },
    {
     "name": "stdout",
     "output_type": "stream",
     "text": [
      "temperature=48.0\n"
     ]
    },
    {
     "data": {
      "image/svg+xml": [
       "<svg xmlns=\"http://www.w3.org/2000/svg\" viewBox=\"0.0 0.0 24.0 24.0\" height=\"200px\" width=\"200px\"><path fill=\"none\" stroke=\"black\" stroke-width=\".3\" stroke-opacity=\"1.0\" filling=\"0\" d=\"M95.99999237060547 95.99999237060547 M95.99999237060547 95.99999237060547\"/>\n",
       "<path fill=\"none\" stroke=\"black\" stroke-width=\".3\" stroke-opacity=\"1.0\" filling=\"0\" d=\"M95.99999237060547 95.99999237060547 M95.99999237060547 95.99999237060547\"/>\n",
       "<path fill=\"none\" stroke=\"black\" stroke-width=\".3\" stroke-opacity=\"1.0\" filling=\"0\" d=\"M95.99999237060547 95.99999237060547 M95.99999237060547 95.99999237060547\"/>\n",
       "<path fill=\"none\" stroke=\"black\" stroke-width=\".3\" stroke-opacity=\"1.0\" filling=\"0\" d=\"M95.99999237060547 95.99999237060547 M95.99999237060547 95.99999237060547\"/>\n",
       "<path fill=\"none\" stroke=\"black\" stroke-width=\".3\" stroke-opacity=\"1.0\" filling=\"0\" d=\"M95.99999237060547 95.99999237060547 M95.99999237060547 95.99999237060547\"/>\n",
       "<path fill=\"none\" stroke=\"black\" stroke-width=\".3\" stroke-opacity=\"1.0\" filling=\"0\" d=\"M95.99999237060547 95.99999237060547 M95.99999237060547 95.99999237060547\"/>\n",
       "<path fill=\"none\" stroke=\"black\" stroke-width=\".3\" stroke-opacity=\"1.0\" filling=\"0\" d=\"M95.99999237060547 95.99999237060547 M95.99999237060547 95.99999237060547\"/>\n",
       "<path fill=\"none\" stroke=\"black\" stroke-width=\".3\" stroke-opacity=\"1.0\" filling=\"0\" d=\"M95.99999237060547 95.99999237060547 M95.99999237060547 95.99999237060547\"/></svg>"
      ],
      "text/plain": [
       "<IPython.core.display.SVG object>"
      ]
     },
     "metadata": {},
     "output_type": "display_data"
    },
    {
     "name": "stdout",
     "output_type": "stream",
     "text": [
      "temperature=49.0\n"
     ]
    },
    {
     "data": {
      "image/svg+xml": [
       "<svg xmlns=\"http://www.w3.org/2000/svg\" viewBox=\"0.0 0.0 24.0 24.0\" height=\"200px\" width=\"200px\"><path fill=\"none\" stroke=\"black\" stroke-width=\".3\" stroke-opacity=\"1.0\" filling=\"0\" d=\"M12.09375 18.46875 L10.96875 18.46875 L10.3125 17.8125 L9.5625 16.78125 L8.90625 14.25 L8.90625 10.6875 L9.5625 7.03125 L10.40625 6.28125 L11.8125 5.90625 L12.84375 6.0 L13.59375 7.125 L14.25 9.09375 L14.71875 11.8125 L14.71875 15.5625 L14.25 17.4375 L13.59375 18.09375 L12.65625 18.46875\"/>\n",
       "<path fill=\"none\" stroke=\"black\" stroke-width=\".3\" stroke-opacity=\"1.0\" filling=\"0\" d=\"M12.09375 18.46875 L10.96875 18.46875 L10.40625 18.09375 L9.5625 16.78125 L8.90625 14.25 L8.90625 10.6875 L9.5625 7.5 L10.59375 6.28125 L11.8125 5.90625 L12.84375 6.09375 L13.59375 7.5 L14.25 9.09375 L14.71875 11.8125 L14.71875 15.5625 L14.25 17.4375 L13.59375 18.09375 L12.65625 18.46875\"/>\n",
       "<path fill=\"none\" stroke=\"black\" stroke-width=\".3\" stroke-opacity=\"1.0\" filling=\"0\" d=\"M12.09375 18.46875 L10.96875 18.84375 L10.40625 18.09375 L9.5625 16.78125 L8.90625 14.71875 L8.90625 10.6875 L9.5625 7.5 L10.59375 6.28125 L11.8125 5.90625 L12.84375 6.09375 L13.59375 7.5 L14.25 9.09375 L14.71875 11.8125 L14.71875 15.5625 L14.25 17.4375 L13.59375 18.09375 L12.65625 18.46875\"/>\n",
       "<path fill=\"none\" stroke=\"black\" stroke-width=\".3\" stroke-opacity=\"1.0\" filling=\"0\" d=\"M12.09375 18.46875 L10.96875 18.84375 L10.40625 18.09375 L9.5625 16.78125 L8.90625 14.71875 L8.90625 10.6875 L9.5625 7.5 L10.59375 6.28125 L11.8125 5.90625 L12.84375 6.09375 L13.59375 7.5 L14.25 9.09375 L14.71875 12.0 L14.71875 15.5625 L14.25 17.4375 L13.59375 18.09375 L12.65625 18.46875\"/>\n",
       "<path fill=\"none\" stroke=\"black\" stroke-width=\".3\" stroke-opacity=\"1.0\" filling=\"0\" d=\"M12.09375 18.46875 L10.96875 18.84375 L10.40625 18.09375 L9.5625 16.78125 L8.90625 14.71875 L8.90625 10.6875 L9.5625 7.5 L10.59375 6.28125 L11.8125 6.0 L12.84375 6.28125 L13.59375 7.5 L14.25 9.09375 L14.71875 12.0 L14.71875 15.5625 L14.25 17.4375 L13.59375 18.09375 L12.65625 18.46875\"/>\n",
       "<path fill=\"none\" stroke=\"black\" stroke-width=\".3\" stroke-opacity=\"1.0\" filling=\"0\" d=\"M12.09375 18.46875 L10.96875 18.84375 L10.40625 18.09375 L9.5625 16.78125 L8.90625 14.71875 L8.90625 10.6875 L9.5625 7.5 L10.59375 6.28125 L11.8125 6.0 L12.84375 6.28125 L13.59375 7.5 L14.25 9.09375 L14.71875 12.0 L14.71875 15.84375 L14.25 17.4375 L13.59375 18.09375 L12.65625 18.84375\"/>\n",
       "<path fill=\"none\" stroke=\"black\" stroke-width=\".3\" stroke-opacity=\"1.0\" filling=\"0\" d=\"M12.09375 18.46875 L10.96875 18.84375 L10.40625 18.09375 L9.5625 16.78125 L8.90625 14.71875 L8.90625 10.6875 L9.5625 7.5 L10.59375 6.28125 L11.8125 6.0 L12.84375 6.28125 L13.59375 7.5 L14.25 9.09375 L14.71875 12.0 L14.71875 15.84375 L14.25 17.4375 L13.59375 18.09375 L12.65625 18.84375\"/>\n",
       "<path fill=\"none\" stroke=\"black\" stroke-width=\".3\" stroke-opacity=\"1.0\" filling=\"0\" d=\"M12.09375 18.46875 L10.96875 18.84375 L10.40625 18.09375 L9.5625 16.78125 L8.90625 14.71875 L8.90625 10.6875 L9.5625 7.5 L10.59375 6.28125 L11.8125 5.90625 L12.84375 6.28125 L13.59375 7.5 L14.25 9.09375 L14.71875 12.0 L14.71875 15.84375 L14.25 17.4375 L13.59375 18.09375 L12.65625 18.46875\"/></svg>"
      ],
      "text/plain": [
       "<IPython.core.display.SVG object>"
      ]
     },
     "metadata": {},
     "output_type": "display_data"
    }
   ],
   "source": [
    "NUM_SAMPLES = 50\n",
    "TEMPERATURE=5\n",
    "for i in range(NUM_SAMPLES):\n",
    "    temperature=(50/NUM_SAMPLES)*i\n",
    "    print(f\"{temperature=}\")\n",
    "    sample_unsymbol(with_points=False, with_handles=False, with_moves=False, temperature=temperature)"
   ]
  },
  {
   "cell_type": "code",
   "execution_count": 91,
   "metadata": {},
   "outputs": [
    {
     "name": "stdout",
     "output_type": "stream",
     "text": [
      "0.0\n",
      "0.13333333333333333\n",
      "0.26666666666666666\n",
      "0.4\n",
      "0.5333333333333333\n",
      "0.6666666666666666\n",
      "0.8\n",
      "0.9333333333333333\n",
      "1.0666666666666667\n",
      "1.2\n",
      "1.3333333333333333\n",
      "1.4666666666666666\n",
      "1.6\n",
      "1.7333333333333334\n",
      "1.8666666666666667\n",
      "2.0\n",
      "2.1333333333333333\n",
      "2.2666666666666666\n",
      "2.4\n",
      "2.533333333333333\n",
      "2.6666666666666665\n",
      "2.8\n",
      "2.933333333333333\n",
      "3.0666666666666664\n",
      "3.2\n",
      "3.3333333333333335\n",
      "3.466666666666667\n",
      "3.6\n",
      "3.7333333333333334\n",
      "3.8666666666666667\n",
      "4.0\n",
      "4.133333333333333\n",
      "4.266666666666667\n",
      "4.4\n",
      "4.533333333333333\n",
      "4.666666666666667\n",
      "4.8\n",
      "4.933333333333334\n",
      "5.066666666666666\n",
      "5.2\n",
      "5.333333333333333\n",
      "5.466666666666667\n",
      "5.6\n",
      "5.733333333333333\n",
      "5.866666666666666\n",
      "6.0\n",
      "6.133333333333333\n",
      "6.266666666666667\n",
      "6.4\n",
      "6.533333333333333\n",
      "6.666666666666667\n",
      "6.8\n",
      "6.933333333333334\n",
      "7.066666666666666\n",
      "7.2\n",
      "7.333333333333333\n",
      "7.466666666666667\n",
      "7.6\n",
      "7.733333333333333\n",
      "7.866666666666666\n",
      "8.0\n",
      "8.133333333333333\n",
      "8.266666666666666\n",
      "8.4\n",
      "8.533333333333333\n",
      "8.666666666666666\n",
      "8.8\n",
      "8.933333333333334\n",
      "9.066666666666666\n",
      "9.2\n",
      "9.333333333333334\n",
      "9.466666666666667\n",
      "9.6\n",
      "9.733333333333333\n",
      "9.866666666666667\n",
      "10.0\n",
      "10.133333333333333\n",
      "10.266666666666666\n",
      "10.4\n",
      "10.533333333333333\n",
      "10.666666666666666\n",
      "10.8\n",
      "10.933333333333334\n",
      "11.066666666666666\n",
      "11.2\n",
      "11.333333333333334\n",
      "11.466666666666667\n",
      "11.6\n",
      "11.733333333333333\n",
      "11.866666666666667\n",
      "12.0\n",
      "12.133333333333333\n",
      "12.266666666666666\n",
      "12.4\n",
      "12.533333333333333\n",
      "12.666666666666666\n",
      "12.8\n",
      "12.933333333333334\n",
      "13.066666666666666\n",
      "13.2\n",
      "13.333333333333334\n",
      "13.466666666666667\n",
      "13.6\n",
      "13.733333333333333\n",
      "13.866666666666667\n",
      "14.0\n",
      "14.133333333333333\n",
      "14.266666666666666\n",
      "14.4\n",
      "14.533333333333333\n",
      "14.666666666666666\n",
      "14.799999999999999\n",
      "14.933333333333334\n",
      "15.066666666666666\n",
      "15.2\n",
      "15.333333333333334\n",
      "15.466666666666667\n",
      "15.6\n",
      "15.733333333333333\n",
      "15.866666666666667\n",
      "16.0\n",
      "16.133333333333333\n",
      "16.266666666666666\n",
      "16.4\n",
      "16.53333333333333\n",
      "16.666666666666668\n",
      "16.8\n",
      "16.933333333333334\n",
      "17.066666666666666\n",
      "17.2\n",
      "17.333333333333332\n",
      "17.466666666666665\n",
      "17.6\n",
      "17.733333333333334\n",
      "17.866666666666667\n",
      "18.0\n",
      "18.133333333333333\n",
      "18.266666666666666\n",
      "18.4\n",
      "18.53333333333333\n",
      "18.666666666666668\n",
      "18.8\n",
      "18.933333333333334\n",
      "19.066666666666666\n",
      "19.2\n",
      "19.333333333333332\n",
      "19.466666666666665\n",
      "19.6\n",
      "19.733333333333334\n",
      "19.866666666666667\n"
     ]
    },
    {
     "data": {
      "image/svg+xml": [
       "<svg xmlns=\"http://www.w3.org/2000/svg\" viewBox=\"0.0 0.0 600.0 144.0\" height=\"200px\" width=\"200px\"><path fill=\"none\" stroke=\"black\" stroke-width=\".3\" stroke-opacity=\"1.0\" filling=\"0\" d=\"M12.5625 8.34375 L11.8125 8.34375 L11.15625 8.53125 L10.59375 8.90625\"/>\n",
       "<path fill=\"none\" stroke=\"black\" stroke-width=\".3\" stroke-opacity=\"1.0\" filling=\"0\" d=\"M12.1875 10.21875 L11.34375 11.53125\"/>\n",
       "<path fill=\"none\" stroke=\"black\" stroke-width=\".3\" stroke-opacity=\"1.0\" filling=\"0\" d=\"M16.40625 8.15625 L16.3125 8.34375 L15.84375 8.34375 L14.90625 8.90625 L13.6875 10.3125 L12.75 11.8125 L11.90625 13.03125 L11.34375 13.5\"/>\n",
       "<path fill=\"none\" stroke=\"black\" stroke-width=\".3\" stroke-opacity=\"1.0\" filling=\"0\" d=\"M9.75 16.5 L9.28125 16.78125 L8.71875 16.78125 L8.25 16.5\"/>\n",
       "<path fill=\"none\" stroke=\"black\" stroke-width=\".3\" stroke-opacity=\"1.0\" filling=\"0\" d=\"M7.874995708465576 7.874995708465576 M7.874995708465576 7.874995708465576\"/>\n",
       "<path fill=\"none\" stroke=\"black\" stroke-width=\".3\" stroke-opacity=\"1.0\" filling=\"0\" d=\"M7.874995708465576 7.874995708465576 M7.874995708465576 7.874995708465576\"/>\n",
       "<path fill=\"none\" stroke=\"black\" stroke-width=\".3\" stroke-opacity=\"1.0\" filling=\"0\" d=\"M7.874995708465576 7.874995708465576 M7.874995708465576 7.874995708465576\"/>\n",
       "<path fill=\"none\" stroke=\"black\" stroke-width=\".3\" stroke-opacity=\"1.0\" filling=\"0\" d=\"M7.874995708465576 7.874995708465576 M7.874995708465576 7.874995708465576\"/>\n",
       "<path fill=\"none\" stroke=\"black\" stroke-width=\".3\" stroke-opacity=\"1.0\" filling=\"0\" d=\"M36.375 8.25 L35.71875 8.34375 L35.0625 8.53125 L34.59375 9.0\"/>\n",
       "<path fill=\"none\" stroke=\"black\" stroke-width=\".3\" stroke-opacity=\"1.0\" filling=\"0\" d=\"M36.65625 9.28125 L35.53125 11.53125\"/>\n",
       "<path fill=\"none\" stroke=\"black\" stroke-width=\".3\" stroke-opacity=\"1.0\" filling=\"0\" d=\"M40.125 7.96875 L40.125 8.15625 L39.65625 8.15625 L38.8125 8.625 L37.6875 10.21875 L36.75 11.8125 L35.90625 12.75 L35.34375 13.5\"/>\n",
       "<path fill=\"none\" stroke=\"black\" stroke-width=\".3\" stroke-opacity=\"1.0\" filling=\"0\" d=\"M34.3125 16.40625 L33.84375 16.5 L33.28125 16.875 L32.90625 16.875 L32.53125 16.6875 L32.8125 16.6875 L33.1875 16.6875\"/>\n",
       "<path fill=\"none\" stroke=\"black\" stroke-width=\".3\" stroke-opacity=\"1.0\" filling=\"0\" d=\"M31.874996185302734 7.874995708465576 M31.874996185302734 7.874995708465576\"/>\n",
       "<path fill=\"none\" stroke=\"black\" stroke-width=\".3\" stroke-opacity=\"1.0\" filling=\"0\" d=\"M31.874996185302734 7.874995708465576 M31.874996185302734 7.874995708465576\"/>\n",
       "<path fill=\"none\" stroke=\"black\" stroke-width=\".3\" stroke-opacity=\"1.0\" filling=\"0\" d=\"M31.874996185302734 7.874995708465576 M31.874996185302734 7.874995708465576\"/>\n",
       "<path fill=\"none\" stroke=\"black\" stroke-width=\".3\" stroke-opacity=\"1.0\" filling=\"0\" d=\"M31.874996185302734 7.874995708465576 M31.874996185302734 7.874995708465576\"/>\n",
       "<path fill=\"none\" stroke=\"black\" stroke-width=\".3\" stroke-opacity=\"1.0\" filling=\"0\" d=\"M60.28125 8.25 L59.71875 8.15625 L58.96875 8.34375 L58.40625 8.71875\"/>\n",
       "<path fill=\"none\" stroke=\"black\" stroke-width=\".3\" stroke-opacity=\"1.0\" filling=\"0\" d=\"M60.9375 9.0 L59.625 11.15625\"/>\n",
       "<path fill=\"none\" stroke=\"black\" stroke-width=\".3\" stroke-opacity=\"1.0\" filling=\"0\" d=\"M64.6875 8.625 L64.6875 8.625 L64.125 9.0 L63.46875 9.65625 L62.0625 11.4375 L61.3125 12.75 L60.1875 13.5 L59.53125 13.6875\"/>\n",
       "<path fill=\"none\" stroke=\"black\" stroke-width=\".3\" stroke-opacity=\"1.0\" filling=\"0\" d=\"M56.71875 7.78125 L56.53125 16.96875 L56.4375 16.875 L56.25 16.875\"/>\n",
       "<path fill=\"none\" stroke=\"black\" stroke-width=\".3\" stroke-opacity=\"1.0\" filling=\"0\" d=\"M55.874996185302734 7.874995708465576 M55.874996185302734 7.874995708465576\"/>\n",
       "<path fill=\"none\" stroke=\"black\" stroke-width=\".3\" stroke-opacity=\"1.0\" filling=\"0\" d=\"M55.874996185302734 7.874995708465576 M55.874996185302734 7.874995708465576\"/>\n",
       "<path fill=\"none\" stroke=\"black\" stroke-width=\".3\" stroke-opacity=\"1.0\" filling=\"0\" d=\"M55.874996185302734 7.874995708465576 M55.874996185302734 7.874995708465576\"/>\n",
       "<path fill=\"none\" stroke=\"black\" stroke-width=\".3\" stroke-opacity=\"1.0\" filling=\"0\" d=\"M55.874996185302734 7.874995708465576 M55.874996185302734 7.874995708465576\"/>\n",
       "<path fill=\"none\" stroke=\"black\" stroke-width=\".3\" stroke-opacity=\"1.0\" filling=\"0\" d=\"M85.03125 9.09375 L84.375 9.1875 L83.71875 9.28125 L83.15625 9.28125 L82.5 9.5625\"/>\n",
       "<path fill=\"none\" stroke=\"black\" stroke-width=\".3\" stroke-opacity=\"1.0\" filling=\"0\" d=\"M84.65625 12.28125 L83.34375 12.28125\"/>\n",
       "<path fill=\"none\" stroke=\"black\" stroke-width=\".3\" stroke-opacity=\"1.0\" filling=\"0\" d=\"M88.40625 7.6875 L88.03125 7.96875 L87.84375 8.34375 L87.46875 9.0 L86.34375 11.25 L85.40625 12.375 L83.90625 13.5\"/>\n",
       "<path fill=\"none\" stroke=\"black\" stroke-width=\".3\" stroke-opacity=\"1.0\" filling=\"0\" d=\"M85.6875 14.4375 L84.9375 14.8125 L83.71875 14.8125\"/>\n",
       "<path fill=\"none\" stroke=\"black\" stroke-width=\".3\" stroke-opacity=\"1.0\" filling=\"0\" d=\"M79.87499237060547 7.874995708465576 M79.87499237060547 7.874995708465576\"/>\n",
       "<path fill=\"none\" stroke=\"black\" stroke-width=\".3\" stroke-opacity=\"1.0\" filling=\"0\" d=\"M79.87499237060547 7.874995708465576 M79.87499237060547 7.874995708465576\"/>\n",
       "<path fill=\"none\" stroke=\"black\" stroke-width=\".3\" stroke-opacity=\"1.0\" filling=\"0\" d=\"M79.87499237060547 7.874995708465576 M79.87499237060547 7.874995708465576\"/>\n",
       "<path fill=\"none\" stroke=\"black\" stroke-width=\".3\" stroke-opacity=\"1.0\" filling=\"0\" d=\"M79.87499237060547 7.874995708465576 M79.87499237060547 7.874995708465576\"/>\n",
       "<path fill=\"none\" stroke=\"black\" stroke-width=\".3\" stroke-opacity=\"1.0\" filling=\"0\" d=\"M109.875 8.25 L109.03125 8.34375 L107.8125 8.53125 L106.78125 9.0\"/>\n",
       "<path fill=\"none\" stroke=\"black\" stroke-width=\".3\" stroke-opacity=\"1.0\" filling=\"0\" d=\"M107.8125 7.78125 L106.6875 11.34375\"/>\n",
       "<path fill=\"none\" stroke=\"black\" stroke-width=\".3\" stroke-opacity=\"1.0\" filling=\"0\" d=\"M112.21875 7.6875 L111.9375 8.625 L111.46875 9.1875 L110.8125 10.21875 L109.78125 11.4375 L108.9375 12.75 L108.09375 14.34375 L107.0625 15.09375 L106.3125 15.28125 L105.9375 15.28125\"/>\n",
       "<path fill=\"none\" stroke=\"black\" stroke-width=\".3\" stroke-opacity=\"1.0\" filling=\"0\" d=\"M109.875 13.125 L109.6875 12.9375 L109.3125 15.28125 L108.5625 15.84375 L107.4375 16.125\"/>\n",
       "<path fill=\"none\" stroke=\"black\" stroke-width=\".3\" stroke-opacity=\"1.0\" filling=\"0\" d=\"M103.87499237060547 7.874995708465576 M103.87499237060547 7.874995708465576\"/>\n",
       "<path fill=\"none\" stroke=\"black\" stroke-width=\".3\" stroke-opacity=\"1.0\" filling=\"0\" d=\"M103.87499237060547 7.874995708465576 M103.87499237060547 7.874995708465576\"/>\n",
       "<path fill=\"none\" stroke=\"black\" stroke-width=\".3\" stroke-opacity=\"1.0\" filling=\"0\" d=\"M103.87499237060547 7.874995708465576 M103.87499237060547 7.874995708465576\"/>\n",
       "<path fill=\"none\" stroke=\"black\" stroke-width=\".3\" stroke-opacity=\"1.0\" filling=\"0\" d=\"M103.87499237060547 7.874995708465576 M103.87499237060547 7.874995708465576\"/>\n",
       "<path fill=\"none\" stroke=\"black\" stroke-width=\".3\" stroke-opacity=\"1.0\" filling=\"0\" d=\"M132.28125 8.8125 L131.53125 8.8125 L130.6875 8.8125 L130.03125 9.09375\"/>\n",
       "<path fill=\"none\" stroke=\"black\" stroke-width=\".3\" stroke-opacity=\"1.0\" filling=\"0\" d=\"M132.65625 7.40625 L132.1875 8.625\"/>\n",
       "<path fill=\"none\" stroke=\"black\" stroke-width=\".3\" stroke-opacity=\"1.0\" filling=\"0\" d=\"M135.46875 8.15625 L135.65625 8.34375 L135.46875 9.375 L135.09375 11.8125 L134.0625 13.59375 L133.3125 14.0625 L132.09375 14.0625 L131.0625 14.0625\"/>\n",
       "<path fill=\"none\" stroke=\"black\" stroke-width=\".3\" stroke-opacity=\"1.0\" filling=\"0\" d=\"M128.0625 16.40625 L127.875 17.0625 L127.875 16.875\"/>\n",
       "<path fill=\"none\" stroke=\"black\" stroke-width=\".3\" stroke-opacity=\"1.0\" filling=\"0\" d=\"M127.87499237060547 7.874995708465576 M127.87499237060547 7.874995708465576\"/>\n",
       "<path fill=\"none\" stroke=\"black\" stroke-width=\".3\" stroke-opacity=\"1.0\" filling=\"0\" d=\"M127.87499237060547 7.874995708465576 M127.87499237060547 7.874995708465576\"/>\n",
       "<path fill=\"none\" stroke=\"black\" stroke-width=\".3\" stroke-opacity=\"1.0\" filling=\"0\" d=\"M127.87499237060547 7.874995708465576 M127.87499237060547 7.874995708465576\"/>\n",
       "<path fill=\"none\" stroke=\"black\" stroke-width=\".3\" stroke-opacity=\"1.0\" filling=\"0\" d=\"M127.87499237060547 7.874995708465576 M127.87499237060547 7.874995708465576\"/>\n",
       "<path fill=\"none\" stroke=\"black\" stroke-width=\".3\" stroke-opacity=\"1.0\" filling=\"0\" d=\"M155.0625 7.3125 L155.0625 7.6875 L155.0625 8.53125\"/>\n",
       "<path fill=\"none\" stroke=\"black\" stroke-width=\".3\" stroke-opacity=\"1.0\" filling=\"0\" d=\"M156.65625 7.78125 L156.09375 8.625\"/>\n",
       "<path fill=\"none\" stroke=\"black\" stroke-width=\".3\" stroke-opacity=\"1.0\" filling=\"0\" d=\"M158.90625 9.09375 L158.8125 9.375 L158.25 9.375 L157.6875 9.46875 L156.28125 9.65625 L155.71875 10.21875 L155.0625 10.59375 L154.78125 11.625 L154.78125 12.75 L155.34375 13.78125 L155.34375 14.15625 L155.34375 14.90625 L155.34375 15.09375 L154.3125 15.375\"/>\n",
       "<path fill=\"none\" stroke=\"black\" stroke-width=\".3\" stroke-opacity=\"1.0\" filling=\"0\" d=\"M154.5 9.09375 L153.84375 15.46875 L153.28125 13.875\"/>\n",
       "<path fill=\"none\" stroke=\"black\" stroke-width=\".3\" stroke-opacity=\"1.0\" filling=\"0\" d=\"M151.875 7.874995708465576 M151.875 7.874995708465576\"/>\n",
       "<path fill=\"none\" stroke=\"black\" stroke-width=\".3\" stroke-opacity=\"1.0\" filling=\"0\" d=\"M151.875 7.874995708465576 M151.875 7.874995708465576\"/>\n",
       "<path fill=\"none\" stroke=\"black\" stroke-width=\".3\" stroke-opacity=\"1.0\" filling=\"0\" d=\"M151.875 7.874995708465576 M151.875 7.874995708465576\"/>\n",
       "<path fill=\"none\" stroke=\"black\" stroke-width=\".3\" stroke-opacity=\"1.0\" filling=\"0\" d=\"M151.875 7.874995708465576 M151.875 7.874995708465576\"/>\n",
       "<path fill=\"none\" stroke=\"black\" stroke-width=\".3\" stroke-opacity=\"1.0\" filling=\"0\" d=\"M181.5 8.625 L181.03125 9.0 L180.5625 9.46875\"/>\n",
       "<path fill=\"none\" stroke=\"black\" stroke-width=\".3\" stroke-opacity=\"1.0\" filling=\"0\" d=\"M183.46875 7.59375 L182.71875 8.4375 L182.15625 9.1875 L182.15625 10.6875\"/>\n",
       "<path fill=\"none\" stroke=\"black\" stroke-width=\".3\" stroke-opacity=\"1.0\" filling=\"0\" d=\"M183.28125 7.21875 L182.90625 11.8125 L182.15625 13.03125 L181.59375 15.28125\"/>\n",
       "<path fill=\"none\" stroke=\"black\" stroke-width=\".3\" stroke-opacity=\"1.0\" filling=\"0\" d=\"M177.84375 7.59375 L177.9375 7.59375 L178.40625 8.625 L178.78125 10.125 L181.6875 11.90625 L180.75 13.03125\"/>\n",
       "<path fill=\"none\" stroke=\"black\" stroke-width=\".3\" stroke-opacity=\"1.0\" filling=\"0\" d=\"M175.875 7.874995708465576 M175.875 7.874995708465576\"/>\n",
       "<path fill=\"none\" stroke=\"black\" stroke-width=\".3\" stroke-opacity=\"1.0\" filling=\"0\" d=\"M175.875 7.874995708465576 M175.875 7.874995708465576\"/>\n",
       "<path fill=\"none\" stroke=\"black\" stroke-width=\".3\" stroke-opacity=\"1.0\" filling=\"0\" d=\"M175.875 7.874995708465576 M175.875 7.874995708465576\"/>\n",
       "<path fill=\"none\" stroke=\"black\" stroke-width=\".3\" stroke-opacity=\"1.0\" filling=\"0\" d=\"M175.875 7.874995708465576 M175.875 7.874995708465576\"/>\n",
       "<path fill=\"none\" stroke=\"black\" stroke-width=\".3\" stroke-opacity=\"1.0\" filling=\"0\" d=\"M204.09375 9.1875 L204.0 9.1875 L203.71875 9.65625 L203.4375 10.125 L203.15625 10.6875\"/>\n",
       "<path fill=\"none\" stroke=\"black\" stroke-width=\".3\" stroke-opacity=\"1.0\" filling=\"0\" d=\"M202.03125 9.0 L201.28125 9.1875 L201.1875 9.46875\"/>\n",
       "<path fill=\"none\" stroke=\"black\" stroke-width=\".3\" stroke-opacity=\"1.0\" filling=\"0\" d=\"M209.53125 8.90625 L209.15625 9.75 L208.40625 11.15625 L207.65625 12.46875 L206.4375 13.125 L205.59375 13.03125 L204.46875 12.09375 L203.625 12.09375 L202.96875 11.25\"/>\n",
       "<path fill=\"none\" stroke=\"black\" stroke-width=\".3\" stroke-opacity=\"1.0\" filling=\"0\" d=\"M202.5 16.40625 L201.28125 16.96875 L200.15625 16.96875 L199.40625 16.6875 L198.84375 15.1875 L198.65625 13.03125 L199.03125 11.71875 L199.875 10.96875\"/>\n",
       "<path fill=\"none\" stroke=\"black\" stroke-width=\".3\" stroke-opacity=\"1.0\" filling=\"0\" d=\"M206.90625 16.96875 L205.3125 16.40625 L203.90625 16.125 L203.0625 15.46875\"/>\n",
       "<path fill=\"none\" stroke=\"black\" stroke-width=\".3\" stroke-opacity=\"1.0\" filling=\"0\" d=\"M199.875 7.874995708465576 M199.875 7.874995708465576\"/>\n",
       "<path fill=\"none\" stroke=\"black\" stroke-width=\".3\" stroke-opacity=\"1.0\" filling=\"0\" d=\"M199.875 7.874995708465576 M199.875 7.874995708465576\"/>\n",
       "<path fill=\"none\" stroke=\"black\" stroke-width=\".3\" stroke-opacity=\"1.0\" filling=\"0\" d=\"M199.875 7.874995708465576 M199.875 7.874995708465576\"/>\n",
       "<path fill=\"none\" stroke=\"black\" stroke-width=\".3\" stroke-opacity=\"1.0\" filling=\"0\" d=\"M227.71875 9.75 L225.65625 9.75\"/>\n",
       "<path fill=\"none\" stroke=\"black\" stroke-width=\".3\" stroke-opacity=\"1.0\" filling=\"0\" d=\"M227.8125 7.59375 L227.34375 11.15625\"/>\n",
       "<path fill=\"none\" stroke=\"black\" stroke-width=\".3\" stroke-opacity=\"1.0\" filling=\"0\" d=\"M226.78125 7.3125 L228.75 7.96875 L229.40625 9.09375 L229.6875 11.0625 L229.875 12.5625 L229.3125 13.96875 L228.1875 14.625 L226.875 14.8125 L226.3125 15.1875 L226.03125 14.8125\"/>\n",
       "<path fill=\"none\" stroke=\"black\" stroke-width=\".3\" stroke-opacity=\"1.0\" filling=\"0\" d=\"M223.875 7.874995708465576 M223.875 7.874995708465576\"/>\n",
       "<path fill=\"none\" stroke=\"black\" stroke-width=\".3\" stroke-opacity=\"1.0\" filling=\"0\" d=\"M223.875 7.874995708465576 M223.875 7.874995708465576\"/>\n",
       "<path fill=\"none\" stroke=\"black\" stroke-width=\".3\" stroke-opacity=\"1.0\" filling=\"0\" d=\"M223.875 7.874995708465576 M223.875 7.874995708465576\"/>\n",
       "<path fill=\"none\" stroke=\"black\" stroke-width=\".3\" stroke-opacity=\"1.0\" filling=\"0\" d=\"M223.875 7.874995708465576 M223.875 7.874995708465576\"/>\n",
       "<path fill=\"none\" stroke=\"black\" stroke-width=\".3\" stroke-opacity=\"1.0\" filling=\"0\" d=\"M223.875 7.874995708465576 M223.875 7.874995708465576\"/>\n",
       "<path fill=\"none\" stroke=\"black\" stroke-width=\".3\" stroke-opacity=\"1.0\" filling=\"0\" d=\"M249.75 8.8125 L249.75 8.71875 L249.65625 9.28125 L249.46875 10.875 L249.1875 11.90625\"/>\n",
       "<path fill=\"none\" stroke=\"black\" stroke-width=\".3\" stroke-opacity=\"1.0\" filling=\"0\" d=\"M254.15625 10.21875 L253.5 10.3125 L251.625 10.03125 L250.03125 10.03125 L249.46875 9.9375\"/>\n",
       "<path fill=\"none\" stroke=\"black\" stroke-width=\".3\" stroke-opacity=\"1.0\" filling=\"0\" d=\"M258.28125 17.34375 L258.28125 15.9375 L258.5625 13.125 L258.28125 11.8125 L257.53125 11.4375 L256.59375 11.8125 L256.03125 12.75 L255.46875 15.28125 L255.46875 16.78125 L255.46875 16.78125 L254.15625 17.25\"/>\n",
       "<path fill=\"none\" stroke=\"black\" stroke-width=\".3\" stroke-opacity=\"1.0\" filling=\"0\" d=\"M251.25 18.46875 L249.65625 18.5625 L248.71875 18.1875 L248.25 17.34375 L248.0625 13.03125 L248.25 11.90625\"/>\n",
       "<path fill=\"none\" stroke=\"black\" stroke-width=\".3\" stroke-opacity=\"1.0\" filling=\"0\" d=\"M247.875 7.874995708465576 M247.875 7.874995708465576\"/>\n",
       "<path fill=\"none\" stroke=\"black\" stroke-width=\".3\" stroke-opacity=\"1.0\" filling=\"0\" d=\"M247.875 7.874995708465576 M247.875 7.874995708465576\"/>\n",
       "<path fill=\"none\" stroke=\"black\" stroke-width=\".3\" stroke-opacity=\"1.0\" filling=\"0\" d=\"M247.875 7.874995708465576 M247.875 7.874995708465576\"/>\n",
       "<path fill=\"none\" stroke=\"black\" stroke-width=\".3\" stroke-opacity=\"1.0\" filling=\"0\" d=\"M247.875 7.874995708465576 M247.875 7.874995708465576\"/>\n",
       "<path fill=\"none\" stroke=\"black\" stroke-width=\".3\" stroke-opacity=\"1.0\" filling=\"0\" d=\"M279.0 7.96875 L278.15625 8.15625 L277.03125 8.625 L276.0 9.0\"/>\n",
       "<path fill=\"none\" stroke=\"black\" stroke-width=\".3\" stroke-opacity=\"1.0\" filling=\"0\" d=\"M273.5625 11.15625 L273.0 12.28125\"/>\n",
       "<path fill=\"none\" stroke=\"black\" stroke-width=\".3\" stroke-opacity=\"1.0\" filling=\"0\" d=\"M277.78125 6.9375 L277.40625 7.03125 L276.9375 7.6875 L275.90625 10.40625 L275.0625 12.1875 L274.40625 12.75\"/>\n",
       "<path fill=\"none\" stroke=\"black\" stroke-width=\".3\" stroke-opacity=\"1.0\" filling=\"0\" d=\"M274.875 13.21875 L274.21875 13.875 L273.75 14.71875\"/>\n",
       "<path fill=\"none\" stroke=\"black\" stroke-width=\".3\" stroke-opacity=\"1.0\" filling=\"0\" d=\"M271.875 7.874995708465576 M271.875 7.874995708465576\"/>\n",
       "<path fill=\"none\" stroke=\"black\" stroke-width=\".3\" stroke-opacity=\"1.0\" filling=\"0\" d=\"M271.875 7.874995708465576 M271.875 7.874995708465576\"/>\n",
       "<path fill=\"none\" stroke=\"black\" stroke-width=\".3\" stroke-opacity=\"1.0\" filling=\"0\" d=\"M271.875 7.874995708465576 M271.875 7.874995708465576\"/>\n",
       "<path fill=\"none\" stroke=\"black\" stroke-width=\".3\" stroke-opacity=\"1.0\" filling=\"0\" d=\"M271.875 7.874995708465576 M271.875 7.874995708465576\"/>\n",
       "<path fill=\"none\" stroke=\"black\" stroke-width=\".3\" stroke-opacity=\"1.0\" filling=\"0\" d=\"M302.15625 9.28125 L301.6875 9.46875 L301.03125 9.65625 L300.09375 9.75 L299.25 9.9375 L298.6875 9.9375\"/>\n",
       "<path fill=\"none\" stroke=\"black\" stroke-width=\".3\" stroke-opacity=\"1.0\" filling=\"0\" d=\"M301.6875 12.28125 L301.21875 13.03125 L300.84375 13.6875\"/>\n",
       "<path fill=\"none\" stroke=\"black\" stroke-width=\".3\" stroke-opacity=\"1.0\" filling=\"0\" d=\"M303.9375 9.9375 L303.9375 8.15625 L303.09375 7.6875 L301.78125 7.40625 L300.9375 7.5 L299.90625 7.96875 L299.15625 8.90625 L299.0625 10.03125 L299.0625 11.4375 L299.34375 12.5625 L299.34375 12.75 L299.34375 13.125\"/>\n",
       "<path fill=\"none\" stroke=\"black\" stroke-width=\".3\" stroke-opacity=\"1.0\" filling=\"0\" d=\"M301.125 14.0625 L300.84375 15.09375 L300.28125 15.84375 L299.71875 16.125\"/>\n",
       "<path fill=\"none\" stroke=\"black\" stroke-width=\".3\" stroke-opacity=\"1.0\" filling=\"0\" d=\"M295.875 7.874995708465576 M295.875 7.874995708465576\"/>\n",
       "<path fill=\"none\" stroke=\"black\" stroke-width=\".3\" stroke-opacity=\"1.0\" filling=\"0\" d=\"M295.875 7.874995708465576 M295.875 7.874995708465576\"/>\n",
       "<path fill=\"none\" stroke=\"black\" stroke-width=\".3\" stroke-opacity=\"1.0\" filling=\"0\" d=\"M295.875 7.874995708465576 M295.875 7.874995708465576\"/>\n",
       "<path fill=\"none\" stroke=\"black\" stroke-width=\".3\" stroke-opacity=\"1.0\" filling=\"0\" d=\"M295.875 7.874995708465576 M295.875 7.874995708465576\"/>\n",
       "<path fill=\"none\" stroke=\"black\" stroke-width=\".3\" stroke-opacity=\"1.0\" filling=\"0\" d=\"M322.125 7.3125 L322.6875 7.59375 L323.15625 8.90625 L323.34375 9.9375\"/>\n",
       "<path fill=\"none\" stroke=\"black\" stroke-width=\".3\" stroke-opacity=\"1.0\" filling=\"0\" d=\"M326.8125 12.09375 L326.625 10.21875 L326.625 8.625 L326.0625 8.0625 L325.21875 8.0625 L324.09375 8.34375 L323.25 9.84375 L322.3125 11.25 L321.46875 11.625\"/>\n",
       "<path fill=\"none\" stroke=\"black\" stroke-width=\".3\" stroke-opacity=\"1.0\" filling=\"0\" d=\"M325.875 11.25 L321.75 11.625\"/>\n",
       "<path fill=\"none\" stroke=\"black\" stroke-width=\".3\" stroke-opacity=\"1.0\" filling=\"0\" d=\"M320.0625 12.09375 L319.59375 15.46875 L319.40625 16.125\"/>\n",
       "<path fill=\"none\" stroke=\"black\" stroke-width=\".3\" stroke-opacity=\"1.0\" filling=\"0\" d=\"M327.0 11.25 L326.625 13.03125 L326.25 14.8125 L325.3125 15.46875 L323.90625 15.65625\"/>\n",
       "<path fill=\"none\" stroke=\"black\" stroke-width=\".3\" stroke-opacity=\"1.0\" filling=\"0\" d=\"M319.875 7.874995708465576 M319.875 7.874995708465576\"/>\n",
       "<path fill=\"none\" stroke=\"black\" stroke-width=\".3\" stroke-opacity=\"1.0\" filling=\"0\" d=\"M319.875 7.874995708465576 M319.875 7.874995708465576\"/>\n",
       "<path fill=\"none\" stroke=\"black\" stroke-width=\".3\" stroke-opacity=\"1.0\" filling=\"0\" d=\"M319.875 7.874995708465576 M319.875 7.874995708465576\"/>\n",
       "<path fill=\"none\" stroke=\"black\" stroke-width=\".3\" stroke-opacity=\"1.0\" filling=\"0\" d=\"M345.84375 9.1875 L346.6875 9.28125 L347.71875 9.9375 L348.65625 11.90625 L349.03125 13.40625\"/>\n",
       "<path fill=\"none\" stroke=\"black\" stroke-width=\".3\" stroke-opacity=\"1.0\" filling=\"0\" d=\"M345.84375 10.6875 L344.34375 10.6875 L343.6875 10.6875\"/>\n",
       "<path fill=\"none\" stroke=\"black\" stroke-width=\".3\" stroke-opacity=\"1.0\" filling=\"0\" d=\"M350.0625 16.96875 L350.0625 17.34375\"/>\n",
       "<path fill=\"none\" stroke=\"black\" stroke-width=\".3\" stroke-opacity=\"1.0\" filling=\"0\" d=\"M351.375 17.34375 L351.46875 17.8125 L351.1875 13.875 L351.1875 17.4375 L350.71875 17.53125 L349.6875 17.53125 L348.84375 17.25\"/>\n",
       "<path fill=\"none\" stroke=\"black\" stroke-width=\".3\" stroke-opacity=\"1.0\" filling=\"0\" d=\"M350.4375 9.5625 L350.4375 12.1875 L350.15625 14.0625 L349.59375 16.5 L348.46875 17.90625 L347.90625 18.28125 L346.875 18.28125\"/>\n",
       "<path fill=\"none\" stroke=\"black\" stroke-width=\".3\" stroke-opacity=\"1.0\" filling=\"0\" d=\"M343.875 7.874995708465576 M343.875 7.874995708465576\"/>\n",
       "<path fill=\"none\" stroke=\"black\" stroke-width=\".3\" stroke-opacity=\"1.0\" filling=\"0\" d=\"M343.875 7.874995708465576 M343.875 7.874995708465576\"/>\n",
       "<path fill=\"none\" stroke=\"black\" stroke-width=\".3\" stroke-opacity=\"1.0\" filling=\"0\" d=\"M343.875 7.874995708465576 M343.875 7.874995708465576\"/>\n",
       "<path fill=\"none\" stroke=\"black\" stroke-width=\".3\" stroke-opacity=\"1.0\" filling=\"0\" d=\"M371.8125 9.1875 L372.0 10.59375\"/>\n",
       "<path fill=\"none\" stroke=\"black\" stroke-width=\".3\" stroke-opacity=\"1.0\" filling=\"0\" d=\"M373.5 10.21875 L373.21875 12.5625 L373.21875 14.0625\"/>\n",
       "<path fill=\"none\" stroke=\"black\" stroke-width=\".3\" stroke-opacity=\"1.0\" filling=\"0\" d=\"M374.0625 9.75 L373.96875 10.6875 L373.78125 10.96875 L373.5 10.59375 L373.125 10.78125 L372.9375 11.34375 L372.75 12.09375 L372.75 13.59375 L372.75 15.09375 L372.28125 15.46875\"/>\n",
       "<path fill=\"none\" stroke=\"black\" stroke-width=\".3\" stroke-opacity=\"1.0\" filling=\"0\" d=\"M371.71875 17.34375 L371.0625 17.71875 L370.21875 17.90625 L369.46875 17.71875 L369.28125 17.53125 L369.1875 13.03125\"/>\n",
       "<path fill=\"none\" stroke=\"black\" stroke-width=\".3\" stroke-opacity=\"1.0\" filling=\"0\" d=\"M376.03125 17.4375 L375.46875 17.25 L374.4375 17.15625 L373.59375 16.40625\"/>\n",
       "<path fill=\"none\" stroke=\"black\" stroke-width=\".3\" stroke-opacity=\"1.0\" filling=\"0\" d=\"M367.875 7.874995708465576 M367.875 7.874995708465576\"/>\n",
       "<path fill=\"none\" stroke=\"black\" stroke-width=\".3\" stroke-opacity=\"1.0\" filling=\"0\" d=\"M367.875 7.874995708465576 M367.875 7.874995708465576\"/>\n",
       "<path fill=\"none\" stroke=\"black\" stroke-width=\".3\" stroke-opacity=\"1.0\" filling=\"0\" d=\"M367.875 7.874995708465576 M367.875 7.874995708465576\"/>\n",
       "<path fill=\"none\" stroke=\"black\" stroke-width=\".3\" stroke-opacity=\"1.0\" filling=\"0\" d=\"M396.84375 7.875 L396.75 7.40625 L395.90625 7.03125 L395.34375 6.5625 L394.40625 6.1875 L393.65625 6.5625 L392.8125 7.3125 L392.8125 7.78125\"/>\n",
       "<path fill=\"none\" stroke=\"black\" stroke-width=\".3\" stroke-opacity=\"1.0\" filling=\"0\" d=\"M397.40625 11.71875 L396.5625 10.40625 L396.1875 9.1875 L395.8125 8.8125 L395.71875 9.0 L395.25 9.84375 L394.6875 11.25 L394.40625 11.625 L394.3125 12.09375\"/>\n",
       "<path fill=\"none\" stroke=\"black\" stroke-width=\".3\" stroke-opacity=\"1.0\" filling=\"0\" d=\"M392.53125 7.3125 L393.84375 7.3125 L396.1875 7.96875 L396.9375 8.8125 L397.03125 10.40625 L396.46875 11.25\"/>\n",
       "<path fill=\"none\" stroke=\"black\" stroke-width=\".3\" stroke-opacity=\"1.0\" filling=\"0\" d=\"M398.15625 15.9375 L397.3125 15.28125 L395.0625 15.28125 L394.125 15.0 L393.9375 12.46875\"/>\n",
       "<path fill=\"none\" stroke=\"black\" stroke-width=\".3\" stroke-opacity=\"1.0\" filling=\"0\" d=\"M391.875 7.874995708465576 M391.875 7.874995708465576\"/>\n",
       "<path fill=\"none\" stroke=\"black\" stroke-width=\".3\" stroke-opacity=\"1.0\" filling=\"0\" d=\"M391.875 7.874995708465576 M391.875 7.874995708465576\"/>\n",
       "<path fill=\"none\" stroke=\"black\" stroke-width=\".3\" stroke-opacity=\"1.0\" filling=\"0\" d=\"M391.875 7.874995708465576 M391.875 7.874995708465576\"/>\n",
       "<path fill=\"none\" stroke=\"black\" stroke-width=\".3\" stroke-opacity=\"1.0\" filling=\"0\" d=\"M391.875 7.874995708465576 M391.875 7.874995708465576\"/>\n",
       "<path fill=\"none\" stroke=\"black\" stroke-width=\".3\" stroke-opacity=\"1.0\" filling=\"0\" d=\"M418.5 8.53125 L419.34375 8.15625 L420.65625 7.78125 L421.875 8.15625 L422.53125 9.09375 L422.625 10.3125 L422.25 11.25\"/>\n",
       "<path fill=\"none\" stroke=\"black\" stroke-width=\".3\" stroke-opacity=\"1.0\" filling=\"0\" d=\"M420.1875 7.03125 L419.53125 7.6875 L418.5 7.875 L417.75 8.53125 L417.0 9.5625\"/>\n",
       "<path fill=\"none\" stroke=\"black\" stroke-width=\".3\" stroke-opacity=\"1.0\" filling=\"0\" d=\"M421.875 12.09375 L421.21875 12.75\"/>\n",
       "<path fill=\"none\" stroke=\"black\" stroke-width=\".3\" stroke-opacity=\"1.0\" filling=\"0\" d=\"M420.84375 13.3125 L420.5625 15.28125 L419.71875 16.125 L418.03125 16.6875 L416.0625 16.6875 L415.125 16.59375\"/>\n",
       "<path fill=\"none\" stroke=\"black\" stroke-width=\".3\" stroke-opacity=\"1.0\" filling=\"0\" d=\"M415.875 7.874995708465576 M415.875 7.874995708465576\"/>\n",
       "<path fill=\"none\" stroke=\"black\" stroke-width=\".3\" stroke-opacity=\"1.0\" filling=\"0\" d=\"M415.875 7.874995708465576 M415.875 7.874995708465576\"/>\n",
       "<path fill=\"none\" stroke=\"black\" stroke-width=\".3\" stroke-opacity=\"1.0\" filling=\"0\" d=\"M415.875 7.874995708465576 M415.875 7.874995708465576\"/>\n",
       "<path fill=\"none\" stroke=\"black\" stroke-width=\".3\" stroke-opacity=\"1.0\" filling=\"0\" d=\"M415.875 7.874995708465576 M415.875 7.874995708465576\"/>\n",
       "<path fill=\"none\" stroke=\"black\" stroke-width=\".3\" stroke-opacity=\"1.0\" filling=\"0\" d=\"M444.75 10.3125 L443.90625 10.875 L442.6875 11.53125\"/>\n",
       "<path fill=\"none\" stroke=\"black\" stroke-width=\".3\" stroke-opacity=\"1.0\" filling=\"0\" d=\"M445.96875 7.6875 L445.96875 7.875 L445.5 9.28125\"/>\n",
       "<path fill=\"none\" stroke=\"black\" stroke-width=\".3\" stroke-opacity=\"1.0\" filling=\"0\" d=\"M447.0 9.28125 L446.8125 11.625 L446.25 13.5\"/>\n",
       "<path fill=\"none\" stroke=\"black\" stroke-width=\".3\" stroke-opacity=\"1.0\" filling=\"0\" d=\"M447.375 9.28125 L447.375 11.90625 L447.375 14.34375 L447.1875 16.78125 L445.96875 17.71875 L444.75 17.90625 L442.21875 17.90625 L440.8125 17.625 L440.0625 16.78125 L439.875 15.46875\"/>\n",
       "<path fill=\"none\" stroke=\"black\" stroke-width=\".3\" stroke-opacity=\"1.0\" filling=\"0\" d=\"M446.625 9.28125 L446.25 10.125 L445.78125 13.21875 L444.84375 16.40625\"/>\n",
       "<path fill=\"none\" stroke=\"black\" stroke-width=\".3\" stroke-opacity=\"1.0\" filling=\"0\" d=\"M439.875 7.874995708465576 M439.875 7.874995708465576\"/>\n",
       "<path fill=\"none\" stroke=\"black\" stroke-width=\".3\" stroke-opacity=\"1.0\" filling=\"0\" d=\"M439.875 7.874995708465576 M439.875 7.874995708465576\"/>\n",
       "<path fill=\"none\" stroke=\"black\" stroke-width=\".3\" stroke-opacity=\"1.0\" filling=\"0\" d=\"M439.875 7.874995708465576 M439.875 7.874995708465576\"/>\n",
       "<path fill=\"none\" stroke=\"black\" stroke-width=\".3\" stroke-opacity=\"1.0\" filling=\"0\" d=\"M464.4375 7.5 L464.15625 8.4375\"/>\n",
       "<path fill=\"none\" stroke=\"black\" stroke-width=\".3\" stroke-opacity=\"1.0\" filling=\"0\" d=\"M465.9375 7.21875 L468.75 7.03125 L470.90625 8.0625 L471.75 9.5625 L471.65625 11.25 L471.09375 12.0 L469.6875 12.46875\"/>\n",
       "<path fill=\"none\" stroke=\"black\" stroke-width=\".3\" stroke-opacity=\"1.0\" filling=\"0\" d=\"M467.625 12.65625 L465.9375 13.5\"/>\n",
       "<path fill=\"none\" stroke=\"black\" stroke-width=\".3\" stroke-opacity=\"1.0\" filling=\"0\" d=\"M469.5 17.625 L467.15625 18.375 L464.90625 18.09375 L463.875 17.4375 L463.03125 16.5 L462.5625 15.0 L462.84375 13.5 L463.3125 12.375 L464.4375 11.71875 L465.9375 11.34375 L468.1875 10.96875\"/>\n",
       "<path fill=\"none\" stroke=\"black\" stroke-width=\".3\" stroke-opacity=\"1.0\" filling=\"0\" d=\"M463.875 7.874995708465576 M463.875 7.874995708465576\"/>\n",
       "<path fill=\"none\" stroke=\"black\" stroke-width=\".3\" stroke-opacity=\"1.0\" filling=\"0\" d=\"M463.875 7.874995708465576 M463.875 7.874995708465576\"/>\n",
       "<path fill=\"none\" stroke=\"black\" stroke-width=\".3\" stroke-opacity=\"1.0\" filling=\"0\" d=\"M463.875 7.874995708465576 M463.875 7.874995708465576\"/>\n",
       "<path fill=\"none\" stroke=\"black\" stroke-width=\".3\" stroke-opacity=\"1.0\" filling=\"0\" d=\"M463.875 7.874995708465576 M463.875 7.874995708465576\"/>\n",
       "<path fill=\"none\" stroke=\"black\" stroke-width=\".3\" stroke-opacity=\"1.0\" filling=\"0\" d=\"M494.0625 7.3125 L493.96875 7.40625 L493.5 7.59375 L493.03125 7.96875 L492.1875 7.6875 L491.15625 7.875 L490.40625 8.0625 L490.125 8.0625 L490.125 8.625 L490.5 8.90625 L491.34375 10.3125 L490.875 10.3125 L489.75 11.15625 L488.15625 11.8125 L487.6875 11.8125 L487.125 11.8125 L486.5625 11.8125 L486.5625 8.8125 L486.5625 8.8125\"/>\n",
       "<path fill=\"none\" stroke=\"black\" stroke-width=\".3\" stroke-opacity=\"1.0\" filling=\"0\" d=\"M489.75 10.6875 L490.21875 11.4375 L490.40625 12.375 L490.6875 13.21875\"/>\n",
       "<path fill=\"none\" stroke=\"black\" stroke-width=\".3\" stroke-opacity=\"1.0\" filling=\"0\" d=\"M489.75 11.53125 L489.75 13.59375\"/>\n",
       "<path fill=\"none\" stroke=\"black\" stroke-width=\".3\" stroke-opacity=\"1.0\" filling=\"0\" d=\"M489.46875 11.8125 L490.03125 13.5\"/>\n",
       "<path fill=\"none\" stroke=\"black\" stroke-width=\".3\" stroke-opacity=\"1.0\" filling=\"0\" d=\"M487.875 7.874995708465576 M487.875 7.874995708465576\"/>\n",
       "<path fill=\"none\" stroke=\"black\" stroke-width=\".3\" stroke-opacity=\"1.0\" filling=\"0\" d=\"M487.875 7.874995708465576 M487.875 7.874995708465576\"/>\n",
       "<path fill=\"none\" stroke=\"black\" stroke-width=\".3\" stroke-opacity=\"1.0\" filling=\"0\" d=\"M487.875 7.874995708465576 M487.875 7.874995708465576\"/>\n",
       "<path fill=\"none\" stroke=\"black\" stroke-width=\".3\" stroke-opacity=\"1.0\" filling=\"0\" d=\"M487.875 7.874995708465576 M487.875 7.874995708465576\"/>\n",
       "<path fill=\"none\" stroke=\"black\" stroke-width=\".3\" stroke-opacity=\"1.0\" filling=\"0\" d=\"M512.4375 6.28125 L512.8125 6.28125 L513.5625 8.15625 L513.65625 10.96875\"/>\n",
       "<path fill=\"none\" stroke=\"black\" stroke-width=\".3\" stroke-opacity=\"1.0\" filling=\"0\" d=\"M518.8125 13.78125 L517.875 15.65625\"/>\n",
       "<path fill=\"none\" stroke=\"black\" stroke-width=\".3\" stroke-opacity=\"1.0\" filling=\"0\" d=\"M517.96875 16.40625 L517.96875 15.9375 L517.3125 13.5 L516.75 12.46875 L515.71875 11.90625 L514.59375 12.46875 L513.0 14.0625 L512.34375 15.65625 L512.0625 16.40625\"/>\n",
       "<path fill=\"none\" stroke=\"black\" stroke-width=\".3\" stroke-opacity=\"1.0\" filling=\"0\" d=\"M515.0625 14.15625 L515.34375 14.625 L516.375 16.6875 L517.125 17.8125 L517.78125 18.28125\"/>\n",
       "<path fill=\"none\" stroke=\"black\" stroke-width=\".3\" stroke-opacity=\"1.0\" filling=\"0\" d=\"M511.875 7.874995708465576 M511.875 7.874995708465576\"/>\n",
       "<path fill=\"none\" stroke=\"black\" stroke-width=\".3\" stroke-opacity=\"1.0\" filling=\"0\" d=\"M511.875 7.874995708465576 M511.875 7.874995708465576\"/>\n",
       "<path fill=\"none\" stroke=\"black\" stroke-width=\".3\" stroke-opacity=\"1.0\" filling=\"0\" d=\"M511.875 7.874995708465576 M511.875 7.874995708465576\"/>\n",
       "<path fill=\"none\" stroke=\"black\" stroke-width=\".3\" stroke-opacity=\"1.0\" filling=\"0\" d=\"M511.875 7.874995708465576 M511.875 7.874995708465576\"/>\n",
       "<path fill=\"none\" stroke=\"black\" stroke-width=\".3\" stroke-opacity=\"1.0\" filling=\"0\" d=\"M538.875 6.0 L537.375 5.8125 L535.125 5.8125 L534.46875 6.0\"/>\n",
       "<path fill=\"none\" stroke=\"black\" stroke-width=\".3\" stroke-opacity=\"1.0\" filling=\"0\" d=\"M543.375 6.65625 L541.21875 7.03125\"/>\n",
       "<path fill=\"none\" stroke=\"black\" stroke-width=\".3\" stroke-opacity=\"1.0\" filling=\"0\" d=\"M541.96875 7.59375 L542.34375 10.96875 L541.5 14.71875 L540.28125 15.84375 L539.0625 15.9375 L538.03125 15.5625 L537.375 15.0 L537.09375 14.15625 L537.375 13.5 L537.46875 12.1875 L537.65625 10.96875 L538.5 9.375 L539.4375 8.0625 L540.28125 7.59375 L541.21875 7.21875 L541.40625 6.84375 L542.34375 6.84375\"/>\n",
       "<path fill=\"none\" stroke=\"black\" stroke-width=\".3\" stroke-opacity=\"1.0\" filling=\"0\" d=\"M538.6875 6.84375 L538.3125 7.59375\"/>\n",
       "<path fill=\"none\" stroke=\"black\" stroke-width=\".3\" stroke-opacity=\"1.0\" filling=\"0\" d=\"M535.875 7.874995708465576 M535.875 7.874995708465576\"/>\n",
       "<path fill=\"none\" stroke=\"black\" stroke-width=\".3\" stroke-opacity=\"1.0\" filling=\"0\" d=\"M535.875 7.874995708465576 M535.875 7.874995708465576\"/>\n",
       "<path fill=\"none\" stroke=\"black\" stroke-width=\".3\" stroke-opacity=\"1.0\" filling=\"0\" d=\"M535.875 7.874995708465576 M535.875 7.874995708465576\"/>\n",
       "<path fill=\"none\" stroke=\"black\" stroke-width=\".3\" stroke-opacity=\"1.0\" filling=\"0\" d=\"M535.875 7.874995708465576 M535.875 7.874995708465576\"/>\n",
       "<path fill=\"none\" stroke=\"black\" stroke-width=\".3\" stroke-opacity=\"1.0\" filling=\"0\" d=\"M565.6875 12.28125 L565.6875 11.71875 L565.5 11.15625 L564.9375 10.6875 L564.1875 10.5 L563.4375 10.59375 L562.78125 11.0625\"/>\n",
       "<path fill=\"none\" stroke=\"black\" stroke-width=\".3\" stroke-opacity=\"1.0\" filling=\"0\" d=\"M565.125 10.03125 L564.9375 12.84375\"/>\n",
       "<path fill=\"none\" stroke=\"black\" stroke-width=\".3\" stroke-opacity=\"1.0\" filling=\"0\" d=\"M563.0625 15.0 L562.03125 15.5625\"/>\n",
       "<path fill=\"none\" stroke=\"black\" stroke-width=\".3\" stroke-opacity=\"1.0\" filling=\"0\" d=\"M561.75 12.46875 L563.4375 11.25 L566.4375 11.34375 L567.375 12.09375 L567.46875 14.15625 L566.90625 16.03125\"/>\n",
       "<path fill=\"none\" stroke=\"black\" stroke-width=\".3\" stroke-opacity=\"1.0\" filling=\"0\" d=\"M559.875 7.874995708465576 M559.875 7.874995708465576\"/>\n",
       "<path fill=\"none\" stroke=\"black\" stroke-width=\".3\" stroke-opacity=\"1.0\" filling=\"0\" d=\"M559.875 7.874995708465576 M559.875 7.874995708465576\"/>\n",
       "<path fill=\"none\" stroke=\"black\" stroke-width=\".3\" stroke-opacity=\"1.0\" filling=\"0\" d=\"M559.875 7.874995708465576 M559.875 7.874995708465576\"/>\n",
       "<path fill=\"none\" stroke=\"black\" stroke-width=\".3\" stroke-opacity=\"1.0\" filling=\"0\" d=\"M559.875 7.874995708465576 M559.875 7.874995708465576\"/>\n",
       "<path fill=\"none\" stroke=\"black\" stroke-width=\".3\" stroke-opacity=\"1.0\" filling=\"0\" d=\"M587.53125 9.75 L587.25 10.21875 L586.78125 11.0625\"/>\n",
       "<path fill=\"none\" stroke=\"black\" stroke-width=\".3\" stroke-opacity=\"1.0\" filling=\"0\" d=\"M587.0625 11.4375 L586.59375 11.90625 L586.5 11.625 L586.96875 11.53125 L588.375 11.53125\"/>\n",
       "<path fill=\"none\" stroke=\"black\" stroke-width=\".3\" stroke-opacity=\"1.0\" filling=\"0\" d=\"M587.53125 10.03125 L587.90625 10.96875 L588.65625 12.09375 L589.96875 13.5 L592.21875 15.65625 L592.03125 17.25 L592.03125 17.90625 L592.03125 18.28125 L585.9375 18.28125 L585.0 17.625 L585.0 15.9375\"/>\n",
       "<path fill=\"none\" stroke=\"black\" stroke-width=\".3\" stroke-opacity=\"1.0\" filling=\"0\" d=\"M583.875 7.874995708465576 M583.875 7.874995708465576\"/>\n",
       "<path fill=\"none\" stroke=\"black\" stroke-width=\".3\" stroke-opacity=\"1.0\" filling=\"0\" d=\"M583.875 7.874995708465576 M583.875 7.874995708465576\"/>\n",
       "<path fill=\"none\" stroke=\"black\" stroke-width=\".3\" stroke-opacity=\"1.0\" filling=\"0\" d=\"M583.875 7.874995708465576 M583.875 7.874995708465576\"/>\n",
       "<path fill=\"none\" stroke=\"black\" stroke-width=\".3\" stroke-opacity=\"1.0\" filling=\"0\" d=\"M583.875 7.874995708465576 M583.875 7.874995708465576\"/>\n",
       "<path fill=\"none\" stroke=\"black\" stroke-width=\".3\" stroke-opacity=\"1.0\" filling=\"0\" d=\"M583.875 7.874995708465576 M583.875 7.874995708465576\"/>\n",
       "<path fill=\"none\" stroke=\"black\" stroke-width=\".3\" stroke-opacity=\"1.0\" filling=\"0\" d=\"M15.0 33.75 L14.25 34.5 L12.9375 36.46875 L10.6875 37.3125 L9.46875 37.5 L7.21875 37.5 L6.1875 36.46875 L5.625 35.0625 L5.625 33.5625 L5.8125 31.59375 L6.75 30.09375 L8.25 29.625 L10.5 29.4375 L12.46875 29.15625 L13.40625 29.34375 L13.96875 29.53125\"/>\n",
       "<path fill=\"none\" stroke=\"black\" stroke-width=\".3\" stroke-opacity=\"1.0\" filling=\"0\" d=\"M10.6875 28.6875 L10.5 33.5625\"/>\n",
       "<path fill=\"none\" stroke=\"black\" stroke-width=\".3\" stroke-opacity=\"1.0\" filling=\"0\" d=\"M15.28125 28.40625 L15.1875 28.21875 L15.46875 33.5625 L15.84375 33.5625\"/>\n",
       "<path fill=\"none\" stroke=\"black\" stroke-width=\".3\" stroke-opacity=\"1.0\" filling=\"0\" d=\"M10.03125 34.03125 L10.03125 35.625 L8.625 37.125 L6.84375 37.875 L5.4375 37.6875 L4.6875 37.03125 L4.6875 35.53125 L4.5 34.03125 L4.5 33.28125 L5.25 31.96875 L5.25 28.59375 L7.875 28.59375\"/>\n",
       "<path fill=\"none\" stroke=\"black\" stroke-width=\".3\" stroke-opacity=\"1.0\" filling=\"0\" d=\"M14.25 34.96875 L13.59375 36.75\"/>\n",
       "<path fill=\"none\" stroke=\"black\" stroke-width=\".3\" stroke-opacity=\"1.0\" filling=\"0\" d=\"M7.874995708465576 31.874996185302734 M7.874995708465576 31.874996185302734\"/>\n",
       "<path fill=\"none\" stroke=\"black\" stroke-width=\".3\" stroke-opacity=\"1.0\" filling=\"0\" d=\"M7.874995708465576 31.874996185302734 M7.874995708465576 31.874996185302734\"/>\n",
       "<path fill=\"none\" stroke=\"black\" stroke-width=\".3\" stroke-opacity=\"1.0\" filling=\"0\" d=\"M7.874995708465576 31.874996185302734 M7.874995708465576 31.874996185302734\"/>\n",
       "<path fill=\"none\" stroke=\"black\" stroke-width=\".3\" stroke-opacity=\"1.0\" filling=\"0\" d=\"M35.53125 33.09375 L31.125 33.1875\"/>\n",
       "<path fill=\"none\" stroke=\"black\" stroke-width=\".3\" stroke-opacity=\"1.0\" filling=\"0\" d=\"M40.96875 34.21875 L39.46875 34.21875 L36.375 34.21875\"/>\n",
       "<path fill=\"none\" stroke=\"black\" stroke-width=\".3\" stroke-opacity=\"1.0\" filling=\"0\" d=\"M36.65625 37.875 L37.875 37.875 L39.1875 37.875 L40.21875 38.15625 L40.21875 38.8125\"/>\n",
       "<path fill=\"none\" stroke=\"black\" stroke-width=\".3\" stroke-opacity=\"1.0\" filling=\"0\" d=\"M37.875 39.0 L38.25 39.46875 L39.1875 39.65625 L39.84375 40.03125 L39.84375 40.40625\"/>\n",
       "<path fill=\"none\" stroke=\"black\" stroke-width=\".3\" stroke-opacity=\"1.0\" filling=\"0\" d=\"M35.90625 38.34375 L34.5 40.03125\"/>\n",
       "<path fill=\"none\" stroke=\"black\" stroke-width=\".3\" stroke-opacity=\"1.0\" filling=\"0\" d=\"M31.874996185302734 31.874996185302734 M31.874996185302734 31.874996185302734\"/>\n",
       "<path fill=\"none\" stroke=\"black\" stroke-width=\".3\" stroke-opacity=\"1.0\" filling=\"0\" d=\"M31.874996185302734 31.874996185302734 M31.874996185302734 31.874996185302734\"/>\n",
       "<path fill=\"none\" stroke=\"black\" stroke-width=\".3\" stroke-opacity=\"1.0\" filling=\"0\" d=\"M31.874996185302734 31.874996185302734 M31.874996185302734 31.874996185302734\"/>\n",
       "<path fill=\"none\" stroke=\"black\" stroke-width=\".3\" stroke-opacity=\"1.0\" filling=\"0\" d=\"M62.15625 35.71875 L60.9375 35.90625 L59.71875 35.53125 L58.96875 34.875 L58.78125 33.84375 L59.15625 33.0 L60.28125 32.34375 L61.3125 31.96875 L62.15625 32.0625 L62.8125 32.625 L62.8125 33.84375 L62.8125 34.875 L62.53125 35.8125 L61.96875 36.375\"/>\n",
       "<path fill=\"none\" stroke=\"black\" stroke-width=\".3\" stroke-opacity=\"1.0\" filling=\"0\" d=\"M61.125 30.46875 L61.125 30.28125 L60.84375 31.59375 L60.46875 33.65625\"/>\n",
       "<path fill=\"none\" stroke=\"black\" stroke-width=\".3\" stroke-opacity=\"1.0\" filling=\"0\" d=\"M55.874996185302734 31.874996185302734 M55.874996185302734 31.874996185302734\"/>\n",
       "<path fill=\"none\" stroke=\"black\" stroke-width=\".3\" stroke-opacity=\"1.0\" filling=\"0\" d=\"M55.874996185302734 31.874996185302734 M55.874996185302734 31.874996185302734\"/>\n",
       "<path fill=\"none\" stroke=\"black\" stroke-width=\".3\" stroke-opacity=\"1.0\" filling=\"0\" d=\"M55.874996185302734 31.874996185302734 M55.874996185302734 31.874996185302734\"/>\n",
       "<path fill=\"none\" stroke=\"black\" stroke-width=\".3\" stroke-opacity=\"1.0\" filling=\"0\" d=\"M55.874996185302734 31.874996185302734 M55.874996185302734 31.874996185302734\"/>\n",
       "<path fill=\"none\" stroke=\"black\" stroke-width=\".3\" stroke-opacity=\"1.0\" filling=\"0\" d=\"M55.874996185302734 31.874996185302734 M55.874996185302734 31.874996185302734\"/>\n",
       "<path fill=\"none\" stroke=\"black\" stroke-width=\".3\" stroke-opacity=\"1.0\" filling=\"0\" d=\"M55.874996185302734 31.874996185302734 M55.874996185302734 31.874996185302734\"/>\n",
       "<path fill=\"none\" stroke=\"black\" stroke-width=\".3\" stroke-opacity=\"1.0\" filling=\"0\" d=\"M79.125 29.625 L79.125 29.625 L79.03125 30.46875 L78.84375 31.21875\"/>\n",
       "<path fill=\"none\" stroke=\"black\" stroke-width=\".3\" stroke-opacity=\"1.0\" filling=\"0\" d=\"M81.84375 31.59375 L81.1875 31.78125\"/>\n",
       "<path fill=\"none\" stroke=\"black\" stroke-width=\".3\" stroke-opacity=\"1.0\" filling=\"0\" d=\"M82.6875 32.34375 L82.03125 32.625 L81.75 32.8125\"/>\n",
       "<path fill=\"none\" stroke=\"black\" stroke-width=\".3\" stroke-opacity=\"1.0\" filling=\"0\" d=\"M82.3125 33.0 L81.5625 33.375 L81.0 33.46875 L80.0625 34.03125 L79.40625 34.78125 L79.03125 35.625 L79.03125 36.09375 L79.3125 36.09375 L80.0625 36.09375 L81.0 36.09375 L81.9375 36.28125\"/>\n",
       "<path fill=\"none\" stroke=\"black\" stroke-width=\".3\" stroke-opacity=\"1.0\" filling=\"0\" d=\"M82.59375 33.375 L82.5 34.78125\"/>\n",
       "<path fill=\"none\" stroke=\"black\" stroke-width=\".3\" stroke-opacity=\"1.0\" filling=\"0\" d=\"M84.0 34.3125 L84.375 36.84375 L85.125 39.0 L86.0625 39.84375\"/>\n",
       "<path fill=\"none\" stroke=\"black\" stroke-width=\".3\" stroke-opacity=\"1.0\" filling=\"0\" d=\"M79.87499237060547 31.874996185302734 M79.87499237060547 31.874996185302734\"/>\n",
       "<path fill=\"none\" stroke=\"black\" stroke-width=\".3\" stroke-opacity=\"1.0\" filling=\"0\" d=\"M79.87499237060547 31.874996185302734 M79.87499237060547 31.874996185302734\"/>\n",
       "<path fill=\"none\" stroke=\"black\" stroke-width=\".3\" stroke-opacity=\"1.0\" filling=\"0\" d=\"M104.625 31.78125 L104.8125 34.3125 L105.46875 37.78125\"/>\n",
       "<path fill=\"none\" stroke=\"black\" stroke-width=\".3\" stroke-opacity=\"1.0\" filling=\"0\" d=\"M106.3125 36.28125 L106.5 42.375\"/>\n",
       "<path fill=\"none\" stroke=\"black\" stroke-width=\".3\" stroke-opacity=\"1.0\" filling=\"0\" d=\"M109.875 37.96875 L109.875 37.875 L110.34375 35.625 L110.34375 34.875 L114.375 35.0625 L115.125 36.09375 L115.125 38.0625 L114.5625 42.84375\"/>\n",
       "<path fill=\"none\" stroke=\"black\" stroke-width=\".3\" stroke-opacity=\"1.0\" filling=\"0\" d=\"M107.34375 34.03125 L108.84375 36.5625 L111.5625 37.875 L112.875 41.625 L114.09375 41.8125\"/>\n",
       "<path fill=\"none\" stroke=\"black\" stroke-width=\".3\" stroke-opacity=\"1.0\" filling=\"0\" d=\"M103.87499237060547 31.874996185302734 M103.87499237060547 31.874996185302734\"/>\n",
       "<path fill=\"none\" stroke=\"black\" stroke-width=\".3\" stroke-opacity=\"1.0\" filling=\"0\" d=\"M103.87499237060547 31.874996185302734 M103.87499237060547 31.874996185302734\"/>\n",
       "<path fill=\"none\" stroke=\"black\" stroke-width=\".3\" stroke-opacity=\"1.0\" filling=\"0\" d=\"M103.87499237060547 31.874996185302734 M103.87499237060547 31.874996185302734\"/>\n",
       "<path fill=\"none\" stroke=\"black\" stroke-width=\".3\" stroke-opacity=\"1.0\" filling=\"0\" d=\"M103.87499237060547 31.874996185302734 M103.87499237060547 31.874996185302734\"/>\n",
       "<path fill=\"none\" stroke=\"black\" stroke-width=\".3\" stroke-opacity=\"1.0\" filling=\"0\" d=\"M135.84375 28.875 L135.46875 28.875 L134.8125 29.53125 L132.9375 30.09375 L131.34375 34.6875 L130.03125 39.65625 L129.46875 39.84375 L128.53125 39.65625\"/>\n",
       "<path fill=\"none\" stroke=\"black\" stroke-width=\".3\" stroke-opacity=\"1.0\" filling=\"0\" d=\"M129.46875 39.09375 L125.34375 35.15625 L124.03125 34.40625\"/>\n",
       "<path fill=\"none\" stroke=\"black\" stroke-width=\".3\" stroke-opacity=\"1.0\" filling=\"0\" d=\"M132.65625 29.625 L130.5 34.3125\"/>\n",
       "<path fill=\"none\" stroke=\"black\" stroke-width=\".3\" stroke-opacity=\"1.0\" filling=\"0\" d=\"M131.0625 40.03125 L129.46875 40.21875\"/>\n",
       "<path fill=\"none\" stroke=\"black\" stroke-width=\".3\" stroke-opacity=\"1.0\" filling=\"0\" d=\"M127.87499237060547 31.874996185302734 M127.87499237060547 31.874996185302734\"/>\n",
       "<path fill=\"none\" stroke=\"black\" stroke-width=\".3\" stroke-opacity=\"1.0\" filling=\"0\" d=\"M127.87499237060547 31.874996185302734 M127.87499237060547 31.874996185302734\"/>\n",
       "<path fill=\"none\" stroke=\"black\" stroke-width=\".3\" stroke-opacity=\"1.0\" filling=\"0\" d=\"M127.87499237060547 31.874996185302734 M127.87499237060547 31.874996185302734\"/>\n",
       "<path fill=\"none\" stroke=\"black\" stroke-width=\".3\" stroke-opacity=\"1.0\" filling=\"0\" d=\"M127.87499237060547 31.874996185302734 M127.87499237060547 31.874996185302734\"/>\n",
       "<path fill=\"none\" stroke=\"black\" stroke-width=\".3\" stroke-opacity=\"1.0\" filling=\"0\" d=\"M157.96875 34.5 L157.5 30.5625 L157.21875 30.09375 L156.9375 29.90625 L156.46875 30.1875 L156.1875 30.9375 L155.71875 32.34375 L155.53125 33.5625 L155.8125 34.3125\"/>\n",
       "<path fill=\"none\" stroke=\"black\" stroke-width=\".3\" stroke-opacity=\"1.0\" filling=\"0\" d=\"M158.25 31.6875 L157.96875 32.8125\"/>\n",
       "<path fill=\"none\" stroke=\"black\" stroke-width=\".3\" stroke-opacity=\"1.0\" filling=\"0\" d=\"M158.25 34.6875 L157.875 37.21875\"/>\n",
       "<path fill=\"none\" stroke=\"black\" stroke-width=\".3\" stroke-opacity=\"1.0\" filling=\"0\" d=\"M158.25 34.6875 L158.0625 39.5625\"/>\n",
       "<path fill=\"none\" stroke=\"black\" stroke-width=\".3\" stroke-opacity=\"1.0\" filling=\"0\" d=\"M158.0625 35.25 L158.0625 40.125\"/>\n",
       "<path fill=\"none\" stroke=\"black\" stroke-width=\".3\" stroke-opacity=\"1.0\" filling=\"0\" d=\"M157.6875 40.03125 L157.59375 40.78125\"/>\n",
       "<path fill=\"none\" stroke=\"black\" stroke-width=\".3\" stroke-opacity=\"1.0\" filling=\"0\" d=\"M151.875 31.874996185302734 M151.875 31.874996185302734\"/>\n",
       "<path fill=\"none\" stroke=\"black\" stroke-width=\".3\" stroke-opacity=\"1.0\" filling=\"0\" d=\"M151.875 31.874996185302734 M151.875 31.874996185302734\"/>\n",
       "<path fill=\"none\" stroke=\"black\" stroke-width=\".3\" stroke-opacity=\"1.0\" filling=\"0\" d=\"M185.34375 31.40625 L185.0625 35.53125 L182.25 36.28125 L179.25 36.46875\"/>\n",
       "<path fill=\"none\" stroke=\"black\" stroke-width=\".3\" stroke-opacity=\"1.0\" filling=\"0\" d=\"M183.28125 40.59375 L181.5 40.78125 L178.125 41.34375 L176.8125 40.78125 L176.53125 39.5625 L177.84375 37.40625 L179.25 34.875 L179.53125 34.125 L179.8125 34.125 L182.4375 34.59375 L183.28125 36.1875\"/>\n",
       "<path fill=\"none\" stroke=\"black\" stroke-width=\".3\" stroke-opacity=\"1.0\" filling=\"0\" d=\"M181.6875 41.34375 L178.5 41.90625 L177.75 42.28125 L178.40625 38.625 L179.53125 37.40625 L181.875 37.40625 L181.875 38.34375 L178.5 40.875\"/>\n",
       "<path fill=\"none\" stroke=\"black\" stroke-width=\".3\" stroke-opacity=\"1.0\" filling=\"0\" d=\"M177.75 41.34375 L178.125 42.28125 L178.5 42.28125 L178.5 38.625 L185.0625 40.875\"/>\n",
       "<path fill=\"none\" stroke=\"black\" stroke-width=\".3\" stroke-opacity=\"1.0\" filling=\"0\" d=\"M177.09375 40.78125 L177.75 42.9375 L183.84375 42.9375 L185.0625 42.9375 L186.375 42.9375\"/>\n",
       "<path fill=\"none\" stroke=\"black\" stroke-width=\".3\" stroke-opacity=\"1.0\" filling=\"0\" d=\"M175.875 31.874996185302734 M175.875 31.874996185302734\"/>\n",
       "<path fill=\"none\" stroke=\"black\" stroke-width=\".3\" stroke-opacity=\"1.0\" filling=\"0\" d=\"M175.875 31.874996185302734 M175.875 31.874996185302734\"/>\n",
       "<path fill=\"none\" stroke=\"black\" stroke-width=\".3\" stroke-opacity=\"1.0\" filling=\"0\" d=\"M175.875 31.874996185302734 M175.875 31.874996185302734\"/>\n",
       "<path fill=\"none\" stroke=\"black\" stroke-width=\".3\" stroke-opacity=\"1.0\" filling=\"0\" d=\"M203.0625 32.8125 L203.34375 32.90625 L204.0 32.71875 L204.9375 33.1875 L205.5 34.96875 L205.5 37.59375 L205.3125 40.6875\"/>\n",
       "<path fill=\"none\" stroke=\"black\" stroke-width=\".3\" stroke-opacity=\"1.0\" filling=\"0\" d=\"M201.75 40.40625 L201.46875 40.96875 L201.46875 41.625\"/>\n",
       "<path fill=\"none\" stroke=\"black\" stroke-width=\".3\" stroke-opacity=\"1.0\" filling=\"0\" d=\"M202.5 40.40625 L202.125 40.40625 L202.03125 39.65625 L202.40625 35.625 L203.25 34.125 L204.0 33.75 L204.46875 34.5 L204.84375 37.59375 L204.46875 40.40625 L204.09375 40.6875 L203.625 40.96875\"/>\n",
       "<path fill=\"none\" stroke=\"black\" stroke-width=\".3\" stroke-opacity=\"1.0\" filling=\"0\" d=\"M201.84375 40.78125 L201.46875 40.03125 L201.5625 37.59375 L201.84375 34.59375 L202.59375 33.09375 L203.53125 32.8125 L204.5625 33.1875 L205.125 34.21875 L205.59375 36.84375 L205.3125 39.65625 L204.84375 40.96875 L203.90625 41.4375 L203.25 41.625\"/>\n",
       "<path fill=\"none\" stroke=\"black\" stroke-width=\".3\" stroke-opacity=\"1.0\" filling=\"0\" d=\"M202.5 41.34375 L201.75 41.34375 L201.5625 40.96875 L201.46875 38.0625 L201.84375 36.5625 L202.40625 34.125 L202.96875 34.125 L203.53125 36.84375 L203.4375 40.96875 L203.0625 41.25\"/>\n",
       "<path fill=\"none\" stroke=\"black\" stroke-width=\".3\" stroke-opacity=\"1.0\" filling=\"0\" d=\"M199.875 31.874996185302734 M199.875 31.874996185302734\"/>\n",
       "<path fill=\"none\" stroke=\"black\" stroke-width=\".3\" stroke-opacity=\"1.0\" filling=\"0\" d=\"M199.875 31.874996185302734 M199.875 31.874996185302734\"/>\n",
       "<path fill=\"none\" stroke=\"black\" stroke-width=\".3\" stroke-opacity=\"1.0\" filling=\"0\" d=\"M199.875 31.874996185302734 M199.875 31.874996185302734\"/>\n",
       "<path fill=\"none\" stroke=\"black\" stroke-width=\".3\" stroke-opacity=\"1.0\" filling=\"0\" d=\"M232.21875 34.59375 L232.125 34.125 L231.0 34.40625 L228.9375 34.6875 L227.25 34.78125\"/>\n",
       "<path fill=\"none\" stroke=\"black\" stroke-width=\".3\" stroke-opacity=\"1.0\" filling=\"0\" d=\"M229.3125 30.28125 L228.9375 31.125 L229.6875 33.84375 L230.15625 34.125 L230.4375 34.96875\"/>\n",
       "<path fill=\"none\" stroke=\"black\" stroke-width=\".3\" stroke-opacity=\"1.0\" filling=\"0\" d=\"M229.875 35.25 L229.78125 35.25 L229.96875 35.90625 L230.25 36.46875\"/>\n",
       "<path fill=\"none\" stroke=\"black\" stroke-width=\".3\" stroke-opacity=\"1.0\" filling=\"0\" d=\"M229.3125 35.625 L229.3125 36.75 L228.84375 39.0\"/>\n",
       "<path fill=\"none\" stroke=\"black\" stroke-width=\".3\" stroke-opacity=\"1.0\" filling=\"0\" d=\"M227.71875 35.625 L227.625 37.59375 L227.90625 40.03125\"/>\n",
       "<path fill=\"none\" stroke=\"black\" stroke-width=\".3\" stroke-opacity=\"1.0\" filling=\"0\" d=\"M223.875 31.874996185302734 M223.875 31.874996185302734\"/>\n",
       "<path fill=\"none\" stroke=\"black\" stroke-width=\".3\" stroke-opacity=\"1.0\" filling=\"0\" d=\"M223.875 31.874996185302734 M223.875 31.874996185302734\"/>\n",
       "<path fill=\"none\" stroke=\"black\" stroke-width=\".3\" stroke-opacity=\"1.0\" filling=\"0\" d=\"M223.875 31.874996185302734 M223.875 31.874996185302734\"/>\n",
       "<path fill=\"none\" stroke=\"black\" stroke-width=\".3\" stroke-opacity=\"1.0\" filling=\"0\" d=\"M251.25 28.78125 L249.84375 28.6875 L249.09375 29.4375 L249.0 32.4375\"/>\n",
       "<path fill=\"none\" stroke=\"black\" stroke-width=\".3\" stroke-opacity=\"1.0\" filling=\"0\" d=\"M249.375 38.53125 L249.0 29.4375 L249.09375 30.28125 L249.46875 30.09375 L250.3125 30.1875 L251.4375 33.5625 L252.46875 35.25 L252.5625 37.6875\"/>\n",
       "<path fill=\"none\" stroke=\"black\" stroke-width=\".3\" stroke-opacity=\"1.0\" filling=\"0\" d=\"M251.25 38.53125 L250.125 38.4375 L250.125 37.96875\"/>\n",
       "<path fill=\"none\" stroke=\"black\" stroke-width=\".3\" stroke-opacity=\"1.0\" filling=\"0\" d=\"M253.125 39.09375 L251.4375 39.09375 L251.4375 38.4375\"/>\n",
       "<path fill=\"none\" stroke=\"black\" stroke-width=\".3\" stroke-opacity=\"1.0\" filling=\"0\" d=\"M247.875 31.874996185302734 M247.875 31.874996185302734\"/>\n",
       "<path fill=\"none\" stroke=\"black\" stroke-width=\".3\" stroke-opacity=\"1.0\" filling=\"0\" d=\"M247.875 31.874996185302734 M247.875 31.874996185302734\"/>\n",
       "<path fill=\"none\" stroke=\"black\" stroke-width=\".3\" stroke-opacity=\"1.0\" filling=\"0\" d=\"M247.875 31.874996185302734 M247.875 31.874996185302734\"/>\n",
       "<path fill=\"none\" stroke=\"black\" stroke-width=\".3\" stroke-opacity=\"1.0\" filling=\"0\" d=\"M247.875 31.874996185302734 M247.875 31.874996185302734\"/>\n",
       "<path fill=\"none\" stroke=\"black\" stroke-width=\".3\" stroke-opacity=\"1.0\" filling=\"0\" d=\"M274.5 33.09375 L272.625 34.125 L272.15625 35.15625\"/>\n",
       "<path fill=\"none\" stroke=\"black\" stroke-width=\".3\" stroke-opacity=\"1.0\" filling=\"0\" d=\"M273.0 33.9375 L273.09375 39.09375 L273.46875 41.71875\"/>\n",
       "<path fill=\"none\" stroke=\"black\" stroke-width=\".3\" stroke-opacity=\"1.0\" filling=\"0\" d=\"M272.625 36.1875 L272.90625 38.625 L273.9375 40.6875\"/>\n",
       "<path fill=\"none\" stroke=\"black\" stroke-width=\".3\" stroke-opacity=\"1.0\" filling=\"0\" d=\"M271.875 31.874996185302734 M271.875 31.874996185302734\"/>\n",
       "<path fill=\"none\" stroke=\"black\" stroke-width=\".3\" stroke-opacity=\"1.0\" filling=\"0\" d=\"M271.875 31.874996185302734 M271.875 31.874996185302734\"/>\n",
       "<path fill=\"none\" stroke=\"black\" stroke-width=\".3\" stroke-opacity=\"1.0\" filling=\"0\" d=\"M271.875 31.874996185302734 M271.875 31.874996185302734\"/>\n",
       "<path fill=\"none\" stroke=\"black\" stroke-width=\".3\" stroke-opacity=\"1.0\" filling=\"0\" d=\"M271.875 31.874996185302734 M271.875 31.874996185302734\"/>\n",
       "<path fill=\"none\" stroke=\"black\" stroke-width=\".3\" stroke-opacity=\"1.0\" filling=\"0\" d=\"M271.875 31.874996185302734 M271.875 31.874996185302734\"/>\n",
       "<path fill=\"none\" stroke=\"black\" stroke-width=\".3\" stroke-opacity=\"1.0\" filling=\"0\" d=\"M303.46875 32.53125 L304.125 35.4375 L303.5625 37.875\"/>\n",
       "<path fill=\"none\" stroke=\"black\" stroke-width=\".3\" stroke-opacity=\"1.0\" filling=\"0\" d=\"M295.875 33.0 L295.5 33.84375\"/>\n",
       "<path fill=\"none\" stroke=\"black\" stroke-width=\".3\" stroke-opacity=\"1.0\" filling=\"0\" d=\"M297.75 34.6875 L296.25 34.96875\"/>\n",
       "<path fill=\"none\" stroke=\"black\" stroke-width=\".3\" stroke-opacity=\"1.0\" filling=\"0\" d=\"M295.875 31.874996185302734 M295.875 31.874996185302734\"/>\n",
       "<path fill=\"none\" stroke=\"black\" stroke-width=\".3\" stroke-opacity=\"1.0\" filling=\"0\" d=\"M295.875 31.874996185302734 M295.875 31.874996185302734\"/>\n",
       "<path fill=\"none\" stroke=\"black\" stroke-width=\".3\" stroke-opacity=\"1.0\" filling=\"0\" d=\"M295.875 31.874996185302734 M295.875 31.874996185302734\"/>\n",
       "<path fill=\"none\" stroke=\"black\" stroke-width=\".3\" stroke-opacity=\"1.0\" filling=\"0\" d=\"M295.875 31.874996185302734 M295.875 31.874996185302734\"/>\n",
       "<path fill=\"none\" stroke=\"black\" stroke-width=\".3\" stroke-opacity=\"1.0\" filling=\"0\" d=\"M295.875 31.874996185302734 M295.875 31.874996185302734\"/>\n",
       "<path fill=\"none\" stroke=\"black\" stroke-width=\".3\" stroke-opacity=\"1.0\" filling=\"0\" d=\"M325.6875 28.03125 L324.75 27.9375 L322.21875 28.40625 L321.1875 33.28125\"/>\n",
       "<path fill=\"none\" stroke=\"black\" stroke-width=\".3\" stroke-opacity=\"1.0\" filling=\"0\" d=\"M325.40625 33.65625 L322.5 33.5625\"/>\n",
       "<path fill=\"none\" stroke=\"black\" stroke-width=\".3\" stroke-opacity=\"1.0\" filling=\"0\" d=\"M324.9375 34.6875 L321.75 34.6875\"/>\n",
       "<path fill=\"none\" stroke=\"black\" stroke-width=\".3\" stroke-opacity=\"1.0\" filling=\"0\" d=\"M324.9375 35.15625 L322.6875 35.15625\"/>\n",
       "<path fill=\"none\" stroke=\"black\" stroke-width=\".3\" stroke-opacity=\"1.0\" filling=\"0\" d=\"M325.40625 35.90625 L324.46875 36.0\"/>\n",
       "<path fill=\"none\" stroke=\"black\" stroke-width=\".3\" stroke-opacity=\"1.0\" filling=\"0\" d=\"M326.4375 38.53125 L325.96875 38.625 L324.375 39.09375 L321.9375 39.09375 L319.6875 38.625 L319.5 36.84375\"/>\n",
       "<path fill=\"none\" stroke=\"black\" stroke-width=\".3\" stroke-opacity=\"1.0\" filling=\"0\" d=\"M319.875 31.874996185302734 M319.875 31.874996185302734\"/>\n",
       "<path fill=\"none\" stroke=\"black\" stroke-width=\".3\" stroke-opacity=\"1.0\" filling=\"0\" d=\"M319.875 31.874996185302734 M319.875 31.874996185302734\"/>\n",
       "<path fill=\"none\" stroke=\"black\" stroke-width=\".3\" stroke-opacity=\"1.0\" filling=\"0\" d=\"M350.0625 32.25 L347.25 29.90625 L346.5 29.15625 L346.21875 28.875 L346.03125 28.875\"/>\n",
       "<path fill=\"none\" stroke=\"black\" stroke-width=\".3\" stroke-opacity=\"1.0\" filling=\"0\" d=\"M348.9375 34.5 L344.71875 35.15625\"/>\n",
       "<path fill=\"none\" stroke=\"black\" stroke-width=\".3\" stroke-opacity=\"1.0\" filling=\"0\" d=\"M351.1875 35.0625 L346.875 35.53125 L346.5 33.75 L346.59375 31.21875\"/>\n",
       "<path fill=\"none\" stroke=\"black\" stroke-width=\".3\" stroke-opacity=\"1.0\" filling=\"0\" d=\"M351.65625 36.09375 L346.875 36.28125\"/>\n",
       "<path fill=\"none\" stroke=\"black\" stroke-width=\".3\" stroke-opacity=\"1.0\" filling=\"0\" d=\"M350.34375 37.96875 L347.25 38.25\"/>\n",
       "<path fill=\"none\" stroke=\"black\" stroke-width=\".3\" stroke-opacity=\"1.0\" filling=\"0\" d=\"M343.875 31.874996185302734 M343.875 31.874996185302734\"/>\n",
       "<path fill=\"none\" stroke=\"black\" stroke-width=\".3\" stroke-opacity=\"1.0\" filling=\"0\" d=\"M343.875 31.874996185302734 M343.875 31.874996185302734\"/>\n",
       "<path fill=\"none\" stroke=\"black\" stroke-width=\".3\" stroke-opacity=\"1.0\" filling=\"0\" d=\"M343.875 31.874996185302734 M343.875 31.874996185302734\"/>\n",
       "<path fill=\"none\" stroke=\"black\" stroke-width=\".3\" stroke-opacity=\"1.0\" filling=\"0\" d=\"M367.6875 30.28125 L366.65625 30.65625\"/>\n",
       "<path fill=\"none\" stroke=\"black\" stroke-width=\".3\" stroke-opacity=\"1.0\" filling=\"0\" d=\"M376.21875 30.65625 L372.9375 31.40625\"/>\n",
       "<path fill=\"none\" stroke=\"black\" stroke-width=\".3\" stroke-opacity=\"1.0\" filling=\"0\" d=\"M369.9375 31.59375 L369.65625 32.34375 L368.625 37.03125\"/>\n",
       "<path fill=\"none\" stroke=\"black\" stroke-width=\".3\" stroke-opacity=\"1.0\" filling=\"0\" d=\"M370.3125 31.59375 L370.21875 32.53125 L369.84375 37.03125\"/>\n",
       "<path fill=\"none\" stroke=\"black\" stroke-width=\".3\" stroke-opacity=\"1.0\" filling=\"0\" d=\"M372.9375 31.59375 L371.0625 32.53125 L370.6875 37.40625\"/>\n",
       "<path fill=\"none\" stroke=\"black\" stroke-width=\".3\" stroke-opacity=\"1.0\" filling=\"0\" d=\"M373.6875 32.0625 L371.53125 37.40625 L371.25 41.625\"/>\n",
       "<path fill=\"none\" stroke=\"black\" stroke-width=\".3\" stroke-opacity=\"1.0\" filling=\"0\" d=\"M367.875 31.874996185302734 M367.875 31.874996185302734\"/>\n",
       "<path fill=\"none\" stroke=\"black\" stroke-width=\".3\" stroke-opacity=\"1.0\" filling=\"0\" d=\"M367.875 31.874996185302734 M367.875 31.874996185302734\"/>\n",
       "<path fill=\"none\" stroke=\"black\" stroke-width=\".3\" stroke-opacity=\"1.0\" filling=\"0\" d=\"M396.09375 29.0625 L395.625 29.34375 L395.34375 33.5625 L394.6875 38.4375 L394.3125 38.625\"/>\n",
       "<path fill=\"none\" stroke=\"black\" stroke-width=\".3\" stroke-opacity=\"1.0\" filling=\"0\" d=\"M397.40625 30.0 L397.03125 34.3125 L396.28125 38.4375 L395.4375 39.375 L394.59375 39.5625 L393.75 38.90625 L392.90625 38.25 L392.625 32.0625 L392.4375 30.75\"/>\n",
       "<path fill=\"none\" stroke=\"black\" stroke-width=\".3\" stroke-opacity=\"1.0\" filling=\"0\" d=\"M397.03125 39.65625 L397.03125 40.125 L396.375 40.96875 L395.34375 41.34375 L393.9375 40.96875 L393.375 40.5\"/>\n",
       "<path fill=\"none\" stroke=\"black\" stroke-width=\".3\" stroke-opacity=\"1.0\" filling=\"0\" d=\"M391.875 31.874996185302734 M391.875 31.874996185302734\"/>\n",
       "<path fill=\"none\" stroke=\"black\" stroke-width=\".3\" stroke-opacity=\"1.0\" filling=\"0\" d=\"M391.875 31.874996185302734 M391.875 31.874996185302734\"/>\n",
       "<path fill=\"none\" stroke=\"black\" stroke-width=\".3\" stroke-opacity=\"1.0\" filling=\"0\" d=\"M391.875 31.874996185302734 M391.875 31.874996185302734\"/>\n",
       "<path fill=\"none\" stroke=\"black\" stroke-width=\".3\" stroke-opacity=\"1.0\" filling=\"0\" d=\"M391.875 31.874996185302734 M391.875 31.874996185302734\"/>\n",
       "<path fill=\"none\" stroke=\"black\" stroke-width=\".3\" stroke-opacity=\"1.0\" filling=\"0\" d=\"M391.875 31.874996185302734 M391.875 31.874996185302734\"/>\n",
       "<path fill=\"none\" stroke=\"black\" stroke-width=\".3\" stroke-opacity=\"1.0\" filling=\"0\" d=\"M417.5625 32.34375 L414.0 32.34375 L413.4375 32.15625 L413.4375 31.59375 L412.5 31.96875 L412.5 32.8125 L412.6875 34.875 L413.15625 36.09375 L414.0 37.5 L415.3125 38.25\"/>\n",
       "<path fill=\"none\" stroke=\"black\" stroke-width=\".3\" stroke-opacity=\"1.0\" filling=\"0\" d=\"M419.90625 33.0 L419.90625 31.875 L419.71875 31.875 L419.71875 32.34375 L419.25 33.0 L418.03125 33.9375 L417.5625 35.25 L416.90625 36.09375\"/>\n",
       "<path fill=\"none\" stroke=\"black\" stroke-width=\".3\" stroke-opacity=\"1.0\" filling=\"0\" d=\"M415.03125 38.0625 L413.34375 36.75 L412.40625 35.15625 L413.0625 34.3125 L414.09375 33.5625 L415.21875 33.46875 L416.53125 33.9375 L417.5625 34.6875 L417.9375 36.0 L417.9375 36.9375\"/>\n",
       "<path fill=\"none\" stroke=\"black\" stroke-width=\".3\" stroke-opacity=\"1.0\" filling=\"0\" d=\"M417.46875 37.5 L414.84375 36.46875 L413.0625 35.0625 L413.0625 33.9375 L413.8125 33.1875 L414.46875 33.5625 L414.75 34.21875 L415.6875 35.34375\"/>\n",
       "<path fill=\"none\" stroke=\"black\" stroke-width=\".3\" stroke-opacity=\"1.0\" filling=\"0\" d=\"M415.875 31.874996185302734 M415.875 31.874996185302734\"/>\n",
       "<path fill=\"none\" stroke=\"black\" stroke-width=\".3\" stroke-opacity=\"1.0\" filling=\"0\" d=\"M415.875 31.874996185302734 M415.875 31.874996185302734\"/>\n",
       "<path fill=\"none\" stroke=\"black\" stroke-width=\".3\" stroke-opacity=\"1.0\" filling=\"0\" d=\"M415.875 31.874996185302734 M415.875 31.874996185302734\"/>\n",
       "<path fill=\"none\" stroke=\"black\" stroke-width=\".3\" stroke-opacity=\"1.0\" filling=\"0\" d=\"M415.875 31.874996185302734 M415.875 31.874996185302734\"/>\n",
       "<path fill=\"none\" stroke=\"black\" stroke-width=\".3\" stroke-opacity=\"1.0\" filling=\"0\" d=\"M445.5 32.90625 L445.5 34.21875 L444.9375 36.46875 L444.9375 38.34375 L444.09375 39.46875 L443.4375 39.9375 L442.78125 40.21875 L442.40625 39.9375 L441.9375 39.46875 L441.1875 39.09375 L441.1875 38.25\"/>\n",
       "<path fill=\"none\" stroke=\"black\" stroke-width=\".3\" stroke-opacity=\"1.0\" filling=\"0\" d=\"M446.0625 39.09375 L446.0625 38.71875 L445.125 38.4375 L445.3125 37.3125 L444.9375 36.46875 L444.75 35.71875 L444.5625 34.59375 L444.5625 34.03125 L444.75 34.03125 L444.1875 36.1875 L443.8125 37.40625\"/>\n",
       "<path fill=\"none\" stroke=\"black\" stroke-width=\".3\" stroke-opacity=\"1.0\" filling=\"0\" d=\"M445.6875 39.46875 L443.4375 39.5625 L442.03125 38.90625 L441.1875 37.40625 L440.8125 35.71875 L441.0 33.46875 L442.03125 31.96875 L442.96875 30.9375 L444.1875 30.5625 L445.59375 30.5625 L446.34375 31.21875 L447.375 32.4375 L447.84375 34.59375 L447.84375 36.1875 L447.375 37.78125\"/>\n",
       "<path fill=\"none\" stroke=\"black\" stroke-width=\".3\" stroke-opacity=\"1.0\" filling=\"0\" d=\"M444.46875 40.3125 L442.03125 40.40625 L440.8125 39.65625 L439.3125 38.25 L439.21875 36.1875 L439.3125 34.21875 L440.34375 32.25 L441.65625 30.9375 L442.96875 30.375 L444.5625 30.375 L446.0625 30.9375 L447.09375 32.25 L447.65625 34.59375 L447.9375 36.46875 L447.75 37.875 L447.09375 39.1875 L445.875 39.9375\"/>\n",
       "<path fill=\"none\" stroke=\"black\" stroke-width=\".3\" stroke-opacity=\"1.0\" filling=\"0\" d=\"M439.875 31.874996185302734 M439.875 31.874996185302734\"/>\n",
       "<path fill=\"none\" stroke=\"black\" stroke-width=\".3\" stroke-opacity=\"1.0\" filling=\"0\" d=\"M439.875 31.874996185302734 M439.875 31.874996185302734\"/>\n",
       "<path fill=\"none\" stroke=\"black\" stroke-width=\".3\" stroke-opacity=\"1.0\" filling=\"0\" d=\"M439.875 31.874996185302734 M439.875 31.874996185302734\"/>\n",
       "<path fill=\"none\" stroke=\"black\" stroke-width=\".3\" stroke-opacity=\"1.0\" filling=\"0\" d=\"M439.875 31.874996185302734 M439.875 31.874996185302734\"/>\n",
       "<path fill=\"none\" stroke=\"black\" stroke-width=\".3\" stroke-opacity=\"1.0\" filling=\"0\" d=\"M471.84375 35.0625 L471.28125 34.875 L471.0 34.96875 L470.15625 35.0625 L469.125 35.25\"/>\n",
       "<path fill=\"none\" stroke=\"black\" stroke-width=\".3\" stroke-opacity=\"1.0\" filling=\"0\" d=\"M467.625 34.78125 L465.75 34.5\"/>\n",
       "<path fill=\"none\" stroke=\"black\" stroke-width=\".3\" stroke-opacity=\"1.0\" filling=\"0\" d=\"M468.65625 34.875 L467.0625 34.6875 L467.0625 34.6875\"/>\n",
       "<path fill=\"none\" stroke=\"black\" stroke-width=\".3\" stroke-opacity=\"1.0\" filling=\"0\" d=\"M469.3125 34.875 L468.1875 34.5 L468.1875 34.40625 L468.1875 34.6875\"/>\n",
       "<path fill=\"none\" stroke=\"black\" stroke-width=\".3\" stroke-opacity=\"1.0\" filling=\"0\" d=\"M469.78125 34.6875 L469.3125 34.6875 L469.21875 34.96875\"/>\n",
       "<path fill=\"none\" stroke=\"black\" stroke-width=\".3\" stroke-opacity=\"1.0\" filling=\"0\" d=\"M470.0625 34.96875 L469.96875 35.34375 L469.125 36.0\"/>\n",
       "<path fill=\"none\" stroke=\"black\" stroke-width=\".3\" stroke-opacity=\"1.0\" filling=\"0\" d=\"M471.09375 34.6875 L469.96875 36.46875 L467.53125 38.0625 L465.46875 40.03125 L463.21875 40.40625 L461.4375 39.5625 L460.6875 38.71875 L460.6875 37.59375 L460.6875 35.53125 L460.6875 34.03125 L461.25 32.71875 L462.46875 31.875 L464.8125 31.59375 L467.4375 31.59375 L469.03125 31.875 L469.96875 32.34375 L470.34375 32.53125\"/>\n",
       "<path fill=\"none\" stroke=\"black\" stroke-width=\".3\" stroke-opacity=\"1.0\" filling=\"0\" d=\"M463.875 31.874996185302734 M463.875 31.874996185302734\"/>\n",
       "<path fill=\"none\" stroke=\"black\" stroke-width=\".3\" stroke-opacity=\"1.0\" filling=\"0\" d=\"M490.03125 29.8125 L489.0 28.6875 L489.28125 28.21875 L489.5625 28.03125 L490.6875 27.9375 L491.25 28.3125 L491.71875 28.875 L491.71875 29.53125 L491.25 30.09375 L491.0625 30.5625\"/>\n",
       "<path fill=\"none\" stroke=\"black\" stroke-width=\".3\" stroke-opacity=\"1.0\" filling=\"0\" d=\"M493.40625 32.0625 L492.375 31.96875 L492.1875 32.0625 L491.34375 32.53125 L490.875 33.0\"/>\n",
       "<path fill=\"none\" stroke=\"black\" stroke-width=\".3\" stroke-opacity=\"1.0\" filling=\"0\" d=\"M487.875 31.874996185302734 M487.875 31.874996185302734\"/>\n",
       "<path fill=\"none\" stroke=\"black\" stroke-width=\".3\" stroke-opacity=\"1.0\" filling=\"0\" d=\"M487.875 31.874996185302734 M487.875 31.874996185302734\"/>\n",
       "<path fill=\"none\" stroke=\"black\" stroke-width=\".3\" stroke-opacity=\"1.0\" filling=\"0\" d=\"M487.875 31.874996185302734 M487.875 31.874996185302734\"/>\n",
       "<path fill=\"none\" stroke=\"black\" stroke-width=\".3\" stroke-opacity=\"1.0\" filling=\"0\" d=\"M487.875 31.874996185302734 M487.875 31.874996185302734\"/>\n",
       "<path fill=\"none\" stroke=\"black\" stroke-width=\".3\" stroke-opacity=\"1.0\" filling=\"0\" d=\"M487.875 31.874996185302734 M487.875 31.874996185302734\"/>\n",
       "<path fill=\"none\" stroke=\"black\" stroke-width=\".3\" stroke-opacity=\"1.0\" filling=\"0\" d=\"M487.875 31.874996185302734 M487.875 31.874996185302734\"/>\n",
       "<path fill=\"none\" stroke=\"black\" stroke-width=\".3\" stroke-opacity=\"1.0\" filling=\"0\" d=\"M518.15625 38.25 L517.3125 37.5 L516.84375 36.46875 L515.8125 35.0625 L514.78125 33.28125 L514.78125 31.875 L513.84375 31.78125 L512.8125 31.78125\"/>\n",
       "<path fill=\"none\" stroke=\"black\" stroke-width=\".3\" stroke-opacity=\"1.0\" filling=\"0\" d=\"M516.5625 38.25 L514.21875 38.53125 L510.5625 38.34375 L510.28125 37.03125 L509.90625 34.78125 L509.90625 32.8125\"/>\n",
       "<path fill=\"none\" stroke=\"black\" stroke-width=\".3\" stroke-opacity=\"1.0\" filling=\"0\" d=\"M518.625 38.71875 L517.3125 39.09375 L515.71875 39.375 L514.3125 39.09375\"/>\n",
       "<path fill=\"none\" stroke=\"black\" stroke-width=\".3\" stroke-opacity=\"1.0\" filling=\"0\" d=\"M519.1875 38.0625 L519.46875 38.625 L519.1875 39.09375 L518.625 39.1875 L518.34375 38.90625\"/>\n",
       "<path fill=\"none\" stroke=\"black\" stroke-width=\".3\" stroke-opacity=\"1.0\" filling=\"0\" d=\"M519.46875 38.0625 L519.5625 38.625 L519.5625 38.90625 L519.0 39.0 L518.625 38.90625\"/>\n",
       "<path fill=\"none\" stroke=\"black\" stroke-width=\".3\" stroke-opacity=\"1.0\" filling=\"0\" d=\"M511.875 31.874996185302734 M511.875 31.874996185302734\"/>\n",
       "<path fill=\"none\" stroke=\"black\" stroke-width=\".3\" stroke-opacity=\"1.0\" filling=\"0\" d=\"M511.875 31.874996185302734 M511.875 31.874996185302734\"/>\n",
       "<path fill=\"none\" stroke=\"black\" stroke-width=\".3\" stroke-opacity=\"1.0\" filling=\"0\" d=\"M511.875 31.874996185302734 M511.875 31.874996185302734\"/>\n",
       "<path fill=\"none\" stroke=\"black\" stroke-width=\".3\" stroke-opacity=\"1.0\" filling=\"0\" d=\"M540.46875 38.25 L540.0 37.3125 L538.96875 36.0 L538.3125 34.5 L537.5625 32.15625 L536.53125 32.625 L534.65625 35.25 L534.1875 37.40625\"/>\n",
       "<path fill=\"none\" stroke=\"black\" stroke-width=\".3\" stroke-opacity=\"1.0\" filling=\"0\" d=\"M541.21875 37.96875 L540.65625 36.75 L539.71875 36.75 L538.96875 37.3125 L538.125 38.53125\"/>\n",
       "<path fill=\"none\" stroke=\"black\" stroke-width=\".3\" stroke-opacity=\"1.0\" filling=\"0\" d=\"M541.21875 36.75 L540.84375 36.75 L540.09375 38.15625 L539.71875 39.0\"/>\n",
       "<path fill=\"none\" stroke=\"black\" stroke-width=\".3\" stroke-opacity=\"1.0\" filling=\"0\" d=\"M540.09375 36.5625 L539.53125 36.75 L539.15625 38.625\"/>\n",
       "<path fill=\"none\" stroke=\"black\" stroke-width=\".3\" stroke-opacity=\"1.0\" filling=\"0\" d=\"M538.6875 36.09375 L538.6875 36.375 L538.6875 39.0\"/>\n",
       "<path fill=\"none\" stroke=\"black\" stroke-width=\".3\" stroke-opacity=\"1.0\" filling=\"0\" d=\"M537.5625 35.8125 L537.5625 36.375 L537.65625 39.0\"/>\n",
       "<path fill=\"none\" stroke=\"black\" stroke-width=\".3\" stroke-opacity=\"1.0\" filling=\"0\" d=\"M537.5625 35.8125 L537.5625 36.1875 L537.46875 39.0\"/>\n",
       "<path fill=\"none\" stroke=\"black\" stroke-width=\".3\" stroke-opacity=\"1.0\" filling=\"0\" d=\"M537.84375 35.8125 L537.84375 36.1875 L537.5625 38.625\"/>\n",
       "<path fill=\"none\" stroke=\"black\" stroke-width=\".3\" stroke-opacity=\"1.0\" filling=\"0\" d=\"M565.125 35.34375 L564.46875 37.875 L564.0 37.875 L564.375 37.875 L566.34375 37.03125\"/>\n",
       "<path fill=\"none\" stroke=\"black\" stroke-width=\".3\" stroke-opacity=\"1.0\" filling=\"0\" d=\"M564.65625 35.625 L563.90625 40.03125 L563.53125 40.03125 L563.34375 37.03125\"/>\n",
       "<path fill=\"none\" stroke=\"black\" stroke-width=\".3\" stroke-opacity=\"1.0\" filling=\"0\" d=\"M563.34375 36.28125 L562.875 39.65625 L562.125 36.84375 L562.125 34.6875 L562.5 32.53125 L563.53125 32.15625 L565.59375 32.0625 L567.09375 32.625 L567.9375 34.03125 L567.9375 35.625 L567.9375 37.875 L567.1875 40.03125 L566.0625 40.59375\"/>\n",
       "<path fill=\"none\" stroke=\"black\" stroke-width=\".3\" stroke-opacity=\"1.0\" filling=\"0\" d=\"M559.875 31.874996185302734 M559.875 31.874996185302734\"/>\n",
       "<path fill=\"none\" stroke=\"black\" stroke-width=\".3\" stroke-opacity=\"1.0\" filling=\"0\" d=\"M559.875 31.874996185302734 M559.875 31.874996185302734\"/>\n",
       "<path fill=\"none\" stroke=\"black\" stroke-width=\".3\" stroke-opacity=\"1.0\" filling=\"0\" d=\"M559.875 31.874996185302734 M559.875 31.874996185302734\"/>\n",
       "<path fill=\"none\" stroke=\"black\" stroke-width=\".3\" stroke-opacity=\"1.0\" filling=\"0\" d=\"M559.875 31.874996185302734 M559.875 31.874996185302734\"/>\n",
       "<path fill=\"none\" stroke=\"black\" stroke-width=\".3\" stroke-opacity=\"1.0\" filling=\"0\" d=\"M559.875 31.874996185302734 M559.875 31.874996185302734\"/>\n",
       "<path fill=\"none\" stroke=\"black\" stroke-width=\".3\" stroke-opacity=\"1.0\" filling=\"0\" d=\"M589.59375 37.03125 L586.6875 37.3125 L583.6875 37.21875 L582.9375 36.84375 L582.65625 36.0 L582.9375 34.5 L583.5 33.0\"/>\n",
       "<path fill=\"none\" stroke=\"black\" stroke-width=\".3\" stroke-opacity=\"1.0\" filling=\"0\" d=\"M590.0625 36.65625 L586.6875 36.65625\"/>\n",
       "<path fill=\"none\" stroke=\"black\" stroke-width=\".3\" stroke-opacity=\"1.0\" filling=\"0\" d=\"M590.0625 36.75 L585.5625 36.65625 L583.6875 36.28125 L583.6875 35.34375\"/>\n",
       "<path fill=\"none\" stroke=\"black\" stroke-width=\".3\" stroke-opacity=\"1.0\" filling=\"0\" d=\"M589.875 36.84375 L585.5625 36.28125 L584.625 35.34375 L585.375 31.6875 L585.9375 31.6875 L586.6875 34.5\"/>\n",
       "<path fill=\"none\" stroke=\"black\" stroke-width=\".3\" stroke-opacity=\"1.0\" filling=\"0\" d=\"M590.0625 36.84375 L586.03125 36.65625 L584.90625 35.34375 L585.9375 31.96875 L586.6875 31.6875 L587.53125 33.0 L587.625 36.0\"/>\n",
       "<path fill=\"none\" stroke=\"black\" stroke-width=\".3\" stroke-opacity=\"1.0\" filling=\"0\" d=\"M591.375 37.5 L589.5 36.84375 L586.125 35.625 L586.6875 32.25 L587.25 31.96875 L587.25 34.5 L586.6875 36.65625\"/>\n",
       "<path fill=\"none\" stroke=\"black\" stroke-width=\".3\" stroke-opacity=\"1.0\" filling=\"0\" d=\"M594.0 40.40625 L594.0 40.125 L591.84375 38.15625 L590.25 36.0 L590.0625 35.53125 L589.3125 36.375 L588.1875 37.78125 L587.34375 39.5625\"/>\n",
       "<path fill=\"none\" stroke=\"black\" stroke-width=\".3\" stroke-opacity=\"1.0\" filling=\"0\" d=\"M583.875 31.874996185302734 M583.875 31.874996185302734\"/>\n",
       "<path fill=\"none\" stroke=\"black\" stroke-width=\".3\" stroke-opacity=\"1.0\" filling=\"0\" d=\"M14.25 55.21875 L8.625 55.96875\"/>\n",
       "<path fill=\"none\" stroke=\"black\" stroke-width=\".3\" stroke-opacity=\"1.0\" filling=\"0\" d=\"M17.15625 55.03125 L13.3125 55.59375\"/>\n",
       "<path fill=\"none\" stroke=\"black\" stroke-width=\".3\" stroke-opacity=\"1.0\" filling=\"0\" d=\"M16.21875 56.53125 L12.1875 59.4375\"/>\n",
       "<path fill=\"none\" stroke=\"black\" stroke-width=\".3\" stroke-opacity=\"1.0\" filling=\"0\" d=\"M16.6875 57.09375 L13.3125 61.03125\"/>\n",
       "<path fill=\"none\" stroke=\"black\" stroke-width=\".3\" stroke-opacity=\"1.0\" filling=\"0\" d=\"M18.65625 61.875 L19.125 63.09375\"/>\n",
       "<path fill=\"none\" stroke=\"black\" stroke-width=\".3\" stroke-opacity=\"1.0\" filling=\"0\" d=\"M7.874995708465576 55.874996185302734 M7.874995708465576 55.874996185302734\"/>\n",
       "<path fill=\"none\" stroke=\"black\" stroke-width=\".3\" stroke-opacity=\"1.0\" filling=\"0\" d=\"M7.874995708465576 55.874996185302734 M7.874995708465576 55.874996185302734\"/>\n",
       "<path fill=\"none\" stroke=\"black\" stroke-width=\".3\" stroke-opacity=\"1.0\" filling=\"0\" d=\"M7.874995708465576 55.874996185302734 M7.874995708465576 55.874996185302734\"/>\n",
       "<path fill=\"none\" stroke=\"black\" stroke-width=\".3\" stroke-opacity=\"1.0\" filling=\"0\" d=\"M39.375 53.71875 L37.96875 53.53125 L34.6875 53.625 L33.09375 54.5625\"/>\n",
       "<path fill=\"none\" stroke=\"black\" stroke-width=\".3\" stroke-opacity=\"1.0\" filling=\"0\" d=\"M40.21875 56.34375 L39.46875 56.625 L36.375 56.71875 L34.03125 57.28125\"/>\n",
       "<path fill=\"none\" stroke=\"black\" stroke-width=\".3\" stroke-opacity=\"1.0\" filling=\"0\" d=\"M40.21875 56.34375 L39.46875 56.625 L36.84375 57.1875 L34.21875 57.5625\"/>\n",
       "<path fill=\"none\" stroke=\"black\" stroke-width=\".3\" stroke-opacity=\"1.0\" filling=\"0\" d=\"M40.6875 57.09375 L39.84375 57.65625 L37.96875 58.21875 L34.6875 58.40625\"/>\n",
       "<path fill=\"none\" stroke=\"black\" stroke-width=\".3\" stroke-opacity=\"1.0\" filling=\"0\" d=\"M40.6875 57.09375 L40.03125 57.84375 L38.25 58.21875 L35.15625 58.6875\"/>\n",
       "<path fill=\"none\" stroke=\"black\" stroke-width=\".3\" stroke-opacity=\"1.0\" filling=\"0\" d=\"M40.6875 58.21875 L39.65625 59.4375 L37.40625 59.90625\"/>\n",
       "<path fill=\"none\" stroke=\"black\" stroke-width=\".3\" stroke-opacity=\"1.0\" filling=\"0\" d=\"M39.09375 59.8125 L38.0625 60.75 L35.90625 62.34375 L33.0 63.0\"/>\n",
       "<path fill=\"none\" stroke=\"black\" stroke-width=\".3\" stroke-opacity=\"1.0\" filling=\"0\" d=\"M36.65625 59.90625 L35.90625 62.8125 L33.9375 64.40625 L32.15625 64.875 L30.75 64.59375\"/>\n",
       "<path fill=\"none\" stroke=\"black\" stroke-width=\".3\" stroke-opacity=\"1.0\" filling=\"0\" d=\"M65.34375 53.8125 L64.6875 53.53125 L63.65625 54.09375 L61.59375 57.5625\"/>\n",
       "<path fill=\"none\" stroke=\"black\" stroke-width=\".3\" stroke-opacity=\"1.0\" filling=\"0\" d=\"M64.6875 55.21875 L64.03125 55.6875 L61.96875 57.5625\"/>\n",
       "<path fill=\"none\" stroke=\"black\" stroke-width=\".3\" stroke-opacity=\"1.0\" filling=\"0\" d=\"M64.40625 55.59375 L64.03125 56.34375 L62.25 59.15625\"/>\n",
       "<path fill=\"none\" stroke=\"black\" stroke-width=\".3\" stroke-opacity=\"1.0\" filling=\"0\" d=\"M64.03125 55.6875 L63.65625 57.46875 L62.8125 59.90625\"/>\n",
       "<path fill=\"none\" stroke=\"black\" stroke-width=\".3\" stroke-opacity=\"1.0\" filling=\"0\" d=\"M63.09375 55.6875 L63.1875 58.6875 L63.0 61.59375\"/>\n",
       "<path fill=\"none\" stroke=\"black\" stroke-width=\".3\" stroke-opacity=\"1.0\" filling=\"0\" d=\"M62.4375 57.09375 L63.1875 59.8125 L63.9375 62.90625 L63.9375 63.375\"/>\n",
       "<path fill=\"none\" stroke=\"black\" stroke-width=\".3\" stroke-opacity=\"1.0\" filling=\"0\" d=\"M55.874996185302734 55.874996185302734 M55.874996185302734 55.874996185302734\"/>\n",
       "<path fill=\"none\" stroke=\"black\" stroke-width=\".3\" stroke-opacity=\"1.0\" filling=\"0\" d=\"M55.874996185302734 55.874996185302734 M55.874996185302734 55.874996185302734\"/>\n",
       "<path fill=\"none\" stroke=\"black\" stroke-width=\".3\" stroke-opacity=\"1.0\" filling=\"0\" d=\"M83.34375 61.875 L81.9375 61.6875 L81.1875 61.6875\"/>\n",
       "<path fill=\"none\" stroke=\"black\" stroke-width=\".3\" stroke-opacity=\"1.0\" filling=\"0\" d=\"M84.1875 61.6875 L82.6875 61.6875\"/>\n",
       "<path fill=\"none\" stroke=\"black\" stroke-width=\".3\" stroke-opacity=\"1.0\" filling=\"0\" d=\"M84.1875 62.15625 L82.6875 62.15625\"/>\n",
       "<path fill=\"none\" stroke=\"black\" stroke-width=\".3\" stroke-opacity=\"1.0\" filling=\"0\" d=\"M84.1875 62.34375 L82.6875 62.34375\"/>\n",
       "<path fill=\"none\" stroke=\"black\" stroke-width=\".3\" stroke-opacity=\"1.0\" filling=\"0\" d=\"M83.625 63.1875 L82.6875 63.09375\"/>\n",
       "<path fill=\"none\" stroke=\"black\" stroke-width=\".3\" stroke-opacity=\"1.0\" filling=\"0\" d=\"M83.0625 63.65625 L81.9375 63.65625\"/>\n",
       "<path fill=\"none\" stroke=\"black\" stroke-width=\".3\" stroke-opacity=\"1.0\" filling=\"0\" d=\"M82.6875 64.6875 L81.9375 64.40625 L81.5625 63.65625 L80.34375 62.15625 L79.875 60.46875 L80.25 58.3125 L81.1875 56.71875 L82.40625 55.78125 L83.90625 55.21875 L85.5 55.21875 L86.8125 55.96875 L88.125 57.375 L88.5 59.25 L88.5 61.40625 L87.65625 63.0 L86.90625 64.125 L85.5 64.78125 L84.46875 64.78125\"/>\n",
       "<path fill=\"none\" stroke=\"black\" stroke-width=\".3\" stroke-opacity=\"1.0\" filling=\"0\" d=\"M83.625 65.8125 L81.5625 65.8125 L80.53125 64.6875 L79.875 62.90625 L79.40625 60.84375 L79.875 58.59375 L80.8125 56.71875 L81.9375 55.59375 L83.625 55.03125 L85.3125 55.03125 L86.8125 55.6875 L88.125 57.09375 L88.96875 59.25 L89.15625 61.6875 L88.5 63.28125 L87.09375 64.78125 L85.78125 65.8125 L84.0 66.09375\"/>\n",
       "<path fill=\"none\" stroke=\"black\" stroke-width=\".3\" stroke-opacity=\"1.0\" filling=\"0\" d=\"M110.0625 53.90625 L109.21875 54.5625 L109.21875 54.09375\"/>\n",
       "<path fill=\"none\" stroke=\"black\" stroke-width=\".3\" stroke-opacity=\"1.0\" filling=\"0\" d=\"M111.75 55.21875 L110.25 56.34375\"/>\n",
       "<path fill=\"none\" stroke=\"black\" stroke-width=\".3\" stroke-opacity=\"1.0\" filling=\"0\" d=\"M112.03125 55.875 L110.34375 57.09375\"/>\n",
       "<path fill=\"none\" stroke=\"black\" stroke-width=\".3\" stroke-opacity=\"1.0\" filling=\"0\" d=\"M112.3125 55.59375 L111.46875 57.28125\"/>\n",
       "<path fill=\"none\" stroke=\"black\" stroke-width=\".3\" stroke-opacity=\"1.0\" filling=\"0\" d=\"M112.875 56.34375 L111.84375 58.125\"/>\n",
       "<path fill=\"none\" stroke=\"black\" stroke-width=\".3\" stroke-opacity=\"1.0\" filling=\"0\" d=\"M103.87499237060547 55.874996185302734 M103.87499237060547 55.874996185302734\"/>\n",
       "<path fill=\"none\" stroke=\"black\" stroke-width=\".3\" stroke-opacity=\"1.0\" filling=\"0\" d=\"M103.87499237060547 55.874996185302734 M103.87499237060547 55.874996185302734\"/>\n",
       "<path fill=\"none\" stroke=\"black\" stroke-width=\".3\" stroke-opacity=\"1.0\" filling=\"0\" d=\"M103.87499237060547 55.874996185302734 M103.87499237060547 55.874996185302734\"/>\n",
       "<path fill=\"none\" stroke=\"black\" stroke-width=\".3\" stroke-opacity=\"1.0\" filling=\"0\" d=\"M133.40625 58.21875 L133.125 60.75 L132.5625 61.6875 L132.09375 61.5 L131.90625 60.46875 L131.71875 59.34375 L131.0625 58.21875 L131.0625 57.28125 L130.78125 56.90625 L130.40625 56.90625 L129.28125 58.125 L129.0 62.25 L128.53125 63.65625 L128.53125 64.59375 L128.4375 64.59375 L128.4375 64.59375 L127.6875 62.25 L127.6875 64.59375\"/>\n",
       "<path fill=\"none\" stroke=\"black\" stroke-width=\".3\" stroke-opacity=\"1.0\" filling=\"0\" d=\"M132.84375 63.9375 L131.53125 64.03125 L130.5 64.40625 L129.46875 63.09375 L129.28125 61.125 L129.28125 59.25 L129.28125 57.09375 L129.28125 56.53125 L129.28125 56.15625 L129.28125 55.96875 L129.1875 56.15625 L129.1875 55.21875 L129.1875 55.59375 L130.5 56.15625\"/>\n",
       "<path fill=\"none\" stroke=\"black\" stroke-width=\".3\" stroke-opacity=\"1.0\" filling=\"0\" d=\"M127.87499237060547 55.874996185302734 M127.87499237060547 55.874996185302734\"/>\n",
       "<path fill=\"none\" stroke=\"black\" stroke-width=\".3\" stroke-opacity=\"1.0\" filling=\"0\" d=\"M127.87499237060547 55.874996185302734 M127.87499237060547 55.874996185302734\"/>\n",
       "<path fill=\"none\" stroke=\"black\" stroke-width=\".3\" stroke-opacity=\"1.0\" filling=\"0\" d=\"M127.87499237060547 55.874996185302734 M127.87499237060547 55.874996185302734\"/>\n",
       "<path fill=\"none\" stroke=\"black\" stroke-width=\".3\" stroke-opacity=\"1.0\" filling=\"0\" d=\"M127.87499237060547 55.874996185302734 M127.87499237060547 55.874996185302734\"/>\n",
       "<path fill=\"none\" stroke=\"black\" stroke-width=\".3\" stroke-opacity=\"1.0\" filling=\"0\" d=\"M127.87499237060547 55.874996185302734 M127.87499237060547 55.874996185302734\"/>\n",
       "<path fill=\"none\" stroke=\"black\" stroke-width=\".3\" stroke-opacity=\"1.0\" filling=\"0\" d=\"M127.87499237060547 55.874996185302734 M127.87499237060547 55.874996185302734\"/>\n",
       "<path fill=\"none\" stroke=\"black\" stroke-width=\".3\" stroke-opacity=\"1.0\" filling=\"0\" d=\"M161.4375 55.59375 L160.21875 56.0625\"/>\n",
       "<path fill=\"none\" stroke=\"black\" stroke-width=\".3\" stroke-opacity=\"1.0\" filling=\"0\" d=\"M163.59375 58.21875 L163.125 58.96875\"/>\n",
       "<path fill=\"none\" stroke=\"black\" stroke-width=\".3\" stroke-opacity=\"1.0\" filling=\"0\" d=\"M163.125 57.84375 L162.9375 58.96875\"/>\n",
       "<path fill=\"none\" stroke=\"black\" stroke-width=\".3\" stroke-opacity=\"1.0\" filling=\"0\" d=\"M163.59375 58.03125 L162.9375 58.78125\"/>\n",
       "<path fill=\"none\" stroke=\"black\" stroke-width=\".3\" stroke-opacity=\"1.0\" filling=\"0\" d=\"M163.59375 58.5 L163.125 58.78125 L162.09375 58.6875\"/>\n",
       "<path fill=\"none\" stroke=\"black\" stroke-width=\".3\" stroke-opacity=\"1.0\" filling=\"0\" d=\"M163.59375 67.125 L163.59375 66.75 L157.5 61.5 L158.0625 58.6875 L156.75 57.84375 L155.53125 57.5625 L155.0625 57.84375 L154.6875 58.21875 L154.875 58.875 L155.34375 59.625\"/>\n",
       "<path fill=\"none\" stroke=\"black\" stroke-width=\".3\" stroke-opacity=\"1.0\" filling=\"0\" d=\"M151.875 55.874996185302734 M151.875 55.874996185302734\"/>\n",
       "<path fill=\"none\" stroke=\"black\" stroke-width=\".3\" stroke-opacity=\"1.0\" filling=\"0\" d=\"M151.875 55.874996185302734 M151.875 55.874996185302734\"/>\n",
       "<path fill=\"none\" stroke=\"black\" stroke-width=\".3\" stroke-opacity=\"1.0\" filling=\"0\" d=\"M179.0625 57.75 L177.75 58.40625 L176.8125 58.6875\"/>\n",
       "<path fill=\"none\" stroke=\"black\" stroke-width=\".3\" stroke-opacity=\"1.0\" filling=\"0\" d=\"M180.375 55.96875 L179.71875 56.8125 L178.6875 57.46875\"/>\n",
       "<path fill=\"none\" stroke=\"black\" stroke-width=\".3\" stroke-opacity=\"1.0\" filling=\"0\" d=\"M179.90625 56.625 L179.53125 58.03125 L178.6875 58.6875\"/>\n",
       "<path fill=\"none\" stroke=\"black\" stroke-width=\".3\" stroke-opacity=\"1.0\" filling=\"0\" d=\"M179.71875 57.1875 L179.53125 58.6875 L178.40625 59.4375\"/>\n",
       "<path fill=\"none\" stroke=\"black\" stroke-width=\".3\" stroke-opacity=\"1.0\" filling=\"0\" d=\"M179.34375 57.1875 L179.0625 58.96875 L178.21875 60.0\"/>\n",
       "<path fill=\"none\" stroke=\"black\" stroke-width=\".3\" stroke-opacity=\"1.0\" filling=\"0\" d=\"M178.96875 57.75 L178.40625 59.71875 L177.5625 60.46875\"/>\n",
       "<path fill=\"none\" stroke=\"black\" stroke-width=\".3\" stroke-opacity=\"1.0\" filling=\"0\" d=\"M178.6875 58.03125 L177.75 60.1875 L176.90625 60.75\"/>\n",
       "<path fill=\"none\" stroke=\"black\" stroke-width=\".3\" stroke-opacity=\"1.0\" filling=\"0\" d=\"M175.875 55.874996185302734 M175.875 55.874996185302734\"/>\n",
       "<path fill=\"none\" stroke=\"black\" stroke-width=\".3\" stroke-opacity=\"1.0\" filling=\"0\" d=\"M205.6875 55.03125 L204.46875 55.125 L203.0625 56.15625\"/>\n",
       "<path fill=\"none\" stroke=\"black\" stroke-width=\".3\" stroke-opacity=\"1.0\" filling=\"0\" d=\"M203.625 56.0625 L202.125 59.90625 L201.09375 60.9375 L199.96875 59.90625\"/>\n",
       "<path fill=\"none\" stroke=\"black\" stroke-width=\".3\" stroke-opacity=\"1.0\" filling=\"0\" d=\"M203.34375 63.9375 L201.46875 62.625 L199.96875 61.6875 L199.59375 61.6875 L198.9375 57.09375 L198.9375 57.0\"/>\n",
       "<path fill=\"none\" stroke=\"black\" stroke-width=\".3\" stroke-opacity=\"1.0\" filling=\"0\" d=\"M203.625 64.40625 L199.40625 63.9375 L198.9375 62.0625 L198.9375 59.90625 L199.59375 57.75 L200.8125 57.28125 L200.8125 57.0 L199.59375 65.34375\"/>\n",
       "<path fill=\"none\" stroke=\"black\" stroke-width=\".3\" stroke-opacity=\"1.0\" filling=\"0\" d=\"M203.34375 64.59375 L198.9375 64.40625 L198.84375 65.34375 L198.46875 61.03125\"/>\n",
       "<path fill=\"none\" stroke=\"black\" stroke-width=\".3\" stroke-opacity=\"1.0\" filling=\"0\" d=\"M203.34375 64.59375 L199.59375 64.96875 L199.125 66.375\"/>\n",
       "<path fill=\"none\" stroke=\"black\" stroke-width=\".3\" stroke-opacity=\"1.0\" filling=\"0\" d=\"M205.21875 64.59375 L205.5 66.84375 L206.53125 67.5\"/>\n",
       "<path fill=\"none\" stroke=\"black\" stroke-width=\".3\" stroke-opacity=\"1.0\" filling=\"0\" d=\"M199.875 55.874996185302734 M199.875 55.874996185302734\"/>\n",
       "<path fill=\"none\" stroke=\"black\" stroke-width=\".3\" stroke-opacity=\"1.0\" filling=\"0\" d=\"M222.0 55.59375 L222.84375 55.59375 L224.4375 56.34375 L225.75 59.90625 L225.65625 60.9375 L224.625 61.6875\"/>\n",
       "<path fill=\"none\" stroke=\"black\" stroke-width=\".3\" stroke-opacity=\"1.0\" filling=\"0\" d=\"M223.5 57.1875 L224.625 61.03125 L225.9375 61.875 L225.9375 62.15625 L225.9375 63.65625\"/>\n",
       "<path fill=\"none\" stroke=\"black\" stroke-width=\".3\" stroke-opacity=\"1.0\" filling=\"0\" d=\"M223.40625 57.1875 L223.5 61.875 L224.34375 61.875 L224.625 62.15625 L224.34375 64.5\"/>\n",
       "<path fill=\"none\" stroke=\"black\" stroke-width=\".3\" stroke-opacity=\"1.0\" filling=\"0\" d=\"M223.40625 57.5625 L223.40625 61.875 L223.875 62.15625 L224.34375 63.0 L224.34375 64.875 L224.625 65.625\"/>\n",
       "<path fill=\"none\" stroke=\"black\" stroke-width=\".3\" stroke-opacity=\"1.0\" filling=\"0\" d=\"M223.40625 61.875 L223.40625 61.875 L223.96875 63.0 L224.34375 63.375 L224.625 63.65625 L230.71875 66.375 L224.34375 66.75 L223.875 66.9375\"/>\n",
       "<path fill=\"none\" stroke=\"black\" stroke-width=\".3\" stroke-opacity=\"1.0\" filling=\"0\" d=\"M229.6875 66.9375 L224.34375 66.9375 L223.96875 63.46875 L224.625 63.65625 L225.9375 64.03125 L229.21875 66.28125 L226.6875 66.9375 L225.75 67.40625 L223.875 67.40625\"/>\n",
       "<path fill=\"none\" stroke=\"black\" stroke-width=\".3\" stroke-opacity=\"1.0\" filling=\"0\" d=\"M223.875 55.874996185302734 M223.875 55.874996185302734\"/>\n",
       "<path fill=\"none\" stroke=\"black\" stroke-width=\".3\" stroke-opacity=\"1.0\" filling=\"0\" d=\"M223.875 55.874996185302734 M223.875 55.874996185302734\"/>\n",
       "<path fill=\"none\" stroke=\"black\" stroke-width=\".3\" stroke-opacity=\"1.0\" filling=\"0\" d=\"M247.03125 54.0 L247.03125 54.28125 L248.0625 59.53125 L249.46875 60.84375\"/>\n",
       "<path fill=\"none\" stroke=\"black\" stroke-width=\".3\" stroke-opacity=\"1.0\" filling=\"0\" d=\"M247.03125 55.125 L247.3125 55.125 L249.09375 58.6875 L250.3125 60.0\"/>\n",
       "<path fill=\"none\" stroke=\"black\" stroke-width=\".3\" stroke-opacity=\"1.0\" filling=\"0\" d=\"M252.65625 62.625 L249.5625 63.5625 L249.9375 64.125\"/>\n",
       "<path fill=\"none\" stroke=\"black\" stroke-width=\".3\" stroke-opacity=\"1.0\" filling=\"0\" d=\"M247.875 55.874996185302734 M247.875 55.874996185302734\"/>\n",
       "<path fill=\"none\" stroke=\"black\" stroke-width=\".3\" stroke-opacity=\"1.0\" filling=\"0\" d=\"M247.875 55.874996185302734 M247.875 55.874996185302734\"/>\n",
       "<path fill=\"none\" stroke=\"black\" stroke-width=\".3\" stroke-opacity=\"1.0\" filling=\"0\" d=\"M247.875 55.874996185302734 M247.875 55.874996185302734\"/>\n",
       "<path fill=\"none\" stroke=\"black\" stroke-width=\".3\" stroke-opacity=\"1.0\" filling=\"0\" d=\"M247.875 55.874996185302734 M247.875 55.874996185302734\"/>\n",
       "<path fill=\"none\" stroke=\"black\" stroke-width=\".3\" stroke-opacity=\"1.0\" filling=\"0\" d=\"M247.875 55.874996185302734 M247.875 55.874996185302734\"/>\n",
       "<path fill=\"none\" stroke=\"black\" stroke-width=\".3\" stroke-opacity=\"1.0\" filling=\"0\" d=\"M279.65625 56.0625 L278.34375 57.09375 L277.40625 60.84375 L276.09375 64.21875 L275.53125 64.6875 L275.25 64.78125\"/>\n",
       "<path fill=\"none\" stroke=\"black\" stroke-width=\".3\" stroke-opacity=\"1.0\" filling=\"0\" d=\"M280.21875 56.4375 L279.375 56.90625 L278.25 58.96875 L277.59375 62.15625 L276.75 63.65625 L276.46875 64.40625 L276.46875 64.6875 L276.46875 64.875\"/>\n",
       "<path fill=\"none\" stroke=\"black\" stroke-width=\".3\" stroke-opacity=\"1.0\" filling=\"0\" d=\"M279.84375 56.625 L279.65625 57.5625 L279.09375 60.09375 L278.25 62.34375 L277.96875 63.9375 L277.40625 64.6875 L277.125 64.875 L276.9375 65.0625 L277.125 64.78125\"/>\n",
       "<path fill=\"none\" stroke=\"black\" stroke-width=\".3\" stroke-opacity=\"1.0\" filling=\"0\" d=\"M279.65625 57.09375 L279.375 58.03125 L279.09375 60.28125 L278.25 62.34375 L278.25 63.65625 L278.25 64.40625 L277.78125 64.875 L277.78125 65.25 L277.78125 65.0625\"/>\n",
       "<path fill=\"none\" stroke=\"black\" stroke-width=\".3\" stroke-opacity=\"1.0\" filling=\"0\" d=\"M278.25 57.09375 L279.375 57.84375 L279.1875 60.09375 L279.375 62.34375 L279.09375 63.46875 L278.25 64.40625 L278.25 64.6875 L278.25 65.0625 L277.78125 65.15625\"/>\n",
       "<path fill=\"none\" stroke=\"black\" stroke-width=\".3\" stroke-opacity=\"1.0\" filling=\"0\" d=\"M278.25 57.09375 L279.09375 58.21875 L279.09375 60.28125 L279.375 62.34375 L279.65625 63.1875 L279.65625 64.125 L279.09375 64.40625 L278.25 64.96875 L278.25 65.4375\"/>\n",
       "<path fill=\"none\" stroke=\"black\" stroke-width=\".3\" stroke-opacity=\"1.0\" filling=\"0\" d=\"M277.96875 57.09375 L278.25 58.96875 L278.25 60.84375 L278.25 62.34375 L279.09375 63.1875 L279.28125 64.125 L279.09375 64.6875 L278.25 65.15625 L278.25 65.4375\"/>\n",
       "<path fill=\"none\" stroke=\"black\" stroke-width=\".3\" stroke-opacity=\"1.0\" filling=\"0\" d=\"M277.125 57.09375 L277.125 60.1875 L277.40625 61.875 L277.6875 63.09375 L278.25 63.65625 L278.90625 64.40625 L278.90625 64.875 L278.25 65.4375 L278.25 65.625\"/>\n",
       "<path fill=\"none\" stroke=\"black\" stroke-width=\".3\" stroke-opacity=\"1.0\" filling=\"0\" d=\"M303.28125 56.0625 L301.875 56.625 L301.125 61.03125\"/>\n",
       "<path fill=\"none\" stroke=\"black\" stroke-width=\".3\" stroke-opacity=\"1.0\" filling=\"0\" d=\"M302.34375 57.84375 L299.53125 58.40625\"/>\n",
       "<path fill=\"none\" stroke=\"black\" stroke-width=\".3\" stroke-opacity=\"1.0\" filling=\"0\" d=\"M302.0625 58.03125 L300.1875 59.4375\"/>\n",
       "<path fill=\"none\" stroke=\"black\" stroke-width=\".3\" stroke-opacity=\"1.0\" filling=\"0\" d=\"M301.78125 58.21875 L300.65625 61.03125\"/>\n",
       "<path fill=\"none\" stroke=\"black\" stroke-width=\".3\" stroke-opacity=\"1.0\" filling=\"0\" d=\"M300.84375 58.40625 L300.84375 61.78125 L300.84375 65.90625\"/>\n",
       "<path fill=\"none\" stroke=\"black\" stroke-width=\".3\" stroke-opacity=\"1.0\" filling=\"0\" d=\"M295.875 55.874996185302734 M295.875 55.874996185302734\"/>\n",
       "<path fill=\"none\" stroke=\"black\" stroke-width=\".3\" stroke-opacity=\"1.0\" filling=\"0\" d=\"M295.875 55.874996185302734 M295.875 55.874996185302734\"/>\n",
       "<path fill=\"none\" stroke=\"black\" stroke-width=\".3\" stroke-opacity=\"1.0\" filling=\"0\" d=\"M295.875 55.874996185302734 M295.875 55.874996185302734\"/>\n",
       "<path fill=\"none\" stroke=\"black\" stroke-width=\".3\" stroke-opacity=\"1.0\" filling=\"0\" d=\"M324.1875 54.9375 L321.375 55.125 L319.875 54.84375 L319.21875 55.125\"/>\n",
       "<path fill=\"none\" stroke=\"black\" stroke-width=\".3\" stroke-opacity=\"1.0\" filling=\"0\" d=\"M325.59375 55.6875 L321.375 56.0625\"/>\n",
       "<path fill=\"none\" stroke=\"black\" stroke-width=\".3\" stroke-opacity=\"1.0\" filling=\"0\" d=\"M326.15625 55.40625 L321.9375 56.25\"/>\n",
       "<path fill=\"none\" stroke=\"black\" stroke-width=\".3\" stroke-opacity=\"1.0\" filling=\"0\" d=\"M328.3125 55.125 L323.71875 56.25 L320.8125 56.25\"/>\n",
       "<path fill=\"none\" stroke=\"black\" stroke-width=\".3\" stroke-opacity=\"1.0\" filling=\"0\" d=\"M329.15625 55.125 L325.5 56.53125 L321.65625 56.53125\"/>\n",
       "<path fill=\"none\" stroke=\"black\" stroke-width=\".3\" stroke-opacity=\"1.0\" filling=\"0\" d=\"M330.0 55.125 L326.34375 56.53125 L323.34375 57.5625 L321.46875 57.5625\"/>\n",
       "<path fill=\"none\" stroke=\"black\" stroke-width=\".3\" stroke-opacity=\"1.0\" filling=\"0\" d=\"M330.0 55.125 L327.46875 57.46875 L324.375 58.03125 L321.65625 58.6875\"/>\n",
       "<path fill=\"none\" stroke=\"black\" stroke-width=\".3\" stroke-opacity=\"1.0\" filling=\"0\" d=\"M319.875 55.874996185302734 M319.875 55.874996185302734\"/>\n",
       "<path fill=\"none\" stroke=\"black\" stroke-width=\".3\" stroke-opacity=\"1.0\" filling=\"0\" d=\"M343.03125 54.84375 L342.46875 54.28125 L341.34375 55.59375 L341.8125 58.96875\"/>\n",
       "<path fill=\"none\" stroke=\"black\" stroke-width=\".3\" stroke-opacity=\"1.0\" filling=\"0\" d=\"M351.5625 54.28125 L347.8125 53.4375 L345.9375 54.28125 L344.8125 58.3125\"/>\n",
       "<path fill=\"none\" stroke=\"black\" stroke-width=\".3\" stroke-opacity=\"1.0\" filling=\"0\" d=\"M343.875 55.59375 L343.5 55.03125 L344.34375 56.15625 L343.5 59.90625 L343.875 62.25\"/>\n",
       "<path fill=\"none\" stroke=\"black\" stroke-width=\".3\" stroke-opacity=\"1.0\" filling=\"0\" d=\"M343.03125 56.4375 L342.84375 56.34375 L343.875 58.96875 L343.5 61.5 L343.875 63.65625 L343.875 63.65625\"/>\n",
       "<path fill=\"none\" stroke=\"black\" stroke-width=\".3\" stroke-opacity=\"1.0\" filling=\"0\" d=\"M343.40625 57.09375 L343.03125 57.65625 L343.40625 59.53125 L343.5 59.90625 L343.96875 61.5 L344.34375 62.8125 L344.53125 63.65625 L345.9375 64.40625\"/>\n",
       "<path fill=\"none\" stroke=\"black\" stroke-width=\".3\" stroke-opacity=\"1.0\" filling=\"0\" d=\"M346.6875 65.625 L344.34375 64.6875 L343.875 62.625 L344.34375 60.84375 L345.375 60.46875 L346.6875 60.375 L348.46875 60.84375 L350.34375 61.96875 L351.5625 62.90625 L351.375 63.9375\"/>\n",
       "<path fill=\"none\" stroke=\"black\" stroke-width=\".3\" stroke-opacity=\"1.0\" filling=\"0\" d=\"M343.875 55.874996185302734 M343.875 55.874996185302734\"/>\n",
       "<path fill=\"none\" stroke=\"black\" stroke-width=\".3\" stroke-opacity=\"1.0\" filling=\"0\" d=\"M343.875 55.874996185302734 M343.875 55.874996185302734\"/>\n",
       "<path fill=\"none\" stroke=\"black\" stroke-width=\".3\" stroke-opacity=\"1.0\" filling=\"0\" d=\"M376.875 54.75 L375.65625 54.84375\"/>\n",
       "<path fill=\"none\" stroke=\"black\" stroke-width=\".3\" stroke-opacity=\"1.0\" filling=\"0\" d=\"M376.6875 56.34375 L376.3125 56.15625 L374.4375 55.59375 L373.125 55.59375\"/>\n",
       "<path fill=\"none\" stroke=\"black\" stroke-width=\".3\" stroke-opacity=\"1.0\" filling=\"0\" d=\"M374.4375 57.09375 L372.65625 57.28125\"/>\n",
       "<path fill=\"none\" stroke=\"black\" stroke-width=\".3\" stroke-opacity=\"1.0\" filling=\"0\" d=\"M373.125 57.46875 L372.46875 58.03125\"/>\n",
       "<path fill=\"none\" stroke=\"black\" stroke-width=\".3\" stroke-opacity=\"1.0\" filling=\"0\" d=\"M367.875 55.874996185302734 M367.875 55.874996185302734\"/>\n",
       "<path fill=\"none\" stroke=\"black\" stroke-width=\".3\" stroke-opacity=\"1.0\" filling=\"0\" d=\"M367.875 55.874996185302734 M367.875 55.874996185302734\"/>\n",
       "<path fill=\"none\" stroke=\"black\" stroke-width=\".3\" stroke-opacity=\"1.0\" filling=\"0\" d=\"M367.875 55.874996185302734 M367.875 55.874996185302734\"/>\n",
       "<path fill=\"none\" stroke=\"black\" stroke-width=\".3\" stroke-opacity=\"1.0\" filling=\"0\" d=\"M367.875 55.874996185302734 M367.875 55.874996185302734\"/>\n",
       "<path fill=\"none\" stroke=\"black\" stroke-width=\".3\" stroke-opacity=\"1.0\" filling=\"0\" d=\"M391.03125 59.53125 L392.53125 58.03125 L394.21875 57.75 L395.0625 58.03125 L395.625 58.59375 L395.25 59.25 L393.9375 60.09375 L393.5625 60.46875\"/>\n",
       "<path fill=\"none\" stroke=\"black\" stroke-width=\".3\" stroke-opacity=\"1.0\" filling=\"0\" d=\"M393.9375 61.875 L394.21875 61.875 L394.6875 61.21875 L394.40625 61.40625\"/>\n",
       "<path fill=\"none\" stroke=\"black\" stroke-width=\".3\" stroke-opacity=\"1.0\" filling=\"0\" d=\"M394.875 61.875 L395.625 62.0625 L395.71875 61.875 L395.4375 61.78125\"/>\n",
       "<path fill=\"none\" stroke=\"black\" stroke-width=\".3\" stroke-opacity=\"1.0\" filling=\"0\" d=\"M394.875 62.0625 L395.71875 63.0 L395.90625 63.0 L395.625 63.0\"/>\n",
       "<path fill=\"none\" stroke=\"black\" stroke-width=\".3\" stroke-opacity=\"1.0\" filling=\"0\" d=\"M394.40625 62.625 L395.625 63.46875 L395.90625 63.375 L395.625 63.375\"/>\n",
       "<path fill=\"none\" stroke=\"black\" stroke-width=\".3\" stroke-opacity=\"1.0\" filling=\"0\" d=\"M394.40625 63.1875 L395.625 64.03125 L395.71875 63.9375 L395.90625 64.21875\"/>\n",
       "<path fill=\"none\" stroke=\"black\" stroke-width=\".3\" stroke-opacity=\"1.0\" filling=\"0\" d=\"M394.40625 63.46875 L395.625 64.5 L395.625 64.3125 L395.90625 64.6875\"/>\n",
       "<path fill=\"none\" stroke=\"black\" stroke-width=\".3\" stroke-opacity=\"1.0\" filling=\"0\" d=\"M391.875 55.874996185302734 M391.875 55.874996185302734\"/>\n",
       "<path fill=\"none\" stroke=\"black\" stroke-width=\".3\" stroke-opacity=\"1.0\" filling=\"0\" d=\"M424.6875 59.25 L424.6875 62.25 L424.3125 64.21875\"/>\n",
       "<path fill=\"none\" stroke=\"black\" stroke-width=\".3\" stroke-opacity=\"1.0\" filling=\"0\" d=\"M424.59375 64.78125 L424.03125 64.03125\"/>\n",
       "<path fill=\"none\" stroke=\"black\" stroke-width=\".3\" stroke-opacity=\"1.0\" filling=\"0\" d=\"M424.21875 65.25 L422.71875 65.25\"/>\n",
       "<path fill=\"none\" stroke=\"black\" stroke-width=\".3\" stroke-opacity=\"1.0\" filling=\"0\" d=\"M424.21875 65.25 L422.25 64.96875\"/>\n",
       "<path fill=\"none\" stroke=\"black\" stroke-width=\".3\" stroke-opacity=\"1.0\" filling=\"0\" d=\"M424.21875 65.25 L422.25 64.96875\"/>\n",
       "<path fill=\"none\" stroke=\"black\" stroke-width=\".3\" stroke-opacity=\"1.0\" filling=\"0\" d=\"M424.21875 65.4375 L422.25 64.96875\"/>\n",
       "<path fill=\"none\" stroke=\"black\" stroke-width=\".3\" stroke-opacity=\"1.0\" filling=\"0\" d=\"M415.875 55.874996185302734 M415.875 55.874996185302734\"/>\n",
       "<path fill=\"none\" stroke=\"black\" stroke-width=\".3\" stroke-opacity=\"1.0\" filling=\"0\" d=\"M415.875 55.874996185302734 M415.875 55.874996185302734\"/>\n",
       "<path fill=\"none\" stroke=\"black\" stroke-width=\".3\" stroke-opacity=\"1.0\" filling=\"0\" d=\"M444.1875 57.09375 L441.5625 57.5625 L441.375 57.09375 L441.5625 56.4375 L441.65625 57.09375\"/>\n",
       "<path fill=\"none\" stroke=\"black\" stroke-width=\".3\" stroke-opacity=\"1.0\" filling=\"0\" d=\"M443.625 57.5625 L441.375 57.5625 L441.375 57.5625 L441.65625 57.84375\"/>\n",
       "<path fill=\"none\" stroke=\"black\" stroke-width=\".3\" stroke-opacity=\"1.0\" filling=\"0\" d=\"M444.46875 57.5625 L442.03125 59.0625 L441.9375 59.0625 L442.03125 59.0625\"/>\n",
       "<path fill=\"none\" stroke=\"black\" stroke-width=\".3\" stroke-opacity=\"1.0\" filling=\"0\" d=\"M445.5 57.09375 L442.6875 60.46875 L442.3125 59.53125 L442.3125 59.4375\"/>\n",
       "<path fill=\"none\" stroke=\"black\" stroke-width=\".3\" stroke-opacity=\"1.0\" filling=\"0\" d=\"M439.875 55.874996185302734 M439.875 55.874996185302734\"/>\n",
       "<path fill=\"none\" stroke=\"black\" stroke-width=\".3\" stroke-opacity=\"1.0\" filling=\"0\" d=\"M439.875 55.874996185302734 M439.875 55.874996185302734\"/>\n",
       "<path fill=\"none\" stroke=\"black\" stroke-width=\".3\" stroke-opacity=\"1.0\" filling=\"0\" d=\"M439.875 55.874996185302734 M439.875 55.874996185302734\"/>\n",
       "<path fill=\"none\" stroke=\"black\" stroke-width=\".3\" stroke-opacity=\"1.0\" filling=\"0\" d=\"M439.875 55.874996185302734 M439.875 55.874996185302734\"/>\n",
       "<path fill=\"none\" stroke=\"black\" stroke-width=\".3\" stroke-opacity=\"1.0\" filling=\"0\" d=\"M472.21875 57.46875 L471.28125 57.28125 L468.375 57.28125 L466.59375 57.5625 L466.03125 57.5625\"/>\n",
       "<path fill=\"none\" stroke=\"black\" stroke-width=\".3\" stroke-opacity=\"1.0\" filling=\"0\" d=\"M472.125 58.6875 L471.1875 58.6875 L468.375 58.6875 L467.25 59.0625 L466.6875 59.53125\"/>\n",
       "<path fill=\"none\" stroke=\"black\" stroke-width=\".3\" stroke-opacity=\"1.0\" filling=\"0\" d=\"M472.21875 59.0625 L471.1875 59.15625 L468.9375 59.90625 L467.4375 60.84375 L466.59375 61.5 L466.21875 61.5\"/>\n",
       "<path fill=\"none\" stroke=\"black\" stroke-width=\".3\" stroke-opacity=\"1.0\" filling=\"0\" d=\"M472.5 59.0625 L471.65625 59.8125 L469.96875 60.46875 L467.90625 61.78125 L467.0625 62.34375 L466.21875 61.96875 L465.84375 61.3125\"/>\n",
       "<path fill=\"none\" stroke=\"black\" stroke-width=\".3\" stroke-opacity=\"1.0\" filling=\"0\" d=\"M472.875 59.34375 L472.03125 60.1875 L470.25 60.75 L468.46875 61.78125 L467.4375 61.96875 L466.40625 61.5 L465.84375 60.46875\"/>\n",
       "<path fill=\"none\" stroke=\"black\" stroke-width=\".3\" stroke-opacity=\"1.0\" filling=\"0\" d=\"M463.875 55.874996185302734 M463.875 55.874996185302734\"/>\n",
       "<path fill=\"none\" stroke=\"black\" stroke-width=\".3\" stroke-opacity=\"1.0\" filling=\"0\" d=\"M463.875 55.874996185302734 M463.875 55.874996185302734\"/>\n",
       "<path fill=\"none\" stroke=\"black\" stroke-width=\".3\" stroke-opacity=\"1.0\" filling=\"0\" d=\"M463.875 55.874996185302734 M463.875 55.874996185302734\"/>\n",
       "<path fill=\"none\" stroke=\"black\" stroke-width=\".3\" stroke-opacity=\"1.0\" filling=\"0\" d=\"M491.53125 58.3125 L492.9375 58.03125 L495.0 57.75 L496.21875 58.40625 L496.875 59.25 L496.96875 60.375 L496.78125 61.40625\"/>\n",
       "<path fill=\"none\" stroke=\"black\" stroke-width=\".3\" stroke-opacity=\"1.0\" filling=\"0\" d=\"M492.65625 59.25 L492.9375 59.71875 L493.96875 60.09375 L495.0 60.375 L495.46875 60.46875\"/>\n",
       "<path fill=\"none\" stroke=\"black\" stroke-width=\".3\" stroke-opacity=\"1.0\" filling=\"0\" d=\"M492.65625 59.25 L492.9375 59.4375 L494.0625 59.90625 L495.46875 60.46875 L496.03125 60.46875 L496.03125 60.46875\"/>\n",
       "<path fill=\"none\" stroke=\"black\" stroke-width=\".3\" stroke-opacity=\"1.0\" filling=\"0\" d=\"M492.65625 59.25 L492.9375 59.4375 L494.0625 60.09375 L495.46875 60.46875 L496.125 60.84375 L496.03125 61.03125\"/>\n",
       "<path fill=\"none\" stroke=\"black\" stroke-width=\".3\" stroke-opacity=\"1.0\" filling=\"0\" d=\"M492.65625 59.25 L492.46875 59.4375 L493.6875 60.09375 L495.09375 60.46875 L495.75 61.03125 L496.03125 61.03125 L495.46875 61.5\"/>\n",
       "<path fill=\"none\" stroke=\"black\" stroke-width=\".3\" stroke-opacity=\"1.0\" filling=\"0\" d=\"M493.6875 59.25 L491.8125 59.71875 L492.46875 60.09375 L494.0625 59.90625 L494.25 60.46875 L495.09375 61.03125 L494.4375 61.03125\"/>\n",
       "<path fill=\"none\" stroke=\"black\" stroke-width=\".3\" stroke-opacity=\"1.0\" filling=\"0\" d=\"M494.0625 59.71875 L491.8125 59.71875 L491.53125 60.09375 L492.09375 59.90625 L492.9375 59.90625 L493.6875 60.46875 L494.0625 61.21875 L494.0625 61.6875\"/>\n",
       "<path fill=\"none\" stroke=\"black\" stroke-width=\".3\" stroke-opacity=\"1.0\" filling=\"0\" d=\"M487.875 55.874996185302734 M487.875 55.874996185302734\"/>\n",
       "<path fill=\"none\" stroke=\"black\" stroke-width=\".3\" stroke-opacity=\"1.0\" filling=\"0\" d=\"M519.375 54.375 L518.4375 54.46875 L517.125 58.6875 L513.9375 59.4375 L511.875 59.4375\"/>\n",
       "<path fill=\"none\" stroke=\"black\" stroke-width=\".3\" stroke-opacity=\"1.0\" filling=\"0\" d=\"M519.84375 54.0 L519.375 53.71875 L517.21875 54.28125\"/>\n",
       "<path fill=\"none\" stroke=\"black\" stroke-width=\".3\" stroke-opacity=\"1.0\" filling=\"0\" d=\"M519.5625 54.09375 L518.8125 54.28125 L517.21875 54.84375\"/>\n",
       "<path fill=\"none\" stroke=\"black\" stroke-width=\".3\" stroke-opacity=\"1.0\" filling=\"0\" d=\"M519.65625 54.28125 L518.71875 54.46875 L517.21875 55.21875\"/>\n",
       "<path fill=\"none\" stroke=\"black\" stroke-width=\".3\" stroke-opacity=\"1.0\" filling=\"0\" d=\"M519.375 54.28125 L518.71875 54.65625 L517.21875 58.96875\"/>\n",
       "<path fill=\"none\" stroke=\"black\" stroke-width=\".3\" stroke-opacity=\"1.0\" filling=\"0\" d=\"M518.4375 54.28125 L517.875 54.9375 L516.65625 60.375\"/>\n",
       "<path fill=\"none\" stroke=\"black\" stroke-width=\".3\" stroke-opacity=\"1.0\" filling=\"0\" d=\"M517.5 54.28125 L517.125 54.9375 L514.6875 61.03125 L511.5 66.09375 L510.375 66.28125\"/>\n",
       "<path fill=\"none\" stroke=\"black\" stroke-width=\".3\" stroke-opacity=\"1.0\" filling=\"0\" d=\"M516.1875 54.28125 L516.1875 55.5 L514.125 61.5 L511.5 66.28125 L510.75 66.46875\"/>\n",
       "<path fill=\"none\" stroke=\"black\" stroke-width=\".3\" stroke-opacity=\"1.0\" filling=\"0\" d=\"M539.0625 55.125 L538.96875 58.59375 L539.34375 61.125 L540.46875 62.0625\"/>\n",
       "<path fill=\"none\" stroke=\"black\" stroke-width=\".3\" stroke-opacity=\"1.0\" filling=\"0\" d=\"M539.0625 56.71875 L539.34375 60.1875 L539.4375 63.0 L540.46875 64.03125\"/>\n",
       "<path fill=\"none\" stroke=\"black\" stroke-width=\".3\" stroke-opacity=\"1.0\" filling=\"0\" d=\"M539.0625 56.71875 L539.34375 60.1875 L539.625 63.0 L540.9375 64.03125\"/>\n",
       "<path fill=\"none\" stroke=\"black\" stroke-width=\".3\" stroke-opacity=\"1.0\" filling=\"0\" d=\"M539.34375 56.71875 L539.34375 60.5625 L539.8125 63.65625 L541.21875 64.21875\"/>\n",
       "<path fill=\"none\" stroke=\"black\" stroke-width=\".3\" stroke-opacity=\"1.0\" filling=\"0\" d=\"M539.625 57.28125 L539.34375 60.75 L539.90625 63.65625 L541.21875 64.5\"/>\n",
       "<path fill=\"none\" stroke=\"black\" stroke-width=\".3\" stroke-opacity=\"1.0\" filling=\"0\" d=\"M539.625 57.28125 L539.34375 60.84375 L539.90625 63.65625 L541.21875 64.21875 L544.21875 64.5\"/>\n",
       "<path fill=\"none\" stroke=\"black\" stroke-width=\".3\" stroke-opacity=\"1.0\" filling=\"0\" d=\"M539.625 56.71875 L539.25 60.1875 L539.8125 62.0625 L541.21875 63.28125 L543.65625 64.03125 L544.21875 64.875\"/>\n",
       "<path fill=\"none\" stroke=\"black\" stroke-width=\".3\" stroke-opacity=\"1.0\" filling=\"0\" d=\"M539.0625 56.71875 L539.25 58.59375 L540.09375 60.84375 L541.5 61.78125 L543.28125 62.71875 L544.03125 64.5 L544.21875 64.875\"/>\n",
       "<path fill=\"none\" stroke=\"black\" stroke-width=\".3\" stroke-opacity=\"1.0\" filling=\"0\" d=\"M568.96875 52.21875 L568.96875 52.21875 L567.65625 57.5625 L566.25 57.5625 L565.6875 58.3125 L564.75 62.71875 L563.625 62.71875 L562.5 62.71875 L561.46875 62.8125 L561.09375 62.8125 L560.4375 62.53125 L560.4375 62.25 L560.34375 58.78125\"/>\n",
       "<path fill=\"none\" stroke=\"black\" stroke-width=\".3\" stroke-opacity=\"1.0\" filling=\"0\" d=\"M559.875 55.874996185302734 M559.875 55.874996185302734\"/>\n",
       "<path fill=\"none\" stroke=\"black\" stroke-width=\".3\" stroke-opacity=\"1.0\" filling=\"0\" d=\"M559.875 55.874996185302734 M559.875 55.874996185302734\"/>\n",
       "<path fill=\"none\" stroke=\"black\" stroke-width=\".3\" stroke-opacity=\"1.0\" filling=\"0\" d=\"M559.875 55.874996185302734 M559.875 55.874996185302734\"/>\n",
       "<path fill=\"none\" stroke=\"black\" stroke-width=\".3\" stroke-opacity=\"1.0\" filling=\"0\" d=\"M559.875 55.874996185302734 M559.875 55.874996185302734\"/>\n",
       "<path fill=\"none\" stroke=\"black\" stroke-width=\".3\" stroke-opacity=\"1.0\" filling=\"0\" d=\"M559.875 55.874996185302734 M559.875 55.874996185302734\"/>\n",
       "<path fill=\"none\" stroke=\"black\" stroke-width=\".3\" stroke-opacity=\"1.0\" filling=\"0\" d=\"M559.875 55.874996185302734 M559.875 55.874996185302734\"/>\n",
       "<path fill=\"none\" stroke=\"black\" stroke-width=\".3\" stroke-opacity=\"1.0\" filling=\"0\" d=\"M559.875 55.874996185302734 M559.875 55.874996185302734\"/>\n",
       "<path fill=\"none\" stroke=\"black\" stroke-width=\".3\" stroke-opacity=\"1.0\" filling=\"0\" d=\"M588.75 58.6875 L585.46875 60.9375 L584.0625 60.09375 L583.78125 58.6875 L583.78125 56.625 L583.78125 55.6875\"/>\n",
       "<path fill=\"none\" stroke=\"black\" stroke-width=\".3\" stroke-opacity=\"1.0\" filling=\"0\" d=\"M590.25 63.1875 L586.40625 63.1875 L584.8125 61.59375 L584.25 59.25 L584.0625 55.96875 L584.25 55.3125 L584.53125 54.75 L584.53125 54.75\"/>\n",
       "<path fill=\"none\" stroke=\"black\" stroke-width=\".3\" stroke-opacity=\"1.0\" filling=\"0\" d=\"M583.875 55.874996185302734 M583.875 55.874996185302734\"/>\n",
       "<path fill=\"none\" stroke=\"black\" stroke-width=\".3\" stroke-opacity=\"1.0\" filling=\"0\" d=\"M583.875 55.874996185302734 M583.875 55.874996185302734\"/>\n",
       "<path fill=\"none\" stroke=\"black\" stroke-width=\".3\" stroke-opacity=\"1.0\" filling=\"0\" d=\"M583.875 55.874996185302734 M583.875 55.874996185302734\"/>\n",
       "<path fill=\"none\" stroke=\"black\" stroke-width=\".3\" stroke-opacity=\"1.0\" filling=\"0\" d=\"M583.875 55.874996185302734 M583.875 55.874996185302734\"/>\n",
       "<path fill=\"none\" stroke=\"black\" stroke-width=\".3\" stroke-opacity=\"1.0\" filling=\"0\" d=\"M583.875 55.874996185302734 M583.875 55.874996185302734\"/>\n",
       "<path fill=\"none\" stroke=\"black\" stroke-width=\".3\" stroke-opacity=\"1.0\" filling=\"0\" d=\"M583.875 55.874996185302734 M583.875 55.874996185302734\"/>\n",
       "<path fill=\"none\" stroke=\"black\" stroke-width=\".3\" stroke-opacity=\"1.0\" filling=\"0\" d=\"M13.96875 79.03125 L12.46875 79.96875\"/>\n",
       "<path fill=\"none\" stroke=\"black\" stroke-width=\".3\" stroke-opacity=\"1.0\" filling=\"0\" d=\"M15.1875 79.40625 L13.96875 80.15625 L10.6875 81.28125\"/>\n",
       "<path fill=\"none\" stroke=\"black\" stroke-width=\".3\" stroke-opacity=\"1.0\" filling=\"0\" d=\"M15.46875 79.40625 L14.4375 80.15625 L12.375 82.96875\"/>\n",
       "<path fill=\"none\" stroke=\"black\" stroke-width=\".3\" stroke-opacity=\"1.0\" filling=\"0\" d=\"M15.46875 79.40625 L14.625 80.25 L12.375 83.15625\"/>\n",
       "<path fill=\"none\" stroke=\"black\" stroke-width=\".3\" stroke-opacity=\"1.0\" filling=\"0\" d=\"M15.46875 79.40625 L14.71875 80.25 L12.375 83.15625 L10.3125 85.3125\"/>\n",
       "<path fill=\"none\" stroke=\"black\" stroke-width=\".3\" stroke-opacity=\"1.0\" filling=\"0\" d=\"M7.874995708465576 79.87499237060547 M7.874995708465576 79.87499237060547\"/>\n",
       "<path fill=\"none\" stroke=\"black\" stroke-width=\".3\" stroke-opacity=\"1.0\" filling=\"0\" d=\"M7.874995708465576 79.87499237060547 M7.874995708465576 79.87499237060547\"/>\n",
       "<path fill=\"none\" stroke=\"black\" stroke-width=\".3\" stroke-opacity=\"1.0\" filling=\"0\" d=\"M7.874995708465576 79.87499237060547 M7.874995708465576 79.87499237060547\"/>\n",
       "<path fill=\"none\" stroke=\"black\" stroke-width=\".3\" stroke-opacity=\"1.0\" filling=\"0\" d=\"M40.21875 87.375 L39.5625 87.375 L36.46875 87.65625 L34.3125 87.375 L31.59375 87.375 L30.0 86.71875 L28.96875 85.59375 L28.96875 83.90625 L29.0625 80.15625 L29.625 78.9375 L30.46875 78.5625 L30.75 78.09375 L37.03125 78.28125 L38.15625 78.65625 L39.375 79.125\"/>\n",
       "<path fill=\"none\" stroke=\"black\" stroke-width=\".3\" stroke-opacity=\"1.0\" filling=\"0\" d=\"M39.84375 87.375 L37.78125 87.375 L34.125 87.375 L30.65625 87.375 L29.25 86.90625 L28.6875 85.6875 L28.6875 83.15625 L28.6875 79.59375 L29.0625 78.75 L29.0625 77.90625 L29.625 77.71875 L30.75 77.71875 L33.65625 77.71875 L37.6875 78.28125\"/>\n",
       "<path fill=\"none\" stroke=\"black\" stroke-width=\".3\" stroke-opacity=\"1.0\" filling=\"0\" d=\"M39.84375 87.375 L37.78125 87.375 L34.125 87.375 L30.09375 87.375 L29.25 87.09375 L28.6875 85.6875 L28.03125 84.28125 L28.5 79.59375 L29.0625 78.75 L29.0625 77.90625 L30.46875 77.625 L30.75 77.71875 L37.03125 78.09375\"/>\n",
       "<path fill=\"none\" stroke=\"black\" stroke-width=\".3\" stroke-opacity=\"1.0\" filling=\"0\" d=\"M39.84375 87.375 L37.3125 87.375 L34.125 87.375 L30.09375 87.375 L28.96875 86.90625\"/>\n",
       "<path fill=\"none\" stroke=\"black\" stroke-width=\".3\" stroke-opacity=\"1.0\" filling=\"0\" d=\"M39.84375 87.375 L36.84375 87.375 L34.125 87.375 L29.8125 87.375 L28.96875 86.71875\"/>\n",
       "<path fill=\"none\" stroke=\"black\" stroke-width=\".3\" stroke-opacity=\"1.0\" filling=\"0\" d=\"M39.65625 87.65625 L36.46875 87.375 L34.125 87.375 L29.8125 87.375 L28.96875 86.71875\"/>\n",
       "<path fill=\"none\" stroke=\"black\" stroke-width=\".3\" stroke-opacity=\"1.0\" filling=\"0\" d=\"M39.65625 87.65625 L36.84375 87.375 L34.125 87.375 L29.8125 87.375 L28.96875 86.90625 L28.21875 85.59375 L28.03125 82.40625\"/>\n",
       "<path fill=\"none\" stroke=\"black\" stroke-width=\".3\" stroke-opacity=\"1.0\" filling=\"0\" d=\"M39.65625 87.65625 L36.84375 87.375 L34.125 87.375 L29.8125 87.375 L29.25 86.71875 L28.6875 85.59375 L28.03125 82.40625\"/>\n",
       "<path fill=\"none\" stroke=\"black\" stroke-width=\".3\" stroke-opacity=\"1.0\" filling=\"0\" d=\"M61.6875 75.9375 L62.25 81.9375 L62.4375 84.46875 L62.25 86.25\"/>\n",
       "<path fill=\"none\" stroke=\"black\" stroke-width=\".3\" stroke-opacity=\"1.0\" filling=\"0\" d=\"M61.40625 75.9375 L60.84375 81.5625\"/>\n",
       "<path fill=\"none\" stroke=\"black\" stroke-width=\".3\" stroke-opacity=\"1.0\" filling=\"0\" d=\"M60.65625 75.9375 L60.1875 82.6875\"/>\n",
       "<path fill=\"none\" stroke=\"black\" stroke-width=\".3\" stroke-opacity=\"1.0\" filling=\"0\" d=\"M60.65625 81.9375 L60.1875 82.96875\"/>\n",
       "<path fill=\"none\" stroke=\"black\" stroke-width=\".3\" stroke-opacity=\"1.0\" filling=\"0\" d=\"M60.65625 81.9375 L60.1875 82.96875\"/>\n",
       "<path fill=\"none\" stroke=\"black\" stroke-width=\".3\" stroke-opacity=\"1.0\" filling=\"0\" d=\"M60.65625 81.9375 L60.1875 82.96875\"/>\n",
       "<path fill=\"none\" stroke=\"black\" stroke-width=\".3\" stroke-opacity=\"1.0\" filling=\"0\" d=\"M60.65625 82.6875 L60.1875 83.625\"/>\n",
       "<path fill=\"none\" stroke=\"black\" stroke-width=\".3\" stroke-opacity=\"1.0\" filling=\"0\" d=\"M60.65625 82.6875 L59.71875 83.625\"/>\n",
       "<path fill=\"none\" stroke=\"black\" stroke-width=\".3\" stroke-opacity=\"1.0\" filling=\"0\" d=\"M87.75 76.21875 L87.1875 76.3125 L86.25 77.15625 L84.84375 82.6875 L84.1875 86.71875 L83.71875 87.09375 L82.875 87.09375\"/>\n",
       "<path fill=\"none\" stroke=\"black\" stroke-width=\".3\" stroke-opacity=\"1.0\" filling=\"0\" d=\"M86.25 76.03125 L86.25 76.21875 L86.25 77.90625 L86.25 86.625 L86.25 87.375 L86.25 87.9375\"/>\n",
       "<path fill=\"none\" stroke=\"black\" stroke-width=\".3\" stroke-opacity=\"1.0\" filling=\"0\" d=\"M79.87499237060547 79.87499237060547 M79.87499237060547 79.87499237060547\"/>\n",
       "<path fill=\"none\" stroke=\"black\" stroke-width=\".3\" stroke-opacity=\"1.0\" filling=\"0\" d=\"M79.87499237060547 79.87499237060547 M79.87499237060547 79.87499237060547\"/>\n",
       "<path fill=\"none\" stroke=\"black\" stroke-width=\".3\" stroke-opacity=\"1.0\" filling=\"0\" d=\"M79.87499237060547 79.87499237060547 M79.87499237060547 79.87499237060547\"/>\n",
       "<path fill=\"none\" stroke=\"black\" stroke-width=\".3\" stroke-opacity=\"1.0\" filling=\"0\" d=\"M79.87499237060547 79.87499237060547 M79.87499237060547 79.87499237060547\"/>\n",
       "<path fill=\"none\" stroke=\"black\" stroke-width=\".3\" stroke-opacity=\"1.0\" filling=\"0\" d=\"M79.87499237060547 79.87499237060547 M79.87499237060547 79.87499237060547\"/>\n",
       "<path fill=\"none\" stroke=\"black\" stroke-width=\".3\" stroke-opacity=\"1.0\" filling=\"0\" d=\"M79.87499237060547 79.87499237060547 M79.87499237060547 79.87499237060547\"/>\n",
       "<path fill=\"none\" stroke=\"black\" stroke-width=\".3\" stroke-opacity=\"1.0\" filling=\"0\" d=\"M107.625 85.3125 L107.71875 84.5625 L108.1875 84.09375 L108.9375 84.09375 L109.21875 84.75 L109.40625 85.78125 L108.84375 87.0 L108.09375 87.375 L105.9375 87.75 L103.3125 87.75 L102.46875 87.375 L102.0 86.90625 L101.4375 85.6875\"/>\n",
       "<path fill=\"none\" stroke=\"black\" stroke-width=\".3\" stroke-opacity=\"1.0\" filling=\"0\" d=\"M108.65625 84.5625 L108.84375 84.09375 L109.21875 84.09375 L109.40625 84.9375 L109.03125 85.96875 L108.09375 86.71875 L106.40625 87.0 L104.25 87.09375 L102.65625 86.34375 L102.46875 85.875\"/>\n",
       "<path fill=\"none\" stroke=\"black\" stroke-width=\".3\" stroke-opacity=\"1.0\" filling=\"0\" d=\"M108.65625 84.5625 L108.65625 84.09375 L109.21875 84.75 L109.40625 85.3125 L108.84375 86.34375 L107.71875 87.28125 L105.9375 87.5625 L103.875 87.5625 L102.65625 87.09375 L102.1875 85.875\"/>\n",
       "<path fill=\"none\" stroke=\"black\" stroke-width=\".3\" stroke-opacity=\"1.0\" filling=\"0\" d=\"M108.65625 84.5625 L108.65625 84.375 L109.21875 84.9375 L109.40625 85.78125 L108.84375 87.0 L107.625 87.75 L105.75 88.03125 L103.125 87.75 L102.1875 87.28125 L101.4375 85.875\"/>\n",
       "<path fill=\"none\" stroke=\"black\" stroke-width=\".3\" stroke-opacity=\"1.0\" filling=\"0\" d=\"M108.375 84.5625 L108.65625 84.5625 L109.21875 85.21875 L109.40625 86.0625 L108.84375 87.28125 L107.625 88.21875 L105.5625 88.40625 L102.75 88.125 L102.1875 87.46875 L101.4375 85.875\"/>\n",
       "<path fill=\"none\" stroke=\"black\" stroke-width=\".3\" stroke-opacity=\"1.0\" filling=\"0\" d=\"M108.375 84.5625 L108.75 84.75 L109.21875 85.3125 L109.3125 86.34375 L108.84375 87.65625 L107.15625 88.59375 L105.375 88.78125 L102.65625 88.40625 L102.0 87.75 L101.4375 85.875 L101.4375 84.65625\"/>\n",
       "<path fill=\"none\" stroke=\"black\" stroke-width=\".3\" stroke-opacity=\"1.0\" filling=\"0\" d=\"M108.65625 84.5625 L108.84375 85.03125 L109.40625 85.78125 L109.40625 87.28125 L108.84375 88.40625 L107.15625 89.34375 L104.8125 89.53125 L102.5625 88.875 L101.4375 87.75 L101.4375 86.0625 L101.4375 84.75\"/>\n",
       "<path fill=\"none\" stroke=\"black\" stroke-width=\".3\" stroke-opacity=\"1.0\" filling=\"0\" d=\"M108.1875 84.5625 L108.84375 85.03125 L109.59375 85.96875 L109.5 87.5625 L108.65625 88.78125 L107.15625 89.8125 L103.96875 89.8125 L102.1875 88.875 L101.4375 87.75 L101.4375 85.875 L101.4375 84.09375\"/>\n",
       "<path fill=\"none\" stroke=\"black\" stroke-width=\".3\" stroke-opacity=\"1.0\" filling=\"0\" d=\"M139.3125 90.09375 L138.28125 89.625 L136.21875 86.0625 L135.375 84.46875 L134.25 81.09375 L133.59375 81.0\"/>\n",
       "<path fill=\"none\" stroke=\"black\" stroke-width=\".3\" stroke-opacity=\"1.0\" filling=\"0\" d=\"M139.3125 89.625 L137.625 89.625\"/>\n",
       "<path fill=\"none\" stroke=\"black\" stroke-width=\".3\" stroke-opacity=\"1.0\" filling=\"0\" d=\"M139.21875 89.625 L137.625 89.625\"/>\n",
       "<path fill=\"none\" stroke=\"black\" stroke-width=\".3\" stroke-opacity=\"1.0\" filling=\"0\" d=\"M139.3125 90.0 L138.375 89.8125\"/>\n",
       "<path fill=\"none\" stroke=\"black\" stroke-width=\".3\" stroke-opacity=\"1.0\" filling=\"0\" d=\"M139.3125 90.09375 L137.625 90.09375\"/>\n",
       "<path fill=\"none\" stroke=\"black\" stroke-width=\".3\" stroke-opacity=\"1.0\" filling=\"0\" d=\"M139.3125 90.46875 L137.625 90.46875\"/>\n",
       "<path fill=\"none\" stroke=\"black\" stroke-width=\".3\" stroke-opacity=\"1.0\" filling=\"0\" d=\"M139.3125 90.46875 L137.25 90.84375\"/>\n",
       "<path fill=\"none\" stroke=\"black\" stroke-width=\".3\" stroke-opacity=\"1.0\" filling=\"0\" d=\"M139.3125 90.75 L136.875 91.125 L135.375 90.46875\"/>\n",
       "<path fill=\"none\" stroke=\"black\" stroke-width=\".3\" stroke-opacity=\"1.0\" filling=\"0\" d=\"M158.0625 80.625 L156.46875 81.0\"/>\n",
       "<path fill=\"none\" stroke=\"black\" stroke-width=\".3\" stroke-opacity=\"1.0\" filling=\"0\" d=\"M159.65625 81.0 L158.25 81.65625\"/>\n",
       "<path fill=\"none\" stroke=\"black\" stroke-width=\".3\" stroke-opacity=\"1.0\" filling=\"0\" d=\"M159.65625 81.0 L158.34375 81.84375\"/>\n",
       "<path fill=\"none\" stroke=\"black\" stroke-width=\".3\" stroke-opacity=\"1.0\" filling=\"0\" d=\"M159.65625 81.0 L159.0 81.84375\"/>\n",
       "<path fill=\"none\" stroke=\"black\" stroke-width=\".3\" stroke-opacity=\"1.0\" filling=\"0\" d=\"M159.84375 81.0 L159.0 82.03125\"/>\n",
       "<path fill=\"none\" stroke=\"black\" stroke-width=\".3\" stroke-opacity=\"1.0\" filling=\"0\" d=\"M160.21875 81.0 L159.46875 82.03125\"/>\n",
       "<path fill=\"none\" stroke=\"black\" stroke-width=\".3\" stroke-opacity=\"1.0\" filling=\"0\" d=\"M160.03125 81.0 L159.46875 82.03125\"/>\n",
       "<path fill=\"none\" stroke=\"black\" stroke-width=\".3\" stroke-opacity=\"1.0\" filling=\"0\" d=\"M160.21875 81.0 L159.84375 82.03125\"/>\n",
       "<path fill=\"none\" stroke=\"black\" stroke-width=\".3\" stroke-opacity=\"1.0\" filling=\"0\" d=\"M180.0 85.40625 L178.40625 84.75 L177.5625 83.625 L177.5625 82.3125 L177.9375 81.09375 L178.96875 80.34375 L180.09375 80.53125 L180.5625 81.09375 L180.84375 82.5 L180.65625 84.1875\"/>\n",
       "<path fill=\"none\" stroke=\"black\" stroke-width=\".3\" stroke-opacity=\"1.0\" filling=\"0\" d=\"M180.84375 86.0625 L178.78125 85.6875 L177.84375 84.84375 L177.46875 83.625 L177.5625 82.03125 L178.3125 81.09375 L179.625 81.0 L180.28125 81.28125 L180.5625 82.5 L180.5625 84.65625\"/>\n",
       "<path fill=\"none\" stroke=\"black\" stroke-width=\".3\" stroke-opacity=\"1.0\" filling=\"0\" d=\"M181.21875 87.84375 L179.4375 87.09375 L178.59375 85.59375 L178.59375 84.0 L178.78125 82.03125 L179.71875 81.375 L180.84375 81.46875 L181.3125 82.3125 L181.3125 84.84375 L181.3125 86.34375\"/>\n",
       "<path fill=\"none\" stroke=\"black\" stroke-width=\".3\" stroke-opacity=\"1.0\" filling=\"0\" d=\"M181.59375 88.78125 L180.1875 88.40625 L179.4375 86.625 L179.625 84.46875 L180.0 82.5 L181.03125 82.03125 L181.875 82.5 L182.25 84.09375 L182.25 86.34375 L181.875 87.9375\"/>\n",
       "<path fill=\"none\" stroke=\"black\" stroke-width=\".3\" stroke-opacity=\"1.0\" filling=\"0\" d=\"M181.59375 89.34375 L180.46875 88.6875 L180.0 86.8125 L180.1875 84.84375 L181.03125 83.0625 L181.96875 82.59375 L182.4375 83.34375 L183.09375 85.21875 L183.1875 87.375 L182.4375 88.59375\"/>\n",
       "<path fill=\"none\" stroke=\"black\" stroke-width=\".3\" stroke-opacity=\"1.0\" filling=\"0\" d=\"M175.875 79.87499237060547 M175.875 79.87499237060547\"/>\n",
       "<path fill=\"none\" stroke=\"black\" stroke-width=\".3\" stroke-opacity=\"1.0\" filling=\"0\" d=\"M175.875 79.87499237060547 M175.875 79.87499237060547\"/>\n",
       "<path fill=\"none\" stroke=\"black\" stroke-width=\".3\" stroke-opacity=\"1.0\" filling=\"0\" d=\"M175.875 79.87499237060547 M175.875 79.87499237060547\"/>\n",
       "<path fill=\"none\" stroke=\"black\" stroke-width=\".3\" stroke-opacity=\"1.0\" filling=\"0\" d=\"M205.40625 78.1875 L204.84375 82.40625 L203.71875 82.40625 L202.59375 83.25 L201.5625 83.625 L200.90625 83.625 L200.34375 84.09375 L200.34375 84.84375\"/>\n",
       "<path fill=\"none\" stroke=\"black\" stroke-width=\".3\" stroke-opacity=\"1.0\" filling=\"0\" d=\"M205.6875 86.34375 L205.3125 83.15625 L204.375 84.09375 L203.0625 84.84375 L202.40625 85.03125 L201.84375 84.75 L201.1875 84.75\"/>\n",
       "<path fill=\"none\" stroke=\"black\" stroke-width=\".3\" stroke-opacity=\"1.0\" filling=\"0\" d=\"M205.40625 86.34375 L204.84375 84.9375 L203.90625 84.75 L202.78125 84.84375 L202.03125 84.84375 L201.5625 84.75 L201.0 84.75 L200.90625 84.1875\"/>\n",
       "<path fill=\"none\" stroke=\"black\" stroke-width=\".3\" stroke-opacity=\"1.0\" filling=\"0\" d=\"M205.40625 86.71875 L204.84375 85.3125 L203.90625 84.46875 L202.78125 84.84375 L201.84375 84.46875 L201.5625 84.375 L200.90625 84.75 L200.90625 84.75\"/>\n",
       "<path fill=\"none\" stroke=\"black\" stroke-width=\".3\" stroke-opacity=\"1.0\" filling=\"0\" d=\"M205.125 86.71875 L204.84375 85.5 L203.90625 84.46875 L202.78125 84.46875 L201.84375 84.46875 L201.5625 84.1875 L200.90625 84.75 L200.90625 84.75\"/>\n",
       "<path fill=\"none\" stroke=\"black\" stroke-width=\".3\" stroke-opacity=\"1.0\" filling=\"0\" d=\"M204.9375 86.71875 L204.375 86.15625 L203.71875 84.75 L202.59375 84.46875 L201.84375 83.71875 L201.1875 83.625 L200.90625 84.1875 L200.8125 84.84375 L201.1875 85.6875\"/>\n",
       "<path fill=\"none\" stroke=\"black\" stroke-width=\".3\" stroke-opacity=\"1.0\" filling=\"0\" d=\"M204.84375 86.71875 L204.375 86.15625 L203.4375 84.375 L202.40625 84.0 L201.5625 83.625 L201.1875 83.625 L200.71875 84.1875 L200.8125 85.21875 L201.1875 86.25\"/>\n",
       "<path fill=\"none\" stroke=\"black\" stroke-width=\".3\" stroke-opacity=\"1.0\" filling=\"0\" d=\"M204.84375 86.53125 L204.1875 85.875 L203.4375 84.09375 L202.40625 83.71875 L201.28125 83.25 L201.0 83.25 L200.71875 84.1875 L200.8125 84.84375 L201.1875 86.25\"/>\n",
       "<path fill=\"none\" stroke=\"black\" stroke-width=\".3\" stroke-opacity=\"1.0\" filling=\"0\" d=\"M231.75 82.3125 L230.25 92.4375\"/>\n",
       "<path fill=\"none\" stroke=\"black\" stroke-width=\".3\" stroke-opacity=\"1.0\" filling=\"0\" d=\"M232.3125 82.6875 L230.25 92.4375\"/>\n",
       "<path fill=\"none\" stroke=\"black\" stroke-width=\".3\" stroke-opacity=\"1.0\" filling=\"0\" d=\"M232.3125 82.6875 L230.25 92.4375\"/>\n",
       "<path fill=\"none\" stroke=\"black\" stroke-width=\".3\" stroke-opacity=\"1.0\" filling=\"0\" d=\"M232.125 82.6875 L230.25 92.4375\"/>\n",
       "<path fill=\"none\" stroke=\"black\" stroke-width=\".3\" stroke-opacity=\"1.0\" filling=\"0\" d=\"M231.75 82.6875 L230.25 92.4375\"/>\n",
       "<path fill=\"none\" stroke=\"black\" stroke-width=\".3\" stroke-opacity=\"1.0\" filling=\"0\" d=\"M231.1875 82.6875 L230.25 92.4375\"/>\n",
       "<path fill=\"none\" stroke=\"black\" stroke-width=\".3\" stroke-opacity=\"1.0\" filling=\"0\" d=\"M230.90625 82.6875 L230.25 82.6875\"/>\n",
       "<path fill=\"none\" stroke=\"black\" stroke-width=\".3\" stroke-opacity=\"1.0\" filling=\"0\" d=\"M223.875 79.87499237060547 M223.875 79.87499237060547\"/>\n",
       "<path fill=\"none\" stroke=\"black\" stroke-width=\".3\" stroke-opacity=\"1.0\" filling=\"0\" d=\"M258.75 86.0625 L258.28125 85.3125 L256.78125 84.0 L254.0625 82.6875 L252.1875 82.03125 L250.03125 82.3125 L248.8125 83.90625 L248.0625 85.21875 L247.6875 86.25\"/>\n",
       "<path fill=\"none\" stroke=\"black\" stroke-width=\".3\" stroke-opacity=\"1.0\" filling=\"0\" d=\"M259.03125 85.5 L258.75 85.5 L255.5625 85.5 L252.75 85.5 L250.40625 84.46875 L248.8125 83.90625\"/>\n",
       "<path fill=\"none\" stroke=\"black\" stroke-width=\".3\" stroke-opacity=\"1.0\" filling=\"0\" d=\"M259.03125 85.78125 L258.75 85.5 L254.25 85.96875 L252.5625 85.5 L250.21875 84.75 L248.625 84.0 L248.0625 83.53125\"/>\n",
       "<path fill=\"none\" stroke=\"black\" stroke-width=\".3\" stroke-opacity=\"1.0\" filling=\"0\" d=\"M259.03125 86.0625 L258.75 85.96875 L254.25 85.96875 L252.75 85.5 L250.21875 84.84375 L248.625 84.375 L248.0625 83.625\"/>\n",
       "<path fill=\"none\" stroke=\"black\" stroke-width=\".3\" stroke-opacity=\"1.0\" filling=\"0\" d=\"M259.6875 86.34375 L258.75 86.0625 L254.25 86.0625 L252.75 85.5 L250.40625 84.84375 L248.8125 84.375 L248.625 83.53125\"/>\n",
       "<path fill=\"none\" stroke=\"black\" stroke-width=\".3\" stroke-opacity=\"1.0\" filling=\"0\" d=\"M259.6875 86.71875 L259.125 86.71875 L254.25 86.34375 L253.3125 85.5 L251.53125 84.84375 L249.375 83.90625 L248.625 83.90625 L248.0625 83.625\"/>\n",
       "<path fill=\"none\" stroke=\"black\" stroke-width=\".3\" stroke-opacity=\"1.0\" filling=\"0\" d=\"M259.6875 87.09375 L259.125 86.71875 L257.8125 86.71875 L253.3125 86.15625 L251.53125 85.125 L249.375 84.375 L248.625 83.90625 L248.0625 83.90625\"/>\n",
       "<path fill=\"none\" stroke=\"black\" stroke-width=\".3\" stroke-opacity=\"1.0\" filling=\"0\" d=\"M259.6875 87.375 L259.6875 87.09375 L257.8125 86.71875 L253.3125 86.15625 L252.09375 85.125 L250.21875 83.90625 L248.8125 83.53125 L248.0625 83.90625\"/>\n",
       "<path fill=\"none\" stroke=\"black\" stroke-width=\".3\" stroke-opacity=\"1.0\" filling=\"0\" d=\"M277.21875 80.8125 L276.1875 84.46875 L274.21875 85.96875 L272.53125 85.96875 L271.875 84.5625 L271.6875 80.53125\"/>\n",
       "<path fill=\"none\" stroke=\"black\" stroke-width=\".3\" stroke-opacity=\"1.0\" filling=\"0\" d=\"M277.6875 83.25 L276.375 85.03125 L273.46875 87.5625 L272.53125 85.96875 L272.15625 82.78125\"/>\n",
       "<path fill=\"none\" stroke=\"black\" stroke-width=\".3\" stroke-opacity=\"1.0\" filling=\"0\" d=\"M277.96875 89.15625 L276.65625 85.96875 L273.65625 88.21875 L273.0 85.96875\"/>\n",
       "<path fill=\"none\" stroke=\"black\" stroke-width=\".3\" stroke-opacity=\"1.0\" filling=\"0\" d=\"M278.0625 89.34375 L276.84375 85.96875 L273.75 87.5625 L273.375 85.96875\"/>\n",
       "<path fill=\"none\" stroke=\"black\" stroke-width=\".3\" stroke-opacity=\"1.0\" filling=\"0\" d=\"M278.25 89.53125 L276.9375 86.25 L273.9375 85.96875 L273.46875 85.3125\"/>\n",
       "<path fill=\"none\" stroke=\"black\" stroke-width=\".3\" stroke-opacity=\"1.0\" filling=\"0\" d=\"M271.875 79.87499237060547 M271.875 79.87499237060547\"/>\n",
       "<path fill=\"none\" stroke=\"black\" stroke-width=\".3\" stroke-opacity=\"1.0\" filling=\"0\" d=\"M271.875 79.87499237060547 M271.875 79.87499237060547\"/>\n",
       "<path fill=\"none\" stroke=\"black\" stroke-width=\".3\" stroke-opacity=\"1.0\" filling=\"0\" d=\"M271.875 79.87499237060547 M271.875 79.87499237060547\"/>\n",
       "<path fill=\"none\" stroke=\"black\" stroke-width=\".3\" stroke-opacity=\"1.0\" filling=\"0\" d=\"M299.4375 82.3125 L299.0625 81.65625 L299.0625 81.28125 L298.21875 80.90625 L296.90625 80.8125 L295.96875 81.375 L295.40625 82.03125 L294.75 82.6875\"/>\n",
       "<path fill=\"none\" stroke=\"black\" stroke-width=\".3\" stroke-opacity=\"1.0\" filling=\"0\" d=\"M300.75 81.65625 L300.46875 80.71875 L300.75 80.25 L300.375 80.0625 L299.4375 80.25 L298.40625 80.53125 L297.28125 81.1875 L296.625 82.03125\"/>\n",
       "<path fill=\"none\" stroke=\"black\" stroke-width=\".3\" stroke-opacity=\"1.0\" filling=\"0\" d=\"M301.125 81.84375 L300.75 80.90625 L301.03125 80.25 L300.75 80.25 L299.90625 80.25 L299.0625 80.53125 L297.9375 81.0 L296.90625 81.84375 L296.90625 82.6875\"/>\n",
       "<path fill=\"none\" stroke=\"black\" stroke-width=\".3\" stroke-opacity=\"1.0\" filling=\"0\" d=\"M295.875 79.87499237060547 M295.875 79.87499237060547\"/>\n",
       "<path fill=\"none\" stroke=\"black\" stroke-width=\".3\" stroke-opacity=\"1.0\" filling=\"0\" d=\"M295.875 79.87499237060547 M295.875 79.87499237060547\"/>\n",
       "<path fill=\"none\" stroke=\"black\" stroke-width=\".3\" stroke-opacity=\"1.0\" filling=\"0\" d=\"M295.875 79.87499237060547 M295.875 79.87499237060547\"/>\n",
       "<path fill=\"none\" stroke=\"black\" stroke-width=\".3\" stroke-opacity=\"1.0\" filling=\"0\" d=\"M295.875 79.87499237060547 M295.875 79.87499237060547\"/>\n",
       "<path fill=\"none\" stroke=\"black\" stroke-width=\".3\" stroke-opacity=\"1.0\" filling=\"0\" d=\"M295.875 79.87499237060547 M295.875 79.87499237060547\"/>\n",
       "<path fill=\"none\" stroke=\"black\" stroke-width=\".3\" stroke-opacity=\"1.0\" filling=\"0\" d=\"M322.40625 88.6875 L322.40625 88.875 L322.03125 89.4375\"/>\n",
       "<path fill=\"none\" stroke=\"black\" stroke-width=\".3\" stroke-opacity=\"1.0\" filling=\"0\" d=\"M324.09375 87.65625 L323.8125 76.5 L323.53125 76.5 L323.53125 76.5 L323.15625 88.21875 L322.78125 87.09375 L322.3125 86.34375 L321.84375 83.0625 L321.9375 80.625\"/>\n",
       "<path fill=\"none\" stroke=\"black\" stroke-width=\".3\" stroke-opacity=\"1.0\" filling=\"0\" d=\"M324.28125 87.65625 L324.09375 76.5 L323.8125 76.5 L323.8125 76.5 L323.8125 75.9375 L323.53125 86.625 L322.96875 86.34375 L322.6875 83.0625 L322.40625 81.09375\"/>\n",
       "<path fill=\"none\" stroke=\"black\" stroke-width=\".3\" stroke-opacity=\"1.0\" filling=\"0\" d=\"M324.09375 87.65625 L324.09375 75.9375 L324.28125 76.40625 L324.46875 75.9375 L324.46875 87.09375 L324.09375 86.625 L323.25 86.34375 L322.6875 85.59375\"/>\n",
       "<path fill=\"none\" stroke=\"black\" stroke-width=\".3\" stroke-opacity=\"1.0\" filling=\"0\" d=\"M323.34375 87.65625 L324.09375 75.9375 L324.46875 75.9375 L324.65625 75.9375 L324.65625 87.09375 L324.1875 87.0 L323.25 86.625 L322.875 86.34375\"/>\n",
       "<path fill=\"none\" stroke=\"black\" stroke-width=\".3\" stroke-opacity=\"1.0\" filling=\"0\" d=\"M323.0625 87.65625 L324.09375 75.9375 L324.46875 75.9375 L324.75 75.9375 L324.84375 86.625 L324.375 86.71875 L323.53125 86.625 L323.25 86.34375\"/>\n",
       "<path fill=\"none\" stroke=\"black\" stroke-width=\".3\" stroke-opacity=\"1.0\" filling=\"0\" d=\"M319.875 79.87499237060547 M319.875 79.87499237060547\"/>\n",
       "<path fill=\"none\" stroke=\"black\" stroke-width=\".3\" stroke-opacity=\"1.0\" filling=\"0\" d=\"M319.875 79.87499237060547 M319.875 79.87499237060547\"/>\n",
       "<path fill=\"none\" stroke=\"black\" stroke-width=\".3\" stroke-opacity=\"1.0\" filling=\"0\" d=\"M351.1875 79.40625 L350.34375 79.40625 L349.40625 79.40625 L348.5625 79.125 L347.71875 79.3125\"/>\n",
       "<path fill=\"none\" stroke=\"black\" stroke-width=\".3\" stroke-opacity=\"1.0\" filling=\"0\" d=\"M350.15625 80.53125 L348.9375 80.90625 L348.0 80.90625 L347.34375 81.0\"/>\n",
       "<path fill=\"none\" stroke=\"black\" stroke-width=\".3\" stroke-opacity=\"1.0\" filling=\"0\" d=\"M350.15625 80.71875 L348.65625 81.0 L347.71875 81.1875 L347.0625 81.375 L346.5 80.8125\"/>\n",
       "<path fill=\"none\" stroke=\"black\" stroke-width=\".3\" stroke-opacity=\"1.0\" filling=\"0\" d=\"M350.15625 81.0 L348.1875 81.5625 L347.53125 81.65625 L346.78125 81.75 L346.21875 81.09375 L346.5 80.8125\"/>\n",
       "<path fill=\"none\" stroke=\"black\" stroke-width=\".3\" stroke-opacity=\"1.0\" filling=\"0\" d=\"M350.15625 81.46875 L348.1875 82.03125 L347.15625 82.59375 L346.40625 82.59375 L345.9375 81.5625 L346.21875 80.8125 L346.5 80.4375 L347.15625 79.96875 L348.28125 79.96875 L349.125 80.34375 L349.78125 80.8125\"/>\n",
       "<path fill=\"none\" stroke=\"black\" stroke-width=\".3\" stroke-opacity=\"1.0\" filling=\"0\" d=\"M350.15625 82.03125 L348.0 84.46875 L347.0625 84.75 L346.21875 83.71875 L345.65625 82.03125 L345.84375 81.09375 L346.3125 80.4375 L347.15625 79.96875 L348.1875 79.96875 L349.125 79.96875 L350.15625 80.8125 L350.71875 82.03125\"/>\n",
       "<path fill=\"none\" stroke=\"black\" stroke-width=\".3\" stroke-opacity=\"1.0\" filling=\"0\" d=\"M350.15625 82.03125 L347.71875 87.0 L346.875 86.0625 L346.21875 84.46875 L345.65625 82.59375 L345.84375 81.1875 L346.3125 80.53125 L347.0625 80.15625 L348.1875 79.96875 L349.3125 80.15625 L350.15625 80.90625 L351.09375 82.03125\"/>\n",
       "<path fill=\"none\" stroke=\"black\" stroke-width=\".3\" stroke-opacity=\"1.0\" filling=\"0\" d=\"M350.15625 90.09375 L347.71875 88.03125 L346.875 86.0625 L346.21875 84.75 L345.65625 83.25 L345.65625 81.5625 L346.3125 80.8125 L346.96875 80.25 L348.1875 79.96875 L349.3125 79.96875 L350.15625 80.53125 L351.09375 81.75 L351.375 83.0625 L351.65625 84.0 L351.375 85.875 L351.09375 88.21875 L350.0625 90.09375\"/>\n",
       "<path fill=\"none\" stroke=\"black\" stroke-width=\".3\" stroke-opacity=\"1.0\" filling=\"0\" d=\"M380.0625 87.375 L372.65625 87.65625 L372.0 82.96875 L371.34375 81.5625 L371.25 80.0625 L371.53125 79.96875 L372.5625 79.125\"/>\n",
       "<path fill=\"none\" stroke=\"black\" stroke-width=\".3\" stroke-opacity=\"1.0\" filling=\"0\" d=\"M367.875 79.87499237060547 M367.875 79.87499237060547\"/>\n",
       "<path fill=\"none\" stroke=\"black\" stroke-width=\".3\" stroke-opacity=\"1.0\" filling=\"0\" d=\"M367.875 79.87499237060547 M367.875 79.87499237060547\"/>\n",
       "<path fill=\"none\" stroke=\"black\" stroke-width=\".3\" stroke-opacity=\"1.0\" filling=\"0\" d=\"M367.875 79.87499237060547 M367.875 79.87499237060547\"/>\n",
       "<path fill=\"none\" stroke=\"black\" stroke-width=\".3\" stroke-opacity=\"1.0\" filling=\"0\" d=\"M367.875 79.87499237060547 M367.875 79.87499237060547\"/>\n",
       "<path fill=\"none\" stroke=\"black\" stroke-width=\".3\" stroke-opacity=\"1.0\" filling=\"0\" d=\"M367.875 79.87499237060547 M367.875 79.87499237060547\"/>\n",
       "<path fill=\"none\" stroke=\"black\" stroke-width=\".3\" stroke-opacity=\"1.0\" filling=\"0\" d=\"M367.875 79.87499237060547 M367.875 79.87499237060547\"/>\n",
       "<path fill=\"none\" stroke=\"black\" stroke-width=\".3\" stroke-opacity=\"1.0\" filling=\"0\" d=\"M367.875 79.87499237060547 M367.875 79.87499237060547\"/>\n",
       "<path fill=\"none\" stroke=\"black\" stroke-width=\".3\" stroke-opacity=\"1.0\" filling=\"0\" d=\"M391.3125 75.65625 L391.3125 75.65625 L392.625 81.28125 L393.9375 81.28125\"/>\n",
       "<path fill=\"none\" stroke=\"black\" stroke-width=\".3\" stroke-opacity=\"1.0\" filling=\"0\" d=\"M391.3125 75.65625 L390.5625 81.5625 L391.21875 81.28125\"/>\n",
       "<path fill=\"none\" stroke=\"black\" stroke-width=\".3\" stroke-opacity=\"1.0\" filling=\"0\" d=\"M396.46875 75.65625 L391.3125 81.5625 L391.3125 81.5625\"/>\n",
       "<path fill=\"none\" stroke=\"black\" stroke-width=\".3\" stroke-opacity=\"1.0\" filling=\"0\" d=\"M396.75 75.65625 L391.3125 81.5625 L391.3125 81.5625\"/>\n",
       "<path fill=\"none\" stroke=\"black\" stroke-width=\".3\" stroke-opacity=\"1.0\" filling=\"0\" d=\"M396.75 75.65625 L391.3125 81.5625 L392.4375 81.5625\"/>\n",
       "<path fill=\"none\" stroke=\"black\" stroke-width=\".3\" stroke-opacity=\"1.0\" filling=\"0\" d=\"M396.46875 75.9375 L394.21875 81.5625 L391.3125 81.5625\"/>\n",
       "<path fill=\"none\" stroke=\"black\" stroke-width=\".3\" stroke-opacity=\"1.0\" filling=\"0\" d=\"M396.46875 75.9375 L393.9375 81.5625 L391.21875 81.9375\"/>\n",
       "<path fill=\"none\" stroke=\"black\" stroke-width=\".3\" stroke-opacity=\"1.0\" filling=\"0\" d=\"M394.40625 75.9375 L393.9375 81.5625 L392.625 82.6875\"/>\n",
       "<path fill=\"none\" stroke=\"black\" stroke-width=\".3\" stroke-opacity=\"1.0\" filling=\"0\" d=\"M420.9375 88.21875 L417.46875 87.09375 L417.46875 84.46875 L417.0 81.65625 L416.34375 80.25 L415.875 79.3125 L415.40625 79.125 L415.40625 79.03125 L415.40625 78.75 L415.40625 79.125 L415.40625 79.21875 L415.96875 79.5\"/>\n",
       "<path fill=\"none\" stroke=\"black\" stroke-width=\".3\" stroke-opacity=\"1.0\" filling=\"0\" d=\"M420.9375 88.6875 L419.53125 88.40625 L418.40625 87.84375 L417.46875 85.5 L416.90625 82.40625 L416.34375 81.28125 L415.875 80.25 L415.6875 80.25 L415.40625 79.96875 L415.40625 79.96875\"/>\n",
       "<path fill=\"none\" stroke=\"black\" stroke-width=\".3\" stroke-opacity=\"1.0\" filling=\"0\" d=\"M420.46875 88.6875 L419.15625 88.21875 L418.03125 87.65625 L417.46875 84.46875 L416.71875 82.03125 L415.96875 80.90625 L415.6875 80.25 L415.40625 79.875 L415.03125 79.96875 L415.03125 80.25\"/>\n",
       "<path fill=\"none\" stroke=\"black\" stroke-width=\".3\" stroke-opacity=\"1.0\" filling=\"0\" d=\"M415.875 79.87499237060547 M415.875 79.87499237060547\"/>\n",
       "<path fill=\"none\" stroke=\"black\" stroke-width=\".3\" stroke-opacity=\"1.0\" filling=\"0\" d=\"M415.875 79.87499237060547 M415.875 79.87499237060547\"/>\n",
       "<path fill=\"none\" stroke=\"black\" stroke-width=\".3\" stroke-opacity=\"1.0\" filling=\"0\" d=\"M415.875 79.87499237060547 M415.875 79.87499237060547\"/>\n",
       "<path fill=\"none\" stroke=\"black\" stroke-width=\".3\" stroke-opacity=\"1.0\" filling=\"0\" d=\"M415.875 79.87499237060547 M415.875 79.87499237060547\"/>\n",
       "<path fill=\"none\" stroke=\"black\" stroke-width=\".3\" stroke-opacity=\"1.0\" filling=\"0\" d=\"M415.875 79.87499237060547 M415.875 79.87499237060547\"/>\n",
       "<path fill=\"none\" stroke=\"black\" stroke-width=\".3\" stroke-opacity=\"1.0\" filling=\"0\" d=\"M444.84375 88.21875 L441.5625 76.59375 L439.875 76.40625 L439.40625 76.03125 L438.5625 85.03125 L438.5625 81.5625 L439.21875 78.75 L439.875 77.8125 L441.9375 77.53125 L442.96875 78.09375 L444.5625 78.75 L444.9375 79.96875\"/>\n",
       "<path fill=\"none\" stroke=\"black\" stroke-width=\".3\" stroke-opacity=\"1.0\" filling=\"0\" d=\"M444.09375 88.78125 L440.8125 89.8125 L439.3125 76.40625 L438.84375 76.03125 L438.5625 85.875 L438.5625 81.5625 L439.21875 79.875 L440.34375 78.9375 L441.9375 78.75 L443.8125 78.9375 L444.84375 79.78125 L445.3125 81.5625 L445.59375 83.8125\"/>\n",
       "<path fill=\"none\" stroke=\"black\" stroke-width=\".3\" stroke-opacity=\"1.0\" filling=\"0\" d=\"M444.09375 89.34375 L440.8125 89.8125 L439.5 77.15625 L438.9375 76.40625 L438.5625 85.96875 L438.5625 82.21875 L439.21875 79.96875 L440.34375 79.125 L441.9375 78.75 L443.8125 78.9375 L444.9375 79.78125 L445.59375 81.5625 L445.78125 83.8125\"/>\n",
       "<path fill=\"none\" stroke=\"black\" stroke-width=\".3\" stroke-opacity=\"1.0\" filling=\"0\" d=\"M444.09375 89.625 L441.375 90.1875 L439.875 89.625 L439.03125 88.5 L438.5625 86.25 L438.5625 82.6875 L439.21875 80.25 L440.34375 79.40625 L441.9375 78.9375 L443.8125 79.125 L445.03125 79.96875 L445.6875 81.5625 L446.0625 83.8125 L446.0625 85.875 L445.59375 87.65625 L445.125 88.78125\"/>\n",
       "<path fill=\"none\" stroke=\"black\" stroke-width=\".3\" stroke-opacity=\"1.0\" filling=\"0\" d=\"M439.875 79.87499237060547 M439.875 79.87499237060547\"/>\n",
       "<path fill=\"none\" stroke=\"black\" stroke-width=\".3\" stroke-opacity=\"1.0\" filling=\"0\" d=\"M439.875 79.87499237060547 M439.875 79.87499237060547\"/>\n",
       "<path fill=\"none\" stroke=\"black\" stroke-width=\".3\" stroke-opacity=\"1.0\" filling=\"0\" d=\"M439.875 79.87499237060547 M439.875 79.87499237060547\"/>\n",
       "<path fill=\"none\" stroke=\"black\" stroke-width=\".3\" stroke-opacity=\"1.0\" filling=\"0\" d=\"M439.875 79.87499237060547 M439.875 79.87499237060547\"/>\n",
       "<path fill=\"none\" stroke=\"black\" stroke-width=\".3\" stroke-opacity=\"1.0\" filling=\"0\" d=\"M468.46875 78.75 L468.84375 78.5625 L469.40625 81.46875 L469.59375 84.46875\"/>\n",
       "<path fill=\"none\" stroke=\"black\" stroke-width=\".3\" stroke-opacity=\"1.0\" filling=\"0\" d=\"M468.28125 78.75 L469.875 77.90625 L470.25 78.75 L470.25 82.03125 L469.78125 83.8125\"/>\n",
       "<path fill=\"none\" stroke=\"black\" stroke-width=\".3\" stroke-opacity=\"1.0\" filling=\"0\" d=\"M468.65625 79.125 L469.875 78.28125 L470.25 79.40625 L470.0625 82.3125 L469.78125 83.8125\"/>\n",
       "<path fill=\"none\" stroke=\"black\" stroke-width=\".3\" stroke-opacity=\"1.0\" filling=\"0\" d=\"M469.125 79.21875 L469.875 78.5625 L470.0625 79.96875 L469.875 82.3125 L469.78125 83.8125\"/>\n",
       "<path fill=\"none\" stroke=\"black\" stroke-width=\".3\" stroke-opacity=\"1.0\" filling=\"0\" d=\"M469.125 79.21875 L469.59375 78.75 L469.875 80.34375 L469.78125 82.59375 L469.78125 83.71875\"/>\n",
       "<path fill=\"none\" stroke=\"black\" stroke-width=\".3\" stroke-opacity=\"1.0\" filling=\"0\" d=\"M470.0625 79.96875 L469.40625 79.59375 L469.40625 80.8125 L469.3125 82.3125\"/>\n",
       "<path fill=\"none\" stroke=\"black\" stroke-width=\".3\" stroke-opacity=\"1.0\" filling=\"0\" d=\"M470.0625 80.8125 L469.125 80.34375 L469.03125 81.1875 L469.125 82.3125\"/>\n",
       "<path fill=\"none\" stroke=\"black\" stroke-width=\".3\" stroke-opacity=\"1.0\" filling=\"0\" d=\"M470.0625 81.5625 L468.84375 81.5625 L468.65625 81.65625 L468.5625 82.03125\"/>\n",
       "<path fill=\"none\" stroke=\"black\" stroke-width=\".3\" stroke-opacity=\"1.0\" filling=\"0\" d=\"M494.25 79.125 L491.34375 82.6875\"/>\n",
       "<path fill=\"none\" stroke=\"black\" stroke-width=\".3\" stroke-opacity=\"1.0\" filling=\"0\" d=\"M487.875 79.87499237060547 M487.875 79.87499237060547\"/>\n",
       "<path fill=\"none\" stroke=\"black\" stroke-width=\".3\" stroke-opacity=\"1.0\" filling=\"0\" d=\"M487.875 79.87499237060547 M487.875 79.87499237060547\"/>\n",
       "<path fill=\"none\" stroke=\"black\" stroke-width=\".3\" stroke-opacity=\"1.0\" filling=\"0\" d=\"M487.875 79.87499237060547 M487.875 79.87499237060547\"/>\n",
       "<path fill=\"none\" stroke=\"black\" stroke-width=\".3\" stroke-opacity=\"1.0\" filling=\"0\" d=\"M487.875 79.87499237060547 M487.875 79.87499237060547\"/>\n",
       "<path fill=\"none\" stroke=\"black\" stroke-width=\".3\" stroke-opacity=\"1.0\" filling=\"0\" d=\"M487.875 79.87499237060547 M487.875 79.87499237060547\"/>\n",
       "<path fill=\"none\" stroke=\"black\" stroke-width=\".3\" stroke-opacity=\"1.0\" filling=\"0\" d=\"M487.875 79.87499237060547 M487.875 79.87499237060547\"/>\n",
       "<path fill=\"none\" stroke=\"black\" stroke-width=\".3\" stroke-opacity=\"1.0\" filling=\"0\" d=\"M487.875 79.87499237060547 M487.875 79.87499237060547\"/>\n",
       "<path fill=\"none\" stroke=\"black\" stroke-width=\".3\" stroke-opacity=\"1.0\" filling=\"0\" d=\"M520.96875 79.78125 L520.21875 83.15625 L517.6875 87.9375 L516.65625 88.59375 L516.0 88.59375 L515.71875 88.5\"/>\n",
       "<path fill=\"none\" stroke=\"black\" stroke-width=\".3\" stroke-opacity=\"1.0\" filling=\"0\" d=\"M521.15625 88.875 L520.03125 89.25 L517.40625 89.4375 L516.28125 88.875 L515.53125 87.65625 L515.25 84.75\"/>\n",
       "<path fill=\"none\" stroke=\"black\" stroke-width=\".3\" stroke-opacity=\"1.0\" filling=\"0\" d=\"M520.96875 89.25 L519.65625 89.625 L516.75 89.53125 L515.90625 88.875 L515.4375 87.0\"/>\n",
       "<path fill=\"none\" stroke=\"black\" stroke-width=\".3\" stroke-opacity=\"1.0\" filling=\"0\" d=\"M511.875 79.87499237060547 M511.875 79.87499237060547\"/>\n",
       "<path fill=\"none\" stroke=\"black\" stroke-width=\".3\" stroke-opacity=\"1.0\" filling=\"0\" d=\"M511.875 79.87499237060547 M511.875 79.87499237060547\"/>\n",
       "<path fill=\"none\" stroke=\"black\" stroke-width=\".3\" stroke-opacity=\"1.0\" filling=\"0\" d=\"M511.875 79.87499237060547 M511.875 79.87499237060547\"/>\n",
       "<path fill=\"none\" stroke=\"black\" stroke-width=\".3\" stroke-opacity=\"1.0\" filling=\"0\" d=\"M511.875 79.87499237060547 M511.875 79.87499237060547\"/>\n",
       "<path fill=\"none\" stroke=\"black\" stroke-width=\".3\" stroke-opacity=\"1.0\" filling=\"0\" d=\"M511.875 79.87499237060547 M511.875 79.87499237060547\"/>\n",
       "<path fill=\"none\" stroke=\"black\" stroke-width=\".3\" stroke-opacity=\"1.0\" filling=\"0\" d=\"M547.96875 90.46875 L547.6875 87.9375 L541.6875 85.125 L546.28125 83.0625 L543.84375 81.65625 L544.6875 81.5625 L546.09375 81.84375 L546.5625 82.03125 L547.40625 83.0625 L547.59375 84.1875 L547.59375 86.71875 L547.59375 87.375 L547.59375 88.5\"/>\n",
       "<path fill=\"none\" stroke=\"black\" stroke-width=\".3\" stroke-opacity=\"1.0\" filling=\"0\" d=\"M535.875 79.87499237060547 M535.875 79.87499237060547\"/>\n",
       "<path fill=\"none\" stroke=\"black\" stroke-width=\".3\" stroke-opacity=\"1.0\" filling=\"0\" d=\"M535.875 79.87499237060547 M535.875 79.87499237060547\"/>\n",
       "<path fill=\"none\" stroke=\"black\" stroke-width=\".3\" stroke-opacity=\"1.0\" filling=\"0\" d=\"M535.875 79.87499237060547 M535.875 79.87499237060547\"/>\n",
       "<path fill=\"none\" stroke=\"black\" stroke-width=\".3\" stroke-opacity=\"1.0\" filling=\"0\" d=\"M535.875 79.87499237060547 M535.875 79.87499237060547\"/>\n",
       "<path fill=\"none\" stroke=\"black\" stroke-width=\".3\" stroke-opacity=\"1.0\" filling=\"0\" d=\"M535.875 79.87499237060547 M535.875 79.87499237060547\"/>\n",
       "<path fill=\"none\" stroke=\"black\" stroke-width=\".3\" stroke-opacity=\"1.0\" filling=\"0\" d=\"M535.875 79.87499237060547 M535.875 79.87499237060547\"/>\n",
       "<path fill=\"none\" stroke=\"black\" stroke-width=\".3\" stroke-opacity=\"1.0\" filling=\"0\" d=\"M535.875 79.87499237060547 M535.875 79.87499237060547\"/>\n",
       "<path fill=\"none\" stroke=\"black\" stroke-width=\".3\" stroke-opacity=\"1.0\" filling=\"0\" d=\"M565.125 87.65625 L562.03125 88.125\"/>\n",
       "<path fill=\"none\" stroke=\"black\" stroke-width=\".3\" stroke-opacity=\"1.0\" filling=\"0\" d=\"M561.65625 85.875 L558.84375 86.625 L558.5625 85.875 L560.25 82.03125 L561.65625 82.03125\"/>\n",
       "<path fill=\"none\" stroke=\"black\" stroke-width=\".3\" stroke-opacity=\"1.0\" filling=\"0\" d=\"M561.65625 85.875 L558.84375 86.625 L558.0 85.875 L559.5 82.6875 L561.65625 82.03125\"/>\n",
       "<path fill=\"none\" stroke=\"black\" stroke-width=\".3\" stroke-opacity=\"1.0\" filling=\"0\" d=\"M559.96875 85.875 L558.0 86.625 L558.0 85.875 L559.5 82.6875 L561.65625 82.03125\"/>\n",
       "<path fill=\"none\" stroke=\"black\" stroke-width=\".3\" stroke-opacity=\"1.0\" filling=\"0\" d=\"M559.96875 85.875 L558.0 87.1875 L557.90625 85.875 L559.5 82.03125 L561.65625 81.65625\"/>\n",
       "<path fill=\"none\" stroke=\"black\" stroke-width=\".3\" stroke-opacity=\"1.0\" filling=\"0\" d=\"M559.875 87.0 L558.0 87.1875 L557.25 85.875 L558.84375 82.03125 L561.65625 81.375\"/>\n",
       "<path fill=\"none\" stroke=\"black\" stroke-width=\".3\" stroke-opacity=\"1.0\" filling=\"0\" d=\"M559.5 87.46875 L557.25 87.1875 L557.0625 85.875 L558.84375 81.65625 L561.65625 81.375 L562.5 82.03125\"/>\n",
       "<path fill=\"none\" stroke=\"black\" stroke-width=\".3\" stroke-opacity=\"1.0\" filling=\"0\" d=\"M559.875 79.87499237060547 M559.875 79.87499237060547\"/>\n",
       "<path fill=\"none\" stroke=\"black\" stroke-width=\".3\" stroke-opacity=\"1.0\" filling=\"0\" d=\"M592.875 87.375 L591.65625 87.375 L589.3125 87.65625 L588.0 87.375 L587.25 83.0625 L586.875 79.875 L586.875 78.375\"/>\n",
       "<path fill=\"none\" stroke=\"black\" stroke-width=\".3\" stroke-opacity=\"1.0\" filling=\"0\" d=\"M592.5 87.65625 L590.25 87.65625 L589.3125 87.65625 L588.0 88.03125\"/>\n",
       "<path fill=\"none\" stroke=\"black\" stroke-width=\".3\" stroke-opacity=\"1.0\" filling=\"0\" d=\"M592.5 87.65625 L590.25 87.65625 L589.59375 88.125\"/>\n",
       "<path fill=\"none\" stroke=\"black\" stroke-width=\".3\" stroke-opacity=\"1.0\" filling=\"0\" d=\"M592.3125 87.65625 L590.25 87.75 L589.3125 88.125\"/>\n",
       "<path fill=\"none\" stroke=\"black\" stroke-width=\".3\" stroke-opacity=\"1.0\" filling=\"0\" d=\"M592.21875 87.65625 L590.25 88.03125 L589.59375 88.125\"/>\n",
       "<path fill=\"none\" stroke=\"black\" stroke-width=\".3\" stroke-opacity=\"1.0\" filling=\"0\" d=\"M592.3125 87.65625 L590.25 88.03125 L589.96875 88.40625\"/>\n",
       "<path fill=\"none\" stroke=\"black\" stroke-width=\".3\" stroke-opacity=\"1.0\" filling=\"0\" d=\"M592.03125 82.6875 L590.25 88.03125 L589.96875 88.125\"/>\n",
       "<path fill=\"none\" stroke=\"black\" stroke-width=\".3\" stroke-opacity=\"1.0\" filling=\"0\" d=\"M591.65625 82.6875 L590.90625 88.03125 L590.25 88.125\"/>\n",
       "<path fill=\"none\" stroke=\"black\" stroke-width=\".3\" stroke-opacity=\"1.0\" filling=\"0\" d=\"M17.0625 111.65625 L15.9375 110.15625 L12.375 103.40625 L11.25 102.5625 L10.3125 102.5625 L8.25 106.59375 L6.75 110.53125\"/>\n",
       "<path fill=\"none\" stroke=\"black\" stroke-width=\".3\" stroke-opacity=\"1.0\" filling=\"0\" d=\"M7.874995708465576 103.87499237060547 M7.874995708465576 103.87499237060547\"/>\n",
       "<path fill=\"none\" stroke=\"black\" stroke-width=\".3\" stroke-opacity=\"1.0\" filling=\"0\" d=\"M7.874995708465576 103.87499237060547 M7.874995708465576 103.87499237060547\"/>\n",
       "<path fill=\"none\" stroke=\"black\" stroke-width=\".3\" stroke-opacity=\"1.0\" filling=\"0\" d=\"M7.874995708465576 103.87499237060547 M7.874995708465576 103.87499237060547\"/>\n",
       "<path fill=\"none\" stroke=\"black\" stroke-width=\".3\" stroke-opacity=\"1.0\" filling=\"0\" d=\"M7.874995708465576 103.87499237060547 M7.874995708465576 103.87499237060547\"/>\n",
       "<path fill=\"none\" stroke=\"black\" stroke-width=\".3\" stroke-opacity=\"1.0\" filling=\"0\" d=\"M7.874995708465576 103.87499237060547 M7.874995708465576 103.87499237060547\"/>\n",
       "<path fill=\"none\" stroke=\"black\" stroke-width=\".3\" stroke-opacity=\"1.0\" filling=\"0\" d=\"M7.874995708465576 103.87499237060547 M7.874995708465576 103.87499237060547\"/>\n",
       "<path fill=\"none\" stroke=\"black\" stroke-width=\".3\" stroke-opacity=\"1.0\" filling=\"0\" d=\"M7.874995708465576 103.87499237060547 M7.874995708465576 103.87499237060547\"/>\n",
       "<path fill=\"none\" stroke=\"black\" stroke-width=\".3\" stroke-opacity=\"1.0\" filling=\"0\" d=\"M31.874996185302734 103.87499237060547 M31.874996185302734 103.87499237060547\"/>\n",
       "<path fill=\"none\" stroke=\"black\" stroke-width=\".3\" stroke-opacity=\"1.0\" filling=\"0\" d=\"M31.874996185302734 103.87499237060547 M31.874996185302734 103.87499237060547\"/>\n",
       "<path fill=\"none\" stroke=\"black\" stroke-width=\".3\" stroke-opacity=\"1.0\" filling=\"0\" d=\"M31.874996185302734 103.87499237060547 M31.874996185302734 103.87499237060547\"/>\n",
       "<path fill=\"none\" stroke=\"black\" stroke-width=\".3\" stroke-opacity=\"1.0\" filling=\"0\" d=\"M31.874996185302734 103.87499237060547 M31.874996185302734 103.87499237060547\"/>\n",
       "<path fill=\"none\" stroke=\"black\" stroke-width=\".3\" stroke-opacity=\"1.0\" filling=\"0\" d=\"M31.874996185302734 103.87499237060547 M31.874996185302734 103.87499237060547\"/>\n",
       "<path fill=\"none\" stroke=\"black\" stroke-width=\".3\" stroke-opacity=\"1.0\" filling=\"0\" d=\"M31.874996185302734 103.87499237060547 M31.874996185302734 103.87499237060547\"/>\n",
       "<path fill=\"none\" stroke=\"black\" stroke-width=\".3\" stroke-opacity=\"1.0\" filling=\"0\" d=\"M31.874996185302734 103.87499237060547 M31.874996185302734 103.87499237060547\"/>\n",
       "<path fill=\"none\" stroke=\"black\" stroke-width=\".3\" stroke-opacity=\"1.0\" filling=\"0\" d=\"M31.874996185302734 103.87499237060547 M31.874996185302734 103.87499237060547\"/>\n",
       "<path fill=\"none\" stroke=\"black\" stroke-width=\".3\" stroke-opacity=\"1.0\" filling=\"0\" d=\"M62.25 112.96875 L61.5 112.3125 L60.0 107.15625 L59.71875 107.90625 L59.71875 107.8125 L60.375 110.53125 L61.3125 111.9375 L62.15625 112.40625\"/>\n",
       "<path fill=\"none\" stroke=\"black\" stroke-width=\".3\" stroke-opacity=\"1.0\" filling=\"0\" d=\"M61.875 112.78125 L60.28125 112.78125 L59.25 108.09375 L59.25 107.53125 L59.53125 107.53125 L60.375 109.03125 L61.59375 111.75 L62.15625 112.21875\"/>\n",
       "<path fill=\"none\" stroke=\"black\" stroke-width=\".3\" stroke-opacity=\"1.0\" filling=\"0\" d=\"M62.0625 112.78125 L60.84375 112.78125 L59.625 111.5625 L59.53125 107.90625 L59.71875 107.34375 L60.375 109.03125 L61.59375 111.9375 L62.15625 112.21875\"/>\n",
       "<path fill=\"none\" stroke=\"black\" stroke-width=\".3\" stroke-opacity=\"1.0\" filling=\"0\" d=\"M62.0625 112.78125 L60.84375 112.78125 L59.625 111.9375 L59.53125 107.90625 L59.53125 107.34375 L60.28125 109.03125 L61.3125 111.9375 L62.15625 112.21875\"/>\n",
       "<path fill=\"none\" stroke=\"black\" stroke-width=\".3\" stroke-opacity=\"1.0\" filling=\"0\" d=\"M62.0625 112.78125 L60.84375 112.96875 L59.71875 112.21875 L59.53125 107.90625 L59.71875 107.71875 L60.375 109.03125 L61.3125 111.9375 L62.25 112.21875\"/>\n",
       "<path fill=\"none\" stroke=\"black\" stroke-width=\".3\" stroke-opacity=\"1.0\" filling=\"0\" d=\"M62.15625 112.78125 L60.84375 112.96875 L59.4375 112.21875 L59.53125 108.46875 L59.71875 107.90625 L60.5625 108.5625 L61.3125 111.375\"/>\n",
       "<path fill=\"none\" stroke=\"black\" stroke-width=\".3\" stroke-opacity=\"1.0\" filling=\"0\" d=\"M62.0625 112.78125 L60.84375 112.96875 L59.4375 112.21875 L59.25 108.46875 L59.53125 107.90625 L60.375 108.5625 L61.3125 111.375\"/>\n",
       "<path fill=\"none\" stroke=\"black\" stroke-width=\".3\" stroke-opacity=\"1.0\" filling=\"0\" d=\"M62.15625 112.78125 L61.03125 112.96875 L59.71875 112.21875 L59.53125 111.09375 L59.71875 107.90625 L60.5625 108.375 L61.3125 110.71875\"/>\n",
       "<path fill=\"none\" stroke=\"black\" stroke-width=\".3\" stroke-opacity=\"1.0\" filling=\"0\" d=\"M87.65625 103.125 L87.46875 109.96875\"/>\n",
       "<path fill=\"none\" stroke=\"black\" stroke-width=\".3\" stroke-opacity=\"1.0\" filling=\"0\" d=\"M87.84375 103.125 L87.84375 109.03125\"/>\n",
       "<path fill=\"none\" stroke=\"black\" stroke-width=\".3\" stroke-opacity=\"1.0\" filling=\"0\" d=\"M88.21875 103.59375 L88.21875 110.25 L87.375 113.34375 L85.96875 114.0\"/>\n",
       "<path fill=\"none\" stroke=\"black\" stroke-width=\".3\" stroke-opacity=\"1.0\" filling=\"0\" d=\"M88.59375 103.59375 L88.5 111.09375 L87.5625 113.625 L86.25 114.1875\"/>\n",
       "<path fill=\"none\" stroke=\"black\" stroke-width=\".3\" stroke-opacity=\"1.0\" filling=\"0\" d=\"M88.59375 104.0625 L88.6875 111.375 L87.84375 113.625 L86.25 114.1875\"/>\n",
       "<path fill=\"none\" stroke=\"black\" stroke-width=\".3\" stroke-opacity=\"1.0\" filling=\"0\" d=\"M88.875 104.34375 L88.96875 112.21875 L88.21875 113.90625 L87.375 114.46875\"/>\n",
       "<path fill=\"none\" stroke=\"black\" stroke-width=\".3\" stroke-opacity=\"1.0\" filling=\"0\" d=\"M88.875 104.34375 L88.96875 112.21875 L88.5 113.90625 L87.5625 114.46875\"/>\n",
       "<path fill=\"none\" stroke=\"black\" stroke-width=\".3\" stroke-opacity=\"1.0\" filling=\"0\" d=\"M88.96875 104.34375 L89.34375 112.21875 L88.96875 113.90625 L88.5 114.46875\"/>\n",
       "<path fill=\"none\" stroke=\"black\" stroke-width=\".3\" stroke-opacity=\"1.0\" filling=\"0\" d=\"M103.87499237060547 103.87499237060547 M103.87499237060547 103.87499237060547\"/>\n",
       "<path fill=\"none\" stroke=\"black\" stroke-width=\".3\" stroke-opacity=\"1.0\" filling=\"0\" d=\"M103.87499237060547 103.87499237060547 M103.87499237060547 103.87499237060547\"/>\n",
       "<path fill=\"none\" stroke=\"black\" stroke-width=\".3\" stroke-opacity=\"1.0\" filling=\"0\" d=\"M103.87499237060547 103.87499237060547 M103.87499237060547 103.87499237060547\"/>\n",
       "<path fill=\"none\" stroke=\"black\" stroke-width=\".3\" stroke-opacity=\"1.0\" filling=\"0\" d=\"M103.87499237060547 103.87499237060547 M103.87499237060547 103.87499237060547\"/>\n",
       "<path fill=\"none\" stroke=\"black\" stroke-width=\".3\" stroke-opacity=\"1.0\" filling=\"0\" d=\"M103.87499237060547 103.87499237060547 M103.87499237060547 103.87499237060547\"/>\n",
       "<path fill=\"none\" stroke=\"black\" stroke-width=\".3\" stroke-opacity=\"1.0\" filling=\"0\" d=\"M103.87499237060547 103.87499237060547 M103.87499237060547 103.87499237060547\"/>\n",
       "<path fill=\"none\" stroke=\"black\" stroke-width=\".3\" stroke-opacity=\"1.0\" filling=\"0\" d=\"M103.87499237060547 103.87499237060547 M103.87499237060547 103.87499237060547\"/>\n",
       "<path fill=\"none\" stroke=\"black\" stroke-width=\".3\" stroke-opacity=\"1.0\" filling=\"0\" d=\"M103.87499237060547 103.87499237060547 M103.87499237060547 103.87499237060547\"/>\n",
       "<path fill=\"none\" stroke=\"black\" stroke-width=\".3\" stroke-opacity=\"1.0\" filling=\"0\" d=\"M133.21875 109.21875 L131.625 110.15625\"/>\n",
       "<path fill=\"none\" stroke=\"black\" stroke-width=\".3\" stroke-opacity=\"1.0\" filling=\"0\" d=\"M132.65625 108.75 L130.875 110.15625\"/>\n",
       "<path fill=\"none\" stroke=\"black\" stroke-width=\".3\" stroke-opacity=\"1.0\" filling=\"0\" d=\"M132.65625 108.84375 L130.875 110.15625\"/>\n",
       "<path fill=\"none\" stroke=\"black\" stroke-width=\".3\" stroke-opacity=\"1.0\" filling=\"0\" d=\"M132.65625 108.84375 L130.875 110.15625\"/>\n",
       "<path fill=\"none\" stroke=\"black\" stroke-width=\".3\" stroke-opacity=\"1.0\" filling=\"0\" d=\"M132.46875 108.84375 L130.875 110.15625\"/>\n",
       "<path fill=\"none\" stroke=\"black\" stroke-width=\".3\" stroke-opacity=\"1.0\" filling=\"0\" d=\"M132.46875 108.84375 L130.875 110.15625\"/>\n",
       "<path fill=\"none\" stroke=\"black\" stroke-width=\".3\" stroke-opacity=\"1.0\" filling=\"0\" d=\"M132.46875 109.21875 L130.875 110.4375\"/>\n",
       "<path fill=\"none\" stroke=\"black\" stroke-width=\".3\" stroke-opacity=\"1.0\" filling=\"0\" d=\"M131.71875 109.21875 L130.875 110.15625\"/>\n",
       "<path fill=\"none\" stroke=\"black\" stroke-width=\".3\" stroke-opacity=\"1.0\" filling=\"0\" d=\"M158.0625 111.5625 L156.0 111.1875\"/>\n",
       "<path fill=\"none\" stroke=\"black\" stroke-width=\".3\" stroke-opacity=\"1.0\" filling=\"0\" d=\"M158.0625 111.46875 L156.28125 111.5625\"/>\n",
       "<path fill=\"none\" stroke=\"black\" stroke-width=\".3\" stroke-opacity=\"1.0\" filling=\"0\" d=\"M157.96875 111.46875 L156.0 111.75\"/>\n",
       "<path fill=\"none\" stroke=\"black\" stroke-width=\".3\" stroke-opacity=\"1.0\" filling=\"0\" d=\"M157.78125 111.65625 L156.0 111.9375\"/>\n",
       "<path fill=\"none\" stroke=\"black\" stroke-width=\".3\" stroke-opacity=\"1.0\" filling=\"0\" d=\"M157.6875 111.75 L156.1875 111.9375\"/>\n",
       "<path fill=\"none\" stroke=\"black\" stroke-width=\".3\" stroke-opacity=\"1.0\" filling=\"0\" d=\"M157.6875 111.9375 L156.46875 112.125\"/>\n",
       "<path fill=\"none\" stroke=\"black\" stroke-width=\".3\" stroke-opacity=\"1.0\" filling=\"0\" d=\"M157.6875 112.21875 L156.65625 112.40625\"/>\n",
       "<path fill=\"none\" stroke=\"black\" stroke-width=\".3\" stroke-opacity=\"1.0\" filling=\"0\" d=\"M157.6875 112.40625 L156.65625 112.78125\"/>\n",
       "<path fill=\"none\" stroke=\"black\" stroke-width=\".3\" stroke-opacity=\"1.0\" filling=\"0\" d=\"M184.5 100.03125 L184.5 100.59375 L183.9375 106.40625 L182.71875 112.3125 L181.59375 112.3125 L180.65625 111.5625\"/>\n",
       "<path fill=\"none\" stroke=\"black\" stroke-width=\".3\" stroke-opacity=\"1.0\" filling=\"0\" d=\"M184.5 99.84375 L184.21875 100.21875 L183.46875 101.25 L182.25 111.375\"/>\n",
       "<path fill=\"none\" stroke=\"black\" stroke-width=\".3\" stroke-opacity=\"1.0\" filling=\"0\" d=\"M184.5 100.21875 L184.3125 100.59375 L183.46875 106.3125 L182.0625 112.03125\"/>\n",
       "<path fill=\"none\" stroke=\"black\" stroke-width=\".3\" stroke-opacity=\"1.0\" filling=\"0\" d=\"M184.5 100.3125 L184.5 100.78125 L183.5625 111.46875 L182.0625 112.3125\"/>\n",
       "<path fill=\"none\" stroke=\"black\" stroke-width=\".3\" stroke-opacity=\"1.0\" filling=\"0\" d=\"M184.5 100.3125 L184.5 101.25 L183.65625 111.75 L182.0625 112.3125\"/>\n",
       "<path fill=\"none\" stroke=\"black\" stroke-width=\".3\" stroke-opacity=\"1.0\" filling=\"0\" d=\"M184.875 100.3125 L184.78125 105.5625 L183.84375 112.21875 L182.25 112.3125\"/>\n",
       "<path fill=\"none\" stroke=\"black\" stroke-width=\".3\" stroke-opacity=\"1.0\" filling=\"0\" d=\"M184.875 100.5 L184.78125 105.84375 L183.65625 112.5\"/>\n",
       "<path fill=\"none\" stroke=\"black\" stroke-width=\".3\" stroke-opacity=\"1.0\" filling=\"0\" d=\"M175.875 103.87499237060547 M175.875 103.87499237060547\"/>\n",
       "<path fill=\"none\" stroke=\"black\" stroke-width=\".3\" stroke-opacity=\"1.0\" filling=\"0\" d=\"M207.46875 103.21875 L206.25 103.03125 L204.9375 104.625 L203.90625 109.875\"/>\n",
       "<path fill=\"none\" stroke=\"black\" stroke-width=\".3\" stroke-opacity=\"1.0\" filling=\"0\" d=\"M207.0 104.625 L206.25 105.1875 L204.9375 109.6875\"/>\n",
       "<path fill=\"none\" stroke=\"black\" stroke-width=\".3\" stroke-opacity=\"1.0\" filling=\"0\" d=\"M207.09375 104.8125 L206.0625 104.71875 L204.46875 107.4375\"/>\n",
       "<path fill=\"none\" stroke=\"black\" stroke-width=\".3\" stroke-opacity=\"1.0\" filling=\"0\" d=\"M207.46875 104.90625 L206.25 104.625 L203.90625 106.03125 L203.34375 111.65625\"/>\n",
       "<path fill=\"none\" stroke=\"black\" stroke-width=\".3\" stroke-opacity=\"1.0\" filling=\"0\" d=\"M207.46875 105.09375 L206.0625 104.71875 L203.53125 105.65625 L202.6875 110.0625\"/>\n",
       "<path fill=\"none\" stroke=\"black\" stroke-width=\".3\" stroke-opacity=\"1.0\" filling=\"0\" d=\"M199.875 103.87499237060547 M199.875 103.87499237060547\"/>\n",
       "<path fill=\"none\" stroke=\"black\" stroke-width=\".3\" stroke-opacity=\"1.0\" filling=\"0\" d=\"M199.875 103.87499237060547 M199.875 103.87499237060547\"/>\n",
       "<path fill=\"none\" stroke=\"black\" stroke-width=\".3\" stroke-opacity=\"1.0\" filling=\"0\" d=\"M199.875 103.87499237060547 M199.875 103.87499237060547\"/>\n",
       "<path fill=\"none\" stroke=\"black\" stroke-width=\".3\" stroke-opacity=\"1.0\" filling=\"0\" d=\"M228.46875 105.84375 L228.84375 104.53125 L229.78125 103.21875 L230.71875 103.59375 L231.09375 104.8125 L231.09375 109.03125\"/>\n",
       "<path fill=\"none\" stroke=\"black\" stroke-width=\".3\" stroke-opacity=\"1.0\" filling=\"0\" d=\"M228.65625 105.46875 L229.125 104.53125 L230.25 103.96875 L231.09375 104.53125 L231.09375 107.25 L230.90625 110.25\"/>\n",
       "<path fill=\"none\" stroke=\"black\" stroke-width=\".3\" stroke-opacity=\"1.0\" filling=\"0\" d=\"M228.65625 105.46875 L229.125 104.34375 L230.4375 103.875 L231.28125 104.53125 L231.09375 108.09375\"/>\n",
       "<path fill=\"none\" stroke=\"black\" stroke-width=\".3\" stroke-opacity=\"1.0\" filling=\"0\" d=\"M228.65625 104.8125 L229.3125 104.34375 L230.4375 103.96875 L231.5625 104.8125 L231.5625 109.03125\"/>\n",
       "<path fill=\"none\" stroke=\"black\" stroke-width=\".3\" stroke-opacity=\"1.0\" filling=\"0\" d=\"M228.65625 104.8125 L229.40625 104.34375 L230.71875 104.25 L231.5625 105.09375 L231.5625 109.59375\"/>\n",
       "<path fill=\"none\" stroke=\"black\" stroke-width=\".3\" stroke-opacity=\"1.0\" filling=\"0\" d=\"M228.65625 104.8125 L229.3125 104.34375 L230.71875 104.25 L231.5625 105.09375 L231.5625 109.875\"/>\n",
       "<path fill=\"none\" stroke=\"black\" stroke-width=\".3\" stroke-opacity=\"1.0\" filling=\"0\" d=\"M228.09375 104.8125 L229.125 104.34375 L230.4375 104.25 L231.5625 105.09375 L231.5625 109.875\"/>\n",
       "<path fill=\"none\" stroke=\"black\" stroke-width=\".3\" stroke-opacity=\"1.0\" filling=\"0\" d=\"M228.09375 104.53125 L229.3125 103.96875 L230.71875 103.96875 L231.5625 105.09375 L231.09375 109.875\"/>\n",
       "<path fill=\"none\" stroke=\"black\" stroke-width=\".3\" stroke-opacity=\"1.0\" filling=\"0\" d=\"M254.0625 115.03125 L255.0 115.3125 L254.25 110.25 L253.40625 115.3125 L252.65625 110.25 L252.09375 109.96875 L251.0625 109.96875 L249.75 110.25 L249.0 110.25 L248.0625 114.46875 L247.3125 114.75 L246.75 114.75 L246.75 114.46875 L246.5625 114.46875 L246.5625 114.46875 L246.5625 114.46875 L246.1875 114.0 L246.1875 113.53125 L245.90625 109.21875 L245.15625 113.53125\"/>\n",
       "<path fill=\"none\" stroke=\"black\" stroke-width=\".3\" stroke-opacity=\"1.0\" filling=\"0\" d=\"M255.65625 115.03125 L255.5625 109.96875 L254.4375 114.46875 L253.03125 115.3125 L252.09375 115.3125 L251.0625 115.125 L249.75 110.25 L248.4375 110.25 L247.3125 110.25 L246.65625 110.25 L246.28125 114.09375 L246.28125 114.46875 L246.5625 114.46875\"/>\n",
       "<path fill=\"none\" stroke=\"black\" stroke-width=\".3\" stroke-opacity=\"1.0\" filling=\"0\" d=\"M255.28125 115.03125 L255.09375 109.96875 L254.0625 114.46875 L252.46875 115.3125 L251.53125 115.21875 L250.40625 115.125 L249.0 114.46875 L247.875 114.46875 L246.5625 110.25 L246.28125 113.53125 L246.28125 113.53125 L245.625 113.53125\"/>\n",
       "<path fill=\"none\" stroke=\"black\" stroke-width=\".3\" stroke-opacity=\"1.0\" filling=\"0\" d=\"M255.28125 115.03125 L255.09375 109.96875 L254.0625 110.25 L252.46875 115.3125 L251.0625 115.21875 L249.75 115.125 L248.25 114.46875 L247.21875 114.46875 L246.28125 114.0 L246.28125 113.53125 L245.625 113.53125\"/>\n",
       "<path fill=\"none\" stroke=\"black\" stroke-width=\".3\" stroke-opacity=\"1.0\" filling=\"0\" d=\"M255.28125 114.46875 L255.09375 109.96875 L253.78125 110.25 L252.09375 115.21875 L251.0625 115.21875 L249.75 115.125 L248.0625 114.46875 L246.75 114.46875 L246.28125 114.0 L245.625 113.53125 L245.625 113.53125\"/>\n",
       "<path fill=\"none\" stroke=\"black\" stroke-width=\".3\" stroke-opacity=\"1.0\" filling=\"0\" d=\"M255.28125 114.46875 L254.90625 109.96875 L253.59375 110.25 L251.71875 115.21875 L250.5 115.21875 L249.46875 115.125 L247.875 114.46875 L246.5625 114.46875 L245.4375 114.0 L245.4375 113.53125\"/>\n",
       "<path fill=\"none\" stroke=\"black\" stroke-width=\".3\" stroke-opacity=\"1.0\" filling=\"0\" d=\"M255.0 114.46875 L254.90625 109.96875 L253.59375 110.25 L251.53125 115.21875 L250.3125 115.21875 L249.46875 115.125 L247.59375 114.46875 L246.5625 114.46875 L245.4375 113.53125 L245.4375 113.53125\"/>\n",
       "<path fill=\"none\" stroke=\"black\" stroke-width=\".3\" stroke-opacity=\"1.0\" filling=\"0\" d=\"M255.0 104.8125 L254.4375 109.59375 L253.21875 110.25 L251.15625 115.03125 L250.21875 115.21875 L248.8125 115.125 L247.125 114.46875\"/>\n",
       "<path fill=\"none\" stroke=\"black\" stroke-width=\".3\" stroke-opacity=\"1.0\" filling=\"0\" d=\"M271.875 103.87499237060547 M271.875 103.87499237060547\"/>\n",
       "<path fill=\"none\" stroke=\"black\" stroke-width=\".3\" stroke-opacity=\"1.0\" filling=\"0\" d=\"M271.875 103.87499237060547 M271.875 103.87499237060547\"/>\n",
       "<path fill=\"none\" stroke=\"black\" stroke-width=\".3\" stroke-opacity=\"1.0\" filling=\"0\" d=\"M271.875 103.87499237060547 M271.875 103.87499237060547\"/>\n",
       "<path fill=\"none\" stroke=\"black\" stroke-width=\".3\" stroke-opacity=\"1.0\" filling=\"0\" d=\"M271.875 103.87499237060547 M271.875 103.87499237060547\"/>\n",
       "<path fill=\"none\" stroke=\"black\" stroke-width=\".3\" stroke-opacity=\"1.0\" filling=\"0\" d=\"M271.875 103.87499237060547 M271.875 103.87499237060547\"/>\n",
       "<path fill=\"none\" stroke=\"black\" stroke-width=\".3\" stroke-opacity=\"1.0\" filling=\"0\" d=\"M271.875 103.87499237060547 M271.875 103.87499237060547\"/>\n",
       "<path fill=\"none\" stroke=\"black\" stroke-width=\".3\" stroke-opacity=\"1.0\" filling=\"0\" d=\"M271.875 103.87499237060547 M271.875 103.87499237060547\"/>\n",
       "<path fill=\"none\" stroke=\"black\" stroke-width=\".3\" stroke-opacity=\"1.0\" filling=\"0\" d=\"M271.875 103.87499237060547 M271.875 103.87499237060547\"/>\n",
       "<path fill=\"none\" stroke=\"black\" stroke-width=\".3\" stroke-opacity=\"1.0\" filling=\"0\" d=\"M304.125 105.75 L303.84375 106.59375 L302.25 107.34375 L300.5625 108.1875 L298.59375 108.1875 L296.53125 108.1875 L295.59375 107.34375 L295.21875 106.21875 L295.59375 105.5625 L296.34375 104.71875\"/>\n",
       "<path fill=\"none\" stroke=\"black\" stroke-width=\".3\" stroke-opacity=\"1.0\" filling=\"0\" d=\"M303.65625 105.75 L303.0 106.3125 L301.6875 107.15625 L299.71875 107.71875 L297.375 108.1875 L296.0625 107.71875 L295.21875 107.0625 L295.21875 106.03125 L295.21875 105.0\"/>\n",
       "<path fill=\"none\" stroke=\"black\" stroke-width=\".3\" stroke-opacity=\"1.0\" filling=\"0\" d=\"M303.84375 105.75 L303.46875 106.3125 L302.0625 107.15625 L300.5625 107.90625 L298.21875 108.1875 L296.53125 108.0 L295.59375 107.34375 L295.21875 106.21875 L295.59375 105.5625\"/>\n",
       "<path fill=\"none\" stroke=\"black\" stroke-width=\".3\" stroke-opacity=\"1.0\" filling=\"0\" d=\"M304.03125 105.75 L303.46875 106.3125 L302.25 107.15625 L300.9375 107.71875 L298.875 108.1875 L296.8125 108.0 L295.59375 107.34375 L295.59375 106.21875 L296.0625 105.5625\"/>\n",
       "<path fill=\"none\" stroke=\"black\" stroke-width=\".3\" stroke-opacity=\"1.0\" filling=\"0\" d=\"M295.875 103.87499237060547 M295.875 103.87499237060547\"/>\n",
       "<path fill=\"none\" stroke=\"black\" stroke-width=\".3\" stroke-opacity=\"1.0\" filling=\"0\" d=\"M295.875 103.87499237060547 M295.875 103.87499237060547\"/>\n",
       "<path fill=\"none\" stroke=\"black\" stroke-width=\".3\" stroke-opacity=\"1.0\" filling=\"0\" d=\"M295.875 103.87499237060547 M295.875 103.87499237060547\"/>\n",
       "<path fill=\"none\" stroke=\"black\" stroke-width=\".3\" stroke-opacity=\"1.0\" filling=\"0\" d=\"M295.875 103.87499237060547 M295.875 103.87499237060547\"/>\n",
       "<path fill=\"none\" stroke=\"black\" stroke-width=\".3\" stroke-opacity=\"1.0\" filling=\"0\" d=\"M320.8125 100.3125 L320.34375 100.3125 L320.625 104.34375 L320.625 105.09375 L321.1875 105.09375 L322.03125 105.5625 L322.40625 107.0625 L322.6875 107.25 L322.40625 111.9375 L322.40625 112.03125 L322.40625 112.21875\"/>\n",
       "<path fill=\"none\" stroke=\"black\" stroke-width=\".3\" stroke-opacity=\"1.0\" filling=\"0\" d=\"M319.875 103.87499237060547 M319.875 103.87499237060547\"/>\n",
       "<path fill=\"none\" stroke=\"black\" stroke-width=\".3\" stroke-opacity=\"1.0\" filling=\"0\" d=\"M319.875 103.87499237060547 M319.875 103.87499237060547\"/>\n",
       "<path fill=\"none\" stroke=\"black\" stroke-width=\".3\" stroke-opacity=\"1.0\" filling=\"0\" d=\"M319.875 103.87499237060547 M319.875 103.87499237060547\"/>\n",
       "<path fill=\"none\" stroke=\"black\" stroke-width=\".3\" stroke-opacity=\"1.0\" filling=\"0\" d=\"M319.875 103.87499237060547 M319.875 103.87499237060547\"/>\n",
       "<path fill=\"none\" stroke=\"black\" stroke-width=\".3\" stroke-opacity=\"1.0\" filling=\"0\" d=\"M319.875 103.87499237060547 M319.875 103.87499237060547\"/>\n",
       "<path fill=\"none\" stroke=\"black\" stroke-width=\".3\" stroke-opacity=\"1.0\" filling=\"0\" d=\"M319.875 103.87499237060547 M319.875 103.87499237060547\"/>\n",
       "<path fill=\"none\" stroke=\"black\" stroke-width=\".3\" stroke-opacity=\"1.0\" filling=\"0\" d=\"M319.875 103.87499237060547 M319.875 103.87499237060547\"/>\n",
       "<path fill=\"none\" stroke=\"black\" stroke-width=\".3\" stroke-opacity=\"1.0\" filling=\"0\" d=\"M343.875 103.87499237060547 M343.875 103.87499237060547\"/>\n",
       "<path fill=\"none\" stroke=\"black\" stroke-width=\".3\" stroke-opacity=\"1.0\" filling=\"0\" d=\"M343.875 103.87499237060547 M343.875 103.87499237060547\"/>\n",
       "<path fill=\"none\" stroke=\"black\" stroke-width=\".3\" stroke-opacity=\"1.0\" filling=\"0\" d=\"M343.875 103.87499237060547 M343.875 103.87499237060547\"/>\n",
       "<path fill=\"none\" stroke=\"black\" stroke-width=\".3\" stroke-opacity=\"1.0\" filling=\"0\" d=\"M343.875 103.87499237060547 M343.875 103.87499237060547\"/>\n",
       "<path fill=\"none\" stroke=\"black\" stroke-width=\".3\" stroke-opacity=\"1.0\" filling=\"0\" d=\"M343.875 103.87499237060547 M343.875 103.87499237060547\"/>\n",
       "<path fill=\"none\" stroke=\"black\" stroke-width=\".3\" stroke-opacity=\"1.0\" filling=\"0\" d=\"M343.875 103.87499237060547 M343.875 103.87499237060547\"/>\n",
       "<path fill=\"none\" stroke=\"black\" stroke-width=\".3\" stroke-opacity=\"1.0\" filling=\"0\" d=\"M343.875 103.87499237060547 M343.875 103.87499237060547\"/>\n",
       "<path fill=\"none\" stroke=\"black\" stroke-width=\".3\" stroke-opacity=\"1.0\" filling=\"0\" d=\"M343.875 103.87499237060547 M343.875 103.87499237060547\"/>\n",
       "<path fill=\"none\" stroke=\"black\" stroke-width=\".3\" stroke-opacity=\"1.0\" filling=\"0\" d=\"M370.03125 103.59375 L370.875 103.03125 L372.1875 103.21875 L373.40625 104.25 L373.875 105.28125 L374.25 106.3125 L373.96875 107.25 L373.59375 108.09375 L373.40625 109.21875 L372.1875 111.46875 L371.53125 112.03125 L370.875 113.15625 L370.03125 113.15625 L370.03125 113.4375\"/>\n",
       "<path fill=\"none\" stroke=\"black\" stroke-width=\".3\" stroke-opacity=\"1.0\" filling=\"0\" d=\"M370.03125 104.4375 L370.6875 103.96875 L371.71875 104.34375 L372.75 105.28125 L373.21875 106.03125 L373.59375 107.0625 L373.40625 107.8125 L372.9375 108.75 L372.1875 110.25 L372.1875 112.03125 L371.53125 112.59375 L370.6875 113.15625 L370.125 113.15625\"/>\n",
       "<path fill=\"none\" stroke=\"black\" stroke-width=\".3\" stroke-opacity=\"1.0\" filling=\"0\" d=\"M370.03125 104.4375 L370.5 103.96875 L371.4375 104.53125 L372.65625 105.28125 L373.21875 106.03125 L373.59375 107.0625 L373.40625 108.09375 L372.9375 108.75 L372.1875 110.71875 L372.1875 112.03125 L371.53125 112.59375 L370.6875 113.15625 L370.03125 113.15625\"/>\n",
       "<path fill=\"none\" stroke=\"black\" stroke-width=\".3\" stroke-opacity=\"1.0\" filling=\"0\" d=\"M370.03125 104.71875 L370.5 104.15625 L371.0625 104.53125 L372.09375 105.46875 L373.03125 106.03125 L373.40625 107.34375 L373.40625 108.09375 L372.9375 109.21875 L372.1875 110.8125 L372.1875 112.03125 L371.53125 112.59375 L370.6875 113.15625 L370.03125 113.4375\"/>\n",
       "<path fill=\"none\" stroke=\"black\" stroke-width=\".3\" stroke-opacity=\"1.0\" filling=\"0\" d=\"M370.03125 104.8125 L370.5 104.4375 L371.0625 104.71875 L371.90625 105.5625 L372.75 106.3125 L373.3125 107.34375 L373.40625 108.375 L372.9375 109.40625 L372.1875 111.375 L372.1875 112.03125 L371.53125 112.875 L370.875 113.4375 L370.125 113.625\"/>\n",
       "<path fill=\"none\" stroke=\"black\" stroke-width=\".3\" stroke-opacity=\"1.0\" filling=\"0\" d=\"M370.03125 105.09375 L370.03125 104.53125 L370.6875 105.09375 L371.25 105.65625 L372.1875 106.40625 L373.03125 107.34375 L373.3125 108.375 L372.9375 109.40625 L372.75 111.375 L372.1875 112.03125 L371.625 112.875 L370.875 113.4375 L370.6875 113.625\"/>\n",
       "<path fill=\"none\" stroke=\"black\" stroke-width=\".3\" stroke-opacity=\"1.0\" filling=\"0\" d=\"M367.875 103.87499237060547 M367.875 103.87499237060547\"/>\n",
       "<path fill=\"none\" stroke=\"black\" stroke-width=\".3\" stroke-opacity=\"1.0\" filling=\"0\" d=\"M367.875 103.87499237060547 M367.875 103.87499237060547\"/>\n",
       "<path fill=\"none\" stroke=\"black\" stroke-width=\".3\" stroke-opacity=\"1.0\" filling=\"0\" d=\"M401.15625 107.8125 L400.6875 107.8125 L399.09375 107.8125 L396.1875 108.46875 L394.40625 108.46875 L393.375 109.3125 L392.71875 109.3125 L392.71875 109.3125 L392.71875 109.3125 L392.8125 109.3125 L393.28125 109.3125\"/>\n",
       "<path fill=\"none\" stroke=\"black\" stroke-width=\".3\" stroke-opacity=\"1.0\" filling=\"0\" d=\"M400.21875 114.1875 L399.84375 109.875 L397.40625 109.875 L395.0625 110.34375 L402.09375 110.25 L392.71875 110.25 L392.15625 109.78125 L392.0625 109.5 L392.34375 108.9375 L392.71875 109.21875 L393.1875 109.21875\"/>\n",
       "<path fill=\"none\" stroke=\"black\" stroke-width=\".3\" stroke-opacity=\"1.0\" filling=\"0\" d=\"M391.875 103.87499237060547 M391.875 103.87499237060547\"/>\n",
       "<path fill=\"none\" stroke=\"black\" stroke-width=\".3\" stroke-opacity=\"1.0\" filling=\"0\" d=\"M391.875 103.87499237060547 M391.875 103.87499237060547\"/>\n",
       "<path fill=\"none\" stroke=\"black\" stroke-width=\".3\" stroke-opacity=\"1.0\" filling=\"0\" d=\"M391.875 103.87499237060547 M391.875 103.87499237060547\"/>\n",
       "<path fill=\"none\" stroke=\"black\" stroke-width=\".3\" stroke-opacity=\"1.0\" filling=\"0\" d=\"M391.875 103.87499237060547 M391.875 103.87499237060547\"/>\n",
       "<path fill=\"none\" stroke=\"black\" stroke-width=\".3\" stroke-opacity=\"1.0\" filling=\"0\" d=\"M391.875 103.87499237060547 M391.875 103.87499237060547\"/>\n",
       "<path fill=\"none\" stroke=\"black\" stroke-width=\".3\" stroke-opacity=\"1.0\" filling=\"0\" d=\"M391.875 103.87499237060547 M391.875 103.87499237060547\"/>\n",
       "<path fill=\"none\" stroke=\"black\" stroke-width=\".3\" stroke-opacity=\"1.0\" filling=\"0\" d=\"M419.90625 111.65625 L419.53125 110.15625 L419.34375 106.40625 L419.53125 104.15625 L419.34375 104.15625 L419.53125 105.1875 L419.25 108.09375 L418.875 110.71875 L418.5 111.375\"/>\n",
       "<path fill=\"none\" stroke=\"black\" stroke-width=\".3\" stroke-opacity=\"1.0\" filling=\"0\" d=\"M419.625 111.84375 L419.25 111.09375 L419.25 110.4375 L419.25 108.5625 L418.78125 107.8125 L418.6875 107.8125 L418.3125 110.71875 L417.9375 111.375\"/>\n",
       "<path fill=\"none\" stroke=\"black\" stroke-width=\".3\" stroke-opacity=\"1.0\" filling=\"0\" d=\"M419.53125 111.84375 L419.0625 111.09375 L419.0625 109.59375 L419.0625 107.71875 L418.96875 107.4375 L418.78125 107.8125 L418.5 111.0 L418.3125 111.375\"/>\n",
       "<path fill=\"none\" stroke=\"black\" stroke-width=\".3\" stroke-opacity=\"1.0\" filling=\"0\" d=\"M419.34375 112.21875 L419.0625 111.09375 L419.0625 109.59375 L419.0625 107.71875 L419.0625 107.4375 L419.0625 107.8125 L418.6875 111.0 L418.5 111.9375\"/>\n",
       "<path fill=\"none\" stroke=\"black\" stroke-width=\".3\" stroke-opacity=\"1.0\" filling=\"0\" d=\"M419.34375 112.21875 L418.96875 111.09375 L419.0625 109.59375 L419.0625 107.71875 L419.25 107.4375 L419.25 107.8125 L419.0625 111.0 L418.5 111.9375 L418.5 111.9375\"/>\n",
       "<path fill=\"none\" stroke=\"black\" stroke-width=\".3\" stroke-opacity=\"1.0\" filling=\"0\" d=\"M419.34375 112.21875 L418.96875 111.375 L419.0625 110.4375 L419.25 108.0 L419.53125 107.4375 L419.53125 108.09375 L419.0625 111.0 L418.5 112.03125 L418.5 111.9375\"/>\n",
       "<path fill=\"none\" stroke=\"black\" stroke-width=\".3\" stroke-opacity=\"1.0\" filling=\"0\" d=\"M419.34375 112.21875 L418.96875 111.5625 L419.0625 110.625 L419.34375 108.09375 L419.53125 107.71875 L419.53125 108.5625 L419.25 111.375 L418.6875 112.03125 L418.5 111.9375\"/>\n",
       "<path fill=\"none\" stroke=\"black\" stroke-width=\".3\" stroke-opacity=\"1.0\" filling=\"0\" d=\"M419.34375 112.03125 L418.96875 111.09375 L419.34375 110.0625 L419.71875 108.46875 L419.71875 108.09375 L419.71875 110.53125 L419.25 111.375 L418.5 112.03125 L418.5 111.9375\"/>\n",
       "<path fill=\"none\" stroke=\"black\" stroke-width=\".3\" stroke-opacity=\"1.0\" filling=\"0\" d=\"M444.1875 102.5625 L444.65625 102.5625 L445.40625 104.0625 L445.59375 109.03125 L445.3125 112.78125\"/>\n",
       "<path fill=\"none\" stroke=\"black\" stroke-width=\".3\" stroke-opacity=\"1.0\" filling=\"0\" d=\"M444.65625 103.21875 L445.125 103.59375 L445.5 105.84375\"/>\n",
       "<path fill=\"none\" stroke=\"black\" stroke-width=\".3\" stroke-opacity=\"1.0\" filling=\"0\" d=\"M444.1875 103.03125 L444.84375 103.3125 L445.3125 105.09375\"/>\n",
       "<path fill=\"none\" stroke=\"black\" stroke-width=\".3\" stroke-opacity=\"1.0\" filling=\"0\" d=\"M444.1875 103.03125 L444.65625 103.03125 L445.125 104.8125\"/>\n",
       "<path fill=\"none\" stroke=\"black\" stroke-width=\".3\" stroke-opacity=\"1.0\" filling=\"0\" d=\"M444.1875 103.03125 L444.5625 103.03125 L444.9375 104.8125\"/>\n",
       "<path fill=\"none\" stroke=\"black\" stroke-width=\".3\" stroke-opacity=\"1.0\" filling=\"0\" d=\"M444.1875 103.03125 L444.1875 103.03125 L444.1875 104.625\"/>\n",
       "<path fill=\"none\" stroke=\"black\" stroke-width=\".3\" stroke-opacity=\"1.0\" filling=\"0\" d=\"M443.90625 103.03125 L443.71875 103.03125 L443.71875 104.8125\"/>\n",
       "<path fill=\"none\" stroke=\"black\" stroke-width=\".3\" stroke-opacity=\"1.0\" filling=\"0\" d=\"M443.90625 103.03125 L443.53125 103.03125 L443.4375 105.0\"/>\n",
       "<path fill=\"none\" stroke=\"black\" stroke-width=\".3\" stroke-opacity=\"1.0\" filling=\"0\" d=\"M471.09375 111.9375 L468.375 112.875 L466.125 113.0625 L465.1875 112.125 L464.34375 111.09375 L463.6875 108.0 L463.6875 105.5625\"/>\n",
       "<path fill=\"none\" stroke=\"black\" stroke-width=\".3\" stroke-opacity=\"1.0\" filling=\"0\" d=\"M470.34375 111.75 L467.8125 112.78125 L465.75 112.78125 L464.53125 111.65625 L464.0625 110.25 L463.875 107.0625 L463.875 104.71875\"/>\n",
       "<path fill=\"none\" stroke=\"black\" stroke-width=\".3\" stroke-opacity=\"1.0\" filling=\"0\" d=\"M470.15625 111.9375 L467.53125 112.875 L465.5625 112.78125 L464.53125 111.65625 L463.875 110.25 L463.6875 107.34375 L463.875 105.0\"/>\n",
       "<path fill=\"none\" stroke=\"black\" stroke-width=\".3\" stroke-opacity=\"1.0\" filling=\"0\" d=\"M470.15625 111.9375 L467.53125 112.96875 L465.5625 112.78125 L464.4375 111.65625 L463.6875 110.25 L463.6875 107.34375 L463.875 105.0\"/>\n",
       "<path fill=\"none\" stroke=\"black\" stroke-width=\".3\" stroke-opacity=\"1.0\" filling=\"0\" d=\"M470.15625 112.125 L467.53125 112.96875 L465.5625 112.78125 L464.15625 111.46875 L463.6875 109.96875 L463.59375 107.0625 L464.0625 105.0\"/>\n",
       "<path fill=\"none\" stroke=\"black\" stroke-width=\".3\" stroke-opacity=\"1.0\" filling=\"0\" d=\"M470.15625 112.125 L467.15625 112.96875 L465.1875 112.5 L464.0625 111.375 L463.6875 109.40625 L463.5 107.0625 L464.0625 104.71875\"/>\n",
       "<path fill=\"none\" stroke=\"black\" stroke-width=\".3\" stroke-opacity=\"1.0\" filling=\"0\" d=\"M470.15625 112.125 L467.53125 112.96875 L465.1875 112.78125 L464.0625 111.375 L463.6875 109.875 L463.5 107.0625 L464.0625 104.71875\"/>\n",
       "<path fill=\"none\" stroke=\"black\" stroke-width=\".3\" stroke-opacity=\"1.0\" filling=\"0\" d=\"M470.15625 112.125 L467.15625 112.96875 L465.1875 112.5 L464.0625 111.28125 L463.6875 109.03125 L463.5 106.6875 L464.0625 104.25\"/>\n",
       "<path fill=\"none\" stroke=\"black\" stroke-width=\".3\" stroke-opacity=\"1.0\" filling=\"0\" d=\"M490.3125 112.21875 L489.5625 112.40625 L489.5625 112.3125 L488.25 111.46875 L486.9375 108.9375 L486.65625 106.125 L486.46875 102.75 L486.9375 102.28125\"/>\n",
       "<path fill=\"none\" stroke=\"black\" stroke-width=\".3\" stroke-opacity=\"1.0\" filling=\"0\" d=\"M490.3125 111.9375 L488.0625 112.40625 L487.21875 111.9375 L486.65625 109.3125 L486.65625 106.6875 L486.65625 102.75 L487.21875 102.375 L488.0625 102.28125 L490.125 101.8125 L490.59375 102.09375\"/>\n",
       "<path fill=\"none\" stroke=\"black\" stroke-width=\".3\" stroke-opacity=\"1.0\" filling=\"0\" d=\"M490.6875 112.21875 L488.71875 112.5 L487.21875 112.40625 L487.21875 111.46875 L486.65625 107.71875 L486.65625 103.03125 L487.5 102.75 L488.625 102.375 L490.125 102.28125 L490.96875 102.09375\"/>\n",
       "<path fill=\"none\" stroke=\"black\" stroke-width=\".3\" stroke-opacity=\"1.0\" filling=\"0\" d=\"M490.6875 112.21875 L488.71875 112.6875 L487.59375 112.40625 L487.21875 111.46875 L486.65625 108.0 L486.65625 103.03125 L487.5 102.75 L488.625 102.75 L490.3125 102.28125 L491.4375 102.09375\"/>\n",
       "<path fill=\"none\" stroke=\"black\" stroke-width=\".3\" stroke-opacity=\"1.0\" filling=\"0\" d=\"M490.96875 112.40625 L488.8125 112.6875 L488.0625 112.40625 L487.21875 111.46875 L486.65625 108.0 L486.65625 103.03125 L487.5 102.75 L488.8125 102.75 L490.59375 102.375 L491.4375 102.375\"/>\n",
       "<path fill=\"none\" stroke=\"black\" stroke-width=\".3\" stroke-opacity=\"1.0\" filling=\"0\" d=\"M491.8125 112.40625 L488.8125 112.6875 L488.0625 112.40625 L487.21875 111.46875 L487.21875 108.0 L487.21875 103.03125 L488.25 103.03125 L489.75 102.75 L490.96875 102.375 L491.8125 102.375 L492.46875 102.84375\"/>\n",
       "<path fill=\"none\" stroke=\"black\" stroke-width=\".3\" stroke-opacity=\"1.0\" filling=\"0\" d=\"M492.46875 112.5 L488.8125 112.96875 L488.0625 112.5 L487.21875 111.46875 L487.21875 108.46875 L487.5 103.03125 L488.625 103.03125 L490.125 102.75 L491.4375 102.375 L492.375 102.5625 L492.75 102.84375\"/>\n",
       "<path fill=\"none\" stroke=\"black\" stroke-width=\".3\" stroke-opacity=\"1.0\" filling=\"0\" d=\"M492.46875 112.6875 L488.53125 113.0625 L488.0625 112.40625 L487.21875 111.46875 L487.21875 108.46875 L488.25 106.125 L489.09375 103.03125 L490.59375 102.75 L491.8125 102.375 L492.75 102.5625 L493.21875 102.84375 L493.6875 107.625\"/>\n",
       "<path fill=\"none\" stroke=\"black\" stroke-width=\".3\" stroke-opacity=\"1.0\" filling=\"0\" d=\"M519.65625 104.15625 L519.09375 105.0 L518.4375 105.09375 L517.59375 105.0 L516.5625 104.53125 L515.71875 104.53125 L515.0625 104.90625 L514.78125 105.375 L515.0625 105.5625 L515.0625 106.78125 L515.34375 107.71875 L515.34375 108.1875 L514.3125 109.125 L513.65625 109.96875 L513.09375 109.96875 L512.8125 109.3125 L512.0625 109.21875\"/>\n",
       "<path fill=\"none\" stroke=\"black\" stroke-width=\".3\" stroke-opacity=\"1.0\" filling=\"0\" d=\"M519.65625 106.21875 L519.09375 105.65625 L518.15625 105.65625 L516.9375 105.65625 L515.90625 105.375 L515.0625 105.0 L514.40625 105.375 L514.125 105.375 L514.125 105.84375 L514.40625 106.59375 L514.5 107.71875 L514.875 108.65625 L514.5 109.3125 L513.65625 109.96875 L513.09375 110.4375 L513.0 110.25 L512.4375 110.25 L511.6875 110.25\"/>\n",
       "<path fill=\"none\" stroke=\"black\" stroke-width=\".3\" stroke-opacity=\"1.0\" filling=\"0\" d=\"M511.875 103.87499237060547 M511.875 103.87499237060547\"/>\n",
       "<path fill=\"none\" stroke=\"black\" stroke-width=\".3\" stroke-opacity=\"1.0\" filling=\"0\" d=\"M511.875 103.87499237060547 M511.875 103.87499237060547\"/>\n",
       "<path fill=\"none\" stroke=\"black\" stroke-width=\".3\" stroke-opacity=\"1.0\" filling=\"0\" d=\"M511.875 103.87499237060547 M511.875 103.87499237060547\"/>\n",
       "<path fill=\"none\" stroke=\"black\" stroke-width=\".3\" stroke-opacity=\"1.0\" filling=\"0\" d=\"M511.875 103.87499237060547 M511.875 103.87499237060547\"/>\n",
       "<path fill=\"none\" stroke=\"black\" stroke-width=\".3\" stroke-opacity=\"1.0\" filling=\"0\" d=\"M511.875 103.87499237060547 M511.875 103.87499237060547\"/>\n",
       "<path fill=\"none\" stroke=\"black\" stroke-width=\".3\" stroke-opacity=\"1.0\" filling=\"0\" d=\"M511.875 103.87499237060547 M511.875 103.87499237060547\"/>\n",
       "<path fill=\"none\" stroke=\"black\" stroke-width=\".3\" stroke-opacity=\"1.0\" filling=\"0\" d=\"M544.21875 112.78125 L543.5625 112.3125 L543.09375 102.5625 L543.0 102.1875 L543.0 102.5625 L543.0 103.125 L543.5625 106.125 L543.09375 109.21875 L543.46875 112.3125 L539.0625 112.78125 L537.75 113.25 L536.8125 113.625\"/>\n",
       "<path fill=\"none\" stroke=\"black\" stroke-width=\".3\" stroke-opacity=\"1.0\" filling=\"0\" d=\"M543.84375 112.59375 L543.5625 102.5625 L543.0 102.28125 L543.0 101.90625 L543.0 102.28125 L543.46875 103.125 L543.5625 106.125 L543.09375 109.21875 L542.25 112.125 L539.0625 112.78125 L538.3125 112.96875 L537.75 113.25\"/>\n",
       "<path fill=\"none\" stroke=\"black\" stroke-width=\".3\" stroke-opacity=\"1.0\" filling=\"0\" d=\"M542.0625 112.59375 L543.5625 102.5625 L542.25 102.28125 L543.375 101.8125 L543.5625 102.28125 L544.03125 103.125 L544.21875 106.6875 L544.21875 109.21875 L543.46875 112.125 L541.6875 112.78125 L538.6875 112.96875\"/>\n",
       "<path fill=\"none\" stroke=\"black\" stroke-width=\".3\" stroke-opacity=\"1.0\" filling=\"0\" d=\"M542.0625 112.59375 L543.5625 102.5625 L542.4375 101.8125 L543.5625 101.8125 L543.5625 102.28125 L544.03125 103.125 L544.21875 106.96875 L544.21875 109.21875 L543.46875 112.125 L543.84375 112.78125 L538.875 112.96875\"/>\n",
       "<path fill=\"none\" stroke=\"black\" stroke-width=\".3\" stroke-opacity=\"1.0\" filling=\"0\" d=\"M542.0625 112.59375 L542.25 102.5625 L542.4375 101.8125 L543.5625 101.8125 L543.84375 102.28125 L544.21875 103.125 L544.21875 106.96875 L544.21875 109.21875 L543.46875 112.125 L543.84375 112.6875 L538.875 112.96875\"/>\n",
       "<path fill=\"none\" stroke=\"black\" stroke-width=\".3\" stroke-opacity=\"1.0\" filling=\"0\" d=\"M542.0625 112.59375 L542.25 102.5625 L542.4375 101.8125 L543.5625 101.8125 L544.03125 102.1875 L544.40625 103.125 L544.59375 106.6875 L544.21875 109.21875 L544.21875 112.125 L543.84375 112.6875 L539.0625 112.96875\"/>\n",
       "<path fill=\"none\" stroke=\"black\" stroke-width=\".3\" stroke-opacity=\"1.0\" filling=\"0\" d=\"M542.0625 112.59375 L541.96875 102.5625 L542.4375 101.8125 L543.5625 101.90625 L544.03125 102.28125 L544.40625 103.125 L544.59375 107.25 L544.21875 109.40625 L544.21875 112.125 L543.84375 112.6875 L539.0625 112.96875\"/>\n",
       "<path fill=\"none\" stroke=\"black\" stroke-width=\".3\" stroke-opacity=\"1.0\" filling=\"0\" d=\"M542.0625 112.59375 L541.96875 102.5625 L542.8125 101.8125 L543.84375 101.8125 L544.21875 102.28125 L544.59375 103.125 L544.59375 107.25 L544.21875 110.25 L543.46875 112.125 L543.46875 112.5 L541.6875 112.78125\"/>\n",
       "<path fill=\"none\" stroke=\"black\" stroke-width=\".3\" stroke-opacity=\"1.0\" filling=\"0\" d=\"M564.09375 112.5 L562.96875 106.96875 L562.59375 109.125 L562.6875 107.71875 L563.0625 107.8125 L563.53125 107.34375 L564.9375 107.8125 L565.3125 109.03125 L565.6875 111.9375 L565.125 112.3125\"/>\n",
       "<path fill=\"none\" stroke=\"black\" stroke-width=\".3\" stroke-opacity=\"1.0\" filling=\"0\" d=\"M564.09375 112.6875 L562.6875 111.5625 L562.5 110.4375 L562.6875 107.71875 L563.34375 106.96875 L564.09375 106.59375 L564.9375 107.25 L565.3125 108.09375 L565.6875 111.375 L564.9375 112.3125\"/>\n",
       "<path fill=\"none\" stroke=\"black\" stroke-width=\".3\" stroke-opacity=\"1.0\" filling=\"0\" d=\"M563.90625 112.5 L562.6875 111.1875 L562.59375 109.875 L562.96875 107.4375 L563.53125 106.59375 L564.375 106.21875 L564.9375 107.25 L565.3125 108.75 L565.6875 111.375 L564.9375 112.3125\"/>\n",
       "<path fill=\"none\" stroke=\"black\" stroke-width=\".3\" stroke-opacity=\"1.0\" filling=\"0\" d=\"M563.90625 112.5 L562.6875 111.1875 L562.6875 109.125 L563.0625 106.96875 L563.53125 106.59375 L564.375 106.21875 L565.3125 107.25 L565.6875 108.75 L565.6875 111.375 L565.125 112.3125\"/>\n",
       "<path fill=\"none\" stroke=\"black\" stroke-width=\".3\" stroke-opacity=\"1.0\" filling=\"0\" d=\"M563.90625 112.40625 L562.6875 111.1875 L562.6875 109.5 L563.0625 106.96875 L563.53125 106.59375 L564.375 106.21875 L565.3125 107.25 L565.6875 108.75 L565.875 111.375 L565.125 112.3125\"/>\n",
       "<path fill=\"none\" stroke=\"black\" stroke-width=\".3\" stroke-opacity=\"1.0\" filling=\"0\" d=\"M559.875 103.87499237060547 M559.875 103.87499237060547\"/>\n",
       "<path fill=\"none\" stroke=\"black\" stroke-width=\".3\" stroke-opacity=\"1.0\" filling=\"0\" d=\"M559.875 103.87499237060547 M559.875 103.87499237060547\"/>\n",
       "<path fill=\"none\" stroke=\"black\" stroke-width=\".3\" stroke-opacity=\"1.0\" filling=\"0\" d=\"M559.875 103.87499237060547 M559.875 103.87499237060547\"/>\n",
       "<path fill=\"none\" stroke=\"black\" stroke-width=\".3\" stroke-opacity=\"1.0\" filling=\"0\" d=\"M583.875 103.87499237060547 M583.875 103.87499237060547\"/>\n",
       "<path fill=\"none\" stroke=\"black\" stroke-width=\".3\" stroke-opacity=\"1.0\" filling=\"0\" d=\"M583.875 103.87499237060547 M583.875 103.87499237060547\"/>\n",
       "<path fill=\"none\" stroke=\"black\" stroke-width=\".3\" stroke-opacity=\"1.0\" filling=\"0\" d=\"M583.875 103.87499237060547 M583.875 103.87499237060547\"/>\n",
       "<path fill=\"none\" stroke=\"black\" stroke-width=\".3\" stroke-opacity=\"1.0\" filling=\"0\" d=\"M583.875 103.87499237060547 M583.875 103.87499237060547\"/>\n",
       "<path fill=\"none\" stroke=\"black\" stroke-width=\".3\" stroke-opacity=\"1.0\" filling=\"0\" d=\"M583.875 103.87499237060547 M583.875 103.87499237060547\"/>\n",
       "<path fill=\"none\" stroke=\"black\" stroke-width=\".3\" stroke-opacity=\"1.0\" filling=\"0\" d=\"M583.875 103.87499237060547 M583.875 103.87499237060547\"/>\n",
       "<path fill=\"none\" stroke=\"black\" stroke-width=\".3\" stroke-opacity=\"1.0\" filling=\"0\" d=\"M583.875 103.87499237060547 M583.875 103.87499237060547\"/>\n",
       "<path fill=\"none\" stroke=\"black\" stroke-width=\".3\" stroke-opacity=\"1.0\" filling=\"0\" d=\"M583.875 103.87499237060547 M583.875 103.87499237060547\"/>\n",
       "<path fill=\"none\" stroke=\"black\" stroke-width=\".3\" stroke-opacity=\"1.0\" filling=\"0\" d=\"M15.0 128.8125 L14.15625 129.1875 L12.5625 129.65625 L11.25 129.1875 L10.5 128.625\"/>\n",
       "<path fill=\"none\" stroke=\"black\" stroke-width=\".3\" stroke-opacity=\"1.0\" filling=\"0\" d=\"M15.0 129.46875 L14.0625 129.84375 L12.1875 129.84375 L11.0625 129.65625\"/>\n",
       "<path fill=\"none\" stroke=\"black\" stroke-width=\".3\" stroke-opacity=\"1.0\" filling=\"0\" d=\"M15.09375 129.65625 L14.0625 130.125 L12.375 130.3125 L11.25 130.3125\"/>\n",
       "<path fill=\"none\" stroke=\"black\" stroke-width=\".3\" stroke-opacity=\"1.0\" filling=\"0\" d=\"M15.46875 129.46875 L14.4375 130.125 L12.84375 130.6875 L11.625 130.6875\"/>\n",
       "<path fill=\"none\" stroke=\"black\" stroke-width=\".3\" stroke-opacity=\"1.0\" filling=\"0\" d=\"M15.46875 129.46875 L14.53125 130.3125 L12.84375 130.6875 L11.71875 131.0625\"/>\n",
       "<path fill=\"none\" stroke=\"black\" stroke-width=\".3\" stroke-opacity=\"1.0\" filling=\"0\" d=\"M15.65625 129.46875 L14.71875 130.3125 L13.21875 131.15625 L11.90625 131.71875\"/>\n",
       "<path fill=\"none\" stroke=\"black\" stroke-width=\".3\" stroke-opacity=\"1.0\" filling=\"0\" d=\"M15.84375 129.9375 L14.90625 130.6875 L13.21875 132.09375 L12.1875 132.46875\"/>\n",
       "<path fill=\"none\" stroke=\"black\" stroke-width=\".3\" stroke-opacity=\"1.0\" filling=\"0\" d=\"M7.874995708465576 127.87499237060547 M7.874995708465576 127.87499237060547\"/>\n",
       "<path fill=\"none\" stroke=\"black\" stroke-width=\".3\" stroke-opacity=\"1.0\" filling=\"0\" d=\"M34.21875 129.46875 L34.21875 127.59375 L34.875 126.84375 L36.09375 126.5625 L37.03125 126.75 L37.6875 127.6875 L37.875 128.8125 L37.875 129.84375 L37.59375 130.96875 L36.9375 131.625\"/>\n",
       "<path fill=\"none\" stroke=\"black\" stroke-width=\".3\" stroke-opacity=\"1.0\" filling=\"0\" d=\"M31.874996185302734 127.87499237060547 M31.874996185302734 127.87499237060547\"/>\n",
       "<path fill=\"none\" stroke=\"black\" stroke-width=\".3\" stroke-opacity=\"1.0\" filling=\"0\" d=\"M31.874996185302734 127.87499237060547 M31.874996185302734 127.87499237060547\"/>\n",
       "<path fill=\"none\" stroke=\"black\" stroke-width=\".3\" stroke-opacity=\"1.0\" filling=\"0\" d=\"M31.874996185302734 127.87499237060547 M31.874996185302734 127.87499237060547\"/>\n",
       "<path fill=\"none\" stroke=\"black\" stroke-width=\".3\" stroke-opacity=\"1.0\" filling=\"0\" d=\"M31.874996185302734 127.87499237060547 M31.874996185302734 127.87499237060547\"/>\n",
       "<path fill=\"none\" stroke=\"black\" stroke-width=\".3\" stroke-opacity=\"1.0\" filling=\"0\" d=\"M31.874996185302734 127.87499237060547 M31.874996185302734 127.87499237060547\"/>\n",
       "<path fill=\"none\" stroke=\"black\" stroke-width=\".3\" stroke-opacity=\"1.0\" filling=\"0\" d=\"M31.874996185302734 127.87499237060547 M31.874996185302734 127.87499237060547\"/>\n",
       "<path fill=\"none\" stroke=\"black\" stroke-width=\".3\" stroke-opacity=\"1.0\" filling=\"0\" d=\"M31.874996185302734 127.87499237060547 M31.874996185302734 127.87499237060547\"/>\n",
       "<path fill=\"none\" stroke=\"black\" stroke-width=\".3\" stroke-opacity=\"1.0\" filling=\"0\" d=\"M60.1875 128.8125 L59.71875 129.46875 L58.78125 130.5 L57.28125 131.4375 L55.21875 131.71875 L54.65625 131.625\"/>\n",
       "<path fill=\"none\" stroke=\"black\" stroke-width=\".3\" stroke-opacity=\"1.0\" filling=\"0\" d=\"M60.1875 129.09375 L59.71875 129.84375 L59.0625 130.96875 L57.28125 131.71875 L55.21875 132.1875 L54.65625 132.09375\"/>\n",
       "<path fill=\"none\" stroke=\"black\" stroke-width=\".3\" stroke-opacity=\"1.0\" filling=\"0\" d=\"M60.1875 129.09375 L59.90625 129.84375 L59.0625 131.15625 L57.75 132.1875 L55.5 132.65625 L54.65625 132.65625\"/>\n",
       "<path fill=\"none\" stroke=\"black\" stroke-width=\".3\" stroke-opacity=\"1.0\" filling=\"0\" d=\"M60.09375 129.09375 L59.90625 130.03125 L59.0625 131.4375 L58.03125 132.46875 L56.0625 132.9375 L54.75 132.9375\"/>\n",
       "<path fill=\"none\" stroke=\"black\" stroke-width=\".3\" stroke-opacity=\"1.0\" filling=\"0\" d=\"M60.09375 129.09375 L60.0 130.125 L59.34375 131.4375 L58.03125 132.46875 L56.34375 133.21875 L54.75 133.03125\"/>\n",
       "<path fill=\"none\" stroke=\"black\" stroke-width=\".3\" stroke-opacity=\"1.0\" filling=\"0\" d=\"M60.09375 129.09375 L60.09375 130.3125 L59.71875 131.71875 L58.59375 132.75 L56.90625 133.40625 L55.125 133.3125\"/>\n",
       "<path fill=\"none\" stroke=\"black\" stroke-width=\".3\" stroke-opacity=\"1.0\" filling=\"0\" d=\"M60.09375 129.1875 L60.1875 130.3125 L59.71875 131.71875 L58.6875 132.9375 L57.28125 133.5 L55.21875 133.6875 L54.65625 133.03125\"/>\n",
       "<path fill=\"none\" stroke=\"black\" stroke-width=\".3\" stroke-opacity=\"1.0\" filling=\"0\" d=\"M60.09375 129.1875 L60.1875 130.3125 L59.90625 131.71875 L59.0625 133.125 L57.5625 133.78125 L55.40625 133.78125 L54.65625 133.40625\"/>\n",
       "<path fill=\"none\" stroke=\"black\" stroke-width=\".3\" stroke-opacity=\"1.0\" filling=\"0\" d=\"M84.28125 127.3125 L84.375 128.53125 L84.28125 132.75 L83.90625 137.15625 L83.0625 137.8125 L82.3125 137.53125 L81.46875 136.78125 L80.625 135.09375 L80.25 131.0625 L80.34375 128.0625 L80.90625 127.125 L81.75 126.75\"/>\n",
       "<path fill=\"none\" stroke=\"black\" stroke-width=\".3\" stroke-opacity=\"1.0\" filling=\"0\" d=\"M84.09375 127.59375 L84.09375 129.0 L83.90625 133.59375 L83.53125 137.4375 L82.78125 137.8125 L82.03125 137.53125\"/>\n",
       "<path fill=\"none\" stroke=\"black\" stroke-width=\".3\" stroke-opacity=\"1.0\" filling=\"0\" d=\"M84.1875 127.96875 L84.28125 130.03125 L84.1875 135.65625 L83.71875 137.625 L83.0625 137.8125 L82.03125 137.53125\"/>\n",
       "<path fill=\"none\" stroke=\"black\" stroke-width=\".3\" stroke-opacity=\"1.0\" filling=\"0\" d=\"M84.09375 128.0625 L84.1875 130.59375 L84.1875 136.3125 L83.71875 137.625 L83.0625 138.09375 L82.3125 137.8125\"/>\n",
       "<path fill=\"none\" stroke=\"black\" stroke-width=\".3\" stroke-opacity=\"1.0\" filling=\"0\" d=\"M83.90625 128.0625 L84.09375 130.96875 L84.1875 136.3125 L83.8125 137.8125 L83.0625 138.1875\"/>\n",
       "<path fill=\"none\" stroke=\"black\" stroke-width=\".3\" stroke-opacity=\"1.0\" filling=\"0\" d=\"M79.87499237060547 127.87499237060547 M79.87499237060547 127.87499237060547\"/>\n",
       "<path fill=\"none\" stroke=\"black\" stroke-width=\".3\" stroke-opacity=\"1.0\" filling=\"0\" d=\"M79.87499237060547 127.87499237060547 M79.87499237060547 127.87499237060547\"/>\n",
       "<path fill=\"none\" stroke=\"black\" stroke-width=\".3\" stroke-opacity=\"1.0\" filling=\"0\" d=\"M79.87499237060547 127.87499237060547 M79.87499237060547 127.87499237060547\"/>\n",
       "<path fill=\"none\" stroke=\"black\" stroke-width=\".3\" stroke-opacity=\"1.0\" filling=\"0\" d=\"M112.6875 127.125 L112.6875 127.96875 L111.09375 128.53125\"/>\n",
       "<path fill=\"none\" stroke=\"black\" stroke-width=\".3\" stroke-opacity=\"1.0\" filling=\"0\" d=\"M112.03125 128.53125 L111.84375 129.0 L110.15625 129.1875\"/>\n",
       "<path fill=\"none\" stroke=\"black\" stroke-width=\".3\" stroke-opacity=\"1.0\" filling=\"0\" d=\"M112.03125 128.53125 L111.46875 129.0 L110.15625 129.1875\"/>\n",
       "<path fill=\"none\" stroke=\"black\" stroke-width=\".3\" stroke-opacity=\"1.0\" filling=\"0\" d=\"M112.03125 128.53125 L111.84375 129.0 L110.25 129.1875\"/>\n",
       "<path fill=\"none\" stroke=\"black\" stroke-width=\".3\" stroke-opacity=\"1.0\" filling=\"0\" d=\"M111.84375 128.53125 L111.84375 129.0 L110.25 129.1875\"/>\n",
       "<path fill=\"none\" stroke=\"black\" stroke-width=\".3\" stroke-opacity=\"1.0\" filling=\"0\" d=\"M103.87499237060547 127.87499237060547 M103.87499237060547 127.87499237060547\"/>\n",
       "<path fill=\"none\" stroke=\"black\" stroke-width=\".3\" stroke-opacity=\"1.0\" filling=\"0\" d=\"M103.87499237060547 127.87499237060547 M103.87499237060547 127.87499237060547\"/>\n",
       "<path fill=\"none\" stroke=\"black\" stroke-width=\".3\" stroke-opacity=\"1.0\" filling=\"0\" d=\"M103.87499237060547 127.87499237060547 M103.87499237060547 127.87499237060547\"/>\n",
       "<path fill=\"none\" stroke=\"black\" stroke-width=\".3\" stroke-opacity=\"1.0\" filling=\"0\" d=\"M127.87499237060547 127.87499237060547 M127.87499237060547 127.87499237060547\"/>\n",
       "<path fill=\"none\" stroke=\"black\" stroke-width=\".3\" stroke-opacity=\"1.0\" filling=\"0\" d=\"M127.87499237060547 127.87499237060547 M127.87499237060547 127.87499237060547\"/>\n",
       "<path fill=\"none\" stroke=\"black\" stroke-width=\".3\" stroke-opacity=\"1.0\" filling=\"0\" d=\"M127.87499237060547 127.87499237060547 M127.87499237060547 127.87499237060547\"/>\n",
       "<path fill=\"none\" stroke=\"black\" stroke-width=\".3\" stroke-opacity=\"1.0\" filling=\"0\" d=\"M127.87499237060547 127.87499237060547 M127.87499237060547 127.87499237060547\"/>\n",
       "<path fill=\"none\" stroke=\"black\" stroke-width=\".3\" stroke-opacity=\"1.0\" filling=\"0\" d=\"M127.87499237060547 127.87499237060547 M127.87499237060547 127.87499237060547\"/>\n",
       "<path fill=\"none\" stroke=\"black\" stroke-width=\".3\" stroke-opacity=\"1.0\" filling=\"0\" d=\"M127.87499237060547 127.87499237060547 M127.87499237060547 127.87499237060547\"/>\n",
       "<path fill=\"none\" stroke=\"black\" stroke-width=\".3\" stroke-opacity=\"1.0\" filling=\"0\" d=\"M127.87499237060547 127.87499237060547 M127.87499237060547 127.87499237060547\"/>\n",
       "<path fill=\"none\" stroke=\"black\" stroke-width=\".3\" stroke-opacity=\"1.0\" filling=\"0\" d=\"M127.87499237060547 127.87499237060547 M127.87499237060547 127.87499237060547\"/>\n",
       "<path fill=\"none\" stroke=\"black\" stroke-width=\".3\" stroke-opacity=\"1.0\" filling=\"0\" d=\"M147.84375 123.9375 L147.5625 123.84375\"/>\n",
       "<path fill=\"none\" stroke=\"black\" stroke-width=\".3\" stroke-opacity=\"1.0\" filling=\"0\" d=\"M147.84375 123.9375 L147.65625 135.5625\"/>\n",
       "<path fill=\"none\" stroke=\"black\" stroke-width=\".3\" stroke-opacity=\"1.0\" filling=\"0\" d=\"M147.84375 123.9375 L147.65625 135.5625\"/>\n",
       "<path fill=\"none\" stroke=\"black\" stroke-width=\".3\" stroke-opacity=\"1.0\" filling=\"0\" d=\"M147.84375 123.9375 L147.65625 135.5625\"/>\n",
       "<path fill=\"none\" stroke=\"black\" stroke-width=\".3\" stroke-opacity=\"1.0\" filling=\"0\" d=\"M147.84375 123.9375 L147.65625 135.5625\"/>\n",
       "<path fill=\"none\" stroke=\"black\" stroke-width=\".3\" stroke-opacity=\"1.0\" filling=\"0\" d=\"M147.84375 123.9375 L147.65625 135.5625\"/>\n",
       "<path fill=\"none\" stroke=\"black\" stroke-width=\".3\" stroke-opacity=\"1.0\" filling=\"0\" d=\"M147.84375 123.9375 L147.65625 135.5625\"/>\n",
       "<path fill=\"none\" stroke=\"black\" stroke-width=\".3\" stroke-opacity=\"1.0\" filling=\"0\" d=\"M147.84375 123.9375 L147.65625 135.5625\"/>\n",
       "<path fill=\"none\" stroke=\"black\" stroke-width=\".3\" stroke-opacity=\"1.0\" filling=\"0\" d=\"M175.875 127.87499237060547 M175.875 127.87499237060547\"/>\n",
       "<path fill=\"none\" stroke=\"black\" stroke-width=\".3\" stroke-opacity=\"1.0\" filling=\"0\" d=\"M175.875 127.87499237060547 M175.875 127.87499237060547\"/>\n",
       "<path fill=\"none\" stroke=\"black\" stroke-width=\".3\" stroke-opacity=\"1.0\" filling=\"0\" d=\"M175.875 127.87499237060547 M175.875 127.87499237060547\"/>\n",
       "<path fill=\"none\" stroke=\"black\" stroke-width=\".3\" stroke-opacity=\"1.0\" filling=\"0\" d=\"M175.875 127.87499237060547 M175.875 127.87499237060547\"/>\n",
       "<path fill=\"none\" stroke=\"black\" stroke-width=\".3\" stroke-opacity=\"1.0\" filling=\"0\" d=\"M175.875 127.87499237060547 M175.875 127.87499237060547\"/>\n",
       "<path fill=\"none\" stroke=\"black\" stroke-width=\".3\" stroke-opacity=\"1.0\" filling=\"0\" d=\"M175.875 127.87499237060547 M175.875 127.87499237060547\"/>\n",
       "<path fill=\"none\" stroke=\"black\" stroke-width=\".3\" stroke-opacity=\"1.0\" filling=\"0\" d=\"M175.875 127.87499237060547 M175.875 127.87499237060547\"/>\n",
       "<path fill=\"none\" stroke=\"black\" stroke-width=\".3\" stroke-opacity=\"1.0\" filling=\"0\" d=\"M175.875 127.87499237060547 M175.875 127.87499237060547\"/>\n",
       "<path fill=\"none\" stroke=\"black\" stroke-width=\".3\" stroke-opacity=\"1.0\" filling=\"0\" d=\"M199.875 127.87499237060547 M199.875 127.87499237060547\"/>\n",
       "<path fill=\"none\" stroke=\"black\" stroke-width=\".3\" stroke-opacity=\"1.0\" filling=\"0\" d=\"M199.875 127.87499237060547 M199.875 127.87499237060547\"/>\n",
       "<path fill=\"none\" stroke=\"black\" stroke-width=\".3\" stroke-opacity=\"1.0\" filling=\"0\" d=\"M199.875 127.87499237060547 M199.875 127.87499237060547\"/>\n",
       "<path fill=\"none\" stroke=\"black\" stroke-width=\".3\" stroke-opacity=\"1.0\" filling=\"0\" d=\"M199.875 127.87499237060547 M199.875 127.87499237060547\"/>\n",
       "<path fill=\"none\" stroke=\"black\" stroke-width=\".3\" stroke-opacity=\"1.0\" filling=\"0\" d=\"M199.875 127.87499237060547 M199.875 127.87499237060547\"/>\n",
       "<path fill=\"none\" stroke=\"black\" stroke-width=\".3\" stroke-opacity=\"1.0\" filling=\"0\" d=\"M199.875 127.87499237060547 M199.875 127.87499237060547\"/>\n",
       "<path fill=\"none\" stroke=\"black\" stroke-width=\".3\" stroke-opacity=\"1.0\" filling=\"0\" d=\"M199.875 127.87499237060547 M199.875 127.87499237060547\"/>\n",
       "<path fill=\"none\" stroke=\"black\" stroke-width=\".3\" stroke-opacity=\"1.0\" filling=\"0\" d=\"M199.875 127.87499237060547 M199.875 127.87499237060547\"/>\n",
       "<path fill=\"none\" stroke=\"black\" stroke-width=\".3\" stroke-opacity=\"1.0\" filling=\"0\" d=\"M223.875 127.87499237060547 M223.875 127.87499237060547\"/>\n",
       "<path fill=\"none\" stroke=\"black\" stroke-width=\".3\" stroke-opacity=\"1.0\" filling=\"0\" d=\"M223.875 127.87499237060547 M223.875 127.87499237060547\"/>\n",
       "<path fill=\"none\" stroke=\"black\" stroke-width=\".3\" stroke-opacity=\"1.0\" filling=\"0\" d=\"M223.875 127.87499237060547 M223.875 127.87499237060547\"/>\n",
       "<path fill=\"none\" stroke=\"black\" stroke-width=\".3\" stroke-opacity=\"1.0\" filling=\"0\" d=\"M223.875 127.87499237060547 M223.875 127.87499237060547\"/>\n",
       "<path fill=\"none\" stroke=\"black\" stroke-width=\".3\" stroke-opacity=\"1.0\" filling=\"0\" d=\"M223.875 127.87499237060547 M223.875 127.87499237060547\"/>\n",
       "<path fill=\"none\" stroke=\"black\" stroke-width=\".3\" stroke-opacity=\"1.0\" filling=\"0\" d=\"M223.875 127.87499237060547 M223.875 127.87499237060547\"/>\n",
       "<path fill=\"none\" stroke=\"black\" stroke-width=\".3\" stroke-opacity=\"1.0\" filling=\"0\" d=\"M223.875 127.87499237060547 M223.875 127.87499237060547\"/>\n",
       "<path fill=\"none\" stroke=\"black\" stroke-width=\".3\" stroke-opacity=\"1.0\" filling=\"0\" d=\"M223.875 127.87499237060547 M223.875 127.87499237060547\"/>\n",
       "<path fill=\"none\" stroke=\"black\" stroke-width=\".3\" stroke-opacity=\"1.0\" filling=\"0\" d=\"M247.875 127.87499237060547 M247.875 127.87499237060547\"/>\n",
       "<path fill=\"none\" stroke=\"black\" stroke-width=\".3\" stroke-opacity=\"1.0\" filling=\"0\" d=\"M247.875 127.87499237060547 M247.875 127.87499237060547\"/>\n",
       "<path fill=\"none\" stroke=\"black\" stroke-width=\".3\" stroke-opacity=\"1.0\" filling=\"0\" d=\"M247.875 127.87499237060547 M247.875 127.87499237060547\"/>\n",
       "<path fill=\"none\" stroke=\"black\" stroke-width=\".3\" stroke-opacity=\"1.0\" filling=\"0\" d=\"M247.875 127.87499237060547 M247.875 127.87499237060547\"/>\n",
       "<path fill=\"none\" stroke=\"black\" stroke-width=\".3\" stroke-opacity=\"1.0\" filling=\"0\" d=\"M247.875 127.87499237060547 M247.875 127.87499237060547\"/>\n",
       "<path fill=\"none\" stroke=\"black\" stroke-width=\".3\" stroke-opacity=\"1.0\" filling=\"0\" d=\"M247.875 127.87499237060547 M247.875 127.87499237060547\"/>\n",
       "<path fill=\"none\" stroke=\"black\" stroke-width=\".3\" stroke-opacity=\"1.0\" filling=\"0\" d=\"M247.875 127.87499237060547 M247.875 127.87499237060547\"/>\n",
       "<path fill=\"none\" stroke=\"black\" stroke-width=\".3\" stroke-opacity=\"1.0\" filling=\"0\" d=\"M247.875 127.87499237060547 M247.875 127.87499237060547\"/>\n",
       "<path fill=\"none\" stroke=\"black\" stroke-width=\".3\" stroke-opacity=\"1.0\" filling=\"0\" d=\"M271.875 127.87499237060547 M271.875 127.87499237060547\"/>\n",
       "<path fill=\"none\" stroke=\"black\" stroke-width=\".3\" stroke-opacity=\"1.0\" filling=\"0\" d=\"M271.875 127.87499237060547 M271.875 127.87499237060547\"/>\n",
       "<path fill=\"none\" stroke=\"black\" stroke-width=\".3\" stroke-opacity=\"1.0\" filling=\"0\" d=\"M271.875 127.87499237060547 M271.875 127.87499237060547\"/>\n",
       "<path fill=\"none\" stroke=\"black\" stroke-width=\".3\" stroke-opacity=\"1.0\" filling=\"0\" d=\"M271.875 127.87499237060547 M271.875 127.87499237060547\"/>\n",
       "<path fill=\"none\" stroke=\"black\" stroke-width=\".3\" stroke-opacity=\"1.0\" filling=\"0\" d=\"M271.875 127.87499237060547 M271.875 127.87499237060547\"/>\n",
       "<path fill=\"none\" stroke=\"black\" stroke-width=\".3\" stroke-opacity=\"1.0\" filling=\"0\" d=\"M271.875 127.87499237060547 M271.875 127.87499237060547\"/>\n",
       "<path fill=\"none\" stroke=\"black\" stroke-width=\".3\" stroke-opacity=\"1.0\" filling=\"0\" d=\"M271.875 127.87499237060547 M271.875 127.87499237060547\"/>\n",
       "<path fill=\"none\" stroke=\"black\" stroke-width=\".3\" stroke-opacity=\"1.0\" filling=\"0\" d=\"M271.875 127.87499237060547 M271.875 127.87499237060547\"/>\n",
       "<path fill=\"none\" stroke=\"black\" stroke-width=\".3\" stroke-opacity=\"1.0\" filling=\"0\" d=\"M304.21875 127.40625 L301.875 136.96875 L301.96875 137.90625\"/>\n",
       "<path fill=\"none\" stroke=\"black\" stroke-width=\".3\" stroke-opacity=\"1.0\" filling=\"0\" d=\"M304.21875 127.40625 L301.59375 136.96875\"/>\n",
       "<path fill=\"none\" stroke=\"black\" stroke-width=\".3\" stroke-opacity=\"1.0\" filling=\"0\" d=\"M304.21875 127.40625 L301.5 137.625\"/>\n",
       "<path fill=\"none\" stroke=\"black\" stroke-width=\".3\" stroke-opacity=\"1.0\" filling=\"0\" d=\"M304.21875 127.40625 L301.5 137.90625\"/>\n",
       "<path fill=\"none\" stroke=\"black\" stroke-width=\".3\" stroke-opacity=\"1.0\" filling=\"0\" d=\"M295.875 127.87499237060547 M295.875 127.87499237060547\"/>\n",
       "<path fill=\"none\" stroke=\"black\" stroke-width=\".3\" stroke-opacity=\"1.0\" filling=\"0\" d=\"M295.875 127.87499237060547 M295.875 127.87499237060547\"/>\n",
       "<path fill=\"none\" stroke=\"black\" stroke-width=\".3\" stroke-opacity=\"1.0\" filling=\"0\" d=\"M295.875 127.87499237060547 M295.875 127.87499237060547\"/>\n",
       "<path fill=\"none\" stroke=\"black\" stroke-width=\".3\" stroke-opacity=\"1.0\" filling=\"0\" d=\"M295.875 127.87499237060547 M295.875 127.87499237060547\"/>\n",
       "<path fill=\"none\" stroke=\"black\" stroke-width=\".3\" stroke-opacity=\"1.0\" filling=\"0\" d=\"M327.84375 133.875 L326.625 133.3125\"/>\n",
       "<path fill=\"none\" stroke=\"black\" stroke-width=\".3\" stroke-opacity=\"1.0\" filling=\"0\" d=\"M327.46875 133.875 L326.25 133.3125\"/>\n",
       "<path fill=\"none\" stroke=\"black\" stroke-width=\".3\" stroke-opacity=\"1.0\" filling=\"0\" d=\"M327.65625 133.875 L326.25 133.3125\"/>\n",
       "<path fill=\"none\" stroke=\"black\" stroke-width=\".3\" stroke-opacity=\"1.0\" filling=\"0\" d=\"M327.46875 133.875 L326.25 133.5\"/>\n",
       "<path fill=\"none\" stroke=\"black\" stroke-width=\".3\" stroke-opacity=\"1.0\" filling=\"0\" d=\"M327.46875 133.875 L326.625 133.5\"/>\n",
       "<path fill=\"none\" stroke=\"black\" stroke-width=\".3\" stroke-opacity=\"1.0\" filling=\"0\" d=\"M327.46875 133.875 L326.625 133.875\"/>\n",
       "<path fill=\"none\" stroke=\"black\" stroke-width=\".3\" stroke-opacity=\"1.0\" filling=\"0\" d=\"M327.46875 133.875 L326.625 133.875\"/>\n",
       "<path fill=\"none\" stroke=\"black\" stroke-width=\".3\" stroke-opacity=\"1.0\" filling=\"0\" d=\"M327.46875 134.0625 L327.09375 133.875\"/>\n",
       "<path fill=\"none\" stroke=\"black\" stroke-width=\".3\" stroke-opacity=\"1.0\" filling=\"0\" d=\"M352.21875 137.625 L347.53125 137.625 L346.03125 136.40625 L345.0 132.84375 L345.0 128.53125 L345.28125 127.96875 L345.5625 127.78125\"/>\n",
       "<path fill=\"none\" stroke=\"black\" stroke-width=\".3\" stroke-opacity=\"1.0\" filling=\"0\" d=\"M352.21875 137.34375 L347.0625 137.34375 L345.5625 136.40625 L344.8125 132.84375 L344.8125 128.53125 L345.0 127.96875 L345.28125 127.59375\"/>\n",
       "<path fill=\"none\" stroke=\"black\" stroke-width=\".3\" stroke-opacity=\"1.0\" filling=\"0\" d=\"M352.21875 137.53125 L347.15625 137.625 L345.5625 136.40625 L344.8125 133.03125 L344.8125 129.0 L345.0 127.96875 L345.28125 127.5\"/>\n",
       "<path fill=\"none\" stroke=\"black\" stroke-width=\".3\" stroke-opacity=\"1.0\" filling=\"0\" d=\"M352.21875 137.625 L347.53125 137.625 L345.5625 136.40625 L345.0 133.3125 L344.8125 129.09375 L345.0 127.96875 L345.46875 127.78125\"/>\n",
       "<path fill=\"none\" stroke=\"black\" stroke-width=\".3\" stroke-opacity=\"1.0\" filling=\"0\" d=\"M352.21875 137.625 L347.53125 137.625 L345.9375 137.0625 L345.0 133.3125 L345.0 129.09375 L345.0 127.96875 L345.46875 127.78125\"/>\n",
       "<path fill=\"none\" stroke=\"black\" stroke-width=\".3\" stroke-opacity=\"1.0\" filling=\"0\" d=\"M352.21875 137.71875 L347.71875 137.90625 L345.9375 137.0625 L345.0 133.3125 L345.0 129.28125 L345.0 128.25 L345.75 127.78125\"/>\n",
       "<path fill=\"none\" stroke=\"black\" stroke-width=\".3\" stroke-opacity=\"1.0\" filling=\"0\" d=\"M352.21875 137.71875 L347.71875 137.90625 L346.03125 137.34375 L345.0 133.6875 L345.0 129.46875 L345.0 128.25 L345.75 127.78125\"/>\n",
       "<path fill=\"none\" stroke=\"black\" stroke-width=\".3\" stroke-opacity=\"1.0\" filling=\"0\" d=\"M352.6875 138.0 L348.09375 137.90625 L346.3125 137.34375 L345.28125 133.6875 L345.28125 129.84375 L345.46875 128.25\"/>\n",
       "<path fill=\"none\" stroke=\"black\" stroke-width=\".3\" stroke-opacity=\"1.0\" filling=\"0\" d=\"M372.0 123.65625 L372.46875 123.5625 L372.65625 123.65625 L374.0625 132.46875 L375.0 132.46875\"/>\n",
       "<path fill=\"none\" stroke=\"black\" stroke-width=\".3\" stroke-opacity=\"1.0\" filling=\"0\" d=\"M371.625 123.65625 L372.28125 123.5625 L372.9375 129.5625 L374.0625 131.90625 L374.90625 132.0\"/>\n",
       "<path fill=\"none\" stroke=\"black\" stroke-width=\".3\" stroke-opacity=\"1.0\" filling=\"0\" d=\"M371.625 123.65625 L372.0 123.5625 L372.46875 129.9375 L373.59375 131.90625 L374.90625 132.0\"/>\n",
       "<path fill=\"none\" stroke=\"black\" stroke-width=\".3\" stroke-opacity=\"1.0\" filling=\"0\" d=\"M371.625 123.65625 L372.0 123.5625 L372.46875 129.9375 L373.59375 131.90625 L374.90625 132.0 L375.65625 132.46875\"/>\n",
       "<path fill=\"none\" stroke=\"black\" stroke-width=\".3\" stroke-opacity=\"1.0\" filling=\"0\" d=\"M371.625 123.65625 L371.8125 123.5625 L372.46875 130.6875 L373.59375 131.90625 L374.34375 132.46875 L375.65625 133.03125\"/>\n",
       "<path fill=\"none\" stroke=\"black\" stroke-width=\".3\" stroke-opacity=\"1.0\" filling=\"0\" d=\"M371.625 123.65625 L371.8125 123.5625 L372.28125 130.6875 L373.59375 131.90625 L374.25 132.0 L375.65625 133.03125\"/>\n",
       "<path fill=\"none\" stroke=\"black\" stroke-width=\".3\" stroke-opacity=\"1.0\" filling=\"0\" d=\"M371.625 123.65625 L371.71875 123.5625 L372.28125 131.90625 L373.3125 131.90625 L374.25 132.46875 L375.65625 133.03125\"/>\n",
       "<path fill=\"none\" stroke=\"black\" stroke-width=\".3\" stroke-opacity=\"1.0\" filling=\"0\" d=\"M372.0 123.65625 L371.71875 123.5625 L372.09375 131.90625 L373.3125 132.46875 L374.0625 132.46875 L375.46875 133.03125\"/>\n",
       "<path fill=\"none\" stroke=\"black\" stroke-width=\".3\" stroke-opacity=\"1.0\" filling=\"0\" d=\"M393.28125 138.75 L392.34375 135.5625 L392.53125 132.9375 L393.375 131.15625 L394.875 130.03125 L396.46875 129.65625 L398.34375 130.3125 L399.46875 131.25 L399.9375 132.75 L400.3125 134.25 L400.21875 136.40625 L399.375 138.46875 L398.15625 139.03125\"/>\n",
       "<path fill=\"none\" stroke=\"black\" stroke-width=\".3\" stroke-opacity=\"1.0\" filling=\"0\" d=\"M394.21875 138.75 L392.625 135.5625 L392.90625 133.40625 L393.65625 131.53125 L394.59375 130.3125 L396.46875 129.75 L398.34375 130.03125 L399.65625 131.0625 L400.21875 132.1875 L400.6875 133.59375 L400.6875 135.46875 L400.3125 136.96875 L399.0 138.46875 L397.59375 139.21875\"/>\n",
       "<path fill=\"none\" stroke=\"black\" stroke-width=\".3\" stroke-opacity=\"1.0\" filling=\"0\" d=\"M394.21875 138.84375 L392.625 135.5625 L392.90625 133.59375 L393.46875 131.4375 L394.5 130.03125 L396.46875 129.5625 L398.34375 130.03125 L399.65625 131.0625 L400.21875 132.1875 L400.6875 133.59375 L400.6875 135.46875 L400.3125 136.96875 L399.0 138.46875 L397.59375 139.21875\"/>\n",
       "<path fill=\"none\" stroke=\"black\" stroke-width=\".3\" stroke-opacity=\"1.0\" filling=\"0\" d=\"M394.5 138.84375 L392.625 135.84375 L392.90625 133.59375 L393.46875 131.71875 L394.3125 130.03125 L396.1875 129.5625 L398.25 130.03125 L399.46875 130.96875 L400.21875 132.0 L400.6875 133.59375 L400.6875 135.46875 L400.3125 136.96875 L399.375 138.46875 L397.59375 139.40625\"/>\n",
       "<path fill=\"none\" stroke=\"black\" stroke-width=\".3\" stroke-opacity=\"1.0\" filling=\"0\" d=\"M394.6875 139.21875 L393.0 136.125 L392.90625 133.59375 L393.375 131.8125 L394.3125 130.3125 L396.09375 129.5625 L398.0625 130.03125 L399.46875 130.96875 L400.21875 132.0 L400.6875 133.59375 L400.6875 135.46875 L400.3125 136.78125 L399.375 138.46875 L397.875 139.21875\"/>\n",
       "<path fill=\"none\" stroke=\"black\" stroke-width=\".3\" stroke-opacity=\"1.0\" filling=\"0\" d=\"M394.96875 139.5 L393.0 136.40625 L392.8125 133.96875 L393.28125 132.09375 L394.21875 130.5 L395.90625 129.5625 L397.875 130.03125 L399.46875 130.6875 L400.21875 132.0 L400.6875 133.3125 L400.875 135.0 L400.5 136.78125 L399.5625 138.46875 L397.875 139.21875\"/>\n",
       "<path fill=\"none\" stroke=\"black\" stroke-width=\".3\" stroke-opacity=\"1.0\" filling=\"0\" d=\"M394.96875 139.5 L393.0 136.78125 L392.8125 133.96875 L393.28125 132.09375 L394.21875 130.5 L395.71875 129.75 L397.875 130.03125 L399.28125 130.6875 L400.21875 132.0 L400.6875 133.3125 L400.6875 135.0 L400.3125 136.78125 L399.375 138.46875 L397.875 139.21875\"/>\n",
       "<path fill=\"none\" stroke=\"black\" stroke-width=\".3\" stroke-opacity=\"1.0\" filling=\"0\" d=\"M395.4375 139.5 L393.0 136.78125 L392.8125 134.4375 L393.28125 132.28125 L393.9375 130.5 L395.53125 129.75 L397.59375 129.75 L399.0 130.5 L400.21875 131.71875 L400.5 132.9375 L400.6875 134.90625 L400.5 136.59375 L399.5625 138.09375 L398.25 139.03125\"/>\n",
       "<path fill=\"none\" stroke=\"black\" stroke-width=\".3\" stroke-opacity=\"1.0\" filling=\"0\" d=\"M417.9375 134.25 L417.65625 134.625 L417.9375 134.8125\"/>\n",
       "<path fill=\"none\" stroke=\"black\" stroke-width=\".3\" stroke-opacity=\"1.0\" filling=\"0\" d=\"M417.65625 133.875 L417.65625 134.25 L417.65625 134.8125\"/>\n",
       "<path fill=\"none\" stroke=\"black\" stroke-width=\".3\" stroke-opacity=\"1.0\" filling=\"0\" d=\"M417.65625 133.875 L417.65625 134.25 L417.65625 134.625\"/>\n",
       "<path fill=\"none\" stroke=\"black\" stroke-width=\".3\" stroke-opacity=\"1.0\" filling=\"0\" d=\"M415.875 127.87499237060547 M415.875 127.87499237060547\"/>\n",
       "<path fill=\"none\" stroke=\"black\" stroke-width=\".3\" stroke-opacity=\"1.0\" filling=\"0\" d=\"M415.875 127.87499237060547 M415.875 127.87499237060547\"/>\n",
       "<path fill=\"none\" stroke=\"black\" stroke-width=\".3\" stroke-opacity=\"1.0\" filling=\"0\" d=\"M415.875 127.87499237060547 M415.875 127.87499237060547\"/>\n",
       "<path fill=\"none\" stroke=\"black\" stroke-width=\".3\" stroke-opacity=\"1.0\" filling=\"0\" d=\"M415.875 127.87499237060547 M415.875 127.87499237060547\"/>\n",
       "<path fill=\"none\" stroke=\"black\" stroke-width=\".3\" stroke-opacity=\"1.0\" filling=\"0\" d=\"M415.875 127.87499237060547 M415.875 127.87499237060547\"/>\n",
       "<path fill=\"none\" stroke=\"black\" stroke-width=\".3\" stroke-opacity=\"1.0\" filling=\"0\" d=\"M436.6875 139.875 L438.0 130.96875 L441.9375 130.96875 L449.53125 132.46875 L446.0625 133.5 L448.21875 134.0625 L445.3125 134.25 L443.15625 140.0625 L441.75 140.0625 L439.875 140.0625 L437.25 140.0625 L437.25 140.0625 L436.5 140.0625 L436.5 139.96875 L436.5 139.96875 L436.5 139.96875 L436.6875 139.6875 L436.6875 139.5 L436.6875 139.40625 L436.6875 139.40625\"/>\n",
       "<path fill=\"none\" stroke=\"black\" stroke-width=\".3\" stroke-opacity=\"1.0\" filling=\"0\" d=\"M436.6875 139.875 L442.03125 133.40625 L442.3125 132.0 L447.84375 132.46875 L446.0625 133.40625 L445.875 134.0625 L443.15625 140.0625 L441.75 140.0625 L438.1875 140.0625 L436.6875 140.0625 L436.6875 140.0625 L436.6875 140.0625 L436.5 140.0625 L436.5 140.0625 L436.5 139.96875 L436.5 139.96875 L436.6875 139.6875 L436.6875 139.5\"/>\n",
       "<path fill=\"none\" stroke=\"black\" stroke-width=\".3\" stroke-opacity=\"1.0\" filling=\"0\" d=\"M436.6875 139.875 L438.0 132.46875 L442.03125 131.34375 L447.84375 131.90625 L447.375 132.46875 L446.0625 134.0625 L443.15625 140.0625 L441.75 140.0625 L438.1875 140.0625 L437.25 140.0625 L436.6875 140.0625 L436.6875 140.0625 L436.5 140.0625 L436.5 140.0625 L436.5 139.96875 L436.5 139.96875 L436.6875 139.6875 L436.6875 139.5\"/>\n",
       "<path fill=\"none\" stroke=\"black\" stroke-width=\".3\" stroke-opacity=\"1.0\" filling=\"0\" d=\"M436.6875 139.875 L438.0 131.90625 L442.03125 130.96875 L446.4375 131.34375 L447.375 132.46875 L446.34375 134.0625 L443.15625 140.0625 L441.75 140.0625 L438.1875 140.0625 L437.25 140.0625 L436.6875 140.0625 L436.6875 140.0625 L436.5 140.0625 L436.5 140.0625 L436.5 139.96875 L436.5 139.96875 L436.6875 139.6875 L436.6875 139.5\"/>\n",
       "<path fill=\"none\" stroke=\"black\" stroke-width=\".3\" stroke-opacity=\"1.0\" filling=\"0\" d=\"M436.6875 139.875 L438.0 131.90625 L442.03125 130.96875 L447.84375 130.96875 L447.84375 132.46875 L447.09375 134.0625 L443.15625 140.0625 L441.75 140.0625 L438.1875 140.0625 L436.6875 140.0625 L436.6875 140.0625 L436.125 140.0625 L436.5 140.0625 L435.75 139.96875 L436.5 139.96875 L436.5 139.96875 L436.6875 139.6875\"/>\n",
       "<path fill=\"none\" stroke=\"black\" stroke-width=\".3\" stroke-opacity=\"1.0\" filling=\"0\" d=\"M436.6875 139.875 L438.0 131.90625 L442.03125 130.96875 L447.84375 130.96875 L447.84375 132.46875 L447.84375 134.0625 L443.15625 140.0625 L441.75 140.0625 L438.1875 140.0625 L436.6875 140.0625 L435.1875 140.0625 L436.125 140.0625 L435.75 140.0625 L435.75 139.96875 L435.75 139.96875\"/>\n",
       "<path fill=\"none\" stroke=\"black\" stroke-width=\".3\" stroke-opacity=\"1.0\" filling=\"0\" d=\"M436.6875 139.875 L438.0 131.90625 L442.03125 130.40625 L447.375 130.96875 L447.375 132.46875 L446.34375 134.0625 L443.15625 140.0625 L441.75 140.0625 L438.1875 140.0625 L436.6875 140.0625 L436.6875 140.0625 L436.125 140.0625 L436.5 140.0625 L435.75 139.96875 L436.5 139.96875\"/>\n",
       "<path fill=\"none\" stroke=\"black\" stroke-width=\".3\" stroke-opacity=\"1.0\" filling=\"0\" d=\"M436.6875 139.875 L438.0 130.40625 L446.4375 130.03125 L447.84375 130.6875 L447.84375 132.46875 L446.4375 134.0625 L443.15625 140.0625 L441.75 140.0625 L438.1875 140.0625 L436.6875 140.0625 L435.1875 140.0625 L436.125 140.0625 L436.5 140.0625 L435.75 139.96875\"/>\n",
       "<path fill=\"none\" stroke=\"black\" stroke-width=\".3\" stroke-opacity=\"1.0\" filling=\"0\" d=\"M470.625 131.90625 L469.59375 133.03125 L467.71875 133.21875 L465.75 131.90625 L464.8125 129.84375 L464.34375 128.53125 L464.625 123.65625 L465.5625 123.65625 L466.40625 123.65625 L468.0 123.65625 L469.40625 123.65625 L470.15625 124.03125\"/>\n",
       "<path fill=\"none\" stroke=\"black\" stroke-width=\".3\" stroke-opacity=\"1.0\" filling=\"0\" d=\"M471.0 130.6875 L469.59375 133.03125 L467.71875 133.5 L465.75 132.46875 L464.625 130.6875 L463.96875 128.53125 L464.0625 124.03125 L464.625 123.65625 L465.5625 123.65625 L466.96875 123.65625 L469.03125 123.65625\"/>\n",
       "<path fill=\"none\" stroke=\"black\" stroke-width=\".3\" stroke-opacity=\"1.0\" filling=\"0\" d=\"M471.0 130.6875 L469.59375 133.21875 L467.71875 133.6875 L465.65625 132.84375 L464.53125 131.625 L463.6875 129.28125 L463.78125 124.03125 L464.625 123.65625 L465.5625 123.65625 L466.96875 123.65625 L468.9375 123.65625\"/>\n",
       "<path fill=\"none\" stroke=\"black\" stroke-width=\".3\" stroke-opacity=\"1.0\" filling=\"0\" d=\"M471.0 131.90625 L469.59375 133.5 L467.71875 133.96875 L465.75 133.03125 L464.53125 131.90625 L463.6875 129.28125 L463.78125 124.03125 L464.34375 123.65625 L465.46875 123.65625 L466.96875 123.65625 L468.9375 123.65625\"/>\n",
       "<path fill=\"none\" stroke=\"black\" stroke-width=\".3\" stroke-opacity=\"1.0\" filling=\"0\" d=\"M471.0 131.90625 L469.59375 133.5 L467.71875 133.96875 L465.75 133.3125 L464.53125 131.90625 L463.6875 129.28125 L463.6875 124.03125 L464.34375 123.65625 L465.5625 123.65625 L466.96875 123.65625 L468.9375 123.65625\"/>\n",
       "<path fill=\"none\" stroke=\"black\" stroke-width=\".3\" stroke-opacity=\"1.0\" filling=\"0\" d=\"M471.0 132.46875 L469.78125 133.6875 L468.09375 134.25 L465.75 133.5 L464.34375 131.90625 L463.6875 129.28125 L463.6875 124.03125 L464.34375 123.65625 L465.5625 123.65625 L466.96875 123.65625 L468.9375 123.65625\"/>\n",
       "<path fill=\"none\" stroke=\"black\" stroke-width=\".3\" stroke-opacity=\"1.0\" filling=\"0\" d=\"M471.0 132.46875 L469.78125 133.96875 L468.09375 134.25 L465.9375 133.5 L464.34375 132.46875 L463.6875 129.5625 L463.6875 124.03125 L464.34375 123.65625 L465.5625 123.65625 L466.96875 123.65625 L468.9375 123.65625\"/>\n",
       "<path fill=\"none\" stroke=\"black\" stroke-width=\".3\" stroke-opacity=\"1.0\" filling=\"0\" d=\"M471.0 132.46875 L469.78125 133.96875 L468.09375 134.25 L466.125 133.5 L464.53125 132.46875 L463.6875 129.5625 L463.6875 124.03125 L464.34375 123.65625 L465.28125 123.65625 L466.5 123.65625\"/>\n",
       "<path fill=\"none\" stroke=\"black\" stroke-width=\".3\" stroke-opacity=\"1.0\" filling=\"0\" d=\"M487.875 127.87499237060547 M487.875 127.87499237060547\"/>\n",
       "<path fill=\"none\" stroke=\"black\" stroke-width=\".3\" stroke-opacity=\"1.0\" filling=\"0\" d=\"M487.875 127.87499237060547 M487.875 127.87499237060547\"/>\n",
       "<path fill=\"none\" stroke=\"black\" stroke-width=\".3\" stroke-opacity=\"1.0\" filling=\"0\" d=\"M487.875 127.87499237060547 M487.875 127.87499237060547\"/>\n",
       "<path fill=\"none\" stroke=\"black\" stroke-width=\".3\" stroke-opacity=\"1.0\" filling=\"0\" d=\"M487.875 127.87499237060547 M487.875 127.87499237060547\"/>\n",
       "<path fill=\"none\" stroke=\"black\" stroke-width=\".3\" stroke-opacity=\"1.0\" filling=\"0\" d=\"M487.875 127.87499237060547 M487.875 127.87499237060547\"/>\n",
       "<path fill=\"none\" stroke=\"black\" stroke-width=\".3\" stroke-opacity=\"1.0\" filling=\"0\" d=\"M487.875 127.87499237060547 M487.875 127.87499237060547\"/>\n",
       "<path fill=\"none\" stroke=\"black\" stroke-width=\".3\" stroke-opacity=\"1.0\" filling=\"0\" d=\"M487.875 127.87499237060547 M487.875 127.87499237060547\"/>\n",
       "<path fill=\"none\" stroke=\"black\" stroke-width=\".3\" stroke-opacity=\"1.0\" filling=\"0\" d=\"M487.875 127.87499237060547 M487.875 127.87499237060547\"/>\n",
       "<path fill=\"none\" stroke=\"black\" stroke-width=\".3\" stroke-opacity=\"1.0\" filling=\"0\" d=\"M511.125 126.375 L511.125 126.09375 L512.8125 126.84375 L513.9375 128.25 L513.5625 129.28125 L510.84375 131.25 L509.8125 132.75 L509.8125 134.25 L509.4375 136.40625 L509.15625 136.875 L508.6875 136.875 L508.6875 137.15625 L507.75 137.15625 L507.75 133.6875\"/>\n",
       "<path fill=\"none\" stroke=\"black\" stroke-width=\".3\" stroke-opacity=\"1.0\" filling=\"0\" d=\"M514.03125 126.9375 L511.96875 126.28125 L512.25 126.9375 L512.8125 128.25 L510.84375 129.75 L510.1875 131.8125 L509.8125 133.21875 L509.15625 134.25 L509.15625 136.125 L509.15625 136.40625 L508.6875 136.40625 L508.6875 136.40625\"/>\n",
       "<path fill=\"none\" stroke=\"black\" stroke-width=\".3\" stroke-opacity=\"1.0\" filling=\"0\" d=\"M512.34375 126.9375 L511.6875 126.28125 L512.53125 126.9375 L512.8125 128.25 L510.84375 129.75 L510.1875 131.8125 L509.8125 133.59375 L509.4375 134.25 L509.15625 136.125 L509.15625 136.40625 L508.6875 136.40625 L508.6875 136.40625\"/>\n",
       "<path fill=\"none\" stroke=\"black\" stroke-width=\".3\" stroke-opacity=\"1.0\" filling=\"0\" d=\"M512.34375 126.9375 L511.125 126.28125 L512.25 126.9375 L512.53125 128.4375 L510.84375 129.75 L510.1875 131.8125 L509.8125 133.59375 L509.4375 134.25 L509.15625 136.40625 L509.15625 136.40625 L508.6875 136.40625 L508.6875 136.40625\"/>\n",
       "<path fill=\"none\" stroke=\"black\" stroke-width=\".3\" stroke-opacity=\"1.0\" filling=\"0\" d=\"M512.34375 126.9375 L511.125 126.46875 L512.25 127.125 L512.53125 128.53125 L510.84375 130.03125 L510.1875 131.8125 L509.8125 133.6875 L509.4375 135.1875 L509.15625 136.40625 L509.15625 136.40625 L508.6875 136.59375 L508.6875 136.40625\"/>\n",
       "<path fill=\"none\" stroke=\"black\" stroke-width=\".3\" stroke-opacity=\"1.0\" filling=\"0\" d=\"M512.34375 126.9375 L511.125 126.46875 L511.875 127.125 L510.5625 128.4375 L510.5625 129.75 L509.8125 131.8125 L509.4375 133.59375 L509.15625 134.25 L509.15625 136.125 L508.6875 136.40625 L508.6875 136.40625 L508.6875 136.40625\"/>\n",
       "<path fill=\"none\" stroke=\"black\" stroke-width=\".3\" stroke-opacity=\"1.0\" filling=\"0\" d=\"M514.03125 126.9375 L511.125 126.46875 L511.21875 127.125 L510.5625 128.4375 L510.5625 130.03125 L509.8125 131.8125 L509.15625 133.6875 L509.15625 135.1875 L509.15625 136.40625 L508.6875 136.40625 L508.6875 136.40625 L508.6875 136.59375\"/>\n",
       "<path fill=\"none\" stroke=\"black\" stroke-width=\".3\" stroke-opacity=\"1.0\" filling=\"0\" d=\"M514.03125 126.9375 L512.25 126.46875 L511.875 127.125 L510.5625 128.4375 L509.8125 130.03125 L509.4375 132.09375 L509.15625 133.6875 L509.15625 135.1875 L509.15625 136.40625 L508.6875 136.40625 L508.6875 136.40625 L508.6875 136.40625\"/>\n",
       "<path fill=\"none\" stroke=\"black\" stroke-width=\".3\" stroke-opacity=\"1.0\" filling=\"0\" d=\"M536.4375 133.03125 L537.0 128.625 L538.125 128.15625 L538.78125 129.0 L539.0625 130.40625 L538.6875 130.6875\"/>\n",
       "<path fill=\"none\" stroke=\"black\" stroke-width=\".3\" stroke-opacity=\"1.0\" filling=\"0\" d=\"M535.875 127.87499237060547 M535.875 127.87499237060547\"/>\n",
       "<path fill=\"none\" stroke=\"black\" stroke-width=\".3\" stroke-opacity=\"1.0\" filling=\"0\" d=\"M535.875 127.87499237060547 M535.875 127.87499237060547\"/>\n",
       "<path fill=\"none\" stroke=\"black\" stroke-width=\".3\" stroke-opacity=\"1.0\" filling=\"0\" d=\"M535.875 127.87499237060547 M535.875 127.87499237060547\"/>\n",
       "<path fill=\"none\" stroke=\"black\" stroke-width=\".3\" stroke-opacity=\"1.0\" filling=\"0\" d=\"M535.875 127.87499237060547 M535.875 127.87499237060547\"/>\n",
       "<path fill=\"none\" stroke=\"black\" stroke-width=\".3\" stroke-opacity=\"1.0\" filling=\"0\" d=\"M535.875 127.87499237060547 M535.875 127.87499237060547\"/>\n",
       "<path fill=\"none\" stroke=\"black\" stroke-width=\".3\" stroke-opacity=\"1.0\" filling=\"0\" d=\"M535.875 127.87499237060547 M535.875 127.87499237060547\"/>\n",
       "<path fill=\"none\" stroke=\"black\" stroke-width=\".3\" stroke-opacity=\"1.0\" filling=\"0\" d=\"M535.875 127.87499237060547 M535.875 127.87499237060547\"/>\n",
       "<path fill=\"none\" stroke=\"black\" stroke-width=\".3\" stroke-opacity=\"1.0\" filling=\"0\" d=\"M570.9375 124.875 L570.9375 125.0625 L569.15625 127.21875 L565.6875 130.78125 L563.90625 131.90625 L562.03125 132.46875\"/>\n",
       "<path fill=\"none\" stroke=\"black\" stroke-width=\".3\" stroke-opacity=\"1.0\" filling=\"0\" d=\"M570.9375 125.0625 L570.9375 125.0625 L569.8125 127.96875 L565.6875 131.25 L564.1875 132.46875 L562.6875 132.75\"/>\n",
       "<path fill=\"none\" stroke=\"black\" stroke-width=\".3\" stroke-opacity=\"1.0\" filling=\"0\" d=\"M570.9375 125.0625 L570.9375 125.625 L570.09375 129.5625 L565.6875 131.90625 L564.1875 132.75 L562.6875 133.03125\"/>\n",
       "<path fill=\"none\" stroke=\"black\" stroke-width=\".3\" stroke-opacity=\"1.0\" filling=\"0\" d=\"M571.40625 125.0625 L570.9375 125.625 L570.09375 129.5625 L565.6875 132.46875 L564.1875 133.3125 L562.6875 133.5 L560.71875 133.40625\"/>\n",
       "<path fill=\"none\" stroke=\"black\" stroke-width=\".3\" stroke-opacity=\"1.0\" filling=\"0\" d=\"M571.40625 125.0625 L570.9375 125.625 L570.09375 130.03125 L565.6875 132.46875 L564.1875 133.3125 L562.6875 133.5 L560.71875 133.40625\"/>\n",
       "<path fill=\"none\" stroke=\"black\" stroke-width=\".3\" stroke-opacity=\"1.0\" filling=\"0\" d=\"M571.40625 125.0625 L570.9375 126.0 L569.8125 130.21875 L565.6875 133.03125 L564.1875 133.5 L562.6875 133.6875 L560.71875 133.40625 L560.0625 132.46875\"/>\n",
       "<path fill=\"none\" stroke=\"black\" stroke-width=\".3\" stroke-opacity=\"1.0\" filling=\"0\" d=\"M571.40625 125.0625 L570.9375 126.0 L569.15625 130.59375 L565.6875 133.3125 L563.90625 133.96875 L562.03125 133.96875 L560.71875 133.40625 L560.0625 132.46875\"/>\n",
       "<path fill=\"none\" stroke=\"black\" stroke-width=\".3\" stroke-opacity=\"1.0\" filling=\"0\" d=\"M559.875 127.87499237060547 M559.875 127.87499237060547\"/>\n",
       "<path fill=\"none\" stroke=\"black\" stroke-width=\".3\" stroke-opacity=\"1.0\" filling=\"0\" d=\"M592.21875 127.59375 L591.46875 129.46875 L589.3125 134.34375 L587.8125 136.59375 L586.6875 136.59375\"/>\n",
       "<path fill=\"none\" stroke=\"black\" stroke-width=\".3\" stroke-opacity=\"1.0\" filling=\"0\" d=\"M592.21875 127.78125 L591.46875 129.0 L589.5 133.5 L587.90625 136.3125 L587.0625 136.59375\"/>\n",
       "<path fill=\"none\" stroke=\"black\" stroke-width=\".3\" stroke-opacity=\"1.0\" filling=\"0\" d=\"M592.21875 127.78125 L591.46875 129.0 L589.59375 133.5 L587.90625 136.125 L587.0625 136.59375\"/>\n",
       "<path fill=\"none\" stroke=\"black\" stroke-width=\".3\" stroke-opacity=\"1.0\" filling=\"0\" d=\"M592.59375 127.875 L591.46875 129.0 L589.59375 133.5 L587.90625 136.125 L587.0625 136.3125\"/>\n",
       "<path fill=\"none\" stroke=\"black\" stroke-width=\".3\" stroke-opacity=\"1.0\" filling=\"0\" d=\"M592.59375 127.875 L591.46875 129.0 L589.59375 132.84375 L587.90625 136.125 L587.0625 136.3125\"/>\n",
       "<path fill=\"none\" stroke=\"black\" stroke-width=\".3\" stroke-opacity=\"1.0\" filling=\"0\" d=\"M592.6875 127.875 L591.84375 128.8125 L589.59375 132.46875 L587.90625 135.75 L587.0625 136.125\"/>\n",
       "<path fill=\"none\" stroke=\"black\" stroke-width=\".3\" stroke-opacity=\"1.0\" filling=\"0\" d=\"M592.59375 127.875 L591.84375 128.8125 L589.59375 132.46875 L587.90625 135.65625 L587.0625 136.125\"/>\n",
       "<path fill=\"none\" stroke=\"black\" stroke-width=\".3\" stroke-opacity=\"1.0\" filling=\"0\" d=\"M592.875 127.875 L591.84375 128.53125 L589.875 132.09375 L587.90625 135.375 L587.0625 135.75\"/></svg>"
      ],
      "text/plain": [
       "<IPython.core.display.SVG object>"
      ]
     },
     "metadata": {},
     "output_type": "display_data"
    }
   ],
   "source": [
    "sample_all_unsymbols(\"/tmp/alluns.svg\", num_symbols=150, temperatures=(0.0, 20.0) digits_in_row=24)"
   ]
  },
  {
   "cell_type": "markdown",
   "metadata": {},
   "source": [
    "Now let's make a convenient grid display of all glyphs!"
   ]
  },
  {
   "cell_type": "markdown",
   "metadata": {},
   "source": [
    "# Interpolation of font glyphs"
   ]
  },
  {
   "cell_type": "markdown",
   "metadata": {},
   "source": [
    "Interpolations between randomly generated glyphs"
   ]
  },
  {
   "cell_type": "code",
   "execution_count": 52,
   "metadata": {},
   "outputs": [
    {
     "data": {
      "text/html": [
       "<div align=middle><video autoplay='1' loop='1'src='data:video/mp4;base64,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' controls>Sorry, seems like your browser doesn't support HTML5 audio/video</video></div>"
      ],
      "text/plain": [
       "<moviepy.video.io.html_tools.HTML2 object>"
      ]
     },
     "metadata": {},
     "output_type": "display_data"
    }
   ],
   "source": [
    "z1, z2 = get_z(temperature=TEMPERATURE), get_z(temperature=TEMPERATURE)\n",
    "interpolate(z1, z2, \"9\")"
   ]
  },
  {
   "cell_type": "markdown",
   "metadata": {},
   "source": [
    "Interpolations between real fonts"
   ]
  },
  {
   "cell_type": "code",
   "execution_count": 54,
   "metadata": {
    "scrolled": true
   },
   "outputs": [
    {
     "data": {
      "text/html": [
       "<div align=middle><video autoplay='1' loop='1'src='data:video/mp4;base64,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' controls>Sorry, seems like your browser doesn't support HTML5 audio/video</video></div>"
      ],
      "text/plain": [
       "<moviepy.video.io.html_tools.HTML2 object>"
      ]
     },
     "metadata": {},
     "output_type": "display_data"
    }
   ],
   "source": [
    "label = \"0\"\n",
    "#uni = dataset._label_to_uni(glyph2label.index(label))\n",
    "id1, id2 = dataset.random_id(), dataset.random_id()\n",
    "interpolate_icons(id1, id2, label)"
   ]
  },
  {
   "cell_type": "code",
   "execution_count": null,
   "metadata": {},
   "outputs": [],
   "source": [
    "dataset.random_id()"
   ]
  },
  {
   "cell_type": "code",
   "execution_count": null,
   "metadata": {},
   "outputs": [],
   "source": []
  }
 ],
 "metadata": {
  "kernelspec": {
   "display_name": "deepsvg",
   "language": "python",
   "name": "deepsvg"
  },
  "language_info": {
   "codemirror_mode": {
    "name": "ipython",
    "version": 3
   },
   "file_extension": ".py",
   "mimetype": "text/x-python",
   "name": "python",
   "nbconvert_exporter": "python",
   "pygments_lexer": "ipython3",
   "version": "3.9.22"
  }
 },
 "nbformat": 4,
 "nbformat_minor": 4
}
